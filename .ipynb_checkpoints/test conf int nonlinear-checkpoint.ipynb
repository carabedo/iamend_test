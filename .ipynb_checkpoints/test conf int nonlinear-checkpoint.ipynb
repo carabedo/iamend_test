{
 "cells": [
  {
   "cell_type": "code",
   "execution_count": 4,
   "id": "f97f6386",
   "metadata": {},
   "outputs": [],
   "source": [
    "import iamend_ci as ci"
   ]
  },
  {
   "cell_type": "code",
   "execution_count": 9,
   "id": "7f483555",
   "metadata": {},
   "outputs": [
    {
     "name": "stdout",
     "output_type": "stream",
     "text": [
      "                  archivo  conductividad  espesor bobina  muestras\n",
      "0      Exp_m1_347-M02.csv     1118491.27  0.02340     m1   347-M02\n",
      "1  Exp_m1_1010-M01_m1.csv     3830000.00  0.06500     m1  1010-M01\n",
      "2         Exp_m1_aire.csv           0.00  0.00000     m1      aire\n",
      "3         Exp_m1_P057.csv     3948000.00  0.14957     m1      P057\n"
     ]
    }
   ],
   "source": [
    "exp=ci.exp('./iamend_ci/datos/marzo2023/m1')"
   ]
  },
  {
   "cell_type": "code",
   "execution_count": 10,
   "id": "14ea8a30",
   "metadata": {},
   "outputs": [
    {
     "name": "stdout",
     "output_type": "stream",
     "text": [
      "Ajustando z1 effectivo\n",
      "z1 = 0.9690129800536345 mm\n"
     ]
    },
    {
     "data": {
      "text/html": [
       "<div>\n",
       "<style scoped>\n",
       "    .dataframe tbody tr th:only-of-type {\n",
       "        vertical-align: middle;\n",
       "    }\n",
       "\n",
       "    .dataframe tbody tr th {\n",
       "        vertical-align: top;\n",
       "    }\n",
       "\n",
       "    .dataframe thead th {\n",
       "        text-align: right;\n",
       "    }\n",
       "</style>\n",
       "<table border=\"1\" class=\"dataframe\">\n",
       "  <thead>\n",
       "    <tr style=\"text-align: right;\">\n",
       "      <th></th>\n",
       "      <th>archivo</th>\n",
       "      <th>conductividad</th>\n",
       "      <th>espesor</th>\n",
       "      <th>bobina</th>\n",
       "      <th>muestras</th>\n",
       "      <th>mueff</th>\n",
       "      <th>R2</th>\n",
       "    </tr>\n",
       "  </thead>\n",
       "  <tbody>\n",
       "    <tr>\n",
       "      <th>0</th>\n",
       "      <td>Exp_m1_347-M02.csv</td>\n",
       "      <td>1118491.27</td>\n",
       "      <td>0.02340</td>\n",
       "      <td>m1</td>\n",
       "      <td>347-M02</td>\n",
       "      <td>43.04731</td>\n",
       "      <td>0.987635</td>\n",
       "    </tr>\n",
       "    <tr>\n",
       "      <th>1</th>\n",
       "      <td>Exp_m1_1010-M01_m1.csv</td>\n",
       "      <td>3830000.00</td>\n",
       "      <td>0.06500</td>\n",
       "      <td>m1</td>\n",
       "      <td>1010-M01</td>\n",
       "      <td>65.45817</td>\n",
       "      <td>0.985920</td>\n",
       "    </tr>\n",
       "    <tr>\n",
       "      <th>2</th>\n",
       "      <td>Exp_m1_aire.csv</td>\n",
       "      <td>0.00</td>\n",
       "      <td>0.00000</td>\n",
       "      <td>m1</td>\n",
       "      <td>aire</td>\n",
       "      <td>NaN</td>\n",
       "      <td>NaN</td>\n",
       "    </tr>\n",
       "    <tr>\n",
       "      <th>3</th>\n",
       "      <td>Exp_m1_P057.csv</td>\n",
       "      <td>3948000.00</td>\n",
       "      <td>0.14957</td>\n",
       "      <td>m1</td>\n",
       "      <td>P057</td>\n",
       "      <td>NaN</td>\n",
       "      <td>NaN</td>\n",
       "    </tr>\n",
       "  </tbody>\n",
       "</table>\n",
       "</div>"
      ],
      "text/plain": [
       "                  archivo  conductividad  espesor bobina  muestras     mueff  \\\n",
       "0      Exp_m1_347-M02.csv     1118491.27  0.02340     m1   347-M02  43.04731   \n",
       "1  Exp_m1_1010-M01_m1.csv     3830000.00  0.06500     m1  1010-M01  65.45817   \n",
       "2         Exp_m1_aire.csv           0.00  0.00000     m1      aire       NaN   \n",
       "3         Exp_m1_P057.csv     3948000.00  0.14957     m1      P057       NaN   \n",
       "\n",
       "         R2  \n",
       "0  0.987635  \n",
       "1  0.985920  \n",
       "2       NaN  \n",
       "3       NaN  "
      ]
     },
     "execution_count": 10,
     "metadata": {},
     "output_type": "execute_result"
    }
   ],
   "source": [
    "exp.fitmues()\n",
    "exp.info"
   ]
  },
  {
   "cell_type": "code",
   "execution_count": 11,
   "id": "c7ee88b9",
   "metadata": {},
   "outputs": [
    {
     "name": "stdout",
     "output_type": "stream",
     "text": [
      "                archivo  conductividad  espesor bobina  muestras\n",
      "0  Exp_pp1_1010-M01.csv     3830000.00  0.06500    pp1  1010-M01\n",
      "1      Exp_pp1_aire.csv           0.00  0.00000    pp1      aire\n",
      "2   Exp_pp1_347-M02.csv     1118491.27  0.02340    pp1   347-M02\n",
      "3      Exp_pp1_P057.csv     3948000.00  0.14957    pp1      P057\n",
      "Ajustando z1 effectivo\n",
      "z1 = 1.4782830446383313 mm\n"
     ]
    },
    {
     "data": {
      "text/html": [
       "<div>\n",
       "<style scoped>\n",
       "    .dataframe tbody tr th:only-of-type {\n",
       "        vertical-align: middle;\n",
       "    }\n",
       "\n",
       "    .dataframe tbody tr th {\n",
       "        vertical-align: top;\n",
       "    }\n",
       "\n",
       "    .dataframe thead th {\n",
       "        text-align: right;\n",
       "    }\n",
       "</style>\n",
       "<table border=\"1\" class=\"dataframe\">\n",
       "  <thead>\n",
       "    <tr style=\"text-align: right;\">\n",
       "      <th></th>\n",
       "      <th>archivo</th>\n",
       "      <th>conductividad</th>\n",
       "      <th>espesor</th>\n",
       "      <th>bobina</th>\n",
       "      <th>muestras</th>\n",
       "      <th>mueff</th>\n",
       "      <th>R2</th>\n",
       "    </tr>\n",
       "  </thead>\n",
       "  <tbody>\n",
       "    <tr>\n",
       "      <th>0</th>\n",
       "      <td>Exp_pp1_1010-M01.csv</td>\n",
       "      <td>3830000.00</td>\n",
       "      <td>0.06500</td>\n",
       "      <td>pp1</td>\n",
       "      <td>1010-M01</td>\n",
       "      <td>70.986921</td>\n",
       "      <td>0.984197</td>\n",
       "    </tr>\n",
       "    <tr>\n",
       "      <th>1</th>\n",
       "      <td>Exp_pp1_aire.csv</td>\n",
       "      <td>0.00</td>\n",
       "      <td>0.00000</td>\n",
       "      <td>pp1</td>\n",
       "      <td>aire</td>\n",
       "      <td>NaN</td>\n",
       "      <td>NaN</td>\n",
       "    </tr>\n",
       "    <tr>\n",
       "      <th>2</th>\n",
       "      <td>Exp_pp1_347-M02.csv</td>\n",
       "      <td>1118491.27</td>\n",
       "      <td>0.02340</td>\n",
       "      <td>pp1</td>\n",
       "      <td>347-M02</td>\n",
       "      <td>46.857815</td>\n",
       "      <td>0.974511</td>\n",
       "    </tr>\n",
       "    <tr>\n",
       "      <th>3</th>\n",
       "      <td>Exp_pp1_P057.csv</td>\n",
       "      <td>3948000.00</td>\n",
       "      <td>0.14957</td>\n",
       "      <td>pp1</td>\n",
       "      <td>P057</td>\n",
       "      <td>NaN</td>\n",
       "      <td>NaN</td>\n",
       "    </tr>\n",
       "  </tbody>\n",
       "</table>\n",
       "</div>"
      ],
      "text/plain": [
       "                archivo  conductividad  espesor bobina  muestras      mueff  \\\n",
       "0  Exp_pp1_1010-M01.csv     3830000.00  0.06500    pp1  1010-M01  70.986921   \n",
       "1      Exp_pp1_aire.csv           0.00  0.00000    pp1      aire        NaN   \n",
       "2   Exp_pp1_347-M02.csv     1118491.27  0.02340    pp1   347-M02  46.857815   \n",
       "3      Exp_pp1_P057.csv     3948000.00  0.14957    pp1      P057        NaN   \n",
       "\n",
       "         R2  \n",
       "0  0.984197  \n",
       "1       NaN  \n",
       "2  0.974511  \n",
       "3       NaN  "
      ]
     },
     "execution_count": 11,
     "metadata": {},
     "output_type": "execute_result"
    }
   ],
   "source": [
    "exp2=ci.exp('./iamend_ci/datos/marzo2023/pp1')\n",
    "exp2.fitmues()\n",
    "exp2.info"
   ]
  },
  {
   "cell_type": "markdown",
   "id": "c91b26bd",
   "metadata": {},
   "source": [
    "# Intervalo de confianza para parametros de un ajuste no lineal\n",
    "\n",
    "En orden de poder comparar ambas mediciones y tener un metodo robusto para la caracterizacion de la permeabilidad, necesitamos definir un intervalo de confianza para el parametro $\\mu$\n",
    "\n",
    "La estimacion de $\\mu$ se realiza con la funcion `optimize.curve_fit` de la libreria `scipy` una implementacion de  non-linear least squares para ajustar una funcion $f$ (modelo analitico) a los datos de impedancia normalizados.  el algorithm uses the Levenberg-Marquardt algorithm through leastsq.\n",
    "\n",
    "https://docs.scipy.org/doc/scipy/reference/generated/scipy.optimize.curve_fit.html\n",
    "\n",
    "https://docs.scipy.org/doc/scipy/reference/generated/scipy.optimize.least_squares.html#scipy.optimize.least_squares\n",
    "\n",
    "\n",
    "Segun la libreria podemos definir el error en $\\mu$ como `np.sqrt(np.diag(pcov))`.\n",
    "\n",
    "```\n",
    "pcov2-D array\n",
    "The estimated covariance of popt. The diagonals provide the variance of the parameter estimate. To compute one standard deviation errors on the parameters use perr = np.sqrt(np.diag(pcov)).\n",
    "\n",
    "How the sigma parameter affects the estimated covariance depends on absolute_sigma argument, as described above.\n",
    "\n",
    "If the Jacobian matrix at the solution doesn’t have a full rank, then ‘lm’ method returns a matrix filled with np.inf, on the other hand ‘trf’ and ‘dogbox’ methods use Moore-Penrose pseudoinverse to compute the covariance matrix.\n",
    "\n",
    "```\n",
    "### Montecarlo\n",
    "\n",
    "https://cran.r-project.org/web/packages/nlraa/vignettes/Confidence-Bands.html\n",
    "\n",
    "## otros\n",
    "\n",
    "https://stat.ethz.ch/~stahel/courses/cheming/nlreg10E.pdf\n",
    "\n",
    "### Bootstrap resampling\n",
    "\n",
    "\n",
    "- Let $X$ denote your training dataset. Let $n$ denote the number of samples in your training data. Let $k$ denote the number of resampling iterations you want to perform. The more the better, but k should probably be no fewer than 1000.\n",
    "\n",
    "- for $i=1,2,…k$ take a random sample $X_i$ (with replacement) of size $n$ from $X$. Train your model and calculate your model paramters. Let $\\mu_i$ denote your fitted parameters trained on the ith resampled data set.\n",
    "\n",
    "- You can now calculate confidence intervals by determining the quantiles of $\\hat{\\mu} =[ \\mu_0,\\mu_1,\\mu_2,...\\mu_k]$ \n",
    "\n",
    "For example, to obtain a 95% confidence interval, calculate the 2.5% and 97.5% quantiles of $\\hat{\\mu}$.\n",
    "\n",
    "    [1]Reference: Chapters seven and eight of 'The Elements of Statistical Learning'"
   ]
  },
  {
   "cell_type": "code",
   "execution_count": null,
   "id": "695a3fae",
   "metadata": {},
   "outputs": [],
   "source": []
  }
 ],
 "metadata": {
  "kernelspec": {
   "display_name": "Python 3 (ipykernel)",
   "language": "python",
   "name": "python3"
  },
  "language_info": {
   "codemirror_mode": {
    "name": "ipython",
    "version": 3
   },
   "file_extension": ".py",
   "mimetype": "text/x-python",
   "name": "python",
   "nbconvert_exporter": "python",
   "pygments_lexer": "ipython3",
   "version": "3.10.10"
  }
 },
 "nbformat": 4,
 "nbformat_minor": 5
}
