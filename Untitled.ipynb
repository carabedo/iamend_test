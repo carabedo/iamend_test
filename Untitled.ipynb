{
 "cells": [
  {
   "cell_type": "markdown",
   "id": "a6f4fe7e",
   "metadata": {},
   "source": [
    "# 1 Dos capas"
   ]
  },
  {
   "cell_type": "code",
   "execution_count": null,
   "id": "f1820d57",
   "metadata": {},
   "outputs": [],
   "source": [
    "# queres medir un espesor de un mu, sigma y un d, a ajustar. \n",
    "# como patron partimos de una riel ferromagnetica\n",
    "# luego de un tratamiento se formaria una capa de mu2 sigma2 y d"
   ]
  },
  {
   "cell_type": "markdown",
   "id": "d85a9152",
   "metadata": {},
   "source": [
    "![](http://localhost:8888/notebooks/doscapas.png)"
   ]
  },
  {
   "cell_type": "markdown",
   "id": "ff44358f",
   "metadata": {},
   "source": [
    "# 2 Dos capas\n",
    "\n",
    "- Ajustar conductividad en varias muestras\n",
    "- Ajustar conductividad y espesor no conductor"
   ]
  },
  {
   "cell_type": "code",
   "execution_count": null,
   "id": "e14ca6c3",
   "metadata": {},
   "outputs": [],
   "source": []
  },
  {
   "cell_type": "markdown",
   "id": "907a7b98",
   "metadata": {},
   "source": [
    "# 3 Bobina tipo pancake"
   ]
  }
 ],
 "metadata": {
  "kernelspec": {
   "display_name": "Python 3 (ipykernel)",
   "language": "python",
   "name": "python3"
  },
  "language_info": {
   "codemirror_mode": {
    "name": "ipython",
    "version": 3
   },
   "file_extension": ".py",
   "mimetype": "text/x-python",
   "name": "python",
   "nbconvert_exporter": "python",
   "pygments_lexer": "ipython3",
   "version": "3.10.10"
  }
 },
 "nbformat": 4,
 "nbformat_minor": 5
}
