{
 "cells": [
  {
   "cell_type": "code",
   "execution_count": 1,
   "id": "7d1ff594",
   "metadata": {},
   "outputs": [],
   "source": [
    "import iamend_ci as ci"
   ]
  },
  {
   "cell_type": "code",
   "execution_count": 2,
   "id": "63d0d81b",
   "metadata": {},
   "outputs": [
    {
     "name": "stdout",
     "output_type": "stream",
     "text": [
      "               archivo  conductividad  espesor bobina\n",
      "0     Exp_316_Aire.csv              0   0.0000     m1\n",
      "1      Exp_316_M01.csv        1201980   2.3022     m1\n",
      "2      Exp_316_M02.csv        1228240   2.3230     m1\n",
      "3      Exp_316_M03.csv        1263840   2.3600     m1\n",
      "4      Exp_316_M04.csv        1276660   2.3428     m1\n",
      "5      Exp_316_M05.csv        1279890   2.2860     m1\n",
      "6      Exp_316_M06.csv        1328030   2.3330     m1\n",
      "7      Exp_316_M07.csv        1356150   2.3136     m1\n",
      "8      Exp_316_M08.csv        1340660   2.2812     m1\n",
      "9      Exp_316_M09.csv        1307190   2.3268     m1\n",
      "10  Exp_316_patron.csv              0   0.0000     m1\n"
     ]
    }
   ],
   "source": [
    "exp1=ci.exp('../iamend_ci/datos/m1_316')"
   ]
  },
  {
   "cell_type": "code",
   "execution_count": 3,
   "id": "fed4a771",
   "metadata": {},
   "outputs": [
    {
     "data": {
      "text/html": [
       "<div>\n",
       "<style scoped>\n",
       "    .dataframe tbody tr th:only-of-type {\n",
       "        vertical-align: middle;\n",
       "    }\n",
       "\n",
       "    .dataframe tbody tr th {\n",
       "        vertical-align: top;\n",
       "    }\n",
       "\n",
       "    .dataframe thead th {\n",
       "        text-align: right;\n",
       "    }\n",
       "</style>\n",
       "<table border=\"1\" class=\"dataframe\">\n",
       "  <thead>\n",
       "    <tr style=\"text-align: right;\">\n",
       "      <th></th>\n",
       "      <th>indice</th>\n",
       "      <th>repeticion</th>\n",
       "      <th>f</th>\n",
       "      <th>real</th>\n",
       "      <th>imag</th>\n",
       "    </tr>\n",
       "  </thead>\n",
       "  <tbody>\n",
       "    <tr>\n",
       "      <th>0</th>\n",
       "      <td>1</td>\n",
       "      <td>1</td>\n",
       "      <td>100.0000</td>\n",
       "      <td>14.41219</td>\n",
       "      <td>0.235738</td>\n",
       "    </tr>\n",
       "    <tr>\n",
       "      <th>1</th>\n",
       "      <td>2</td>\n",
       "      <td>1</td>\n",
       "      <td>125.8925</td>\n",
       "      <td>14.41150</td>\n",
       "      <td>0.297710</td>\n",
       "    </tr>\n",
       "    <tr>\n",
       "      <th>2</th>\n",
       "      <td>3</td>\n",
       "      <td>1</td>\n",
       "      <td>158.4893</td>\n",
       "      <td>14.41096</td>\n",
       "      <td>0.374762</td>\n",
       "    </tr>\n",
       "    <tr>\n",
       "      <th>3</th>\n",
       "      <td>4</td>\n",
       "      <td>1</td>\n",
       "      <td>199.5262</td>\n",
       "      <td>14.41011</td>\n",
       "      <td>0.471549</td>\n",
       "    </tr>\n",
       "    <tr>\n",
       "      <th>4</th>\n",
       "      <td>5</td>\n",
       "      <td>1</td>\n",
       "      <td>251.1886</td>\n",
       "      <td>14.40765</td>\n",
       "      <td>0.594570</td>\n",
       "    </tr>\n",
       "    <tr>\n",
       "      <th>...</th>\n",
       "      <td>...</td>\n",
       "      <td>...</td>\n",
       "      <td>...</td>\n",
       "      <td>...</td>\n",
       "      <td>...</td>\n",
       "    </tr>\n",
       "    <tr>\n",
       "      <th>446</th>\n",
       "      <td>447</td>\n",
       "      <td>11</td>\n",
       "      <td>398107.2000</td>\n",
       "      <td>32.67772</td>\n",
       "      <td>959.922600</td>\n",
       "    </tr>\n",
       "    <tr>\n",
       "      <th>447</th>\n",
       "      <td>448</td>\n",
       "      <td>11</td>\n",
       "      <td>501187.3000</td>\n",
       "      <td>40.98048</td>\n",
       "      <td>1227.377000</td>\n",
       "    </tr>\n",
       "    <tr>\n",
       "      <th>448</th>\n",
       "      <td>449</td>\n",
       "      <td>11</td>\n",
       "      <td>630957.3000</td>\n",
       "      <td>61.48788</td>\n",
       "      <td>1579.298000</td>\n",
       "    </tr>\n",
       "    <tr>\n",
       "      <th>449</th>\n",
       "      <td>450</td>\n",
       "      <td>11</td>\n",
       "      <td>794328.3000</td>\n",
       "      <td>101.55710</td>\n",
       "      <td>2059.074000</td>\n",
       "    </tr>\n",
       "    <tr>\n",
       "      <th>450</th>\n",
       "      <td>451</td>\n",
       "      <td>11</td>\n",
       "      <td>1000000.0000</td>\n",
       "      <td>162.30320</td>\n",
       "      <td>2751.586000</td>\n",
       "    </tr>\n",
       "  </tbody>\n",
       "</table>\n",
       "<p>451 rows × 5 columns</p>\n",
       "</div>"
      ],
      "text/plain": [
       "     indice  repeticion             f       real         imag\n",
       "0         1           1      100.0000   14.41219     0.235738\n",
       "1         2           1      125.8925   14.41150     0.297710\n",
       "2         3           1      158.4893   14.41096     0.374762\n",
       "3         4           1      199.5262   14.41011     0.471549\n",
       "4         5           1      251.1886   14.40765     0.594570\n",
       "..      ...         ...           ...        ...          ...\n",
       "446     447          11   398107.2000   32.67772   959.922600\n",
       "447     448          11   501187.3000   40.98048  1227.377000\n",
       "448     449          11   630957.3000   61.48788  1579.298000\n",
       "449     450          11   794328.3000  101.55710  2059.074000\n",
       "450     451          11  1000000.0000  162.30320  2751.586000\n",
       "\n",
       "[451 rows x 5 columns]"
      ]
     },
     "execution_count": 3,
     "metadata": {},
     "output_type": "execute_result"
    }
   ],
   "source": [
    "exp1.data[0]"
   ]
  },
  {
   "cell_type": "code",
   "execution_count": 4,
   "id": "a13df4c5",
   "metadata": {},
   "outputs": [
    {
     "data": {
      "text/plain": [
       "array([1.000000e+02, 1.258925e+02, 1.584893e+02, 1.995262e+02,\n",
       "       2.511886e+02, 3.162278e+02, 3.981072e+02, 5.011872e+02,\n",
       "       6.309573e+02, 7.943282e+02, 1.000000e+03, 1.258925e+03,\n",
       "       1.584893e+03, 1.995262e+03, 2.511886e+03, 3.162278e+03,\n",
       "       3.981072e+03, 5.011873e+03, 6.309573e+03, 7.943282e+03,\n",
       "       1.000000e+04, 1.258925e+04, 1.584893e+04, 1.995262e+04,\n",
       "       2.511887e+04, 3.162278e+04, 3.981072e+04, 5.011872e+04,\n",
       "       6.309573e+04, 7.943283e+04, 1.000000e+05, 1.258925e+05,\n",
       "       1.584893e+05, 1.995262e+05, 2.511886e+05, 3.162278e+05,\n",
       "       3.981072e+05, 5.011873e+05, 6.309573e+05, 7.943283e+05,\n",
       "       1.000000e+06])"
      ]
     },
     "execution_count": 4,
     "metadata": {},
     "output_type": "execute_result"
    }
   ],
   "source": [
    "exp1.f"
   ]
  },
  {
   "cell_type": "code",
   "execution_count": 5,
   "id": "c2816e1b",
   "metadata": {},
   "outputs": [
    {
     "data": {
      "text/html": [
       "<div>\n",
       "<style scoped>\n",
       "    .dataframe tbody tr th:only-of-type {\n",
       "        vertical-align: middle;\n",
       "    }\n",
       "\n",
       "    .dataframe tbody tr th {\n",
       "        vertical-align: top;\n",
       "    }\n",
       "\n",
       "    .dataframe thead th {\n",
       "        text-align: right;\n",
       "    }\n",
       "</style>\n",
       "<table border=\"1\" class=\"dataframe\">\n",
       "  <thead>\n",
       "    <tr style=\"text-align: right;\">\n",
       "      <th></th>\n",
       "      <th>indice</th>\n",
       "      <th>repeticion</th>\n",
       "      <th>f</th>\n",
       "      <th>real</th>\n",
       "      <th>imag</th>\n",
       "    </tr>\n",
       "  </thead>\n",
       "  <tbody>\n",
       "    <tr>\n",
       "      <th>0</th>\n",
       "      <td>1</td>\n",
       "      <td>1</td>\n",
       "      <td>100.0000</td>\n",
       "      <td>14.47399</td>\n",
       "      <td>0.251979</td>\n",
       "    </tr>\n",
       "    <tr>\n",
       "      <th>1</th>\n",
       "      <td>2</td>\n",
       "      <td>1</td>\n",
       "      <td>125.8925</td>\n",
       "      <td>14.47220</td>\n",
       "      <td>0.318622</td>\n",
       "    </tr>\n",
       "    <tr>\n",
       "      <th>2</th>\n",
       "      <td>3</td>\n",
       "      <td>1</td>\n",
       "      <td>158.4893</td>\n",
       "      <td>14.47086</td>\n",
       "      <td>0.400942</td>\n",
       "    </tr>\n",
       "    <tr>\n",
       "      <th>3</th>\n",
       "      <td>4</td>\n",
       "      <td>1</td>\n",
       "      <td>199.5262</td>\n",
       "      <td>14.46953</td>\n",
       "      <td>0.505165</td>\n",
       "    </tr>\n",
       "    <tr>\n",
       "      <th>4</th>\n",
       "      <td>5</td>\n",
       "      <td>1</td>\n",
       "      <td>251.1886</td>\n",
       "      <td>14.46737</td>\n",
       "      <td>0.635184</td>\n",
       "    </tr>\n",
       "    <tr>\n",
       "      <th>...</th>\n",
       "      <td>...</td>\n",
       "      <td>...</td>\n",
       "      <td>...</td>\n",
       "      <td>...</td>\n",
       "      <td>...</td>\n",
       "    </tr>\n",
       "    <tr>\n",
       "      <th>446</th>\n",
       "      <td>447</td>\n",
       "      <td>11</td>\n",
       "      <td>398107.2000</td>\n",
       "      <td>75.42161</td>\n",
       "      <td>919.159400</td>\n",
       "    </tr>\n",
       "    <tr>\n",
       "      <th>447</th>\n",
       "      <td>448</td>\n",
       "      <td>11</td>\n",
       "      <td>501187.3000</td>\n",
       "      <td>96.02483</td>\n",
       "      <td>1164.108000</td>\n",
       "    </tr>\n",
       "    <tr>\n",
       "      <th>448</th>\n",
       "      <td>449</td>\n",
       "      <td>11</td>\n",
       "      <td>630957.3000</td>\n",
       "      <td>131.59180</td>\n",
       "      <td>1483.683000</td>\n",
       "    </tr>\n",
       "    <tr>\n",
       "      <th>449</th>\n",
       "      <td>450</td>\n",
       "      <td>11</td>\n",
       "      <td>794328.3000</td>\n",
       "      <td>179.26570</td>\n",
       "      <td>1922.598000</td>\n",
       "    </tr>\n",
       "    <tr>\n",
       "      <th>450</th>\n",
       "      <td>451</td>\n",
       "      <td>11</td>\n",
       "      <td>1000000.0000</td>\n",
       "      <td>260.01640</td>\n",
       "      <td>2544.146000</td>\n",
       "    </tr>\n",
       "  </tbody>\n",
       "</table>\n",
       "<p>451 rows × 5 columns</p>\n",
       "</div>"
      ],
      "text/plain": [
       "     indice  repeticion             f       real         imag\n",
       "0         1           1      100.0000   14.47399     0.251979\n",
       "1         2           1      125.8925   14.47220     0.318622\n",
       "2         3           1      158.4893   14.47086     0.400942\n",
       "3         4           1      199.5262   14.46953     0.505165\n",
       "4         5           1      251.1886   14.46737     0.635184\n",
       "..      ...         ...           ...        ...          ...\n",
       "446     447          11   398107.2000   75.42161   919.159400\n",
       "447     448          11   501187.3000   96.02483  1164.108000\n",
       "448     449          11   630957.3000  131.59180  1483.683000\n",
       "449     450          11   794328.3000  179.26570  1922.598000\n",
       "450     451          11  1000000.0000  260.01640  2544.146000\n",
       "\n",
       "[451 rows x 5 columns]"
      ]
     },
     "execution_count": 5,
     "metadata": {},
     "output_type": "execute_result"
    }
   ],
   "source": [
    "exp1.df1"
   ]
  },
  {
   "cell_type": "code",
   "execution_count": 6,
   "id": "901fb55c",
   "metadata": {},
   "outputs": [
    {
     "name": "stdout",
     "output_type": "stream",
     "text": [
      "Es necesario corregir y normalizar los datos. Utilice el metodo .normcorr()\n"
     ]
    }
   ],
   "source": [
    "exp1.implots()"
   ]
  },
  {
   "cell_type": "code",
   "execution_count": 7,
   "id": "832e4aa2",
   "metadata": {},
   "outputs": [
    {
     "data": {
      "text/plain": [
       "0       Exp_316_Aire.csv\n",
       "1        Exp_316_M01.csv\n",
       "2        Exp_316_M02.csv\n",
       "3        Exp_316_M03.csv\n",
       "4        Exp_316_M04.csv\n",
       "5        Exp_316_M05.csv\n",
       "6        Exp_316_M06.csv\n",
       "7        Exp_316_M07.csv\n",
       "8        Exp_316_M08.csv\n",
       "9        Exp_316_M09.csv\n",
       "10    Exp_316_patron.csv\n",
       "Name: archivo, dtype: object"
      ]
     },
     "execution_count": 7,
     "metadata": {},
     "output_type": "execute_result"
    }
   ],
   "source": [
    "exp1.files"
   ]
  },
  {
   "cell_type": "code",
   "execution_count": 8,
   "id": "8da6360b",
   "metadata": {},
   "outputs": [
    {
     "data": {
      "text/plain": [
       "{'r1': 0.00115,\n",
       " 'r2': 0.00295,\n",
       " 'dh': 0.00248,\n",
       " 'N': 387,\n",
       " 'z1': 0.0007,\n",
       " 'L0': 0.00037575,\n",
       " 'R0': 14.55}"
      ]
     },
     "execution_count": 8,
     "metadata": {},
     "output_type": "execute_result"
    }
   ],
   "source": [
    "exp1.bobina"
   ]
  },
  {
   "cell_type": "code",
   "execution_count": 9,
   "id": "802ce664",
   "metadata": {},
   "outputs": [
    {
     "name": "stdout",
     "output_type": "stream",
     "text": [
      "1\n",
      "2\n",
      "3\n",
      "4\n",
      "5\n",
      "6\n",
      "7\n",
      "8\n",
      "9\n",
      "10\n",
      "Normalizando y corrigiendo con los datos:  Exp_316_Aire.csv\n"
     ]
    }
   ],
   "source": [
    "exp1.normcorr()"
   ]
  },
  {
   "cell_type": "code",
   "execution_count": 16,
   "id": "90d9a98e",
   "metadata": {},
   "outputs": [
    {
     "data": {
      "text/plain": [
       "[<matplotlib.lines.Line2D at 0x15cdeeb80>]"
      ]
     },
     "execution_count": 16,
     "metadata": {},
     "output_type": "execute_result"
    },
    {
     "data": {
      "image/png": "[encoded data removed]",
      "text/plain": [
       "<Figure size 640x480 with 1 Axes>"
      ]
     },
     "metadata": {},
     "output_type": "display_data"
    }
   ],
   "source": [
    "import matplotlib.pyplot as plt\n",
    "\n",
    "plt.semilogx(exp1.f,exp1.dzcorrnorm[2].imag,'o')"
   ]
  },
  {
   "cell_type": "code",
   "execution_count": 11,
   "id": "411047af",
   "metadata": {},
   "outputs": [],
   "source": [
    "m,s=ci.so.stats(exp1)"
   ]
  },
  {
   "cell_type": "code",
   "execution_count": 12,
   "id": "75461755",
   "metadata": {},
   "outputs": [
    {
     "data": {
      "text/plain": [
       "11"
      ]
     },
     "execution_count": 12,
     "metadata": {},
     "output_type": "execute_result"
    }
   ],
   "source": [
    "len(m)"
   ]
  },
  {
   "cell_type": "code",
   "execution_count": 13,
   "id": "54a609a6",
   "metadata": {},
   "outputs": [
    {
     "data": {
      "text/plain": [
       "0       Exp_316_Aire.csv\n",
       "1        Exp_316_M01.csv\n",
       "2        Exp_316_M02.csv\n",
       "3        Exp_316_M03.csv\n",
       "4        Exp_316_M04.csv\n",
       "5        Exp_316_M05.csv\n",
       "6        Exp_316_M06.csv\n",
       "7        Exp_316_M07.csv\n",
       "8        Exp_316_M08.csv\n",
       "9        Exp_316_M09.csv\n",
       "10    Exp_316_patron.csv\n",
       "Name: archivo, dtype: object"
      ]
     },
     "execution_count": 13,
     "metadata": {},
     "output_type": "execute_result"
    }
   ],
   "source": [
    "exp1.files"
   ]
  },
  {
   "cell_type": "code",
   "execution_count": 14,
   "id": "a5568de4",
   "metadata": {},
   "outputs": [
    {
     "data": {
      "text/plain": [
       "array([ 14.38200545+2.35685291e-01j,  14.38469364+2.97093173e-01j,\n",
       "        14.38589455+3.74198655e-01j,  14.38678182+4.71069473e-01j,\n",
       "        14.38640909+5.93331209e-01j,  14.38248364+7.45437945e-01j,\n",
       "        14.38342909+9.38505127e-01j,  14.38390364+1.18177073e+00j,\n",
       "        14.38326091+1.48791273e+00j,  14.38108273+1.87202182e+00j,\n",
       "        14.38074636+2.35655982e+00j,  14.38022545+2.96659491e+00j,\n",
       "        14.38083364+3.73512136e+00j,  14.37934818+4.70185882e+00j,\n",
       "        14.37854636+5.91869809e+00j,  14.37827273+7.45003855e+00j,\n",
       "        14.37841455+9.37734309e+00j,  14.37736273+1.18035036e+01j,\n",
       "        14.37813   +1.48578800e+01j,  14.38335727+1.87084291e+01j,\n",
       "        14.38803909+2.35380273e+01j,  14.39405091+2.96229655e+01j,\n",
       "        14.40402182+3.73166473e+01j,  14.44603727+4.69785173e+01j,\n",
       "        14.44630727+5.91445491e+01j,  14.50405   +7.44678909e+01j,\n",
       "        14.58213545+9.37854591e+01j,  14.68597636+1.18059464e+02j,\n",
       "        14.86205818+1.48633636e+02j,  15.1253    +1.87233727e+02j,\n",
       "        15.60219727+2.35761873e+02j,  16.44807273+2.97261109e+02j,\n",
       "        17.48878364+3.74737091e+02j,  19.48449   +4.72784918e+02j,\n",
       "        21.78706909+5.97718045e+02j,  25.97980727+7.56069373e+02j,\n",
       "        31.45129909+9.60989100e+02j,  43.38672091+1.22635182e+03j,\n",
       "        66.58970818+1.57687464e+03j, 100.24881636+2.05975700e+03j,\n",
       "       166.92458182+2.75197109e+03j])"
      ]
     },
     "execution_count": 14,
     "metadata": {},
     "output_type": "execute_result"
    }
   ],
   "source": [
    "m[1]"
   ]
  },
  {
   "cell_type": "code",
   "execution_count": 15,
   "id": "05c8f003",
   "metadata": {},
   "outputs": [
    {
     "data": {
      "text/plain": [
       "[<matplotlib.lines.Line2D at 0x15cc91eb0>]"
      ]
     },
     "execution_count": 15,
     "metadata": {},
     "output_type": "execute_result"
    },
    {
     "data": {
      "image/png": "[encoded data removed]",
      "text/plain": [
       "<Figure size 640x480 with 1 Axes>"
      ]
     },
     "metadata": {},
     "output_type": "display_data"
    }
   ],
   "source": [
    "plt.semilogx(exp1.f,m[1].imag/exp1.f,'o')"
   ]
  },
  {
   "cell_type": "code",
   "execution_count": 17,
   "id": "edda4fef",
   "metadata": {},
   "outputs": [],
   "source": [
    "\n",
    "def corrnorm(exp,index_file_aire):\n",
    "    \"\"\" corrige y normaliza los datos, toma como input el vector de frecuencias, la info de la bobina y los datos\n",
    "        devuelve una lista de arrays, cada array es la impedancia compleja corregida y normalizada para cada frecuencia, parte real y parte imaginaria\n",
    "        para recuperar la parte real  (.real) e imaginaria (.imag)\n",
    "        \n",
    "        z=re+i*2pi*f*l0\n",
    "    \"\"\" \n",
    "    lista_z_mean,data_std=stats(exp)\n",
    "    w=np.pi*2*exp.f\n",
    "    \n",
    "    z0=exp.bobina['R0']+1j*w*exp.bobina['L0']\n",
    "    x0=w*exp.bobina['L0']  \n",
    "\n",
    "    za_mean_aire=lista_z_mean[index_file_aire]\n",
    "    datacorr=[]\n",
    "    for m,z_mean in enumerate(lista_z_mean):\n",
    "        if m != index_file_aire:\n",
    "            zu=z_mean\n",
    "            dzucorr=((1/(1/zu - 1/za_mean_aire + 1/z0))-z0  )\t\t\t\t\n",
    "            datacorr.append(dzucorr/x0)    \n",
    "    return datacorr\n",
    "\n",
    "def split_train_test(exp):\n",
    "    pass\n",
    "\n",
    "\n",
    "def stats(exp):\n",
    "    ''' excluyendo la primer repeticion para cada muestra devuelve lista de valores medios por f y sus desvios'''\n",
    "    data_mean=[]\n",
    "    data_std=[]\n",
    "    for m,datamuestra in enumerate(exp.data):\n",
    "        #excluimos la primer repeticion\n",
    "        real_mean=exp.data[0][exp.data[0].repeticion != 0 ].groupby('f')['real'].mean().values\n",
    "        imag_mean=exp.data[0][exp.data[0].repeticion != 0 ].groupby('f')['imag'].mean().values\n",
    "        real_std=exp.data[0][exp.data[0].repeticion != 0 ].groupby('f')['real'].std().values\n",
    "        imag_std=exp.data[0][exp.data[0].repeticion != 0 ].groupby('f')['imag'].std().values\n",
    "        data_mean.append(real_mean+1j*imag_mean)\n",
    "        data_std.append(real_std+1j*imag_std)\n",
    "    return data_mean,data_std\n"
   ]
  },
  {
   "cell_type": "code",
   "execution_count": 25,
   "id": "ef9ac17d",
   "metadata": {},
   "outputs": [],
   "source": [
    "exp=exp1\n",
    "index_file_aire=0"
   ]
  },
  {
   "cell_type": "code",
   "execution_count": 26,
   "id": "811c2c6d",
   "metadata": {},
   "outputs": [],
   "source": [
    "lista_z_mean,data_std=stats(exp)\n",
    "w=np.pi*2*exp.f\n",
    "\n",
    "z0=exp.bobina['R0']+1j*w*exp.bobina['L0']\n",
    "x0=w*exp.bobina['L0']  \n",
    "\n",
    "za_mean_aire=lista_z_mean[index_file_aire]\n",
    "datacorr=[]\n",
    "for m,z_mean in enumerate(lista_z_mean):\n",
    "    if m != index_file_aire:\n",
    "        zu=z_mean\n",
    "        dzucorr=((1/(1/zu - 1/za_mean_aire + 1/z0))-z0  )\n",
    "        datacorr.append(dzucorr/x0)    "
   ]
  },
  {
   "cell_type": "code",
   "execution_count": 37,
   "id": "e0a693eb",
   "metadata": {},
   "outputs": [
    {
     "data": {
      "text/plain": [
       "array([14.55+2.36090688e-01j, 14.55+2.97220469e-01j,\n",
       "       14.55+3.74178479e-01j, 14.55+4.71062778e-01j,\n",
       "       14.55+5.93032894e-01j, 14.55+7.46584388e-01j,\n",
       "       14.55+9.39894027e-01j, 14.55+1.18325631e+00j,\n",
       "       14.55+1.48963143e+00j, 14.55+1.87533491e+00j,\n",
       "       14.55+2.36090688e+00j, 14.55+2.97220469e+00j,\n",
       "       14.55+3.74178479e+00j, 14.55+4.71062778e+00j,\n",
       "       14.55+5.93032894e+00j, 14.55+7.46584388e+00j,\n",
       "       14.55+9.39894027e+00j, 14.55+1.18325654e+01j,\n",
       "       14.55+1.48963143e+01j, 14.55+1.87533491e+01j,\n",
       "       14.55+2.36090688e+01j, 14.55+2.97220469e+01j,\n",
       "       14.55+3.74178479e+01j, 14.55+4.71062778e+01j,\n",
       "       14.55+5.93033130e+01j, 14.55+7.46584388e+01j,\n",
       "       14.55+9.39894027e+01j, 14.55+1.18325631e+02j,\n",
       "       14.55+1.48963143e+02j, 14.55+1.87533515e+02j,\n",
       "       14.55+2.36090688e+02j, 14.55+2.97220469e+02j,\n",
       "       14.55+3.74178479e+02j, 14.55+4.71062778e+02j,\n",
       "       14.55+5.93032894e+02j, 14.55+7.46584388e+02j,\n",
       "       14.55+9.39894027e+02j, 14.55+1.18325654e+03j,\n",
       "       14.55+1.48963143e+03j, 14.55+1.87533515e+03j,\n",
       "       14.55+2.36090688e+03j])"
      ]
     },
     "execution_count": 37,
     "metadata": {},
     "output_type": "execute_result"
    }
   ],
   "source": [
    "1/(1/zu - 1/za_mean_aire + 1/z0)"
   ]
  },
  {
   "cell_type": "code",
   "execution_count": 27,
   "id": "f1651e78",
   "metadata": {},
   "outputs": [
    {
     "data": {
      "text/plain": [
       "array([ 7.52404449e-15+1.17563195e-16j,  5.97656293e-15+0.00000000e+00j,\n",
       "        4.74735171e-15+1.48354741e-16j,  3.77095564e-15+2.35684727e-16j,\n",
       "        2.99537658e-15+1.87211036e-16j,  2.37931152e-15+1.48706970e-16j,\n",
       "        1.88995439e-15+2.36244298e-16j,  1.50124434e-15+1.87655543e-16j,\n",
       "        1.19248077e-15+1.49060097e-16j,  9.47221122e-16+1.18402640e-16j,\n",
       "        7.52404449e-16+1.88101112e-16j,  5.97656293e-16+0.00000000e+00j,\n",
       "        4.74735171e-16+2.37367585e-16j, -3.77095564e-16-1.88547782e-16j,\n",
       "       -2.99537658e-16-1.49768829e-16j,  2.37931152e-16+0.00000000e+00j,\n",
       "        1.88995439e-16+1.88995439e-16j, -1.50124404e-16+0.00000000e+00j,\n",
       "        1.19248077e-16+0.00000000e+00j,  0.00000000e+00+0.00000000e+00j,\n",
       "        7.52404449e-17+0.00000000e+00j,  5.97656293e-17+1.19531259e-16j,\n",
       "        0.00000000e+00+0.00000000e+00j,  0.00000000e+00+0.00000000e+00j,\n",
       "        2.99537538e-17+1.19815015e-16j,  0.00000000e+00+0.00000000e+00j,\n",
       "        0.00000000e+00+0.00000000e+00j, -3.00248869e-17-1.20099547e-16j,\n",
       "        0.00000000e+00+0.00000000e+00j, -1.89444201e-17-1.51555360e-16j,\n",
       "        7.52404449e-18+0.00000000e+00j,  0.00000000e+00+0.00000000e+00j,\n",
       "       -4.74735171e-18-1.51915255e-16j,  7.54191128e-18+1.20670580e-16j,\n",
       "        0.00000000e+00+0.00000000e+00j,  2.37931152e-18+0.00000000e+00j,\n",
       "        1.88995439e-18+0.00000000e+00j,  0.00000000e+00+0.00000000e+00j,\n",
       "        1.19248077e-18+0.00000000e+00j,  1.89444201e-18+1.21244288e-16j,\n",
       "        0.00000000e+00+0.00000000e+00j])"
      ]
     },
     "execution_count": 27,
     "metadata": {},
     "output_type": "execute_result"
    }
   ],
   "source": [
    "datacorr[0]"
   ]
  }
 ],
 "metadata": {
  "kernelspec": {
   "display_name": "Python 3 (ipykernel)",
   "language": "python",
   "name": "python3"
  },
  "language_info": {
   "codemirror_mode": {
    "name": "ipython",
    "version": 3
   },
   "file_extension": ".py",
   "mimetype": "text/x-python",
   "name": "python",
   "nbconvert_exporter": "python",
   "pygments_lexer": "ipython3",
   "version": "3.9.6"
  }
 },
 "nbformat": 4,
 "nbformat_minor": 5
}
