{
 "cells": [
  {
   "cell_type": "code",
   "execution_count": 4,
   "id": "f54de1bf",
   "metadata": {},
   "outputs": [],
   "source": [
    "import iamend_ci as ci"
   ]
  },
  {
   "cell_type": "code",
   "execution_count": 6,
   "id": "eeadb816",
   "metadata": {},
   "outputs": [
    {
     "name": "stdout",
     "output_type": "stream",
     "text": [
      "             archivo  conductividad  espesor bobina\n",
      "0  Exp_1010_Aire.csv              0        0    pp1\n",
      "1    Exp_1010_M0.csv              0        0    pp1\n",
      "2  Exp_1010_P057.csv              0        0    pp1\n",
      "'DataFrame' object has no attribute 'muestras'\n"
     ]
    }
   ],
   "source": [
    "exp=ci.exp('./iamend_ci/datos/pp1_1010')"
   ]
  },
  {
   "cell_type": "code",
   "execution_count": 7,
   "id": "f17e9030",
   "metadata": {},
   "outputs": [
    {
     "name": "stderr",
     "output_type": "stream",
     "text": [
      "ERROR:root:An exception was thrown!\n",
      "Traceback (most recent call last):\n",
      "  File \"/home/fernando/Gits/iamend_test/iamend_ci/__init__.py\", line 121, in fitpatron\n",
      "    indice_patron=self.info[self.info.muestras.str.startswith('P')].iloc[0].name\n",
      "  File \"/home/fernando/.local/lib/python3.10/site-packages/pandas/core/generic.py\", line 5583, in __getattr__\n",
      "    return object.__getattribute__(self, name)\n",
      "AttributeError: 'DataFrame' object has no attribute 'muestras'\n"
     ]
    },
    {
     "name": "stdout",
     "output_type": "stream",
     "text": [
      "Ajustando z1 effectivo\n",
      "'DataFrame' object has no attribute 'muestras'\n"
     ]
    },
    {
     "data": {
      "text/html": [
       "<div>\n",
       "<style scoped>\n",
       "    .dataframe tbody tr th:only-of-type {\n",
       "        vertical-align: middle;\n",
       "    }\n",
       "\n",
       "    .dataframe tbody tr th {\n",
       "        vertical-align: top;\n",
       "    }\n",
       "\n",
       "    .dataframe thead th {\n",
       "        text-align: right;\n",
       "    }\n",
       "</style>\n",
       "<table border=\"1\" class=\"dataframe\">\n",
       "  <thead>\n",
       "    <tr style=\"text-align: right;\">\n",
       "      <th></th>\n",
       "      <th>archivo</th>\n",
       "      <th>conductividad</th>\n",
       "      <th>espesor</th>\n",
       "      <th>bobina</th>\n",
       "    </tr>\n",
       "  </thead>\n",
       "  <tbody>\n",
       "    <tr>\n",
       "      <th>0</th>\n",
       "      <td>Exp_1010_Aire.csv</td>\n",
       "      <td>0</td>\n",
       "      <td>0</td>\n",
       "      <td>pp1</td>\n",
       "    </tr>\n",
       "    <tr>\n",
       "      <th>1</th>\n",
       "      <td>Exp_1010_M0.csv</td>\n",
       "      <td>0</td>\n",
       "      <td>0</td>\n",
       "      <td>pp1</td>\n",
       "    </tr>\n",
       "    <tr>\n",
       "      <th>2</th>\n",
       "      <td>Exp_1010_P057.csv</td>\n",
       "      <td>0</td>\n",
       "      <td>0</td>\n",
       "      <td>pp1</td>\n",
       "    </tr>\n",
       "  </tbody>\n",
       "</table>\n",
       "</div>"
      ],
      "text/plain": [
       "             archivo  conductividad  espesor bobina\n",
       "0  Exp_1010_Aire.csv              0        0    pp1\n",
       "1    Exp_1010_M0.csv              0        0    pp1\n",
       "2  Exp_1010_P057.csv              0        0    pp1"
      ]
     },
     "execution_count": 7,
     "metadata": {},
     "output_type": "execute_result"
    }
   ],
   "source": [
    "exp.fitmues()\n",
    "exp.info"
   ]
  }
 ],
 "metadata": {
  "kernelspec": {
   "display_name": "Python 3 (ipykernel)",
   "language": "python",
   "name": "python3"
  },
  "language_info": {
   "codemirror_mode": {
    "name": "ipython",
    "version": 3
   },
   "file_extension": ".py",
   "mimetype": "text/x-python",
   "name": "python",
   "nbconvert_exporter": "python",
   "pygments_lexer": "ipython3",
   "version": "3.10.10"
  }
 },
 "nbformat": 4,
 "nbformat_minor": 5
}
