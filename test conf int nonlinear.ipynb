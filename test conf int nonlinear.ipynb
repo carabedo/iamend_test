{
 "cells": [
  {
   "cell_type": "code",
   "execution_count": 1,
   "id": "f97f6386",
   "metadata": {},
   "outputs": [
    {
     "data": {
      "text/html": [
       "<style>\n",
       "        .bk-notebook-logo {\n",
       "            display: block;\n",
       "            width: 20px;\n",
       "            height: 20px;\n",
       "            background-image: url(data:image/png;base64,iVBORw0KGgoAAAANSUhEUgAAABQAAAAUCAYAAACNiR0NAAAABHNCSVQICAgIfAhkiAAAAAlwSFlzAAALEgAACxIB0t1+/AAAABx0RVh0U29mdHdhcmUAQWRvYmUgRmlyZXdvcmtzIENTNui8sowAAAOkSURBVDiNjZRtaJVlGMd/1/08zzln5zjP1LWcU9N0NkN8m2CYjpgQYQXqSs0I84OLIC0hkEKoPtiH3gmKoiJDU7QpLgoLjLIQCpEsNJ1vqUOdO7ppbuec5+V+rj4ctwzd8IIbbi6u+8f1539dt3A78eXC7QizUF7gyV1fD1Yqg4JWz84yffhm0qkFqBogB9rM8tZdtwVsPUhWhGcFJngGeWrPzHm5oaMmkfEg1usvLFyc8jLRqDOMru7AyC8saQr7GG7f5fvDeH7Ej8CM66nIF+8yngt6HWaKh7k49Soy9nXurCi1o3qUbS3zWfrYeQDTB/Qj6kX6Ybhw4B+bOYoLKCC9H3Nu/leUTZ1JdRWkkn2ldcCamzrcf47KKXdAJllSlxAOkRgyHsGC/zRday5Qld9DyoM4/q/rUoy/CXh3jzOu3bHUVZeU+DEn8FInkPBFlu3+nW3Nw0mk6vCDiWg8CeJaxEwuHS3+z5RgY+YBR6V1Z1nxSOfoaPa4LASWxxdNp+VWTk7+4vzaou8v8PN+xo+KY2xsw6une2frhw05CTYOmQvsEhjhWjn0bmXPjpE1+kplmmkP3suftwTubK9Vq22qKmrBhpY4jvd5afdRA3wGjFAgcnTK2s4hY0/GPNIb0nErGMCRxWOOX64Z8RAC4oCXdklmEvcL8o0BfkNK4lUg9HTl+oPlQxdNo3Mg4Nv175e/1LDGzZen30MEjRUtmXSfiTVu1kK8W4txyV6BMKlbgk3lMwYCiusNy9fVfvvwMxv8Ynl6vxoByANLTWplvuj/nF9m2+PDtt1eiHPBr1oIfhCChQMBw6Aw0UulqTKZdfVvfG7VcfIqLG9bcldL/+pdWTLxLUy8Qq38heUIjh4XlzZxzQm19lLFlr8vdQ97rjZVOLf8nclzckbcD4wxXMidpX30sFd37Fv/GtwwhzhxGVAprjbg0gCAEeIgwCZyTV2Z1REEW8O4py0wsjeloKoMr6iCY6dP92H6Vw/oTyICIthibxjm/DfN9lVz8IqtqKYLUXfoKVMVQVVJOElGjrnnUt9T9wbgp8AyYKaGlqingHZU/uG2NTZSVqwHQTWkx9hxjkpWDaCg6Ckj5qebgBVbT3V3NNXMSiWSDdGV3hrtzla7J+duwPOToIg42ChPQOQjspnSlp1V+Gjdged7+8UN5CRAV7a5EdFNwCjEaBR27b3W890TE7g24NAP/mMDXRWrGoFPQI9ls/MWO2dWFAar/xcOIImbbpA3zgAAAABJRU5ErkJggg==);\n",
       "        }\n",
       "    </style>\n",
       "    <div>\n",
       "        <a href=\"https://bokeh.org\" target=\"_blank\" class=\"bk-notebook-logo\"></a>\n",
       "        <span id=\"p1001\">Loading BokehJS ...</span>\n",
       "    </div>\n"
      ]
     },
     "metadata": {},
     "output_type": "display_data"
    },
    {
     "data": {
      "application/javascript": "(function(root) {\n  function now() {\n    return new Date();\n  }\n\n  const force = true;\n\n  if (typeof root._bokeh_onload_callbacks === \"undefined\" || force === true) {\n    root._bokeh_onload_callbacks = [];\n    root._bokeh_is_loading = undefined;\n  }\n\nconst JS_MIME_TYPE = 'application/javascript';\n  const HTML_MIME_TYPE = 'text/html';\n  const EXEC_MIME_TYPE = 'application/vnd.bokehjs_exec.v0+json';\n  const CLASS_NAME = 'output_bokeh rendered_html';\n\n  /**\n   * Render data to the DOM node\n   */\n  function render(props, node) {\n    const script = document.createElement(\"script\");\n    node.appendChild(script);\n  }\n\n  /**\n   * Handle when an output is cleared or removed\n   */\n  function handleClearOutput(event, handle) {\n    const cell = handle.cell;\n\n    const id = cell.output_area._bokeh_element_id;\n    const server_id = cell.output_area._bokeh_server_id;\n    // Clean up Bokeh references\n    if (id != null && id in Bokeh.index) {\n      Bokeh.index[id].model.document.clear();\n      delete Bokeh.index[id];\n    }\n\n    if (server_id !== undefined) {\n      // Clean up Bokeh references\n      const cmd_clean = \"from bokeh.io.state import curstate; print(curstate().uuid_to_server['\" + server_id + \"'].get_sessions()[0].document.roots[0]._id)\";\n      cell.notebook.kernel.execute(cmd_clean, {\n        iopub: {\n          output: function(msg) {\n            const id = msg.content.text.trim();\n            if (id in Bokeh.index) {\n              Bokeh.index[id].model.document.clear();\n              delete Bokeh.index[id];\n            }\n          }\n        }\n      });\n      // Destroy server and session\n      const cmd_destroy = \"import bokeh.io.notebook as ion; ion.destroy_server('\" + server_id + \"')\";\n      cell.notebook.kernel.execute(cmd_destroy);\n    }\n  }\n\n  /**\n   * Handle when a new output is added\n   */\n  function handleAddOutput(event, handle) {\n    const output_area = handle.output_area;\n    const output = handle.output;\n\n    // limit handleAddOutput to display_data with EXEC_MIME_TYPE content only\n    if ((output.output_type != \"display_data\") || (!Object.prototype.hasOwnProperty.call(output.data, EXEC_MIME_TYPE))) {\n      return\n    }\n\n    const toinsert = output_area.element.find(\".\" + CLASS_NAME.split(' ')[0]);\n\n    if (output.metadata[EXEC_MIME_TYPE][\"id\"] !== undefined) {\n      toinsert[toinsert.length - 1].firstChild.textContent = output.data[JS_MIME_TYPE];\n      // store reference to embed id on output_area\n      output_area._bokeh_element_id = output.metadata[EXEC_MIME_TYPE][\"id\"];\n    }\n    if (output.metadata[EXEC_MIME_TYPE][\"server_id\"] !== undefined) {\n      const bk_div = document.createElement(\"div\");\n      bk_div.innerHTML = output.data[HTML_MIME_TYPE];\n      const script_attrs = bk_div.children[0].attributes;\n      for (let i = 0; i < script_attrs.length; i++) {\n        toinsert[toinsert.length - 1].firstChild.setAttribute(script_attrs[i].name, script_attrs[i].value);\n        toinsert[toinsert.length - 1].firstChild.textContent = bk_div.children[0].textContent\n      }\n      // store reference to server id on output_area\n      output_area._bokeh_server_id = output.metadata[EXEC_MIME_TYPE][\"server_id\"];\n    }\n  }\n\n  function register_renderer(events, OutputArea) {\n\n    function append_mime(data, metadata, element) {\n      // create a DOM node to render to\n      const toinsert = this.create_output_subarea(\n        metadata,\n        CLASS_NAME,\n        EXEC_MIME_TYPE\n      );\n      this.keyboard_manager.register_events(toinsert);\n      // Render to node\n      const props = {data: data, metadata: metadata[EXEC_MIME_TYPE]};\n      render(props, toinsert[toinsert.length - 1]);\n      element.append(toinsert);\n      return toinsert\n    }\n\n    /* Handle when an output is cleared or removed */\n    events.on('clear_output.CodeCell', handleClearOutput);\n    events.on('delete.Cell', handleClearOutput);\n\n    /* Handle when a new output is added */\n    events.on('output_added.OutputArea', handleAddOutput);\n\n    /**\n     * Register the mime type and append_mime function with output_area\n     */\n    OutputArea.prototype.register_mime_type(EXEC_MIME_TYPE, append_mime, {\n      /* Is output safe? */\n      safe: true,\n      /* Index of renderer in `output_area.display_order` */\n      index: 0\n    });\n  }\n\n  // register the mime type if in Jupyter Notebook environment and previously unregistered\n  if (root.Jupyter !== undefined) {\n    const events = require('base/js/events');\n    const OutputArea = require('notebook/js/outputarea').OutputArea;\n\n    if (OutputArea.prototype.mime_types().indexOf(EXEC_MIME_TYPE) == -1) {\n      register_renderer(events, OutputArea);\n    }\n  }\n  if (typeof (root._bokeh_timeout) === \"undefined\" || force === true) {\n    root._bokeh_timeout = Date.now() + 5000;\n    root._bokeh_failed_load = false;\n  }\n\n  const NB_LOAD_WARNING = {'data': {'text/html':\n     \"<div style='background-color: #fdd'>\\n\"+\n     \"<p>\\n\"+\n     \"BokehJS does not appear to have successfully loaded. If loading BokehJS from CDN, this \\n\"+\n     \"may be due to a slow or bad network connection. Possible fixes:\\n\"+\n     \"</p>\\n\"+\n     \"<ul>\\n\"+\n     \"<li>re-rerun `output_notebook()` to attempt to load from CDN again, or</li>\\n\"+\n     \"<li>use INLINE resources instead, as so:</li>\\n\"+\n     \"</ul>\\n\"+\n     \"<code>\\n\"+\n     \"from bokeh.resources import INLINE\\n\"+\n     \"output_notebook(resources=INLINE)\\n\"+\n     \"</code>\\n\"+\n     \"</div>\"}};\n\n  function display_loaded() {\n    const el = document.getElementById(\"p1001\");\n    if (el != null) {\n      el.textContent = \"BokehJS is loading...\";\n    }\n    if (root.Bokeh !== undefined) {\n      if (el != null) {\n        el.textContent = \"BokehJS \" + root.Bokeh.version + \" successfully loaded.\";\n      }\n    } else if (Date.now() < root._bokeh_timeout) {\n      setTimeout(display_loaded, 100)\n    }\n  }\n\n  function run_callbacks() {\n    try {\n      root._bokeh_onload_callbacks.forEach(function(callback) {\n        if (callback != null)\n          callback();\n      });\n    } finally {\n      delete root._bokeh_onload_callbacks\n    }\n    console.debug(\"Bokeh: all callbacks have finished\");\n  }\n\n  function load_libs(css_urls, js_urls, callback) {\n    if (css_urls == null) css_urls = [];\n    if (js_urls == null) js_urls = [];\n\n    root._bokeh_onload_callbacks.push(callback);\n    if (root._bokeh_is_loading > 0) {\n      console.debug(\"Bokeh: BokehJS is being loaded, scheduling callback at\", now());\n      return null;\n    }\n    if (js_urls == null || js_urls.length === 0) {\n      run_callbacks();\n      return null;\n    }\n    console.debug(\"Bokeh: BokehJS not loaded, scheduling load and callback at\", now());\n    root._bokeh_is_loading = css_urls.length + js_urls.length;\n\n    function on_load() {\n      root._bokeh_is_loading--;\n      if (root._bokeh_is_loading === 0) {\n        console.debug(\"Bokeh: all BokehJS libraries/stylesheets loaded\");\n        run_callbacks()\n      }\n    }\n\n    function on_error(url) {\n      console.error(\"failed to load \" + url);\n    }\n\n    for (let i = 0; i < css_urls.length; i++) {\n      const url = css_urls[i];\n      const element = document.createElement(\"link\");\n      element.onload = on_load;\n      element.onerror = on_error.bind(null, url);\n      element.rel = \"stylesheet\";\n      element.type = \"text/css\";\n      element.href = url;\n      console.debug(\"Bokeh: injecting link tag for BokehJS stylesheet: \", url);\n      document.body.appendChild(element);\n    }\n\n    for (let i = 0; i < js_urls.length; i++) {\n      const url = js_urls[i];\n      const element = document.createElement('script');\n      element.onload = on_load;\n      element.onerror = on_error.bind(null, url);\n      element.async = false;\n      element.src = url;\n      console.debug(\"Bokeh: injecting script tag for BokehJS library: \", url);\n      document.head.appendChild(element);\n    }\n  };\n\n  function inject_raw_css(css) {\n    const element = document.createElement(\"style\");\n    element.appendChild(document.createTextNode(css));\n    document.body.appendChild(element);\n  }\n\n  const js_urls = [\"https://cdn.bokeh.org/bokeh/release/bokeh-3.1.0.min.js\", \"https://cdn.bokeh.org/bokeh/release/bokeh-gl-3.1.0.min.js\", \"https://cdn.bokeh.org/bokeh/release/bokeh-widgets-3.1.0.min.js\", \"https://cdn.bokeh.org/bokeh/release/bokeh-tables-3.1.0.min.js\", \"https://cdn.bokeh.org/bokeh/release/bokeh-mathjax-3.1.0.min.js\"];\n  const css_urls = [];\n\n  const inline_js = [    function(Bokeh) {\n      Bokeh.set_log_level(\"info\");\n    },\nfunction(Bokeh) {\n    }\n  ];\n\n  function run_inline_js() {\n    if (root.Bokeh !== undefined || force === true) {\n          for (let i = 0; i < inline_js.length; i++) {\n      inline_js[i].call(root, root.Bokeh);\n    }\nif (force === true) {\n        display_loaded();\n      }} else if (Date.now() < root._bokeh_timeout) {\n      setTimeout(run_inline_js, 100);\n    } else if (!root._bokeh_failed_load) {\n      console.log(\"Bokeh: BokehJS failed to load within specified timeout.\");\n      root._bokeh_failed_load = true;\n    } else if (force !== true) {\n      const cell = $(document.getElementById(\"p1001\")).parents('.cell').data().cell;\n      cell.output_area.append_execute_result(NB_LOAD_WARNING)\n    }\n  }\n\n  if (root._bokeh_is_loading === 0) {\n    console.debug(\"Bokeh: BokehJS loaded, going straight to plotting\");\n    run_inline_js();\n  } else {\n    load_libs(css_urls, js_urls, function() {\n      console.debug(\"Bokeh: BokehJS plotting callback run at\", now());\n      run_inline_js();\n    });\n  }\n}(window));",
      "application/vnd.bokehjs_load.v0+json": ""
     },
     "metadata": {},
     "output_type": "display_data"
    }
   ],
   "source": [
    "import iamend_ci as ci\n",
    "import numpy as np"
   ]
  },
  {
   "cell_type": "code",
   "execution_count": 2,
   "id": "7f483555",
   "metadata": {},
   "outputs": [
    {
     "name": "stdout",
     "output_type": "stream",
     "text": [
      "                  archivo  conductividad  espesor bobina  muestras\n",
      "0      Exp_m1_347-M02.csv     1118491.27  0.02340     m1   347-M02\n",
      "1  Exp_m1_1010-M01_m1.csv     3830000.00  0.06500     m1  1010-M01\n",
      "2         Exp_m1_aire.csv           0.00  0.00000     m1      aire\n",
      "3         Exp_m1_P057.csv     3948000.00  0.14957     m1      P057\n"
     ]
    }
   ],
   "source": [
    "exp=ci.exp('./iamend_ci/datos/marzo2023/m1')"
   ]
  },
  {
   "cell_type": "code",
   "execution_count": 4,
   "id": "e61c4f51",
   "metadata": {},
   "outputs": [
    {
     "name": "stdout",
     "output_type": "stream",
     "text": [
      "z1 = 0.969217875046711 mm\n"
     ]
    },
    {
     "data": {
      "text/html": [
       "\n",
       "  <div id=\"d8bc4687-1275-4ca1-afb4-38205bf96d70\" data-root-id=\"p1002\" style=\"display: contents;\"></div>\n"
      ]
     },
     "metadata": {},
     "output_type": "display_data"
    },
    {
     "data": {
      "application/javascript": "(function(root) {\n  function embed_document(root) {\n  const docs_json = {\"3850c02f-05b4-4037-8776-ca6b6172dfbe\":{\"version\":\"3.1.0\",\"title\":\"Bokeh Application\",\"defs\":[],\"roots\":[{\"type\":\"object\",\"name\":\"Figure\",\"id\":\"p1002\",\"attributes\":{\"height\":500,\"x_range\":{\"type\":\"object\",\"name\":\"DataRange1d\",\"id\":\"p1003\"},\"y_range\":{\"type\":\"object\",\"name\":\"DataRange1d\",\"id\":\"p1004\"},\"x_scale\":{\"type\":\"object\",\"name\":\"LogScale\",\"id\":\"p1015\"},\"y_scale\":{\"type\":\"object\",\"name\":\"LinearScale\",\"id\":\"p1017\"},\"title\":{\"type\":\"object\",\"name\":\"Title\",\"id\":\"p1007\"},\"renderers\":[{\"type\":\"object\",\"name\":\"GlyphRenderer\",\"id\":\"p1046\",\"attributes\":{\"data_source\":{\"type\":\"object\",\"name\":\"ColumnDataSource\",\"id\":\"p1040\",\"attributes\":{\"selected\":{\"type\":\"object\",\"name\":\"Selection\",\"id\":\"p1042\",\"attributes\":{\"indices\":[],\"line_indices\":[]}},\"selection_policy\":{\"type\":\"object\",\"name\":\"UnionRenderers\",\"id\":\"p1041\"},\"data\":{\"type\":\"map\",\"entries\":[[\"x\",{\"type\":\"ndarray\",\"array\":{\"type\":\"bytes\",\"data\":\"AAAAAAAAWUCF61G4HnlfQNk9eVioz2NA9+RhodbwaEDSAN4CCWZvQHbgnBGlw3NAGeJYF7fheED7XG3F/lJ/QLAD54yot4NAYVRSJ6DSiEAAAAAAAECPQDMzMzOzq5NAUI2XbpLDmEA1XrpJDC2fQIPAyqHFn6NAkxgEVo60qECgGi/dJBqvQGiR7Xzfk7NAnMQgsJKluEB56SYxSAe/QAAAAAAAiMNAAAAAAKCWyECkcD0Kd/TOQOF6FK4nfNNA4XoUrreH2EC4HoXrseHeQKRwPQpXcONApHA9Ctd46EDD9Shc987uQHsUrkeNZPNAAAAAAABq+EAAAAAASLz+QGZmZmbKWANBmpmZmTFbCEHNzMzMpKkOQTMzMzMPTRNBzczMzGxMGEEzMzMzDZceQZqZmZlaQSNBmpmZmbA9KEEAAAAAgIQuQQ==\"},\"shape\":[41],\"dtype\":\"float64\",\"order\":\"little\"}],[\"y\",{\"type\":\"ndarray\",\"array\":{\"type\":\"bytes\",\"data\":\"MrWX7FjWYb9San9WuIxqPwhwgkefKXS/Mw8MFvrIcL+HDZ+M4aEwP6Tpyn7R1jy/oju5hN+PRL8ub48QppROv7Fcc++q4E2/Fbn5kwBkXb+HAafmt4JhvyA6X9YOV2q/3B71EhG2c79STn3PGFx1v6QD+GJdjXy/tX1cy2EFhL9HDNvDyHSEv+z967C8/Iy/0b8RgkcVj785Rm8NQKaTv5DH+q5ffZa/5ukn9t/mm7+DLhFMMUugvzs0rVYZ1aK/EJlpSPeFpb+cVrrwEAiov+cWUW9prKq/zbhikyqyrb+IXd17d+6vvyi3plMWoLG/DVGjRINxsr9rgD0am4Szv2i7DU+icbS/MGJL0KdPtb+9mKXrkzO2v2tXv3wq5ra/ve8GsQ3xt793AtjBY5e4v4kqFs1pQLm/qLZfWMsSur/T7oNrQQ67vw==\"},\"shape\":[41],\"dtype\":\"float64\",\"order\":\"little\"}]]}}},\"view\":{\"type\":\"object\",\"name\":\"CDSView\",\"id\":\"p1047\",\"attributes\":{\"filter\":{\"type\":\"object\",\"name\":\"AllIndices\",\"id\":\"p1048\"}}},\"glyph\":{\"type\":\"object\",\"name\":\"Circle\",\"id\":\"p1043\",\"attributes\":{\"x\":{\"type\":\"field\",\"field\":\"x\"},\"y\":{\"type\":\"field\",\"field\":\"y\"},\"line_color\":{\"type\":\"value\",\"value\":\"#1f77b4\"},\"fill_color\":{\"type\":\"value\",\"value\":\"#1f77b4\"}}},\"nonselection_glyph\":{\"type\":\"object\",\"name\":\"Circle\",\"id\":\"p1044\",\"attributes\":{\"x\":{\"type\":\"field\",\"field\":\"x\"},\"y\":{\"type\":\"field\",\"field\":\"y\"},\"line_color\":{\"type\":\"value\",\"value\":\"#1f77b4\"},\"line_alpha\":{\"type\":\"value\",\"value\":0.1},\"fill_color\":{\"type\":\"value\",\"value\":\"#1f77b4\"},\"fill_alpha\":{\"type\":\"value\",\"value\":0.1},\"hatch_alpha\":{\"type\":\"value\",\"value\":0.1}}},\"muted_glyph\":{\"type\":\"object\",\"name\":\"Circle\",\"id\":\"p1045\",\"attributes\":{\"x\":{\"type\":\"field\",\"field\":\"x\"},\"y\":{\"type\":\"field\",\"field\":\"y\"},\"line_color\":{\"type\":\"value\",\"value\":\"#1f77b4\"},\"line_alpha\":{\"type\":\"value\",\"value\":0.2},\"fill_color\":{\"type\":\"value\",\"value\":\"#1f77b4\"},\"fill_alpha\":{\"type\":\"value\",\"value\":0.2},\"hatch_alpha\":{\"type\":\"value\",\"value\":0.2}}}}},{\"type\":\"object\",\"name\":\"GlyphRenderer\",\"id\":\"p1055\",\"attributes\":{\"data_source\":{\"type\":\"object\",\"name\":\"ColumnDataSource\",\"id\":\"p1049\",\"attributes\":{\"selected\":{\"type\":\"object\",\"name\":\"Selection\",\"id\":\"p1051\",\"attributes\":{\"indices\":[],\"line_indices\":[]}},\"selection_policy\":{\"type\":\"object\",\"name\":\"UnionRenderers\",\"id\":\"p1050\"},\"data\":{\"type\":\"map\",\"entries\":[[\"x\",{\"type\":\"ndarray\",\"array\":{\"type\":\"bytes\",\"data\":\"AAAAAAAAWUCF61G4HnlfQNk9eVioz2NA9+RhodbwaEDSAN4CCWZvQHbgnBGlw3NAGeJYF7fheED7XG3F/lJ/QLAD54yot4NAYVRSJ6DSiEAAAAAAAECPQDMzMzOzq5NAUI2XbpLDmEA1XrpJDC2fQIPAyqHFn6NAkxgEVo60qECgGi/dJBqvQGiR7Xzfk7NAnMQgsJKluEB56SYxSAe/QAAAAAAAiMNAAAAAAKCWyECkcD0Kd/TOQOF6FK4nfNNA4XoUrreH2EC4HoXrseHeQKRwPQpXcONApHA9Ctd46EDD9Shc987uQHsUrkeNZPNAAAAAAABq+EAAAAAASLz+QGZmZmbKWANBmpmZmTFbCEHNzMzMpKkOQTMzMzMPTRNBzczMzGxMGEEzMzMzDZceQZqZmZlaQSNBmpmZmbA9KEEAAAAAgIQuQQ==\"},\"shape\":[41],\"dtype\":\"float64\",\"order\":\"little\"}],[\"y\",{\"type\":\"ndarray\",\"array\":{\"type\":\"bytes\",\"data\":\"W+F3AtJoJb8So3HxHRotv4DTQ68RrjO/sjs9CBR7Or9MCgeBSbxBv2ZZ00qLqEe/1pKqXLNrT79NbmA0msJUvw1VlyB8R1u/NdQYCprQYb/kALi7pB5nvyNPV761zG2/9A5iLYIQc7/dkhGe9DN4v3EnSI3geH6/MbUbyGwDg78YSq2r3oGHv6SYmvmfx4y/m3v0cAZwkb+SKP0fF+iUv67/x2GCypi/uFCtVjgRnb/zGsOeqdigv9y7xUOnTaO/iecTZ+Pdpb/MmYumVH6ov1VQWsphI6u/7y8/i7XBrb+qrKhSgiewv1HfWcZSYbG/plLXvfSKsr9oMmrSGaKzv6SHXNprpbS/CljznmiUtb/YzqZxNm+2v6rwalt3Nre/qKY5YSHrt7+pTwOTXo64v621rdBzIbm/OEVO7q6lub9CNM+wWRy6vw==\"},\"shape\":[41],\"dtype\":\"float64\",\"order\":\"little\"}]]}}},\"view\":{\"type\":\"object\",\"name\":\"CDSView\",\"id\":\"p1056\",\"attributes\":{\"filter\":{\"type\":\"object\",\"name\":\"AllIndices\",\"id\":\"p1057\"}}},\"glyph\":{\"type\":\"object\",\"name\":\"Line\",\"id\":\"p1052\",\"attributes\":{\"x\":{\"type\":\"field\",\"field\":\"x\"},\"y\":{\"type\":\"field\",\"field\":\"y\"},\"line_color\":\"#f46d43\",\"line_alpha\":0.6,\"line_width\":2}},\"nonselection_glyph\":{\"type\":\"object\",\"name\":\"Line\",\"id\":\"p1053\",\"attributes\":{\"x\":{\"type\":\"field\",\"field\":\"x\"},\"y\":{\"type\":\"field\",\"field\":\"y\"},\"line_color\":\"#f46d43\",\"line_alpha\":0.1,\"line_width\":2}},\"muted_glyph\":{\"type\":\"object\",\"name\":\"Line\",\"id\":\"p1054\",\"attributes\":{\"x\":{\"type\":\"field\",\"field\":\"x\"},\"y\":{\"type\":\"field\",\"field\":\"y\"},\"line_color\":\"#f46d43\",\"line_alpha\":0.2,\"line_width\":2}}}}],\"toolbar\":{\"type\":\"object\",\"name\":\"Toolbar\",\"id\":\"p1008\",\"attributes\":{\"tools\":[{\"type\":\"object\",\"name\":\"BoxZoomTool\",\"id\":\"p1033\",\"attributes\":{\"overlay\":{\"type\":\"object\",\"name\":\"BoxAnnotation\",\"id\":\"p1034\",\"attributes\":{\"syncable\":false,\"level\":\"overlay\",\"visible\":false,\"left_units\":\"canvas\",\"right_units\":\"canvas\",\"bottom_units\":\"canvas\",\"top_units\":\"canvas\",\"line_color\":\"black\",\"line_alpha\":1.0,\"line_width\":2,\"line_dash\":[4,4],\"fill_color\":\"lightgrey\",\"fill_alpha\":0.5}}}},{\"type\":\"object\",\"name\":\"ResetTool\",\"id\":\"p1035\"}]}},\"left\":[{\"type\":\"object\",\"name\":\"LinearAxis\",\"id\":\"p1026\",\"attributes\":{\"ticker\":{\"type\":\"object\",\"name\":\"BasicTicker\",\"id\":\"p1029\",\"attributes\":{\"mantissas\":[1,2,5]}},\"formatter\":{\"type\":\"object\",\"name\":\"BasicTickFormatter\",\"id\":\"p1027\"},\"axis_label\":\"im(dz)/x0\",\"major_label_policy\":{\"type\":\"object\",\"name\":\"AllLabels\",\"id\":\"p1028\"}}}],\"below\":[{\"type\":\"object\",\"name\":\"LogAxis\",\"id\":\"p1019\",\"attributes\":{\"ticker\":{\"type\":\"object\",\"name\":\"LogTicker\",\"id\":\"p1022\",\"attributes\":{\"num_minor_ticks\":10,\"mantissas\":[1,5]}},\"formatter\":{\"type\":\"object\",\"name\":\"LogTickFormatter\",\"id\":\"p1020\"},\"axis_label\":\"f[Hz]\",\"major_label_policy\":{\"type\":\"object\",\"name\":\"AllLabels\",\"id\":\"p1021\"}}}],\"center\":[{\"type\":\"object\",\"name\":\"Grid\",\"id\":\"p1025\",\"attributes\":{\"axis\":{\"id\":\"p1019\"}}},{\"type\":\"object\",\"name\":\"Grid\",\"id\":\"p1032\",\"attributes\":{\"dimension\":1,\"axis\":{\"id\":\"p1026\"}}}]}}],\"callbacks\":{\"type\":\"map\"}}};\n  const render_items = [{\"docid\":\"3850c02f-05b4-4037-8776-ca6b6172dfbe\",\"roots\":{\"p1002\":\"d8bc4687-1275-4ca1-afb4-38205bf96d70\"},\"root_ids\":[\"p1002\"]}];\n  root.Bokeh.embed.embed_items_notebook(docs_json, render_items);\n  }\n  if (root.Bokeh !== undefined) {\n    embed_document(root);\n  } else {\n    let attempts = 0;\n    const timer = setInterval(function(root) {\n      if (root.Bokeh !== undefined) {\n        clearInterval(timer);\n        embed_document(root);\n      } else {\n        attempts++;\n        if (attempts > 100) {\n          clearInterval(timer);\n          console.log(\"Bokeh: ERROR: Unable to run BokehJS code because BokehJS library is missing\");\n        }\n      }\n    }, 10, root)\n  }\n})(window);",
      "application/vnd.bokehjs_exec.v0+json": ""
     },
     "metadata": {
      "application/vnd.bokehjs_exec.v0+json": {
       "id": "p1002"
      }
     },
     "output_type": "display_data"
    },
    {
     "data": {
      "text/plain": [
       "True"
      ]
     },
     "execution_count": 4,
     "metadata": {},
     "output_type": "execute_result"
    }
   ],
   "source": [
    "exp.fitpatron(plot=True)"
   ]
  },
  {
   "cell_type": "code",
   "execution_count": 3,
   "id": "14ea8a30",
   "metadata": {},
   "outputs": [
    {
     "name": "stdout",
     "output_type": "stream",
     "text": [
      "Ajustando z1 effectivo\n",
      "z1 = 0.969217875046711 mm\n"
     ]
    },
    {
     "ename": "IndexError",
     "evalue": "index 0 is out of bounds for axis 0 with size 0",
     "output_type": "error",
     "traceback": [
      "\u001b[0;31m---------------------------------------------------------------------------\u001b[0m",
      "\u001b[0;31mIndexError\u001b[0m                                Traceback (most recent call last)",
      "\u001b[1;32m/home/fernando/Gits/iamend_test/test conf int nonlinear.ipynb Cell 3\u001b[0m in \u001b[0;36m<module>\u001b[0;34m\u001b[0m\n\u001b[0;32m----> <a href='vscode-notebook-cell:/home/fernando/Gits/iamend_test/test%20conf%20int%20nonlinear.ipynb#W2sZmlsZQ%3D%3D?line=0'>1</a>\u001b[0m exp\u001b[39m.\u001b[39;49mfitmues()\n\u001b[1;32m      <a href='vscode-notebook-cell:/home/fernando/Gits/iamend_test/test%20conf%20int%20nonlinear.ipynb#W2sZmlsZQ%3D%3D?line=1'>2</a>\u001b[0m exp\u001b[39m.\u001b[39minfo\n",
      "File \u001b[0;32m~/Gits/iamend_test/iamend_ci/__init__.py:190\u001b[0m, in \u001b[0;36mexp.fitmues\u001b[0;34m(self, figs)\u001b[0m\n\u001b[1;32m    188\u001b[0m \u001b[39mfor\u001b[39;00m x \u001b[39min\u001b[39;00m muestras:\n\u001b[1;32m    189\u001b[0m     row\u001b[39m=\u001b[39m\u001b[39mself\u001b[39m\u001b[39m.\u001b[39minfo[\u001b[39mself\u001b[39m\u001b[39m.\u001b[39minfo\u001b[39m.\u001b[39mmuestras\u001b[39m.\u001b[39mstr\u001b[39m.\u001b[39mcontains(x)]\n\u001b[0;32m--> 190\u001b[0m     esp\u001b[39m=\u001b[39mrow\u001b[39m.\u001b[39;49mespesor\u001b[39m.\u001b[39;49mvalues[\u001b[39m0\u001b[39;49m]\n\u001b[1;32m    191\u001b[0m     sigma\u001b[39m=\u001b[39mrow\u001b[39m.\u001b[39mconductividad\u001b[39m.\u001b[39mvalues[\u001b[39m0\u001b[39m]\n\u001b[1;32m    192\u001b[0m     dzucorrnorm\u001b[39m=\u001b[39m\u001b[39mself\u001b[39m\u001b[39m.\u001b[39mdznorm[\u001b[39mself\u001b[39m\u001b[39m.\u001b[39mdznorm\u001b[39m.\u001b[39mmuestra \u001b[39m==\u001b[39m x]\u001b[39m.\u001b[39mdzcorrnorm\u001b[39m.\u001b[39mvalues\n",
      "\u001b[0;31mIndexError\u001b[0m: index 0 is out of bounds for axis 0 with size 0"
     ]
    }
   ],
   "source": [
    "exp.fitmues()\n",
    "exp.info"
   ]
  },
  {
   "cell_type": "code",
   "execution_count": 6,
   "id": "c7ee88b9",
   "metadata": {},
   "outputs": [
    {
     "name": "stdout",
     "output_type": "stream",
     "text": [
      "                archivo  conductividad  espesor bobina  muestras\n",
      "0  Exp_pp1_1010-M01.csv     3830000.00  0.06500    pp1  1010-M01\n",
      "1      Exp_pp1_aire.csv           0.00  0.00000    pp1      aire\n",
      "2   Exp_pp1_347-M02.csv     1118491.27  0.02340    pp1   347-M02\n",
      "3      Exp_pp1_P057.csv     3948000.00  0.14957    pp1      P057\n"
     ]
    }
   ],
   "source": [
    "exp2=ci.exp('./iamend_ci/datos/marzo2023/pp1')\n"
   ]
  },
  {
   "cell_type": "code",
   "execution_count": 7,
   "id": "50110a19",
   "metadata": {},
   "outputs": [
    {
     "name": "stdout",
     "output_type": "stream",
     "text": [
      "z1 = 1.4802302940887324 mm\n"
     ]
    },
    {
     "data": {
      "text/html": [
       "\n",
       "  <div id=\"a6848628-5252-4445-a38f-32db50780978\" data-root-id=\"p1179\" style=\"display: contents;\"></div>\n"
      ]
     },
     "metadata": {},
     "output_type": "display_data"
    },
    {
     "data": {
      "application/javascript": "(function(root) {\n  function embed_document(root) {\n  const docs_json = {\"258031f7-2912-4e05-b18b-a04260a114a2\":{\"version\":\"3.1.0\",\"title\":\"Bokeh Application\",\"defs\":[],\"roots\":[{\"type\":\"object\",\"name\":\"Figure\",\"id\":\"p1179\",\"attributes\":{\"height\":500,\"x_range\":{\"type\":\"object\",\"name\":\"DataRange1d\",\"id\":\"p1180\"},\"y_range\":{\"type\":\"object\",\"name\":\"DataRange1d\",\"id\":\"p1181\"},\"x_scale\":{\"type\":\"object\",\"name\":\"LogScale\",\"id\":\"p1192\"},\"y_scale\":{\"type\":\"object\",\"name\":\"LinearScale\",\"id\":\"p1194\"},\"title\":{\"type\":\"object\",\"name\":\"Title\",\"id\":\"p1184\"},\"renderers\":[{\"type\":\"object\",\"name\":\"GlyphRenderer\",\"id\":\"p1223\",\"attributes\":{\"data_source\":{\"type\":\"object\",\"name\":\"ColumnDataSource\",\"id\":\"p1217\",\"attributes\":{\"selected\":{\"type\":\"object\",\"name\":\"Selection\",\"id\":\"p1219\",\"attributes\":{\"indices\":[],\"line_indices\":[]}},\"selection_policy\":{\"type\":\"object\",\"name\":\"UnionRenderers\",\"id\":\"p1218\"},\"data\":{\"type\":\"map\",\"entries\":[[\"x\",{\"type\":\"ndarray\",\"array\":{\"type\":\"bytes\",\"data\":\"AAAAAAAAWUCF61G4HnlfQNk9eVioz2NA9+RhodbwaEDSAN4CCWZvQHbgnBGlw3NAGeJYF7fheED7XG3F/lJ/QLAD54yot4NAYVRSJ6DSiEAAAAAAAECPQDMzMzOzq5NAUI2XbpLDmEA1XrpJDC2fQIPAyqHFn6NAkxgEVo60qECgGi/dJBqvQGiR7Xzfk7NAnMQgsJKluEB56SYxSAe/QAAAAAAAiMNAAAAAAKCWyECkcD0Kd/TOQOF6FK4nfNNA4XoUrreH2EC4HoXrseHeQKRwPQpXcONApHA9Ctd46EDD9Shc987uQHsUrkeNZPNAAAAAAABq+EAAAAAASLz+QGZmZmbKWANBmpmZmTFbCEHNzMzMpKkOQTMzMzMPTRNBzczMzGxMGEEzMzMzDZceQZqZmZlaQSNBmpmZmbA9KEEAAAAAgIQuQQ==\"},\"shape\":[41],\"dtype\":\"float64\",\"order\":\"little\"}],[\"y\",{\"type\":\"ndarray\",\"array\":{\"type\":\"bytes\",\"data\":\"VDhcELnQMb+vkB51HTdOvyeUEhBsbEI/sLyZfkLKO79y7IkC+u9RvziQ/n32sTi/iuGKuFDTV7/P7FQGpuZkv/U6PjDramS/RpxcM8lAc79QgSE82G52vxn4VRLlXX6/9r1Xx21Jg78sL49EhZCIv74DsJ+aGI6/vB59fYidkr8amhwvqJaWvwHquC+gspq/RdmyBdYboL8oHol/OByiv8vyuK6nVqS/1x9I72sup78/j227FN+pv+YYaPT6iqy/R7xjRlm8rr+zL74vQXqwv7IZqcfqj7G/zywxnaYHs7+SZwFUkVGzv1xk6opna7S/tiyU8RExtb91Id5Ljyu2v0Hsxiyswra/0QZOyQApt78lqvSfkr+3vz7X/R0/PLi/eeO5CLScuL91NAfxNC25vxp/PiMGoLm/mYPPJ7dAur8vqG1DKfO6vw==\"},\"shape\":[41],\"dtype\":\"float64\",\"order\":\"little\"}]]}}},\"view\":{\"type\":\"object\",\"name\":\"CDSView\",\"id\":\"p1224\",\"attributes\":{\"filter\":{\"type\":\"object\",\"name\":\"AllIndices\",\"id\":\"p1225\"}}},\"glyph\":{\"type\":\"object\",\"name\":\"Circle\",\"id\":\"p1220\",\"attributes\":{\"x\":{\"type\":\"field\",\"field\":\"x\"},\"y\":{\"type\":\"field\",\"field\":\"y\"},\"line_color\":{\"type\":\"value\",\"value\":\"#1f77b4\"},\"fill_color\":{\"type\":\"value\",\"value\":\"#1f77b4\"}}},\"nonselection_glyph\":{\"type\":\"object\",\"name\":\"Circle\",\"id\":\"p1221\",\"attributes\":{\"x\":{\"type\":\"field\",\"field\":\"x\"},\"y\":{\"type\":\"field\",\"field\":\"y\"},\"line_color\":{\"type\":\"value\",\"value\":\"#1f77b4\"},\"line_alpha\":{\"type\":\"value\",\"value\":0.1},\"fill_color\":{\"type\":\"value\",\"value\":\"#1f77b4\"},\"fill_alpha\":{\"type\":\"value\",\"value\":0.1},\"hatch_alpha\":{\"type\":\"value\",\"value\":0.1}}},\"muted_glyph\":{\"type\":\"object\",\"name\":\"Circle\",\"id\":\"p1222\",\"attributes\":{\"x\":{\"type\":\"field\",\"field\":\"x\"},\"y\":{\"type\":\"field\",\"field\":\"y\"},\"line_color\":{\"type\":\"value\",\"value\":\"#1f77b4\"},\"line_alpha\":{\"type\":\"value\",\"value\":0.2},\"fill_color\":{\"type\":\"value\",\"value\":\"#1f77b4\"},\"fill_alpha\":{\"type\":\"value\",\"value\":0.2},\"hatch_alpha\":{\"type\":\"value\",\"value\":0.2}}}}},{\"type\":\"object\",\"name\":\"GlyphRenderer\",\"id\":\"p1232\",\"attributes\":{\"data_source\":{\"type\":\"object\",\"name\":\"ColumnDataSource\",\"id\":\"p1226\",\"attributes\":{\"selected\":{\"type\":\"object\",\"name\":\"Selection\",\"id\":\"p1228\",\"attributes\":{\"indices\":[],\"line_indices\":[]}},\"selection_policy\":{\"type\":\"object\",\"name\":\"UnionRenderers\",\"id\":\"p1227\"},\"data\":{\"type\":\"map\",\"entries\":[[\"x\",{\"type\":\"ndarray\",\"array\":{\"type\":\"bytes\",\"data\":\"AAAAAAAAWUCF61G4HnlfQNk9eVioz2NA9+RhodbwaEDSAN4CCWZvQHbgnBGlw3NAGeJYF7fheED7XG3F/lJ/QLAD54yot4NAYVRSJ6DSiEAAAAAAAECPQDMzMzOzq5NAUI2XbpLDmEA1XrpJDC2fQIPAyqHFn6NAkxgEVo60qECgGi/dJBqvQGiR7Xzfk7NAnMQgsJKluEB56SYxSAe/QAAAAAAAiMNAAAAAAKCWyECkcD0Kd/TOQOF6FK4nfNNA4XoUrreH2EC4HoXrseHeQKRwPQpXcONApHA9Ctd46EDD9Shc987uQHsUrkeNZPNAAAAAAABq+EAAAAAASLz+QGZmZmbKWANBmpmZmTFbCEHNzMzMpKkOQTMzMzMPTRNBzczMzGxMGEEzMzMzDZceQZqZmZlaQSNBmpmZmbA9KEEAAAAAgIQuQQ==\"},\"shape\":[41],\"dtype\":\"float64\",\"order\":\"little\"}],[\"y\",{\"type\":\"ndarray\",\"array\":{\"type\":\"bytes\",\"data\":\"uJuZXLBoRL850yqtzjBLv/gs7wfM/lG/ORHtDnKnV7/mT8Kc+ONev3/oECUgDGS//ZOa81nbab+h0ObKDo9wvxPmjCvNC3W/Ndu7Is6Her9JiT4ACJSAv0wKE5cHiIS/onchBGovib8rQr17DJaOv4j44SBQYZK/g8WC+Ijalb83mxL3sLKZv44ekIot4Z2/E4D8urUsob9f5Sw2ZYWjv38nuZ/e8KW/mNAldpBkqL8r26Hj29Wqv3KdWxDQOq2/BBUIPs2Kr7+K5xxJd9+wvznwabIc6bG/zEKchcfgsr8ZrMjuusWzv1LlceXkl7S/LKYQ/7NXtb/lngz18AW2v81GcXyeo7a/IOJ9wt8xt79tg/I/5rG3v3zqoDbkJLi/jtTbhAOMuL/YMYYEYOi4v9Ncd9gDO7m/lmzD0uWEub/jpIiu6Ma5vw==\"},\"shape\":[41],\"dtype\":\"float64\",\"order\":\"little\"}]]}}},\"view\":{\"type\":\"object\",\"name\":\"CDSView\",\"id\":\"p1233\",\"attributes\":{\"filter\":{\"type\":\"object\",\"name\":\"AllIndices\",\"id\":\"p1234\"}}},\"glyph\":{\"type\":\"object\",\"name\":\"Line\",\"id\":\"p1229\",\"attributes\":{\"x\":{\"type\":\"field\",\"field\":\"x\"},\"y\":{\"type\":\"field\",\"field\":\"y\"},\"line_color\":\"#f46d43\",\"line_alpha\":0.6,\"line_width\":2}},\"nonselection_glyph\":{\"type\":\"object\",\"name\":\"Line\",\"id\":\"p1230\",\"attributes\":{\"x\":{\"type\":\"field\",\"field\":\"x\"},\"y\":{\"type\":\"field\",\"field\":\"y\"},\"line_color\":\"#f46d43\",\"line_alpha\":0.1,\"line_width\":2}},\"muted_glyph\":{\"type\":\"object\",\"name\":\"Line\",\"id\":\"p1231\",\"attributes\":{\"x\":{\"type\":\"field\",\"field\":\"x\"},\"y\":{\"type\":\"field\",\"field\":\"y\"},\"line_color\":\"#f46d43\",\"line_alpha\":0.2,\"line_width\":2}}}}],\"toolbar\":{\"type\":\"object\",\"name\":\"Toolbar\",\"id\":\"p1185\",\"attributes\":{\"tools\":[{\"type\":\"object\",\"name\":\"BoxZoomTool\",\"id\":\"p1210\",\"attributes\":{\"overlay\":{\"type\":\"object\",\"name\":\"BoxAnnotation\",\"id\":\"p1211\",\"attributes\":{\"syncable\":false,\"level\":\"overlay\",\"visible\":false,\"left_units\":\"canvas\",\"right_units\":\"canvas\",\"bottom_units\":\"canvas\",\"top_units\":\"canvas\",\"line_color\":\"black\",\"line_alpha\":1.0,\"line_width\":2,\"line_dash\":[4,4],\"fill_color\":\"lightgrey\",\"fill_alpha\":0.5}}}},{\"type\":\"object\",\"name\":\"ResetTool\",\"id\":\"p1212\"}]}},\"left\":[{\"type\":\"object\",\"name\":\"LinearAxis\",\"id\":\"p1203\",\"attributes\":{\"ticker\":{\"type\":\"object\",\"name\":\"BasicTicker\",\"id\":\"p1206\",\"attributes\":{\"mantissas\":[1,2,5]}},\"formatter\":{\"type\":\"object\",\"name\":\"BasicTickFormatter\",\"id\":\"p1204\"},\"axis_label\":\"im(dz)/x0\",\"major_label_policy\":{\"type\":\"object\",\"name\":\"AllLabels\",\"id\":\"p1205\"}}}],\"below\":[{\"type\":\"object\",\"name\":\"LogAxis\",\"id\":\"p1196\",\"attributes\":{\"ticker\":{\"type\":\"object\",\"name\":\"LogTicker\",\"id\":\"p1199\",\"attributes\":{\"num_minor_ticks\":10,\"mantissas\":[1,5]}},\"formatter\":{\"type\":\"object\",\"name\":\"LogTickFormatter\",\"id\":\"p1197\"},\"axis_label\":\"f[Hz]\",\"major_label_policy\":{\"type\":\"object\",\"name\":\"AllLabels\",\"id\":\"p1198\"}}}],\"center\":[{\"type\":\"object\",\"name\":\"Grid\",\"id\":\"p1202\",\"attributes\":{\"axis\":{\"id\":\"p1196\"}}},{\"type\":\"object\",\"name\":\"Grid\",\"id\":\"p1209\",\"attributes\":{\"dimension\":1,\"axis\":{\"id\":\"p1203\"}}}]}}],\"callbacks\":{\"type\":\"map\"}}};\n  const render_items = [{\"docid\":\"258031f7-2912-4e05-b18b-a04260a114a2\",\"roots\":{\"p1179\":\"a6848628-5252-4445-a38f-32db50780978\"},\"root_ids\":[\"p1179\"]}];\n  root.Bokeh.embed.embed_items_notebook(docs_json, render_items);\n  }\n  if (root.Bokeh !== undefined) {\n    embed_document(root);\n  } else {\n    let attempts = 0;\n    const timer = setInterval(function(root) {\n      if (root.Bokeh !== undefined) {\n        clearInterval(timer);\n        embed_document(root);\n      } else {\n        attempts++;\n        if (attempts > 100) {\n          clearInterval(timer);\n          console.log(\"Bokeh: ERROR: Unable to run BokehJS code because BokehJS library is missing\");\n        }\n      }\n    }, 10, root)\n  }\n})(window);",
      "application/vnd.bokehjs_exec.v0+json": ""
     },
     "metadata": {
      "application/vnd.bokehjs_exec.v0+json": {
       "id": "p1179"
      }
     },
     "output_type": "display_data"
    },
    {
     "data": {
      "text/plain": [
       "True"
      ]
     },
     "execution_count": 7,
     "metadata": {},
     "output_type": "execute_result"
    }
   ],
   "source": [
    "exp2.fitpatron(plot=True)"
   ]
  },
  {
   "cell_type": "code",
   "execution_count": null,
   "id": "9d8c4798",
   "metadata": {},
   "outputs": [],
   "source": [
    "exp2.fitmues()\n",
    "exp2.info"
   ]
  },
  {
   "cell_type": "markdown",
   "id": "c91b26bd",
   "metadata": {},
   "source": [
    "# Intervalo de confianza para parametros de un ajuste no lineal\n",
    "\n",
    "En orden de poder comparar ambas mediciones y tener un metodo robusto para la caracterizacion de la permeabilidad, necesitamos definir un intervalo de confianza para el parametro $\\mu$\n",
    "\n",
    "La estimacion de $\\mu$ se realiza con la funcion `optimize.curve_fit` de la libreria `scipy` una implementacion de  non-linear least squares para ajustar una funcion $f$ (modelo analitico) a los datos de impedancia normalizados.  el algorithm uses the Levenberg-Marquardt algorithm through leastsq.\n",
    "\n",
    "https://docs.scipy.org/doc/scipy/reference/generated/scipy.optimize.curve_fit.html\n",
    "\n",
    "https://docs.scipy.org/doc/scipy/reference/generated/scipy.optimize.least_squares.html#scipy.optimize.least_squares\n",
    "\n",
    "\n",
    "Segun la libreria podemos definir el error en $\\mu$ como `np.sqrt(np.diag(pcov))`.\n",
    "\n",
    "```\n",
    "pcov2-D array\n",
    "The estimated covariance of popt. The diagonals provide the variance of the parameter estimate. To compute one standard deviation errors on the parameters use perr = np.sqrt(np.diag(pcov)).\n",
    "\n",
    "How the sigma parameter affects the estimated covariance depends on absolute_sigma argument, as described above.\n",
    "\n",
    "If the Jacobian matrix at the solution doesn’t have a full rank, then ‘lm’ method returns a matrix filled with np.inf, on the other hand ‘trf’ and ‘dogbox’ methods use Moore-Penrose pseudoinverse to compute the covariance matrix.\n",
    "\n",
    "```"
   ]
  },
  {
   "cell_type": "code",
   "execution_count": 5,
   "id": "b2d29b34",
   "metadata": {},
   "outputs": [],
   "source": [
    "from iamend_ci.fit import mu as fitmu"
   ]
  },
  {
   "cell_type": "code",
   "execution_count": 6,
   "id": "5e532352",
   "metadata": {},
   "outputs": [
    {
     "data": {
      "text/html": [
       "<div>\n",
       "<style scoped>\n",
       "    .dataframe tbody tr th:only-of-type {\n",
       "        vertical-align: middle;\n",
       "    }\n",
       "\n",
       "    .dataframe tbody tr th {\n",
       "        vertical-align: top;\n",
       "    }\n",
       "\n",
       "    .dataframe thead th {\n",
       "        text-align: right;\n",
       "    }\n",
       "</style>\n",
       "<table border=\"1\" class=\"dataframe\">\n",
       "  <thead>\n",
       "    <tr style=\"text-align: right;\">\n",
       "      <th></th>\n",
       "      <th>archivo</th>\n",
       "      <th>conductividad</th>\n",
       "      <th>espesor</th>\n",
       "      <th>bobina</th>\n",
       "      <th>muestras</th>\n",
       "      <th>mueff</th>\n",
       "      <th>R2</th>\n",
       "    </tr>\n",
       "  </thead>\n",
       "  <tbody>\n",
       "    <tr>\n",
       "      <th>0</th>\n",
       "      <td>Exp_m1_347-M02.csv</td>\n",
       "      <td>1118491.27</td>\n",
       "      <td>0.02340</td>\n",
       "      <td>m1</td>\n",
       "      <td>347-M02</td>\n",
       "      <td>43.084565</td>\n",
       "      <td>0.983903</td>\n",
       "    </tr>\n",
       "    <tr>\n",
       "      <th>1</th>\n",
       "      <td>Exp_m1_1010-M01_m1.csv</td>\n",
       "      <td>3830000.00</td>\n",
       "      <td>0.06500</td>\n",
       "      <td>m1</td>\n",
       "      <td>1010-M01</td>\n",
       "      <td>65.333505</td>\n",
       "      <td>0.983925</td>\n",
       "    </tr>\n",
       "    <tr>\n",
       "      <th>2</th>\n",
       "      <td>Exp_m1_aire.csv</td>\n",
       "      <td>0.00</td>\n",
       "      <td>0.00000</td>\n",
       "      <td>m1</td>\n",
       "      <td>aire</td>\n",
       "      <td>NaN</td>\n",
       "      <td>NaN</td>\n",
       "    </tr>\n",
       "    <tr>\n",
       "      <th>3</th>\n",
       "      <td>Exp_m1_P057.csv</td>\n",
       "      <td>3948000.00</td>\n",
       "      <td>0.14957</td>\n",
       "      <td>m1</td>\n",
       "      <td>P057</td>\n",
       "      <td>NaN</td>\n",
       "      <td>NaN</td>\n",
       "    </tr>\n",
       "  </tbody>\n",
       "</table>\n",
       "</div>"
      ],
      "text/plain": [
       "                  archivo  conductividad  espesor bobina  muestras      mueff  \\\n",
       "0      Exp_m1_347-M02.csv     1118491.27  0.02340     m1   347-M02  43.084565   \n",
       "1  Exp_m1_1010-M01_m1.csv     3830000.00  0.06500     m1  1010-M01  65.333505   \n",
       "2         Exp_m1_aire.csv           0.00  0.00000     m1      aire        NaN   \n",
       "3         Exp_m1_P057.csv     3948000.00  0.14957     m1      P057        NaN   \n",
       "\n",
       "         R2  \n",
       "0  0.983903  \n",
       "1  0.983925  \n",
       "2       NaN  \n",
       "3       NaN  "
      ]
     },
     "execution_count": 6,
     "metadata": {},
     "output_type": "execute_result"
    }
   ],
   "source": [
    "exp.info"
   ]
  },
  {
   "cell_type": "code",
   "execution_count": 7,
   "id": "3b8b445e",
   "metadata": {},
   "outputs": [],
   "source": [
    "f=exp.f\n",
    "bo_eff=exp.coil\n",
    "dpatron=exp.info.espesor[0]\n",
    "sigma=exp.info.conductividad[0]\n",
    "name=exp.info.muestras[0]"
   ]
  },
  {
   "cell_type": "code",
   "execution_count": 43,
   "id": "886ba374",
   "metadata": {},
   "outputs": [
    {
     "data": {
      "text/plain": [
       "'347-M02'"
      ]
     },
     "execution_count": 43,
     "metadata": {},
     "output_type": "execute_result"
    }
   ],
   "source": [
    "name"
   ]
  },
  {
   "cell_type": "code",
   "execution_count": 44,
   "id": "873b07c0",
   "metadata": {},
   "outputs": [],
   "source": [
    "dzucorrnorm=exp.dznorm[exp.dznorm.muestra==name].dzcorrnorm.values"
   ]
  },
  {
   "cell_type": "code",
   "execution_count": 45,
   "id": "8f8c3e6a",
   "metadata": {},
   "outputs": [],
   "source": [
    "fpar, pcov=fitmu(f,bo_eff,dzucorrnorm,dpatron,sigma,name)"
   ]
  },
  {
   "cell_type": "code",
   "execution_count": 46,
   "id": "d4acd4a7",
   "metadata": {},
   "outputs": [
    {
     "data": {
      "text/plain": [
       "array([43.08456502])"
      ]
     },
     "execution_count": 46,
     "metadata": {},
     "output_type": "execute_result"
    }
   ],
   "source": [
    "fpar"
   ]
  },
  {
   "cell_type": "code",
   "execution_count": 10,
   "id": "0b9309f4",
   "metadata": {},
   "outputs": [
    {
     "data": {
      "text/html": [
       "<div>\n",
       "<style scoped>\n",
       "    .dataframe tbody tr th:only-of-type {\n",
       "        vertical-align: middle;\n",
       "    }\n",
       "\n",
       "    .dataframe tbody tr th {\n",
       "        vertical-align: top;\n",
       "    }\n",
       "\n",
       "    .dataframe thead th {\n",
       "        text-align: right;\n",
       "    }\n",
       "</style>\n",
       "<table border=\"1\" class=\"dataframe\">\n",
       "  <thead>\n",
       "    <tr style=\"text-align: right;\">\n",
       "      <th></th>\n",
       "      <th>archivo</th>\n",
       "      <th>conductividad</th>\n",
       "      <th>espesor</th>\n",
       "      <th>bobina</th>\n",
       "      <th>muestras</th>\n",
       "      <th>mueff</th>\n",
       "      <th>R2</th>\n",
       "    </tr>\n",
       "  </thead>\n",
       "  <tbody>\n",
       "    <tr>\n",
       "      <th>0</th>\n",
       "      <td>Exp_pp1_1010-M01.csv</td>\n",
       "      <td>3830000.00</td>\n",
       "      <td>0.06500</td>\n",
       "      <td>pp1</td>\n",
       "      <td>1010-M01</td>\n",
       "      <td>71.253101</td>\n",
       "      <td>0.983451</td>\n",
       "    </tr>\n",
       "    <tr>\n",
       "      <th>1</th>\n",
       "      <td>Exp_pp1_aire.csv</td>\n",
       "      <td>0.00</td>\n",
       "      <td>0.00000</td>\n",
       "      <td>pp1</td>\n",
       "      <td>aire</td>\n",
       "      <td>NaN</td>\n",
       "      <td>NaN</td>\n",
       "    </tr>\n",
       "    <tr>\n",
       "      <th>2</th>\n",
       "      <td>Exp_pp1_347-M02.csv</td>\n",
       "      <td>1118491.27</td>\n",
       "      <td>0.02340</td>\n",
       "      <td>pp1</td>\n",
       "      <td>347-M02</td>\n",
       "      <td>47.056389</td>\n",
       "      <td>0.976415</td>\n",
       "    </tr>\n",
       "    <tr>\n",
       "      <th>3</th>\n",
       "      <td>Exp_pp1_P057.csv</td>\n",
       "      <td>3948000.00</td>\n",
       "      <td>0.14957</td>\n",
       "      <td>pp1</td>\n",
       "      <td>P057</td>\n",
       "      <td>NaN</td>\n",
       "      <td>NaN</td>\n",
       "    </tr>\n",
       "  </tbody>\n",
       "</table>\n",
       "</div>"
      ],
      "text/plain": [
       "                archivo  conductividad  espesor bobina  muestras      mueff  \\\n",
       "0  Exp_pp1_1010-M01.csv     3830000.00  0.06500    pp1  1010-M01  71.253101   \n",
       "1      Exp_pp1_aire.csv           0.00  0.00000    pp1      aire        NaN   \n",
       "2   Exp_pp1_347-M02.csv     1118491.27  0.02340    pp1   347-M02  47.056389   \n",
       "3      Exp_pp1_P057.csv     3948000.00  0.14957    pp1      P057        NaN   \n",
       "\n",
       "         R2  \n",
       "0  0.983451  \n",
       "1       NaN  \n",
       "2  0.976415  \n",
       "3       NaN  "
      ]
     },
     "execution_count": 10,
     "metadata": {},
     "output_type": "execute_result"
    }
   ],
   "source": [
    "exp2.info"
   ]
  },
  {
   "cell_type": "code",
   "execution_count": 55,
   "id": "7822cea6",
   "metadata": {},
   "outputs": [],
   "source": [
    "i=2\n",
    "f2=exp2.f\n",
    "bo_eff2=exp2.coil\n",
    "dpatron2=exp2.info.espesor[i]\n",
    "sigma2=exp2.info.conductividad[i]\n",
    "name2=exp2.info.muestras[i]\n",
    "dzucorrnorm2=exp2.dznorm[exp2.dznorm.muestra==name2].dzcorrnorm.values\n",
    "fpar2, pcov2=fitmu(f2,bo_eff2,dzucorrnorm2,dpatron2,sigma2,name2)"
   ]
  },
  {
   "cell_type": "code",
   "execution_count": 12,
   "id": "0456f877",
   "metadata": {},
   "outputs": [],
   "source": [
    "import matplotlib.pyplot as plt"
   ]
  },
  {
   "cell_type": "code",
   "execution_count": 13,
   "id": "30671d13",
   "metadata": {},
   "outputs": [],
   "source": [
    "def plot_ci(fpar,pcov,fpar2,pcov2):\n",
    "    plt.figure(figsize=[8,2])\n",
    "    x11=fpar[0]-np.sqrt(pcov[0][0])\n",
    "    x12=fpar[0]+np.sqrt(pcov[0][0])\n",
    "    y1=1\n",
    "    x21=fpar2[0]-np.sqrt(pcov2[0][0])\n",
    "    x22=fpar2[0]+np.sqrt(pcov2[0][0])\n",
    "    y2=1\n",
    "    plt.plot([x11,x12],[y1,y1], linewidth=15, alpha=0.5, label='_nolegend_')\n",
    "    plt.plot([x21,x22],[y2,y2], linewidth=15, alpha=0.5, label='_nolegend_')\n",
    "    plt.plot(fpar[0],y1, 'ok')\n",
    "    plt.plot(fpar2[0],y2, 'vk')\n",
    "    plt.ylim([0,2])\n",
    "    plt.legend([str(fpar[0].round(2)),str(fpar2[0].round(2))])\n",
    "    #get current axes\n",
    "    ax = plt.gca()\n",
    "\n",
    "    #hide y-axis\n",
    "    ax.get_yaxis().set_visible(False)\n",
    "\n",
    "    "
   ]
  },
  {
   "cell_type": "code",
   "execution_count": 61,
   "id": "5d5bf62f",
   "metadata": {},
   "outputs": [],
   "source": [
    "def compare(exp1,exp2,muestra):\n",
    "    f=exp1.f\n",
    "    j=exp1.info[exp1.info.muestras == muestra].index.values[0]\n",
    "    bo_eff=exp1.coil\n",
    "    dpatron=exp1.info.espesor[j]\n",
    "    sigma=exp1.info.conductividad[j]\n",
    "    name=exp1.info.muestras[j]\n",
    "    dzucorrnorm=exp1.dznorm[exp1.dznorm.muestra==name].dzcorrnorm.values\n",
    "    f2=exp2.f\n",
    "    bo_eff2=exp2.coil\n",
    "    i=exp2.info[exp2.info.muestras == muestra].index.values[0]\n",
    "    dpatron2=exp2.info.espesor[i]\n",
    "    sigma2=exp2.info.conductividad[i]\n",
    "    name2=exp2.info.muestras[i]\n",
    "    dzucorrnorm2=exp2.dznorm[exp2.dznorm.muestra==name2].dzcorrnorm.values\n",
    "    fpar, pcov=fitmu(f,bo_eff,dzucorrnorm,dpatron,sigma,name)\n",
    "    fpar2, pcov2=fitmu(f2,bo_eff2,dzucorrnorm2,dpatron2,sigma2,name2)\n",
    "    plot_ci(fpar,pcov,fpar2,pcov2)"
   ]
  },
  {
   "cell_type": "code",
   "execution_count": 17,
   "id": "50304a7a",
   "metadata": {},
   "outputs": [],
   "source": [
    "# se solapan!"
   ]
  },
  {
   "cell_type": "code",
   "execution_count": 59,
   "id": "1b5e0f04",
   "metadata": {},
   "outputs": [
    {
     "data": {
      "image/png": "[encoded data removed]",
      "text/plain": [
       "<Figure size 576x144 with 1 Axes>"
      ]
     },
     "metadata": {
      "needs_background": "light"
     },
     "output_type": "display_data"
    }
   ],
   "source": [
    "muestra='347-M02'\n",
    "compare(exp,exp2,muestra)"
   ]
  },
  {
   "cell_type": "code",
   "execution_count": 60,
   "id": "23b536bf",
   "metadata": {},
   "outputs": [
    {
     "data": {
      "image/png": "[encoded data removed]",
      "text/plain": [
       "<Figure size 576x144 with 1 Axes>"
      ]
     },
     "metadata": {
      "needs_background": "light"
     },
     "output_type": "display_data"
    }
   ],
   "source": [
    "muestra='1010-M01'\n",
    "compare(exp,exp2,muestra)1234\n"
   ]
  },
  {
   "cell_type": "markdown",
   "id": "469c8e20",
   "metadata": {},
   "source": [
    "### Bootstrap resampling\n",
    "\n",
    "\n",
    "- Let $X$ denote your training dataset. Let $n$ denote the number of samples in your training data. Let $k$ denote the number of resampling iterations you want to perform. The more the better, but k should probably be no fewer than 1000.\n",
    "\n",
    "- for $i=1,2,…k$ take a random sample $X_i$ (with replacement) of size $n$ from $X$. Train your model and calculate your model paramters. Let $\\mu_i$ denote your fitted parameters trained on the ith resampled data set.\n",
    "\n",
    "- You can now calculate confidence intervals by determining the quantiles of $\\hat{\\mu} =[ \\mu_0,\\mu_1,\\mu_2,...\\mu_k]$ \n",
    "\n",
    "For example, to obtain a 95% confidence interval, calculate the 2.5% and 97.5% quantiles of $\\hat{\\mu}$.\n",
    "\n",
    "    [1]Reference: Chapters seven and eight of 'The Elements of Statistical Learning'\n",
    "    \n",
    "La funcion es:    \n",
    "    \n",
    "```\n",
    "    mu(f,bo_eff,dzucorrnorm,dpatron,sigma, name)\n",
    "```\n",
    "\n",
    "Podemos ajustar mu bootstrapeando dzcorrnorm"
   ]
  },
  {
   "cell_type": "code",
   "execution_count": 20,
   "id": "8be16d0d",
   "metadata": {},
   "outputs": [
    {
     "data": {
      "text/html": [
       "<div>\n",
       "<style scoped>\n",
       "    .dataframe tbody tr th:only-of-type {\n",
       "        vertical-align: middle;\n",
       "    }\n",
       "\n",
       "    .dataframe tbody tr th {\n",
       "        vertical-align: top;\n",
       "    }\n",
       "\n",
       "    .dataframe thead th {\n",
       "        text-align: right;\n",
       "    }\n",
       "</style>\n",
       "<table border=\"1\" class=\"dataframe\">\n",
       "  <thead>\n",
       "    <tr style=\"text-align: right;\">\n",
       "      <th></th>\n",
       "      <th>archivo</th>\n",
       "      <th>conductividad</th>\n",
       "      <th>espesor</th>\n",
       "      <th>bobina</th>\n",
       "      <th>muestras</th>\n",
       "      <th>mueff</th>\n",
       "      <th>R2</th>\n",
       "    </tr>\n",
       "  </thead>\n",
       "  <tbody>\n",
       "    <tr>\n",
       "      <th>0</th>\n",
       "      <td>Exp_m1_347-M02.csv</td>\n",
       "      <td>1118491.27</td>\n",
       "      <td>0.02340</td>\n",
       "      <td>m1</td>\n",
       "      <td>347-M02</td>\n",
       "      <td>43.084565</td>\n",
       "      <td>0.983903</td>\n",
       "    </tr>\n",
       "    <tr>\n",
       "      <th>1</th>\n",
       "      <td>Exp_m1_1010-M01_m1.csv</td>\n",
       "      <td>3830000.00</td>\n",
       "      <td>0.06500</td>\n",
       "      <td>m1</td>\n",
       "      <td>1010-M01</td>\n",
       "      <td>65.333505</td>\n",
       "      <td>0.983925</td>\n",
       "    </tr>\n",
       "    <tr>\n",
       "      <th>2</th>\n",
       "      <td>Exp_m1_aire.csv</td>\n",
       "      <td>0.00</td>\n",
       "      <td>0.00000</td>\n",
       "      <td>m1</td>\n",
       "      <td>aire</td>\n",
       "      <td>NaN</td>\n",
       "      <td>NaN</td>\n",
       "    </tr>\n",
       "    <tr>\n",
       "      <th>3</th>\n",
       "      <td>Exp_m1_P057.csv</td>\n",
       "      <td>3948000.00</td>\n",
       "      <td>0.14957</td>\n",
       "      <td>m1</td>\n",
       "      <td>P057</td>\n",
       "      <td>NaN</td>\n",
       "      <td>NaN</td>\n",
       "    </tr>\n",
       "  </tbody>\n",
       "</table>\n",
       "</div>"
      ],
      "text/plain": [
       "                  archivo  conductividad  espesor bobina  muestras      mueff  \\\n",
       "0      Exp_m1_347-M02.csv     1118491.27  0.02340     m1   347-M02  43.084565   \n",
       "1  Exp_m1_1010-M01_m1.csv     3830000.00  0.06500     m1  1010-M01  65.333505   \n",
       "2         Exp_m1_aire.csv           0.00  0.00000     m1      aire        NaN   \n",
       "3         Exp_m1_P057.csv     3948000.00  0.14957     m1      P057        NaN   \n",
       "\n",
       "         R2  \n",
       "0  0.983903  \n",
       "1  0.983925  \n",
       "2       NaN  \n",
       "3       NaN  "
      ]
     },
     "execution_count": 20,
     "metadata": {},
     "output_type": "execute_result"
    }
   ],
   "source": [
    "exp.info"
   ]
  },
  {
   "cell_type": "code",
   "execution_count": 21,
   "id": "1b050114",
   "metadata": {},
   "outputs": [
    {
     "data": {
      "text/html": [
       "<div>\n",
       "<style scoped>\n",
       "    .dataframe tbody tr th:only-of-type {\n",
       "        vertical-align: middle;\n",
       "    }\n",
       "\n",
       "    .dataframe tbody tr th {\n",
       "        vertical-align: top;\n",
       "    }\n",
       "\n",
       "    .dataframe thead th {\n",
       "        text-align: right;\n",
       "    }\n",
       "</style>\n",
       "<table border=\"1\" class=\"dataframe\">\n",
       "  <thead>\n",
       "    <tr style=\"text-align: right;\">\n",
       "      <th></th>\n",
       "      <th>f</th>\n",
       "      <th>muestra</th>\n",
       "      <th>dzcorrnorm</th>\n",
       "      <th>imag</th>\n",
       "      <th>real</th>\n",
       "    </tr>\n",
       "  </thead>\n",
       "  <tbody>\n",
       "    <tr>\n",
       "      <th>0</th>\n",
       "      <td>100.0000</td>\n",
       "      <td>347-M02</td>\n",
       "      <td>-0.103694+0.104691j</td>\n",
       "      <td>0.104691</td>\n",
       "      <td>-0.103694</td>\n",
       "    </tr>\n",
       "    <tr>\n",
       "      <th>1</th>\n",
       "      <td>125.8925</td>\n",
       "      <td>347-M02</td>\n",
       "      <td>-0.081795+0.106285j</td>\n",
       "      <td>0.106285</td>\n",
       "      <td>-0.081795</td>\n",
       "    </tr>\n",
       "    <tr>\n",
       "      <th>2</th>\n",
       "      <td>158.4893</td>\n",
       "      <td>347-M02</td>\n",
       "      <td>-0.064692+0.109922j</td>\n",
       "      <td>0.109922</td>\n",
       "      <td>-0.064692</td>\n",
       "    </tr>\n",
       "    <tr>\n",
       "      <th>3</th>\n",
       "      <td>199.5262</td>\n",
       "      <td>347-M02</td>\n",
       "      <td>-0.051708+0.107111j</td>\n",
       "      <td>0.107111</td>\n",
       "      <td>-0.051708</td>\n",
       "    </tr>\n",
       "    <tr>\n",
       "      <th>4</th>\n",
       "      <td>251.1886</td>\n",
       "      <td>347-M02</td>\n",
       "      <td>-0.040501+0.105857j</td>\n",
       "      <td>0.105857</td>\n",
       "      <td>-0.040501</td>\n",
       "    </tr>\n",
       "    <tr>\n",
       "      <th>...</th>\n",
       "      <td>...</td>\n",
       "      <td>...</td>\n",
       "      <td>...</td>\n",
       "      <td>...</td>\n",
       "      <td>...</td>\n",
       "    </tr>\n",
       "    <tr>\n",
       "      <th>118</th>\n",
       "      <td>398107.2000</td>\n",
       "      <td>P057</td>\n",
       "      <td>0.019866-0.093461j</td>\n",
       "      <td>-0.093461</td>\n",
       "      <td>0.019866</td>\n",
       "    </tr>\n",
       "    <tr>\n",
       "      <th>119</th>\n",
       "      <td>501187.3000</td>\n",
       "      <td>P057</td>\n",
       "      <td>0.018207-0.095853j</td>\n",
       "      <td>-0.095853</td>\n",
       "      <td>0.018207</td>\n",
       "    </tr>\n",
       "    <tr>\n",
       "      <th>120</th>\n",
       "      <td>630957.3000</td>\n",
       "      <td>P057</td>\n",
       "      <td>0.017107-0.098689j</td>\n",
       "      <td>-0.098689</td>\n",
       "      <td>0.017107</td>\n",
       "    </tr>\n",
       "    <tr>\n",
       "      <th>121</th>\n",
       "      <td>794328.3000</td>\n",
       "      <td>P057</td>\n",
       "      <td>0.016394-0.101772j</td>\n",
       "      <td>-0.101772</td>\n",
       "      <td>0.016394</td>\n",
       "    </tr>\n",
       "    <tr>\n",
       "      <th>122</th>\n",
       "      <td>1000000.0000</td>\n",
       "      <td>P057</td>\n",
       "      <td>0.016374-0.105524j</td>\n",
       "      <td>-0.105524</td>\n",
       "      <td>0.016374</td>\n",
       "    </tr>\n",
       "  </tbody>\n",
       "</table>\n",
       "<p>123 rows × 5 columns</p>\n",
       "</div>"
      ],
      "text/plain": [
       "                f  muestra          dzcorrnorm      imag      real\n",
       "0        100.0000  347-M02 -0.103694+0.104691j  0.104691 -0.103694\n",
       "1        125.8925  347-M02 -0.081795+0.106285j  0.106285 -0.081795\n",
       "2        158.4893  347-M02 -0.064692+0.109922j  0.109922 -0.064692\n",
       "3        199.5262  347-M02 -0.051708+0.107111j  0.107111 -0.051708\n",
       "4        251.1886  347-M02 -0.040501+0.105857j  0.105857 -0.040501\n",
       "..            ...      ...                 ...       ...       ...\n",
       "118   398107.2000     P057  0.019866-0.093461j -0.093461  0.019866\n",
       "119   501187.3000     P057  0.018207-0.095853j -0.095853  0.018207\n",
       "120   630957.3000     P057  0.017107-0.098689j -0.098689  0.017107\n",
       "121   794328.3000     P057  0.016394-0.101772j -0.101772  0.016394\n",
       "122  1000000.0000     P057  0.016374-0.105524j -0.105524  0.016374\n",
       "\n",
       "[123 rows x 5 columns]"
      ]
     },
     "execution_count": 21,
     "metadata": {},
     "output_type": "execute_result"
    }
   ],
   "source": [
    "exp.dznorm"
   ]
  },
  {
   "cell_type": "code",
   "execution_count": 35,
   "id": "11ac638e",
   "metadata": {},
   "outputs": [],
   "source": [
    "# quiero corregir y normalizar repeticiones individualmente"
   ]
  },
  {
   "cell_type": "code",
   "execution_count": 22,
   "id": "72dd1f31",
   "metadata": {},
   "outputs": [
    {
     "data": {
      "text/html": [
       "<div>\n",
       "<style scoped>\n",
       "    .dataframe tbody tr th:only-of-type {\n",
       "        vertical-align: middle;\n",
       "    }\n",
       "\n",
       "    .dataframe tbody tr th {\n",
       "        vertical-align: top;\n",
       "    }\n",
       "\n",
       "    .dataframe thead th {\n",
       "        text-align: right;\n",
       "    }\n",
       "</style>\n",
       "<table border=\"1\" class=\"dataframe\">\n",
       "  <thead>\n",
       "    <tr style=\"text-align: right;\">\n",
       "      <th></th>\n",
       "      <th>archivo</th>\n",
       "      <th>conductividad</th>\n",
       "      <th>espesor</th>\n",
       "      <th>bobina</th>\n",
       "      <th>muestras</th>\n",
       "      <th>mueff</th>\n",
       "      <th>R2</th>\n",
       "    </tr>\n",
       "  </thead>\n",
       "  <tbody>\n",
       "    <tr>\n",
       "      <th>0</th>\n",
       "      <td>Exp_m1_347-M02.csv</td>\n",
       "      <td>1118491.27</td>\n",
       "      <td>0.02340</td>\n",
       "      <td>m1</td>\n",
       "      <td>347-M02</td>\n",
       "      <td>43.084565</td>\n",
       "      <td>0.983903</td>\n",
       "    </tr>\n",
       "    <tr>\n",
       "      <th>1</th>\n",
       "      <td>Exp_m1_1010-M01_m1.csv</td>\n",
       "      <td>3830000.00</td>\n",
       "      <td>0.06500</td>\n",
       "      <td>m1</td>\n",
       "      <td>1010-M01</td>\n",
       "      <td>65.333505</td>\n",
       "      <td>0.983925</td>\n",
       "    </tr>\n",
       "    <tr>\n",
       "      <th>2</th>\n",
       "      <td>Exp_m1_aire.csv</td>\n",
       "      <td>0.00</td>\n",
       "      <td>0.00000</td>\n",
       "      <td>m1</td>\n",
       "      <td>aire</td>\n",
       "      <td>NaN</td>\n",
       "      <td>NaN</td>\n",
       "    </tr>\n",
       "    <tr>\n",
       "      <th>3</th>\n",
       "      <td>Exp_m1_P057.csv</td>\n",
       "      <td>3948000.00</td>\n",
       "      <td>0.14957</td>\n",
       "      <td>m1</td>\n",
       "      <td>P057</td>\n",
       "      <td>NaN</td>\n",
       "      <td>NaN</td>\n",
       "    </tr>\n",
       "  </tbody>\n",
       "</table>\n",
       "</div>"
      ],
      "text/plain": [
       "                  archivo  conductividad  espesor bobina  muestras      mueff  \\\n",
       "0      Exp_m1_347-M02.csv     1118491.27  0.02340     m1   347-M02  43.084565   \n",
       "1  Exp_m1_1010-M01_m1.csv     3830000.00  0.06500     m1  1010-M01  65.333505   \n",
       "2         Exp_m1_aire.csv           0.00  0.00000     m1      aire        NaN   \n",
       "3         Exp_m1_P057.csv     3948000.00  0.14957     m1      P057        NaN   \n",
       "\n",
       "         R2  \n",
       "0  0.983903  \n",
       "1  0.983925  \n",
       "2       NaN  \n",
       "3       NaN  "
      ]
     },
     "execution_count": 22,
     "metadata": {},
     "output_type": "execute_result"
    }
   ],
   "source": [
    "exp.info"
   ]
  },
  {
   "cell_type": "code",
   "execution_count": 23,
   "id": "7fafcd5c",
   "metadata": {},
   "outputs": [],
   "source": [
    "muestra='1010-M01'\n",
    "indice_muestra=1\n",
    "zus=[]\n",
    "for r in range(1,12):\n",
    "    repeticion=r\n",
    " \n",
    "    df_muestra=exp.data[indice_muestra]\n",
    "    df_repeticion=df_muestra[df_muestra.repeticion == repeticion]\n",
    "    zu=df_repeticion.real.values + 1j*df_repeticion.imag.values\n",
    "    zus.append(zu)\n"
   ]
  },
  {
   "cell_type": "code",
   "execution_count": 24,
   "id": "6f1229f6",
   "metadata": {
    "scrolled": true
   },
   "outputs": [
    {
     "data": {
      "text/plain": [
       "[<matplotlib.lines.Line2D at 0x7f81d912e350>]"
      ]
     },
     "execution_count": 24,
     "metadata": {},
     "output_type": "execute_result"
    },
    {
     "data": {
      "image/png": "[encoded data removed]",
      "text/plain": [
       "<Figure size 432x288 with 1 Axes>"
      ]
     },
     "metadata": {
      "needs_background": "light"
     },
     "output_type": "display_data"
    }
   ],
   "source": [
    "import matplotlib.pyplot as plt\n",
    "\n",
    "plt.semilogx(exp.f,(np.array(zus).mean(axis=0).imag-exp.za.imag)/exp.za.imag,'ok')\n",
    "plt.semilogx(exp.f,exp.dznorm[exp.dznorm.muestra==muestra].imag,'-r')"
   ]
  },
  {
   "cell_type": "code",
   "execution_count": 25,
   "id": "30e9faf5",
   "metadata": {
    "scrolled": true
   },
   "outputs": [
    {
     "data": {
      "text/html": [
       "<div>\n",
       "<style scoped>\n",
       "    .dataframe tbody tr th:only-of-type {\n",
       "        vertical-align: middle;\n",
       "    }\n",
       "\n",
       "    .dataframe tbody tr th {\n",
       "        vertical-align: top;\n",
       "    }\n",
       "\n",
       "    .dataframe thead th {\n",
       "        text-align: right;\n",
       "    }\n",
       "</style>\n",
       "<table border=\"1\" class=\"dataframe\">\n",
       "  <thead>\n",
       "    <tr style=\"text-align: right;\">\n",
       "      <th></th>\n",
       "      <th>archivo</th>\n",
       "      <th>conductividad</th>\n",
       "      <th>espesor</th>\n",
       "      <th>bobina</th>\n",
       "      <th>muestras</th>\n",
       "      <th>mueff</th>\n",
       "      <th>R2</th>\n",
       "    </tr>\n",
       "  </thead>\n",
       "  <tbody>\n",
       "    <tr>\n",
       "      <th>0</th>\n",
       "      <td>Exp_m1_347-M02.csv</td>\n",
       "      <td>1118491.27</td>\n",
       "      <td>0.02340</td>\n",
       "      <td>m1</td>\n",
       "      <td>347-M02</td>\n",
       "      <td>43.084565</td>\n",
       "      <td>0.983903</td>\n",
       "    </tr>\n",
       "    <tr>\n",
       "      <th>1</th>\n",
       "      <td>Exp_m1_1010-M01_m1.csv</td>\n",
       "      <td>3830000.00</td>\n",
       "      <td>0.06500</td>\n",
       "      <td>m1</td>\n",
       "      <td>1010-M01</td>\n",
       "      <td>65.333505</td>\n",
       "      <td>0.983925</td>\n",
       "    </tr>\n",
       "    <tr>\n",
       "      <th>2</th>\n",
       "      <td>Exp_m1_aire.csv</td>\n",
       "      <td>0.00</td>\n",
       "      <td>0.00000</td>\n",
       "      <td>m1</td>\n",
       "      <td>aire</td>\n",
       "      <td>NaN</td>\n",
       "      <td>NaN</td>\n",
       "    </tr>\n",
       "    <tr>\n",
       "      <th>3</th>\n",
       "      <td>Exp_m1_P057.csv</td>\n",
       "      <td>3948000.00</td>\n",
       "      <td>0.14957</td>\n",
       "      <td>m1</td>\n",
       "      <td>P057</td>\n",
       "      <td>NaN</td>\n",
       "      <td>NaN</td>\n",
       "    </tr>\n",
       "  </tbody>\n",
       "</table>\n",
       "</div>"
      ],
      "text/plain": [
       "                  archivo  conductividad  espesor bobina  muestras      mueff  \\\n",
       "0      Exp_m1_347-M02.csv     1118491.27  0.02340     m1   347-M02  43.084565   \n",
       "1  Exp_m1_1010-M01_m1.csv     3830000.00  0.06500     m1  1010-M01  65.333505   \n",
       "2         Exp_m1_aire.csv           0.00  0.00000     m1      aire        NaN   \n",
       "3         Exp_m1_P057.csv     3948000.00  0.14957     m1      P057        NaN   \n",
       "\n",
       "         R2  \n",
       "0  0.983903  \n",
       "1  0.983925  \n",
       "2       NaN  \n",
       "3       NaN  "
      ]
     },
     "execution_count": 25,
     "metadata": {},
     "output_type": "execute_result"
    }
   ],
   "source": [
    "exp.info"
   ]
  },
  {
   "cell_type": "code",
   "execution_count": 32,
   "id": "422b1a1b",
   "metadata": {},
   "outputs": [
    {
     "name": "stdout",
     "output_type": "stream",
     "text": [
      "1 43.72615507829536 3.0 %\n",
      "2 42.87473105025235 3.0 %\n",
      "3 43.09246990512072 4.0 %\n",
      "4 42.03177294677831 4.0 %\n",
      "5 42.72577592774194 3.0 %\n",
      "6 42.41989686759756 3.0 %\n",
      "7 43.59277406987629 4.0 %\n",
      "8 42.240819143731635 5.0 %\n",
      "9 43.938075850949375 4.0 %\n",
      "10 43.26406858277084 4.0 %\n",
      "11 44.79350107169607 3.0 %\n"
     ]
    }
   ],
   "source": [
    "i=0\n",
    "muestra='347-M02'\n",
    "mues1=[]\n",
    "for r in range(1,12):\n",
    "    repeticion=r\n",
    "    f=exp.f\n",
    "    bo_eff=exp.coil\n",
    "    dpatron=exp.info.espesor[i]\n",
    "    sigma=exp.info.conductividad[i]\n",
    "    name=exp.info.muestras[i]\n",
    "    dzucorrnorm=ci.so.corrnorm(exp,muestra,repeticion)\n",
    "    fpar, pcov=fitmu(f,bo_eff,dzucorrnorm,dpatron,sigma,name)\n",
    "    mues1.append(fpar)\n",
    "    print(r,fpar[0],np.round(100*np.sqrt(pcov)[0][0]/fpar[0]),'%')"
   ]
  },
  {
   "cell_type": "code",
   "execution_count": 29,
   "id": "d19553d9",
   "metadata": {},
   "outputs": [
    {
     "data": {
      "text/html": [
       "<div>\n",
       "<style scoped>\n",
       "    .dataframe tbody tr th:only-of-type {\n",
       "        vertical-align: middle;\n",
       "    }\n",
       "\n",
       "    .dataframe tbody tr th {\n",
       "        vertical-align: top;\n",
       "    }\n",
       "\n",
       "    .dataframe thead th {\n",
       "        text-align: right;\n",
       "    }\n",
       "</style>\n",
       "<table border=\"1\" class=\"dataframe\">\n",
       "  <thead>\n",
       "    <tr style=\"text-align: right;\">\n",
       "      <th></th>\n",
       "      <th>archivo</th>\n",
       "      <th>conductividad</th>\n",
       "      <th>espesor</th>\n",
       "      <th>bobina</th>\n",
       "      <th>muestras</th>\n",
       "      <th>mueff</th>\n",
       "      <th>R2</th>\n",
       "    </tr>\n",
       "  </thead>\n",
       "  <tbody>\n",
       "    <tr>\n",
       "      <th>0</th>\n",
       "      <td>Exp_pp1_1010-M01.csv</td>\n",
       "      <td>3830000.00</td>\n",
       "      <td>0.06500</td>\n",
       "      <td>pp1</td>\n",
       "      <td>1010-M01</td>\n",
       "      <td>71.253101</td>\n",
       "      <td>0.983451</td>\n",
       "    </tr>\n",
       "    <tr>\n",
       "      <th>1</th>\n",
       "      <td>Exp_pp1_aire.csv</td>\n",
       "      <td>0.00</td>\n",
       "      <td>0.00000</td>\n",
       "      <td>pp1</td>\n",
       "      <td>aire</td>\n",
       "      <td>NaN</td>\n",
       "      <td>NaN</td>\n",
       "    </tr>\n",
       "    <tr>\n",
       "      <th>2</th>\n",
       "      <td>Exp_pp1_347-M02.csv</td>\n",
       "      <td>1118491.27</td>\n",
       "      <td>0.02340</td>\n",
       "      <td>pp1</td>\n",
       "      <td>347-M02</td>\n",
       "      <td>47.056389</td>\n",
       "      <td>0.976415</td>\n",
       "    </tr>\n",
       "    <tr>\n",
       "      <th>3</th>\n",
       "      <td>Exp_pp1_P057.csv</td>\n",
       "      <td>3948000.00</td>\n",
       "      <td>0.14957</td>\n",
       "      <td>pp1</td>\n",
       "      <td>P057</td>\n",
       "      <td>NaN</td>\n",
       "      <td>NaN</td>\n",
       "    </tr>\n",
       "  </tbody>\n",
       "</table>\n",
       "</div>"
      ],
      "text/plain": [
       "                archivo  conductividad  espesor bobina  muestras      mueff  \\\n",
       "0  Exp_pp1_1010-M01.csv     3830000.00  0.06500    pp1  1010-M01  71.253101   \n",
       "1      Exp_pp1_aire.csv           0.00  0.00000    pp1      aire        NaN   \n",
       "2   Exp_pp1_347-M02.csv     1118491.27  0.02340    pp1   347-M02  47.056389   \n",
       "3      Exp_pp1_P057.csv     3948000.00  0.14957    pp1      P057        NaN   \n",
       "\n",
       "         R2  \n",
       "0  0.983451  \n",
       "1       NaN  \n",
       "2  0.976415  \n",
       "3       NaN  "
      ]
     },
     "execution_count": 29,
     "metadata": {},
     "output_type": "execute_result"
    }
   ],
   "source": [
    "exp2.info"
   ]
  },
  {
   "cell_type": "code",
   "execution_count": 31,
   "id": "1e14b385",
   "metadata": {},
   "outputs": [
    {
     "name": "stdout",
     "output_type": "stream",
     "text": [
      "1 46.02816296732667 6.0 %\n",
      "2 46.39199301502737 5.0 %\n",
      "3 47.50554634029756 6.0 %\n",
      "4 48.025232737558284 6.0 %\n",
      "5 47.169937601554466 6.0 %\n",
      "6 48.23793940756696 6.0 %\n",
      "7 46.74375823924665 6.0 %\n",
      "8 46.27833856394814 6.0 %\n",
      "9 48.11828712403737 6.0 %\n",
      "10 46.15254344912544 6.0 %\n",
      "11 46.48660202526401 6.0 %\n"
     ]
    }
   ],
   "source": [
    "i=2\n",
    "muestra='347-M02'\n",
    "mues2=[]\n",
    "for r in range(1,12):\n",
    "    repeticion=r\n",
    "    f=exp2.f\n",
    "    bo_eff=exp2.coil\n",
    "    dpatron=exp2.info.espesor[i]\n",
    "    sigma=exp2.info.conductividad[i]\n",
    "    name=exp2.info.muestras[i]\n",
    "    dzucorrnorm=ci.so.corrnorm(exp2,muestra,repeticion)\n",
    "    fpar, pcov=fitmu(f,bo_eff,dzucorrnorm,dpatron,sigma,name)\n",
    "    mues2.append(fpar)\n",
    "    print(r,fpar[0],np.round(100*np.sqrt(pcov)[0][0]/fpar[0]),'%')"
   ]
  },
  {
   "cell_type": "code",
   "execution_count": 33,
   "id": "bbfb76b5",
   "metadata": {},
   "outputs": [],
   "source": [
    "mu2=np.array(mues2)"
   ]
  },
  {
   "cell_type": "code",
   "execution_count": 34,
   "id": "c3fa0323",
   "metadata": {},
   "outputs": [],
   "source": [
    "mu1=np.array(mues1)"
   ]
  },
  {
   "cell_type": "code",
   "execution_count": 35,
   "id": "b8e63c48",
   "metadata": {},
   "outputs": [
    {
     "data": {
      "text/plain": [
       "43.15454913589186"
      ]
     },
     "execution_count": 35,
     "metadata": {},
     "output_type": "execute_result"
    }
   ],
   "source": [
    "mu1.mean()"
   ]
  },
  {
   "cell_type": "code",
   "execution_count": 36,
   "id": "a9f7d0d8",
   "metadata": {},
   "outputs": [
    {
     "data": {
      "text/plain": [
       "47.012576497359355"
      ]
     },
     "execution_count": 36,
     "metadata": {},
     "output_type": "execute_result"
    }
   ],
   "source": [
    "mu2.mean()"
   ]
  },
  {
   "cell_type": "code",
   "execution_count": 37,
   "id": "28764c5c",
   "metadata": {},
   "outputs": [
    {
     "data": {
      "text/plain": [
       "0.7976803381393354"
      ]
     },
     "execution_count": 37,
     "metadata": {},
     "output_type": "execute_result"
    }
   ],
   "source": [
    "mu2.std()"
   ]
  },
  {
   "cell_type": "code",
   "execution_count": 39,
   "id": "1c548735",
   "metadata": {},
   "outputs": [
    {
     "data": {
      "text/plain": [
       "0.7823093899231489"
      ]
     },
     "execution_count": 39,
     "metadata": {},
     "output_type": "execute_result"
    }
   ],
   "source": [
    "mu1.std()"
   ]
  },
  {
   "cell_type": "code",
   "execution_count": 41,
   "id": "824b73e1",
   "metadata": {},
   "outputs": [],
   "source": [
    "def plot_ci2(fpar,pcov,fpar2,pcov2):\n",
    "    plt.figure(figsize=[8,2])\n",
    "    x11=fpar-np.sqrt(pcov)\n",
    "    x12=fpar+np.sqrt(pcov)\n",
    "    y1=1\n",
    "    x21=fpar2-np.sqrt(pcov2)\n",
    "    x22=fpar2+np.sqrt(pcov2)\n",
    "    y2=1\n",
    "    plt.plot([x11,x12],[y1,y1], linewidth=15, alpha=0.5, label='_nolegend_')\n",
    "    plt.plot([x21,x22],[y2,y2], linewidth=15, alpha=0.5, label='_nolegend_')\n",
    "    plt.plot(fpar,y1, 'ok')\n",
    "    plt.plot(fpar2,y2, 'vk')\n",
    "    plt.ylim([0,2])\n",
    "    plt.legend([str(fpar.round(2)),str(fpar2.round(2))])\n",
    "    #get current axes\n",
    "    ax = plt.gca()\n",
    "\n",
    "    #hide y-axis\n",
    "    ax.get_yaxis().set_visible(False)   "
   ]
  },
  {
   "cell_type": "code",
   "execution_count": 42,
   "id": "8acb2927",
   "metadata": {},
   "outputs": [
    {
     "data": {
      "image/png": "[encoded data removed]",
      "text/plain": [
       "<Figure size 576x144 with 1 Axes>"
      ]
     },
     "metadata": {
      "needs_background": "light"
     },
     "output_type": "display_data"
    }
   ],
   "source": [
    "plot_ci2(mu1.mean(),mu1.std(),mu2.mean(),mu2.std())"
   ]
  },
  {
   "cell_type": "code",
   "execution_count": null,
   "id": "4ef25d69",
   "metadata": {},
   "outputs": [],
   "source": []
  },
  {
   "cell_type": "code",
   "execution_count": null,
   "id": "9244aebb",
   "metadata": {},
   "outputs": [],
   "source": []
  },
  {
   "cell_type": "code",
   "execution_count": 141,
   "id": "305dfeb5",
   "metadata": {},
   "outputs": [],
   "source": [
    "def load(exp,separador=';'):\n",
    "    folder_path=exp.path\n",
    "    filepaths=exp.info.archivo.values\n",
    "\n",
    "    #hay que remplazar por diccionario se mezclan los datos.\n",
    "    data=list()\n",
    "    for k,filepath in enumerate(filepaths):\n",
    "        if ('info' not in filepath) & ('csv' in filepath):\n",
    "            df=read(folder_path+'/'+filepath,separador)\n",
    "            dfci=DataFrameCI(filename=filepath,bobina=exp.bobina,data=df)\n",
    "            data.append(dfci) \n",
    "    return data  "
   ]
  },
  {
   "cell_type": "code",
   "execution_count": 143,
   "id": "4388463e",
   "metadata": {},
   "outputs": [],
   "source": [
    "data=load(exp)"
   ]
  },
  {
   "cell_type": "code",
   "execution_count": 145,
   "id": "1130685b",
   "metadata": {},
   "outputs": [
    {
     "data": {
      "text/plain": [
       "'Exp_m1_347-M02.csv'"
      ]
     },
     "execution_count": 145,
     "metadata": {},
     "output_type": "execute_result"
    }
   ],
   "source": [
    "data[0].filename"
   ]
  },
  {
   "cell_type": "code",
   "execution_count": 147,
   "id": "0c5dbba6",
   "metadata": {},
   "outputs": [
    {
     "data": {
      "text/html": [
       "<div>\n",
       "<style scoped>\n",
       "    .dataframe tbody tr th:only-of-type {\n",
       "        vertical-align: middle;\n",
       "    }\n",
       "\n",
       "    .dataframe tbody tr th {\n",
       "        vertical-align: top;\n",
       "    }\n",
       "\n",
       "    .dataframe thead th {\n",
       "        text-align: right;\n",
       "    }\n",
       "</style>\n",
       "<table border=\"1\" class=\"dataframe\">\n",
       "  <thead>\n",
       "    <tr style=\"text-align: right;\">\n",
       "      <th></th>\n",
       "      <th>archivo</th>\n",
       "      <th>conductividad</th>\n",
       "      <th>espesor</th>\n",
       "      <th>bobina</th>\n",
       "      <th>muestras</th>\n",
       "      <th>mueff</th>\n",
       "      <th>R2</th>\n",
       "    </tr>\n",
       "  </thead>\n",
       "  <tbody>\n",
       "    <tr>\n",
       "      <th>0</th>\n",
       "      <td>Exp_m1_347-M02.csv</td>\n",
       "      <td>1118491.27</td>\n",
       "      <td>0.02340</td>\n",
       "      <td>m1</td>\n",
       "      <td>347-M02</td>\n",
       "      <td>43.252651</td>\n",
       "      <td>0.985932</td>\n",
       "    </tr>\n",
       "    <tr>\n",
       "      <th>1</th>\n",
       "      <td>Exp_m1_1010-M01_m1.csv</td>\n",
       "      <td>3830000.00</td>\n",
       "      <td>0.06500</td>\n",
       "      <td>m1</td>\n",
       "      <td>1010-M01</td>\n",
       "      <td>65.639909</td>\n",
       "      <td>0.984095</td>\n",
       "    </tr>\n",
       "    <tr>\n",
       "      <th>2</th>\n",
       "      <td>Exp_m1_aire.csv</td>\n",
       "      <td>0.00</td>\n",
       "      <td>0.00000</td>\n",
       "      <td>m1</td>\n",
       "      <td>aire</td>\n",
       "      <td>NaN</td>\n",
       "      <td>NaN</td>\n",
       "    </tr>\n",
       "    <tr>\n",
       "      <th>3</th>\n",
       "      <td>Exp_m1_P057.csv</td>\n",
       "      <td>3948000.00</td>\n",
       "      <td>0.14957</td>\n",
       "      <td>m1</td>\n",
       "      <td>P057</td>\n",
       "      <td>NaN</td>\n",
       "      <td>NaN</td>\n",
       "    </tr>\n",
       "  </tbody>\n",
       "</table>\n",
       "</div>"
      ],
      "text/plain": [
       "                  archivo  conductividad  espesor bobina  muestras      mueff  \\\n",
       "0      Exp_m1_347-M02.csv     1118491.27  0.02340     m1   347-M02  43.252651   \n",
       "1  Exp_m1_1010-M01_m1.csv     3830000.00  0.06500     m1  1010-M01  65.639909   \n",
       "2         Exp_m1_aire.csv           0.00  0.00000     m1      aire        NaN   \n",
       "3         Exp_m1_P057.csv     3948000.00  0.14957     m1      P057        NaN   \n",
       "\n",
       "         R2  \n",
       "0  0.985932  \n",
       "1  0.984095  \n",
       "2       NaN  \n",
       "3       NaN  "
      ]
     },
     "execution_count": 147,
     "metadata": {},
     "output_type": "execute_result"
    }
   ],
   "source": [
    "exp.info"
   ]
  },
  {
   "cell_type": "code",
   "execution_count": 94,
   "id": "880174d6",
   "metadata": {},
   "outputs": [],
   "source": [
    "def stats_dict(exp):\n",
    "    ''' excluyendo la primer repeticion para cada muestra devuelve lista de valores medios por f y sus desvios'''\n",
    "    data_mean={}\n",
    "    data_std={}\n",
    "    data_test={}\n",
    "\n",
    "    for m,datamuestra_m in enumerate(exp.data):\n",
    "        #excluimos la primer repeticion\n",
    "        filename=datamuestra_m.filename\n",
    "        name=exp.info[exp.info.archivo==filename].muestras.values[0]\n",
    "\n",
    "        df=datamuestra_m[datamuestra_m.repeticion != 1 ]\n",
    "        #separamos de manera aleatoria un valor de impedancia para cada frecuencia\n",
    "        df_test=df.groupby('f').sample(1)\n",
    "\n",
    "        #boramos del dataset original esos valores\n",
    "        df.loc[df_test.index,'imag']=np.nan\n",
    "        #calculamos mean y std \n",
    "        \n",
    "        real_mean=df.groupby('f')['real'].mean().values\n",
    "        imag_mean=df.groupby('f')['imag'].mean().values\n",
    "        real_std=df.groupby('f')['real'].std().values\n",
    "        imag_std=df.groupby('f')['imag'].std().values\n",
    "\n",
    "        data_mean[name]=real_mean+1j*imag_mean\n",
    "        data_std[name]=real_std+1j*imag_std\n",
    "        data_test[name]=df_test\n",
    "\n",
    "    return data_mean,data_std,data_test\n",
    "\n",
    "\n",
    "\n",
    "def corrnorm(exp,muestra,repeticion):\n",
    "    data_mean,data_std,data_test=stats_dict(exp)\n",
    "    w=np.pi*2*exp.f\n",
    "    z0=exp.bobina['R0']+1j*w*exp.bobina['L0']\n",
    "    x0=w*exp.bobina['L0']  \n",
    "    try:\n",
    "        # correccion muestras\n",
    "        za=data_mean['aire']\n",
    "        indice_muestra=exp.info[exp.info.muestras == muestra].index.values[0]\n",
    "        df_muestra=exp.data[indice_muestra]\n",
    "        df_repeticion=df_muestra[df_muestra.repeticion == repeticion]\n",
    "        zu_serie=df_repeticion.real + 1j*df_repeticion.imag\n",
    "        zu=zu_serie.values\n",
    "        dzucorr=((1/(1/zu - 1/za+ 1/z0))-z0  )\t\t\t\t\n",
    "        dzucorrnorm=dzucorr/x0\n",
    "        return dzucorrnorm\n",
    "    except Exception as e:\n",
    "        print(e)"
   ]
  },
  {
   "cell_type": "code",
   "execution_count": 28,
   "id": "4f08b8bb",
   "metadata": {},
   "outputs": [
    {
     "name": "stdout",
     "output_type": "stream",
     "text": [
      "3\n",
      "3\n",
      "3\n",
      "3\n",
      "3\n",
      "3\n",
      "3\n",
      "3\n",
      "3\n",
      "3\n"
     ]
    },
    {
     "data": {
      "image/png": "[encoded data removed]",
      "text/plain": [
       "<Figure size 576x432 with 1 Axes>"
      ]
     },
     "metadata": {
      "needs_background": "light"
     },
     "output_type": "display_data"
    }
   ],
   "source": [
    "muestra='P057'\n",
    "plt.figure(figsize=[8,6])\n",
    "plt.semilogx(exp.f,exp.dznorm[exp.dznorm.muestra==muestra].imag,'-r')\n",
    "\n",
    "for r in range(1,11):\n",
    "    repeticion=r\n",
    "    indice_muestra=exp.info[exp.info.muestras == muestra].index.values[0]\n",
    "    print(indice_muestra)\n",
    "    df_muestra=exp.data[indice_muestra]\n",
    "    df_repeticion=df_muestra[df_muestra.repeticion == repeticion]\n",
    "    zu=df_repeticion.real + 1j*df_repeticion.imag\n",
    "    dzucorrnorm_repeticion=corrnorm(exp,muestra,repeticion)\n",
    "    plt.semilogx(exp.f,dzucorrnorm_repeticion.imag,'ob',markersize=2,markerfacecolor='none')\n",
    "    plt.semilogx(exp.f,(zu.values.imag-exp.za.imag)/exp.za.imag,'ok',markersize=2,markerfacecolor='none')\n",
    "plt.grid(True)"
   ]
  },
  {
   "cell_type": "code",
   "execution_count": 29,
   "id": "d701fc8f",
   "metadata": {},
   "outputs": [
    {
     "data": {
      "text/plain": [
       "array([-5.59727851e-02-1.21580811e-03j, -4.84688042e-02+4.40977484e-04j,\n",
       "       -3.43950274e-02-9.63122649e-03j, -3.21460406e-02+7.30586841e-03j,\n",
       "       -2.25925072e-02-1.58441938e-03j, -1.28281301e-02+3.67391351e-04j,\n",
       "       -1.53137758e-02-1.24509719e-03j, -1.05787503e-02+6.48031219e-04j,\n",
       "       -1.22750199e-03+1.74033256e-03j, -8.50200794e-03-1.31200160e-03j,\n",
       "       -4.89616784e-03-1.80782333e-03j, -5.47417235e-03-8.34964601e-04j,\n",
       "       -3.18228537e-03-4.29080147e-04j, -2.51911627e-03-6.65145312e-04j,\n",
       "       -1.50018300e-03+6.11442648e-04j, -6.51686791e-04+2.38809950e-04j,\n",
       "       -2.60604379e-03+1.26536479e-03j, -2.16185674e-03-1.80872536e-03j,\n",
       "       -1.23429430e-03-1.10934849e-03j, -8.16528033e-04+1.02076405e-04j,\n",
       "       -7.24027181e-04+1.91666147e-03j, -1.54486432e-04-6.08356602e-04j,\n",
       "       -1.45241630e-04+1.66064092e-04j,  7.05231976e-04-4.79991426e-04j,\n",
       "       -5.05471443e-04-1.31847963e-04j,  1.49414742e-04+1.57288331e-04j,\n",
       "        1.80336790e-04+2.85735595e-04j,  2.27090444e-03+2.75435938e-03j,\n",
       "       -1.29829584e-03-1.56395276e-03j,  3.65785089e-04-2.84571669e-03j,\n",
       "       -6.13790086e-04+7.45151305e-04j,  6.68193769e-06+7.35143382e-04j,\n",
       "       -2.35874773e-04-1.18914983e-04j,  2.52302543e-03-2.08627610e-03j,\n",
       "       -1.28888730e-03+7.79014261e-04j,  2.22137633e-03-2.15716766e-03j,\n",
       "        9.55801314e-04-2.18461704e-04j, -4.90329974e-04-6.91705816e-04j,\n",
       "        3.33502352e-04-3.84634308e-04j, -2.08405138e-04+1.85186088e-04j,\n",
       "        4.59223095e-04+4.87520417e-05j])"
      ]
     },
     "execution_count": 29,
     "metadata": {},
     "output_type": "execute_result"
    }
   ],
   "source": [
    "corrnorm(exp,muestra,repeticion)"
   ]
  },
  {
   "cell_type": "code",
   "execution_count": 66,
   "id": "0852614f",
   "metadata": {},
   "outputs": [
    {
     "data": {
      "text/plain": [
       "array([0.7996072])"
      ]
     },
     "execution_count": 66,
     "metadata": {},
     "output_type": "execute_result"
    }
   ],
   "source": [
    "f2=exp2.f\n",
    "bo_eff2=exp2.coil\n",
    "i=2\n",
    "dpatron2=exp2.info.espesor[i]\n",
    "sigma2=exp2.info.conductividad[i]\n",
    "name2=exp2.info.muestras[i]\n",
    "dzucorrnorm2=corrnorm(exp2,muestra,repeticion)\n",
    "fpar2, pcov2=fitmu(f2,bo_eff2,dzucorrnorm2,dpatron2,sigma2,name2)\n",
    "fpar2"
   ]
  },
  {
   "cell_type": "code",
   "execution_count": 67,
   "id": "7af87a62",
   "metadata": {},
   "outputs": [
    {
     "data": {
      "text/plain": [
       "'347-M02'"
      ]
     },
     "execution_count": 67,
     "metadata": {},
     "output_type": "execute_result"
    }
   ],
   "source": [
    "muestra"
   ]
  },
  {
   "cell_type": "code",
   "execution_count": 95,
   "id": "8fbcd8de",
   "metadata": {},
   "outputs": [
    {
     "name": "stdout",
     "output_type": "stream",
     "text": [
      "1 43.82965207566039 3.0 %\n",
      "2 43.13803847308058 3.0 %\n",
      "3 43.32176512268795 4.0 %\n"
     ]
    }
   ],
   "source": [
    "muestra='1010-M01'\n",
    "i=0\n",
    "for r in range(1,4):\n",
    "    repeticion=r\n",
    "    f=exp.f\n",
    "    bo_eff=exp.coil\n",
    "    dpatron=exp.info.espesor[i]\n",
    "    sigma=exp.info.conductividad[i]\n",
    "    name=exp.info.muestras[i]\n",
    "    dzucorrnorm=corrnorm(exp,muestra,repeticion)\n",
    "    fpar, pcov=fitmu(f,bo_eff,dzucorrnorm,dpatron,sigma,name)\n",
    "    print(r,fpar[0],np.round(100*np.sqrt(pcov)[0][0]/fpar[0]),'%')"
   ]
  },
  {
   "cell_type": "code",
   "execution_count": null,
   "id": "d7453496",
   "metadata": {},
   "outputs": [],
   "source": []
  },
  {
   "cell_type": "code",
   "execution_count": 96,
   "id": "4a6c4890",
   "metadata": {},
   "outputs": [
    {
     "data": {
      "text/html": [
       "<div>\n",
       "<style scoped>\n",
       "    .dataframe tbody tr th:only-of-type {\n",
       "        vertical-align: middle;\n",
       "    }\n",
       "\n",
       "    .dataframe tbody tr th {\n",
       "        vertical-align: top;\n",
       "    }\n",
       "\n",
       "    .dataframe thead th {\n",
       "        text-align: right;\n",
       "    }\n",
       "</style>\n",
       "<table border=\"1\" class=\"dataframe\">\n",
       "  <thead>\n",
       "    <tr style=\"text-align: right;\">\n",
       "      <th></th>\n",
       "      <th>archivo</th>\n",
       "      <th>conductividad</th>\n",
       "      <th>espesor</th>\n",
       "      <th>bobina</th>\n",
       "      <th>muestras</th>\n",
       "      <th>mueff</th>\n",
       "      <th>R2</th>\n",
       "    </tr>\n",
       "  </thead>\n",
       "  <tbody>\n",
       "    <tr>\n",
       "      <th>0</th>\n",
       "      <td>Exp_m1_347-M02.csv</td>\n",
       "      <td>1118491.27</td>\n",
       "      <td>0.02340</td>\n",
       "      <td>m1</td>\n",
       "      <td>347-M02</td>\n",
       "      <td>43.252651</td>\n",
       "      <td>0.985932</td>\n",
       "    </tr>\n",
       "    <tr>\n",
       "      <th>1</th>\n",
       "      <td>Exp_m1_1010-M01_m1.csv</td>\n",
       "      <td>3830000.00</td>\n",
       "      <td>0.06500</td>\n",
       "      <td>m1</td>\n",
       "      <td>1010-M01</td>\n",
       "      <td>65.639909</td>\n",
       "      <td>0.984095</td>\n",
       "    </tr>\n",
       "    <tr>\n",
       "      <th>2</th>\n",
       "      <td>Exp_m1_aire.csv</td>\n",
       "      <td>0.00</td>\n",
       "      <td>0.00000</td>\n",
       "      <td>m1</td>\n",
       "      <td>aire</td>\n",
       "      <td>NaN</td>\n",
       "      <td>NaN</td>\n",
       "    </tr>\n",
       "    <tr>\n",
       "      <th>3</th>\n",
       "      <td>Exp_m1_P057.csv</td>\n",
       "      <td>3948000.00</td>\n",
       "      <td>0.14957</td>\n",
       "      <td>m1</td>\n",
       "      <td>P057</td>\n",
       "      <td>NaN</td>\n",
       "      <td>NaN</td>\n",
       "    </tr>\n",
       "  </tbody>\n",
       "</table>\n",
       "</div>"
      ],
      "text/plain": [
       "                  archivo  conductividad  espesor bobina  muestras      mueff  \\\n",
       "0      Exp_m1_347-M02.csv     1118491.27  0.02340     m1   347-M02  43.252651   \n",
       "1  Exp_m1_1010-M01_m1.csv     3830000.00  0.06500     m1  1010-M01  65.639909   \n",
       "2         Exp_m1_aire.csv           0.00  0.00000     m1      aire        NaN   \n",
       "3         Exp_m1_P057.csv     3948000.00  0.14957     m1      P057        NaN   \n",
       "\n",
       "         R2  \n",
       "0  0.985932  \n",
       "1  0.984095  \n",
       "2       NaN  \n",
       "3       NaN  "
      ]
     },
     "execution_count": 96,
     "metadata": {},
     "output_type": "execute_result"
    }
   ],
   "source": [
    "exp.info"
   ]
  },
  {
   "cell_type": "code",
   "execution_count": 97,
   "id": "69671e93",
   "metadata": {},
   "outputs": [
    {
     "data": {
      "text/plain": [
       "1"
      ]
     },
     "execution_count": 97,
     "metadata": {},
     "output_type": "execute_result"
    }
   ],
   "source": [
    "exp.info[exp.info.muestras == muestra].index.values[0]"
   ]
  },
  {
   "cell_type": "code",
   "execution_count": 98,
   "id": "280c8be1",
   "metadata": {},
   "outputs": [
    {
     "data": {
      "text/plain": [
       "1118491.27"
      ]
     },
     "execution_count": 98,
     "metadata": {},
     "output_type": "execute_result"
    }
   ],
   "source": [
    "exp.info.conductividad[i]"
   ]
  },
  {
   "cell_type": "code",
   "execution_count": 99,
   "id": "69af6312",
   "metadata": {},
   "outputs": [
    {
     "data": {
      "text/plain": [
       "0"
      ]
     },
     "execution_count": 99,
     "metadata": {},
     "output_type": "execute_result"
    }
   ],
   "source": [
    "i"
   ]
  },
  {
   "cell_type": "code",
   "execution_count": 101,
   "id": "376da072",
   "metadata": {},
   "outputs": [
    {
     "data": {
      "text/plain": [
       "1"
      ]
     },
     "execution_count": 101,
     "metadata": {},
     "output_type": "execute_result"
    }
   ],
   "source": [
    "exp.info[exp.info.muestras == muestra].index.values[0]"
   ]
  },
  {
   "cell_type": "code",
   "execution_count": 104,
   "id": "7b3cc503",
   "metadata": {},
   "outputs": [
    {
     "data": {
      "text/plain": [
       "4"
      ]
     },
     "execution_count": 104,
     "metadata": {},
     "output_type": "execute_result"
    }
   ],
   "source": [
    "len(exp.data)"
   ]
  },
  {
   "cell_type": "code",
   "execution_count": 105,
   "id": "b78b5190",
   "metadata": {},
   "outputs": [
    {
     "data": {
      "text/html": [
       "<div>\n",
       "<style scoped>\n",
       "    .dataframe tbody tr th:only-of-type {\n",
       "        vertical-align: middle;\n",
       "    }\n",
       "\n",
       "    .dataframe tbody tr th {\n",
       "        vertical-align: top;\n",
       "    }\n",
       "\n",
       "    .dataframe thead th {\n",
       "        text-align: right;\n",
       "    }\n",
       "</style>\n",
       "<table border=\"1\" class=\"dataframe\">\n",
       "  <thead>\n",
       "    <tr style=\"text-align: right;\">\n",
       "      <th></th>\n",
       "      <th>archivo</th>\n",
       "      <th>conductividad</th>\n",
       "      <th>espesor</th>\n",
       "      <th>bobina</th>\n",
       "      <th>muestras</th>\n",
       "      <th>mueff</th>\n",
       "      <th>R2</th>\n",
       "    </tr>\n",
       "  </thead>\n",
       "  <tbody>\n",
       "    <tr>\n",
       "      <th>0</th>\n",
       "      <td>Exp_m1_347-M02.csv</td>\n",
       "      <td>1118491.27</td>\n",
       "      <td>0.02340</td>\n",
       "      <td>m1</td>\n",
       "      <td>347-M02</td>\n",
       "      <td>43.252651</td>\n",
       "      <td>0.985932</td>\n",
       "    </tr>\n",
       "    <tr>\n",
       "      <th>1</th>\n",
       "      <td>Exp_m1_1010-M01_m1.csv</td>\n",
       "      <td>3830000.00</td>\n",
       "      <td>0.06500</td>\n",
       "      <td>m1</td>\n",
       "      <td>1010-M01</td>\n",
       "      <td>65.639909</td>\n",
       "      <td>0.984095</td>\n",
       "    </tr>\n",
       "    <tr>\n",
       "      <th>2</th>\n",
       "      <td>Exp_m1_aire.csv</td>\n",
       "      <td>0.00</td>\n",
       "      <td>0.00000</td>\n",
       "      <td>m1</td>\n",
       "      <td>aire</td>\n",
       "      <td>NaN</td>\n",
       "      <td>NaN</td>\n",
       "    </tr>\n",
       "    <tr>\n",
       "      <th>3</th>\n",
       "      <td>Exp_m1_P057.csv</td>\n",
       "      <td>3948000.00</td>\n",
       "      <td>0.14957</td>\n",
       "      <td>m1</td>\n",
       "      <td>P057</td>\n",
       "      <td>NaN</td>\n",
       "      <td>NaN</td>\n",
       "    </tr>\n",
       "  </tbody>\n",
       "</table>\n",
       "</div>"
      ],
      "text/plain": [
       "                  archivo  conductividad  espesor bobina  muestras      mueff  \\\n",
       "0      Exp_m1_347-M02.csv     1118491.27  0.02340     m1   347-M02  43.252651   \n",
       "1  Exp_m1_1010-M01_m1.csv     3830000.00  0.06500     m1  1010-M01  65.639909   \n",
       "2         Exp_m1_aire.csv           0.00  0.00000     m1      aire        NaN   \n",
       "3         Exp_m1_P057.csv     3948000.00  0.14957     m1      P057        NaN   \n",
       "\n",
       "         R2  \n",
       "0  0.985932  \n",
       "1  0.984095  \n",
       "2       NaN  \n",
       "3       NaN  "
      ]
     },
     "execution_count": 105,
     "metadata": {},
     "output_type": "execute_result"
    }
   ],
   "source": [
    "exp.info"
   ]
  },
  {
   "cell_type": "code",
   "execution_count": 106,
   "id": "69798489",
   "metadata": {},
   "outputs": [
    {
     "data": {
      "text/html": [
       "<div>\n",
       "<style scoped>\n",
       "    .dataframe tbody tr th:only-of-type {\n",
       "        vertical-align: middle;\n",
       "    }\n",
       "\n",
       "    .dataframe tbody tr th {\n",
       "        vertical-align: top;\n",
       "    }\n",
       "\n",
       "    .dataframe thead th {\n",
       "        text-align: right;\n",
       "    }\n",
       "</style>\n",
       "<table border=\"1\" class=\"dataframe\">\n",
       "  <thead>\n",
       "    <tr style=\"text-align: right;\">\n",
       "      <th></th>\n",
       "      <th>indice</th>\n",
       "      <th>repeticion</th>\n",
       "      <th>f</th>\n",
       "      <th>real</th>\n",
       "      <th>imag</th>\n",
       "    </tr>\n",
       "  </thead>\n",
       "  <tbody>\n",
       "    <tr>\n",
       "      <th>0</th>\n",
       "      <td>1</td>\n",
       "      <td>1</td>\n",
       "      <td>100.0000</td>\n",
       "      <td>14.98421</td>\n",
       "      <td>0.263184</td>\n",
       "    </tr>\n",
       "    <tr>\n",
       "      <th>1</th>\n",
       "      <td>2</td>\n",
       "      <td>1</td>\n",
       "      <td>125.8925</td>\n",
       "      <td>14.98221</td>\n",
       "      <td>0.330962</td>\n",
       "    </tr>\n",
       "    <tr>\n",
       "      <th>2</th>\n",
       "      <td>3</td>\n",
       "      <td>1</td>\n",
       "      <td>158.4893</td>\n",
       "      <td>14.98195</td>\n",
       "      <td>0.421990</td>\n",
       "    </tr>\n",
       "    <tr>\n",
       "      <th>3</th>\n",
       "      <td>4</td>\n",
       "      <td>1</td>\n",
       "      <td>199.5262</td>\n",
       "      <td>14.98459</td>\n",
       "      <td>0.528198</td>\n",
       "    </tr>\n",
       "    <tr>\n",
       "      <th>4</th>\n",
       "      <td>5</td>\n",
       "      <td>1</td>\n",
       "      <td>251.1886</td>\n",
       "      <td>14.98319</td>\n",
       "      <td>0.665497</td>\n",
       "    </tr>\n",
       "    <tr>\n",
       "      <th>...</th>\n",
       "      <td>...</td>\n",
       "      <td>...</td>\n",
       "      <td>...</td>\n",
       "      <td>...</td>\n",
       "      <td>...</td>\n",
       "    </tr>\n",
       "    <tr>\n",
       "      <th>487</th>\n",
       "      <td>488</td>\n",
       "      <td>12</td>\n",
       "      <td>398107.2000</td>\n",
       "      <td>81.67987</td>\n",
       "      <td>961.238900</td>\n",
       "    </tr>\n",
       "    <tr>\n",
       "      <th>488</th>\n",
       "      <td>489</td>\n",
       "      <td>12</td>\n",
       "      <td>501187.3000</td>\n",
       "      <td>105.29980</td>\n",
       "      <td>1211.484000</td>\n",
       "    </tr>\n",
       "    <tr>\n",
       "      <th>489</th>\n",
       "      <td>490</td>\n",
       "      <td>12</td>\n",
       "      <td>630957.3000</td>\n",
       "      <td>139.25850</td>\n",
       "      <td>1540.327000</td>\n",
       "    </tr>\n",
       "    <tr>\n",
       "      <th>490</th>\n",
       "      <td>491</td>\n",
       "      <td>12</td>\n",
       "      <td>794328.3000</td>\n",
       "      <td>190.97810</td>\n",
       "      <td>1975.438000</td>\n",
       "    </tr>\n",
       "    <tr>\n",
       "      <th>491</th>\n",
       "      <td>492</td>\n",
       "      <td>12</td>\n",
       "      <td>1000000.0000</td>\n",
       "      <td>277.80470</td>\n",
       "      <td>2583.304000</td>\n",
       "    </tr>\n",
       "  </tbody>\n",
       "</table>\n",
       "<p>492 rows × 5 columns</p>\n",
       "</div>"
      ],
      "text/plain": [
       "     indice  repeticion             f       real         imag\n",
       "0         1           1      100.0000   14.98421     0.263184\n",
       "1         2           1      125.8925   14.98221     0.330962\n",
       "2         3           1      158.4893   14.98195     0.421990\n",
       "3         4           1      199.5262   14.98459     0.528198\n",
       "4         5           1      251.1886   14.98319     0.665497\n",
       "..      ...         ...           ...        ...          ...\n",
       "487     488          12   398107.2000   81.67987   961.238900\n",
       "488     489          12   501187.3000  105.29980  1211.484000\n",
       "489     490          12   630957.3000  139.25850  1540.327000\n",
       "490     491          12   794328.3000  190.97810  1975.438000\n",
       "491     492          12  1000000.0000  277.80470  2583.304000\n",
       "\n",
       "[492 rows x 5 columns]"
      ]
     },
     "execution_count": 106,
     "metadata": {},
     "output_type": "execute_result"
    }
   ],
   "source": [
    "exp.data[0]"
   ]
  },
  {
   "cell_type": "markdown",
   "id": "58e9c178",
   "metadata": {},
   "source": [
    "### Montecarlo\n",
    "\n",
    "https://cran.r-project.org/web/packages/nlraa/vignettes/Confidence-Bands.html\n",
    "\n",
    "## otros\n",
    "\n",
    "https://stat.ethz.ch/~stahel/courses/cheming/nlreg10E.pdf\n"
   ]
  },
  {
   "cell_type": "code",
   "execution_count": null,
   "id": "6baf0fab",
   "metadata": {},
   "outputs": [],
   "source": []
  }
 ],
 "metadata": {
  "kernelspec": {
   "display_name": "Python 3 (ipykernel)",
   "language": "python",
   "name": "python3"
  },
  "language_info": {
   "codemirror_mode": {
    "name": "ipython",
    "version": 3
   },
   "file_extension": ".py",
   "mimetype": "text/x-python",
   "name": "python",
   "nbconvert_exporter": "python",
   "pygments_lexer": "ipython3",
   "version": "3.10.10"
  }
 },
 "nbformat": 4,
 "nbformat_minor": 5
}
