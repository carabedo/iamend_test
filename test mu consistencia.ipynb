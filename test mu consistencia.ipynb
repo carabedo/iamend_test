{
 "cells": [
  {
   "cell_type": "code",
   "execution_count": 1,
   "id": "13025dd1",
   "metadata": {},
   "outputs": [
    {
     "data": {
      "text/html": [
       "<style>\n",
       "        .bk-notebook-logo {\n",
       "            display: block;\n",
       "            width: 20px;\n",
       "            height: 20px;\n",
       "            background-image: url(data:image/png;base64,iVBORw0KGgoAAAANSUhEUgAAABQAAAAUCAYAAACNiR0NAAAABHNCSVQICAgIfAhkiAAAAAlwSFlzAAALEgAACxIB0t1+/AAAABx0RVh0U29mdHdhcmUAQWRvYmUgRmlyZXdvcmtzIENTNui8sowAAAOkSURBVDiNjZRtaJVlGMd/1/08zzln5zjP1LWcU9N0NkN8m2CYjpgQYQXqSs0I84OLIC0hkEKoPtiH3gmKoiJDU7QpLgoLjLIQCpEsNJ1vqUOdO7ppbuec5+V+rj4ctwzd8IIbbi6u+8f1539dt3A78eXC7QizUF7gyV1fD1Yqg4JWz84yffhm0qkFqBogB9rM8tZdtwVsPUhWhGcFJngGeWrPzHm5oaMmkfEg1usvLFyc8jLRqDOMru7AyC8saQr7GG7f5fvDeH7Ej8CM66nIF+8yngt6HWaKh7k49Soy9nXurCi1o3qUbS3zWfrYeQDTB/Qj6kX6Ybhw4B+bOYoLKCC9H3Nu/leUTZ1JdRWkkn2ldcCamzrcf47KKXdAJllSlxAOkRgyHsGC/zRday5Qld9DyoM4/q/rUoy/CXh3jzOu3bHUVZeU+DEn8FInkPBFlu3+nW3Nw0mk6vCDiWg8CeJaxEwuHS3+z5RgY+YBR6V1Z1nxSOfoaPa4LASWxxdNp+VWTk7+4vzaou8v8PN+xo+KY2xsw6une2frhw05CTYOmQvsEhjhWjn0bmXPjpE1+kplmmkP3suftwTubK9Vq22qKmrBhpY4jvd5afdRA3wGjFAgcnTK2s4hY0/GPNIb0nErGMCRxWOOX64Z8RAC4oCXdklmEvcL8o0BfkNK4lUg9HTl+oPlQxdNo3Mg4Nv175e/1LDGzZen30MEjRUtmXSfiTVu1kK8W4txyV6BMKlbgk3lMwYCiusNy9fVfvvwMxv8Ynl6vxoByANLTWplvuj/nF9m2+PDtt1eiHPBr1oIfhCChQMBw6Aw0UulqTKZdfVvfG7VcfIqLG9bcldL/+pdWTLxLUy8Qq38heUIjh4XlzZxzQm19lLFlr8vdQ97rjZVOLf8nclzckbcD4wxXMidpX30sFd37Fv/GtwwhzhxGVAprjbg0gCAEeIgwCZyTV2Z1REEW8O4py0wsjeloKoMr6iCY6dP92H6Vw/oTyICIthibxjm/DfN9lVz8IqtqKYLUXfoKVMVQVVJOElGjrnnUt9T9wbgp8AyYKaGlqingHZU/uG2NTZSVqwHQTWkx9hxjkpWDaCg6Ckj5qebgBVbT3V3NNXMSiWSDdGV3hrtzla7J+duwPOToIg42ChPQOQjspnSlp1V+Gjdged7+8UN5CRAV7a5EdFNwCjEaBR27b3W890TE7g24NAP/mMDXRWrGoFPQI9ls/MWO2dWFAar/xcOIImbbpA3zgAAAABJRU5ErkJggg==);\n",
       "        }\n",
       "    </style>\n",
       "    <div>\n",
       "        <a href=\"https://bokeh.org\" target=\"_blank\" class=\"bk-notebook-logo\"></a>\n",
       "        <span id=\"p1001\">Loading BokehJS ...</span>\n",
       "    </div>\n"
      ]
     },
     "metadata": {},
     "output_type": "display_data"
    },
    {
     "data": {
      "application/javascript": [
       "(function(root) {\n",
       "  function now() {\n",
       "    return new Date();\n",
       "  }\n",
       "\n",
       "  const force = true;\n",
       "\n",
       "  if (typeof root._bokeh_onload_callbacks === \"undefined\" || force === true) {\n",
       "    root._bokeh_onload_callbacks = [];\n",
       "    root._bokeh_is_loading = undefined;\n",
       "  }\n",
       "\n",
       "const JS_MIME_TYPE = 'application/javascript';\n",
       "  const HTML_MIME_TYPE = 'text/html';\n",
       "  const EXEC_MIME_TYPE = 'application/vnd.bokehjs_exec.v0+json';\n",
       "  const CLASS_NAME = 'output_bokeh rendered_html';\n",
       "\n",
       "  /**\n",
       "   * Render data to the DOM node\n",
       "   */\n",
       "  function render(props, node) {\n",
       "    const script = document.createElement(\"script\");\n",
       "    node.appendChild(script);\n",
       "  }\n",
       "\n",
       "  /**\n",
       "   * Handle when an output is cleared or removed\n",
       "   */\n",
       "  function handleClearOutput(event, handle) {\n",
       "    const cell = handle.cell;\n",
       "\n",
       "    const id = cell.output_area._bokeh_element_id;\n",
       "    const server_id = cell.output_area._bokeh_server_id;\n",
       "    // Clean up Bokeh references\n",
       "    if (id != null && id in Bokeh.index) {\n",
       "      Bokeh.index[id].model.document.clear();\n",
       "      delete Bokeh.index[id];\n",
       "    }\n",
       "\n",
       "    if (server_id !== undefined) {\n",
       "      // Clean up Bokeh references\n",
       "      const cmd_clean = \"from bokeh.io.state import curstate; print(curstate().uuid_to_server['\" + server_id + \"'].get_sessions()[0].document.roots[0]._id)\";\n",
       "      cell.notebook.kernel.execute(cmd_clean, {\n",
       "        iopub: {\n",
       "          output: function(msg) {\n",
       "            const id = msg.content.text.trim();\n",
       "            if (id in Bokeh.index) {\n",
       "              Bokeh.index[id].model.document.clear();\n",
       "              delete Bokeh.index[id];\n",
       "            }\n",
       "          }\n",
       "        }\n",
       "      });\n",
       "      // Destroy server and session\n",
       "      const cmd_destroy = \"import bokeh.io.notebook as ion; ion.destroy_server('\" + server_id + \"')\";\n",
       "      cell.notebook.kernel.execute(cmd_destroy);\n",
       "    }\n",
       "  }\n",
       "\n",
       "  /**\n",
       "   * Handle when a new output is added\n",
       "   */\n",
       "  function handleAddOutput(event, handle) {\n",
       "    const output_area = handle.output_area;\n",
       "    const output = handle.output;\n",
       "\n",
       "    // limit handleAddOutput to display_data with EXEC_MIME_TYPE content only\n",
       "    if ((output.output_type != \"display_data\") || (!Object.prototype.hasOwnProperty.call(output.data, EXEC_MIME_TYPE))) {\n",
       "      return\n",
       "    }\n",
       "\n",
       "    const toinsert = output_area.element.find(\".\" + CLASS_NAME.split(' ')[0]);\n",
       "\n",
       "    if (output.metadata[EXEC_MIME_TYPE][\"id\"] !== undefined) {\n",
       "      toinsert[toinsert.length - 1].firstChild.textContent = output.data[JS_MIME_TYPE];\n",
       "      // store reference to embed id on output_area\n",
       "      output_area._bokeh_element_id = output.metadata[EXEC_MIME_TYPE][\"id\"];\n",
       "    }\n",
       "    if (output.metadata[EXEC_MIME_TYPE][\"server_id\"] !== undefined) {\n",
       "      const bk_div = document.createElement(\"div\");\n",
       "      bk_div.innerHTML = output.data[HTML_MIME_TYPE];\n",
       "      const script_attrs = bk_div.children[0].attributes;\n",
       "      for (let i = 0; i < script_attrs.length; i++) {\n",
       "        toinsert[toinsert.length - 1].firstChild.setAttribute(script_attrs[i].name, script_attrs[i].value);\n",
       "        toinsert[toinsert.length - 1].firstChild.textContent = bk_div.children[0].textContent\n",
       "      }\n",
       "      // store reference to server id on output_area\n",
       "      output_area._bokeh_server_id = output.metadata[EXEC_MIME_TYPE][\"server_id\"];\n",
       "    }\n",
       "  }\n",
       "\n",
       "  function register_renderer(events, OutputArea) {\n",
       "\n",
       "    function append_mime(data, metadata, element) {\n",
       "      // create a DOM node to render to\n",
       "      const toinsert = this.create_output_subarea(\n",
       "        metadata,\n",
       "        CLASS_NAME,\n",
       "        EXEC_MIME_TYPE\n",
       "      );\n",
       "      this.keyboard_manager.register_events(toinsert);\n",
       "      // Render to node\n",
       "      const props = {data: data, metadata: metadata[EXEC_MIME_TYPE]};\n",
       "      render(props, toinsert[toinsert.length - 1]);\n",
       "      element.append(toinsert);\n",
       "      return toinsert\n",
       "    }\n",
       "\n",
       "    /* Handle when an output is cleared or removed */\n",
       "    events.on('clear_output.CodeCell', handleClearOutput);\n",
       "    events.on('delete.Cell', handleClearOutput);\n",
       "\n",
       "    /* Handle when a new output is added */\n",
       "    events.on('output_added.OutputArea', handleAddOutput);\n",
       "\n",
       "    /**\n",
       "     * Register the mime type and append_mime function with output_area\n",
       "     */\n",
       "    OutputArea.prototype.register_mime_type(EXEC_MIME_TYPE, append_mime, {\n",
       "      /* Is output safe? */\n",
       "      safe: true,\n",
       "      /* Index of renderer in `output_area.display_order` */\n",
       "      index: 0\n",
       "    });\n",
       "  }\n",
       "\n",
       "  // register the mime type if in Jupyter Notebook environment and previously unregistered\n",
       "  if (root.Jupyter !== undefined) {\n",
       "    const events = require('base/js/events');\n",
       "    const OutputArea = require('notebook/js/outputarea').OutputArea;\n",
       "\n",
       "    if (OutputArea.prototype.mime_types().indexOf(EXEC_MIME_TYPE) == -1) {\n",
       "      register_renderer(events, OutputArea);\n",
       "    }\n",
       "  }\n",
       "  if (typeof (root._bokeh_timeout) === \"undefined\" || force === true) {\n",
       "    root._bokeh_timeout = Date.now() + 5000;\n",
       "    root._bokeh_failed_load = false;\n",
       "  }\n",
       "\n",
       "  const NB_LOAD_WARNING = {'data': {'text/html':\n",
       "     \"<div style='background-color: #fdd'>\\n\"+\n",
       "     \"<p>\\n\"+\n",
       "     \"BokehJS does not appear to have successfully loaded. If loading BokehJS from CDN, this \\n\"+\n",
       "     \"may be due to a slow or bad network connection. Possible fixes:\\n\"+\n",
       "     \"</p>\\n\"+\n",
       "     \"<ul>\\n\"+\n",
       "     \"<li>re-rerun `output_notebook()` to attempt to load from CDN again, or</li>\\n\"+\n",
       "     \"<li>use INLINE resources instead, as so:</li>\\n\"+\n",
       "     \"</ul>\\n\"+\n",
       "     \"<code>\\n\"+\n",
       "     \"from bokeh.resources import INLINE\\n\"+\n",
       "     \"output_notebook(resources=INLINE)\\n\"+\n",
       "     \"</code>\\n\"+\n",
       "     \"</div>\"}};\n",
       "\n",
       "  function display_loaded() {\n",
       "    const el = document.getElementById(\"p1001\");\n",
       "    if (el != null) {\n",
       "      el.textContent = \"BokehJS is loading...\";\n",
       "    }\n",
       "    if (root.Bokeh !== undefined) {\n",
       "      if (el != null) {\n",
       "        el.textContent = \"BokehJS \" + root.Bokeh.version + \" successfully loaded.\";\n",
       "      }\n",
       "    } else if (Date.now() < root._bokeh_timeout) {\n",
       "      setTimeout(display_loaded, 100)\n",
       "    }\n",
       "  }\n",
       "\n",
       "  function run_callbacks() {\n",
       "    try {\n",
       "      root._bokeh_onload_callbacks.forEach(function(callback) {\n",
       "        if (callback != null)\n",
       "          callback();\n",
       "      });\n",
       "    } finally {\n",
       "      delete root._bokeh_onload_callbacks\n",
       "    }\n",
       "    console.debug(\"Bokeh: all callbacks have finished\");\n",
       "  }\n",
       "\n",
       "  function load_libs(css_urls, js_urls, callback) {\n",
       "    if (css_urls == null) css_urls = [];\n",
       "    if (js_urls == null) js_urls = [];\n",
       "\n",
       "    root._bokeh_onload_callbacks.push(callback);\n",
       "    if (root._bokeh_is_loading > 0) {\n",
       "      console.debug(\"Bokeh: BokehJS is being loaded, scheduling callback at\", now());\n",
       "      return null;\n",
       "    }\n",
       "    if (js_urls == null || js_urls.length === 0) {\n",
       "      run_callbacks();\n",
       "      return null;\n",
       "    }\n",
       "    console.debug(\"Bokeh: BokehJS not loaded, scheduling load and callback at\", now());\n",
       "    root._bokeh_is_loading = css_urls.length + js_urls.length;\n",
       "\n",
       "    function on_load() {\n",
       "      root._bokeh_is_loading--;\n",
       "      if (root._bokeh_is_loading === 0) {\n",
       "        console.debug(\"Bokeh: all BokehJS libraries/stylesheets loaded\");\n",
       "        run_callbacks()\n",
       "      }\n",
       "    }\n",
       "\n",
       "    function on_error(url) {\n",
       "      console.error(\"failed to load \" + url);\n",
       "    }\n",
       "\n",
       "    for (let i = 0; i < css_urls.length; i++) {\n",
       "      const url = css_urls[i];\n",
       "      const element = document.createElement(\"link\");\n",
       "      element.onload = on_load;\n",
       "      element.onerror = on_error.bind(null, url);\n",
       "      element.rel = \"stylesheet\";\n",
       "      element.type = \"text/css\";\n",
       "      element.href = url;\n",
       "      console.debug(\"Bokeh: injecting link tag for BokehJS stylesheet: \", url);\n",
       "      document.body.appendChild(element);\n",
       "    }\n",
       "\n",
       "    for (let i = 0; i < js_urls.length; i++) {\n",
       "      const url = js_urls[i];\n",
       "      const element = document.createElement('script');\n",
       "      element.onload = on_load;\n",
       "      element.onerror = on_error.bind(null, url);\n",
       "      element.async = false;\n",
       "      element.src = url;\n",
       "      console.debug(\"Bokeh: injecting script tag for BokehJS library: \", url);\n",
       "      document.head.appendChild(element);\n",
       "    }\n",
       "  };\n",
       "\n",
       "  function inject_raw_css(css) {\n",
       "    const element = document.createElement(\"style\");\n",
       "    element.appendChild(document.createTextNode(css));\n",
       "    document.body.appendChild(element);\n",
       "  }\n",
       "\n",
       "  const js_urls = [\"https://cdn.bokeh.org/bokeh/release/bokeh-3.1.0.min.js\", \"https://cdn.bokeh.org/bokeh/release/bokeh-gl-3.1.0.min.js\", \"https://cdn.bokeh.org/bokeh/release/bokeh-widgets-3.1.0.min.js\", \"https://cdn.bokeh.org/bokeh/release/bokeh-tables-3.1.0.min.js\", \"https://cdn.bokeh.org/bokeh/release/bokeh-mathjax-3.1.0.min.js\"];\n",
       "  const css_urls = [];\n",
       "\n",
       "  const inline_js = [    function(Bokeh) {\n",
       "      Bokeh.set_log_level(\"info\");\n",
       "    },\n",
       "function(Bokeh) {\n",
       "    }\n",
       "  ];\n",
       "\n",
       "  function run_inline_js() {\n",
       "    if (root.Bokeh !== undefined || force === true) {\n",
       "          for (let i = 0; i < inline_js.length; i++) {\n",
       "      inline_js[i].call(root, root.Bokeh);\n",
       "    }\n",
       "if (force === true) {\n",
       "        display_loaded();\n",
       "      }} else if (Date.now() < root._bokeh_timeout) {\n",
       "      setTimeout(run_inline_js, 100);\n",
       "    } else if (!root._bokeh_failed_load) {\n",
       "      console.log(\"Bokeh: BokehJS failed to load within specified timeout.\");\n",
       "      root._bokeh_failed_load = true;\n",
       "    } else if (force !== true) {\n",
       "      const cell = $(document.getElementById(\"p1001\")).parents('.cell').data().cell;\n",
       "      cell.output_area.append_execute_result(NB_LOAD_WARNING)\n",
       "    }\n",
       "  }\n",
       "\n",
       "  if (root._bokeh_is_loading === 0) {\n",
       "    console.debug(\"Bokeh: BokehJS loaded, going straight to plotting\");\n",
       "    run_inline_js();\n",
       "  } else {\n",
       "    load_libs(css_urls, js_urls, function() {\n",
       "      console.debug(\"Bokeh: BokehJS plotting callback run at\", now());\n",
       "      run_inline_js();\n",
       "    });\n",
       "  }\n",
       "}(window));"
      ],
      "application/vnd.bokehjs_load.v0+json": "(function(root) {\n  function now() {\n    return new Date();\n  }\n\n  const force = true;\n\n  if (typeof root._bokeh_onload_callbacks === \"undefined\" || force === true) {\n    root._bokeh_onload_callbacks = [];\n    root._bokeh_is_loading = undefined;\n  }\n\n\n  if (typeof (root._bokeh_timeout) === \"undefined\" || force === true) {\n    root._bokeh_timeout = Date.now() + 5000;\n    root._bokeh_failed_load = false;\n  }\n\n  const NB_LOAD_WARNING = {'data': {'text/html':\n     \"<div style='background-color: #fdd'>\\n\"+\n     \"<p>\\n\"+\n     \"BokehJS does not appear to have successfully loaded. If loading BokehJS from CDN, this \\n\"+\n     \"may be due to a slow or bad network connection. Possible fixes:\\n\"+\n     \"</p>\\n\"+\n     \"<ul>\\n\"+\n     \"<li>re-rerun `output_notebook()` to attempt to load from CDN again, or</li>\\n\"+\n     \"<li>use INLINE resources instead, as so:</li>\\n\"+\n     \"</ul>\\n\"+\n     \"<code>\\n\"+\n     \"from bokeh.resources import INLINE\\n\"+\n     \"output_notebook(resources=INLINE)\\n\"+\n     \"</code>\\n\"+\n     \"</div>\"}};\n\n  function display_loaded() {\n    const el = document.getElementById(\"p1001\");\n    if (el != null) {\n      el.textContent = \"BokehJS is loading...\";\n    }\n    if (root.Bokeh !== undefined) {\n      if (el != null) {\n        el.textContent = \"BokehJS \" + root.Bokeh.version + \" successfully loaded.\";\n      }\n    } else if (Date.now() < root._bokeh_timeout) {\n      setTimeout(display_loaded, 100)\n    }\n  }\n\n  function run_callbacks() {\n    try {\n      root._bokeh_onload_callbacks.forEach(function(callback) {\n        if (callback != null)\n          callback();\n      });\n    } finally {\n      delete root._bokeh_onload_callbacks\n    }\n    console.debug(\"Bokeh: all callbacks have finished\");\n  }\n\n  function load_libs(css_urls, js_urls, callback) {\n    if (css_urls == null) css_urls = [];\n    if (js_urls == null) js_urls = [];\n\n    root._bokeh_onload_callbacks.push(callback);\n    if (root._bokeh_is_loading > 0) {\n      console.debug(\"Bokeh: BokehJS is being loaded, scheduling callback at\", now());\n      return null;\n    }\n    if (js_urls == null || js_urls.length === 0) {\n      run_callbacks();\n      return null;\n    }\n    console.debug(\"Bokeh: BokehJS not loaded, scheduling load and callback at\", now());\n    root._bokeh_is_loading = css_urls.length + js_urls.length;\n\n    function on_load() {\n      root._bokeh_is_loading--;\n      if (root._bokeh_is_loading === 0) {\n        console.debug(\"Bokeh: all BokehJS libraries/stylesheets loaded\");\n        run_callbacks()\n      }\n    }\n\n    function on_error(url) {\n      console.error(\"failed to load \" + url);\n    }\n\n    for (let i = 0; i < css_urls.length; i++) {\n      const url = css_urls[i];\n      const element = document.createElement(\"link\");\n      element.onload = on_load;\n      element.onerror = on_error.bind(null, url);\n      element.rel = \"stylesheet\";\n      element.type = \"text/css\";\n      element.href = url;\n      console.debug(\"Bokeh: injecting link tag for BokehJS stylesheet: \", url);\n      document.body.appendChild(element);\n    }\n\n    for (let i = 0; i < js_urls.length; i++) {\n      const url = js_urls[i];\n      const element = document.createElement('script');\n      element.onload = on_load;\n      element.onerror = on_error.bind(null, url);\n      element.async = false;\n      element.src = url;\n      console.debug(\"Bokeh: injecting script tag for BokehJS library: \", url);\n      document.head.appendChild(element);\n    }\n  };\n\n  function inject_raw_css(css) {\n    const element = document.createElement(\"style\");\n    element.appendChild(document.createTextNode(css));\n    document.body.appendChild(element);\n  }\n\n  const js_urls = [\"https://cdn.bokeh.org/bokeh/release/bokeh-3.1.0.min.js\", \"https://cdn.bokeh.org/bokeh/release/bokeh-gl-3.1.0.min.js\", \"https://cdn.bokeh.org/bokeh/release/bokeh-widgets-3.1.0.min.js\", \"https://cdn.bokeh.org/bokeh/release/bokeh-tables-3.1.0.min.js\", \"https://cdn.bokeh.org/bokeh/release/bokeh-mathjax-3.1.0.min.js\"];\n  const css_urls = [];\n\n  const inline_js = [    function(Bokeh) {\n      Bokeh.set_log_level(\"info\");\n    },\nfunction(Bokeh) {\n    }\n  ];\n\n  function run_inline_js() {\n    if (root.Bokeh !== undefined || force === true) {\n          for (let i = 0; i < inline_js.length; i++) {\n      inline_js[i].call(root, root.Bokeh);\n    }\nif (force === true) {\n        display_loaded();\n      }} else if (Date.now() < root._bokeh_timeout) {\n      setTimeout(run_inline_js, 100);\n    } else if (!root._bokeh_failed_load) {\n      console.log(\"Bokeh: BokehJS failed to load within specified timeout.\");\n      root._bokeh_failed_load = true;\n    } else if (force !== true) {\n      const cell = $(document.getElementById(\"p1001\")).parents('.cell').data().cell;\n      cell.output_area.append_execute_result(NB_LOAD_WARNING)\n    }\n  }\n\n  if (root._bokeh_is_loading === 0) {\n    console.debug(\"Bokeh: BokehJS loaded, going straight to plotting\");\n    run_inline_js();\n  } else {\n    load_libs(css_urls, js_urls, function() {\n      console.debug(\"Bokeh: BokehJS plotting callback run at\", now());\n      run_inline_js();\n    });\n  }\n}(window));"
     },
     "metadata": {},
     "output_type": "display_data"
    }
   ],
   "source": [
    "import iamend_ci as ci\n"
   ]
  },
  {
   "cell_type": "code",
   "execution_count": 2,
   "id": "2095acbf",
   "metadata": {},
   "outputs": [
    {
     "name": "stdout",
     "output_type": "stream",
     "text": [
      "                  archivo  conductividad  espesor bobina  muestras\n",
      "0      Exp_m1_347-M02.csv     1118491.27  0.02340     m1   347-M02\n",
      "1  Exp_m1_1010-M01_m1.csv     3830000.00  0.06500     m1  1010-M01\n",
      "2         Exp_m1_aire.csv           0.00  0.00000     m1      aire\n",
      "3         Exp_m1_P057.csv     3948000.00  0.14957     m1      P057\n"
     ]
    }
   ],
   "source": [
    "exp1=ci.exp('.//iamend_ci//datos//marzo2023//m1//')"
   ]
  },
  {
   "cell_type": "code",
   "execution_count": 3,
   "id": "1a24a877",
   "metadata": {},
   "outputs": [
    {
     "name": "stdout",
     "output_type": "stream",
     "text": [
      "                archivo  conductividad  espesor bobina  muestras\n",
      "0  Exp_pp1_1010-M01.csv     3830000.00  0.06500    pp1  1010-M01\n",
      "1      Exp_pp1_aire.csv           0.00  0.00000    pp1      aire\n",
      "2   Exp_pp1_347-M02.csv     1118491.27  0.02340    pp1   347-M02\n",
      "3      Exp_pp1_P057.csv     3948000.00  0.14957    pp1      P057\n"
     ]
    }
   ],
   "source": [
    "exp2=ci.exp('.//iamend_ci//datos//marzo2023//pp1//')"
   ]
  },
  {
   "cell_type": "code",
   "execution_count": 4,
   "id": "e10d540e",
   "metadata": {},
   "outputs": [
    {
     "name": "stdout",
     "output_type": "stream",
     "text": [
      "Ajustando z1 effectivo\n",
      "z1 = 0.9690467836465473 mm\n"
     ]
    }
   ],
   "source": [
    "exp1.fitmues()"
   ]
  },
  {
   "cell_type": "code",
   "execution_count": 5,
   "id": "f4343926",
   "metadata": {},
   "outputs": [
    {
     "name": "stdout",
     "output_type": "stream",
     "text": [
      "Ajustando z1 effectivo\n",
      "z1 = 1.4797194987299984 mm\n"
     ]
    }
   ],
   "source": [
    "exp2.fitmues()"
   ]
  },
  {
   "cell_type": "code",
   "execution_count": 6,
   "id": "1a4d47a1",
   "metadata": {},
   "outputs": [
    {
     "data": {
      "text/html": [
       "<div>\n",
       "<style scoped>\n",
       "    .dataframe tbody tr th:only-of-type {\n",
       "        vertical-align: middle;\n",
       "    }\n",
       "\n",
       "    .dataframe tbody tr th {\n",
       "        vertical-align: top;\n",
       "    }\n",
       "\n",
       "    .dataframe thead th {\n",
       "        text-align: right;\n",
       "    }\n",
       "</style>\n",
       "<table border=\"1\" class=\"dataframe\">\n",
       "  <thead>\n",
       "    <tr style=\"text-align: right;\">\n",
       "      <th></th>\n",
       "      <th>archivo</th>\n",
       "      <th>conductividad</th>\n",
       "      <th>espesor</th>\n",
       "      <th>bobina</th>\n",
       "      <th>muestras</th>\n",
       "      <th>mueff</th>\n",
       "      <th>R2</th>\n",
       "    </tr>\n",
       "  </thead>\n",
       "  <tbody>\n",
       "    <tr>\n",
       "      <th>0</th>\n",
       "      <td>Exp_m1_347-M02.csv</td>\n",
       "      <td>1118491.27</td>\n",
       "      <td>0.02340</td>\n",
       "      <td>m1</td>\n",
       "      <td>347-M02</td>\n",
       "      <td>43.172019</td>\n",
       "      <td>0.985053</td>\n",
       "    </tr>\n",
       "    <tr>\n",
       "      <th>1</th>\n",
       "      <td>Exp_m1_1010-M01_m1.csv</td>\n",
       "      <td>3830000.00</td>\n",
       "      <td>0.06500</td>\n",
       "      <td>m1</td>\n",
       "      <td>1010-M01</td>\n",
       "      <td>65.521862</td>\n",
       "      <td>0.983927</td>\n",
       "    </tr>\n",
       "    <tr>\n",
       "      <th>2</th>\n",
       "      <td>Exp_m1_aire.csv</td>\n",
       "      <td>0.00</td>\n",
       "      <td>0.00000</td>\n",
       "      <td>m1</td>\n",
       "      <td>aire</td>\n",
       "      <td>NaN</td>\n",
       "      <td>NaN</td>\n",
       "    </tr>\n",
       "    <tr>\n",
       "      <th>3</th>\n",
       "      <td>Exp_m1_P057.csv</td>\n",
       "      <td>3948000.00</td>\n",
       "      <td>0.14957</td>\n",
       "      <td>m1</td>\n",
       "      <td>P057</td>\n",
       "      <td>NaN</td>\n",
       "      <td>NaN</td>\n",
       "    </tr>\n",
       "  </tbody>\n",
       "</table>\n",
       "</div>"
      ],
      "text/plain": [
       "                  archivo  conductividad  espesor bobina  muestras      mueff  \\\n",
       "0      Exp_m1_347-M02.csv     1118491.27  0.02340     m1   347-M02  43.172019   \n",
       "1  Exp_m1_1010-M01_m1.csv     3830000.00  0.06500     m1  1010-M01  65.521862   \n",
       "2         Exp_m1_aire.csv           0.00  0.00000     m1      aire        NaN   \n",
       "3         Exp_m1_P057.csv     3948000.00  0.14957     m1      P057        NaN   \n",
       "\n",
       "         R2  \n",
       "0  0.985053  \n",
       "1  0.983927  \n",
       "2       NaN  \n",
       "3       NaN  "
      ]
     },
     "execution_count": 6,
     "metadata": {},
     "output_type": "execute_result"
    }
   ],
   "source": [
    "exp1.info"
   ]
  },
  {
   "cell_type": "code",
   "execution_count": 7,
   "id": "c868e45e",
   "metadata": {},
   "outputs": [
    {
     "data": {
      "text/html": [
       "<div>\n",
       "<style scoped>\n",
       "    .dataframe tbody tr th:only-of-type {\n",
       "        vertical-align: middle;\n",
       "    }\n",
       "\n",
       "    .dataframe tbody tr th {\n",
       "        vertical-align: top;\n",
       "    }\n",
       "\n",
       "    .dataframe thead th {\n",
       "        text-align: right;\n",
       "    }\n",
       "</style>\n",
       "<table border=\"1\" class=\"dataframe\">\n",
       "  <thead>\n",
       "    <tr style=\"text-align: right;\">\n",
       "      <th></th>\n",
       "      <th>archivo</th>\n",
       "      <th>conductividad</th>\n",
       "      <th>espesor</th>\n",
       "      <th>bobina</th>\n",
       "      <th>muestras</th>\n",
       "      <th>mueff</th>\n",
       "      <th>R2</th>\n",
       "    </tr>\n",
       "  </thead>\n",
       "  <tbody>\n",
       "    <tr>\n",
       "      <th>0</th>\n",
       "      <td>Exp_pp1_1010-M01.csv</td>\n",
       "      <td>3830000.00</td>\n",
       "      <td>0.06500</td>\n",
       "      <td>pp1</td>\n",
       "      <td>1010-M01</td>\n",
       "      <td>71.191942</td>\n",
       "      <td>0.981851</td>\n",
       "    </tr>\n",
       "    <tr>\n",
       "      <th>1</th>\n",
       "      <td>Exp_pp1_aire.csv</td>\n",
       "      <td>0.00</td>\n",
       "      <td>0.00000</td>\n",
       "      <td>pp1</td>\n",
       "      <td>aire</td>\n",
       "      <td>NaN</td>\n",
       "      <td>NaN</td>\n",
       "    </tr>\n",
       "    <tr>\n",
       "      <th>2</th>\n",
       "      <td>Exp_pp1_347-M02.csv</td>\n",
       "      <td>1118491.27</td>\n",
       "      <td>0.02340</td>\n",
       "      <td>pp1</td>\n",
       "      <td>347-M02</td>\n",
       "      <td>47.042678</td>\n",
       "      <td>0.976693</td>\n",
       "    </tr>\n",
       "    <tr>\n",
       "      <th>3</th>\n",
       "      <td>Exp_pp1_P057.csv</td>\n",
       "      <td>3948000.00</td>\n",
       "      <td>0.14957</td>\n",
       "      <td>pp1</td>\n",
       "      <td>P057</td>\n",
       "      <td>NaN</td>\n",
       "      <td>NaN</td>\n",
       "    </tr>\n",
       "  </tbody>\n",
       "</table>\n",
       "</div>"
      ],
      "text/plain": [
       "                archivo  conductividad  espesor bobina  muestras      mueff  \\\n",
       "0  Exp_pp1_1010-M01.csv     3830000.00  0.06500    pp1  1010-M01  71.191942   \n",
       "1      Exp_pp1_aire.csv           0.00  0.00000    pp1      aire        NaN   \n",
       "2   Exp_pp1_347-M02.csv     1118491.27  0.02340    pp1   347-M02  47.042678   \n",
       "3      Exp_pp1_P057.csv     3948000.00  0.14957    pp1      P057        NaN   \n",
       "\n",
       "         R2  \n",
       "0  0.981851  \n",
       "1       NaN  \n",
       "2  0.976693  \n",
       "3       NaN  "
      ]
     },
     "execution_count": 7,
     "metadata": {},
     "output_type": "execute_result"
    }
   ],
   "source": [
    "exp2.info"
   ]
  },
  {
   "cell_type": "code",
   "execution_count": 8,
   "id": "b54b217e",
   "metadata": {},
   "outputs": [
    {
     "data": {
      "text/html": [
       "\n",
       "  <div id=\"5aa400e7-002b-43a4-b9ac-b6dbbc28240f\" data-root-id=\"p1159\" style=\"display: contents;\"></div>\n"
      ]
     },
     "metadata": {},
     "output_type": "display_data"
    },
    {
     "data": {
      "application/javascript": [
       "(function(root) {\n",
       "  function embed_document(root) {\n",
       "  const docs_json = {\"15515fff-537d-4e73-ba9f-4415e9ec855b\":{\"version\":\"3.1.0\",\"title\":\"Bokeh Application\",\"defs\":[],\"roots\":[{\"type\":\"object\",\"name\":\"GridPlot\",\"id\":\"p1159\",\"attributes\":{\"rows\":null,\"cols\":null,\"toolbar\":{\"type\":\"object\",\"name\":\"Toolbar\",\"id\":\"p1158\",\"attributes\":{\"tools\":[{\"type\":\"object\",\"name\":\"ToolProxy\",\"id\":\"p1156\",\"attributes\":{\"tools\":[{\"type\":\"object\",\"name\":\"BoxZoomTool\",\"id\":\"p1034\",\"attributes\":{\"overlay\":{\"type\":\"object\",\"name\":\"BoxAnnotation\",\"id\":\"p1035\",\"attributes\":{\"syncable\":false,\"level\":\"overlay\",\"visible\":false,\"left_units\":\"canvas\",\"right_units\":\"canvas\",\"bottom_units\":\"canvas\",\"top_units\":\"canvas\",\"line_color\":\"black\",\"line_alpha\":1.0,\"line_width\":2,\"line_dash\":[4,4],\"fill_color\":\"lightgrey\",\"fill_alpha\":0.5}}}},{\"type\":\"object\",\"name\":\"BoxZoomTool\",\"id\":\"p1091\",\"attributes\":{\"overlay\":{\"type\":\"object\",\"name\":\"BoxAnnotation\",\"id\":\"p1092\",\"attributes\":{\"syncable\":false,\"level\":\"overlay\",\"visible\":false,\"left_units\":\"canvas\",\"right_units\":\"canvas\",\"bottom_units\":\"canvas\",\"top_units\":\"canvas\",\"line_color\":\"black\",\"line_alpha\":1.0,\"line_width\":2,\"line_dash\":[4,4],\"fill_color\":\"lightgrey\",\"fill_alpha\":0.5}}}}]}},{\"type\":\"object\",\"name\":\"ToolProxy\",\"id\":\"p1157\",\"attributes\":{\"tools\":[{\"type\":\"object\",\"name\":\"ResetTool\",\"id\":\"p1036\"},{\"type\":\"object\",\"name\":\"ResetTool\",\"id\":\"p1093\"}]}}]}},\"children\":[[{\"type\":\"object\",\"name\":\"Figure\",\"id\":\"p1002\",\"attributes\":{\"width\":300,\"height\":250,\"x_range\":{\"type\":\"object\",\"name\":\"DataRange1d\",\"id\":\"p1003\"},\"y_range\":{\"type\":\"object\",\"name\":\"DataRange1d\",\"id\":\"p1004\"},\"x_scale\":{\"type\":\"object\",\"name\":\"LogScale\",\"id\":\"p1016\"},\"y_scale\":{\"type\":\"object\",\"name\":\"LinearScale\",\"id\":\"p1018\"},\"title\":{\"type\":\"object\",\"name\":\"Title\",\"id\":\"p1005\",\"attributes\":{\"text\":\"1010-M01 mueff = 65.52\"}},\"renderers\":[{\"type\":\"object\",\"name\":\"GlyphRenderer\",\"id\":\"p1047\",\"attributes\":{\"data_source\":{\"type\":\"object\",\"name\":\"ColumnDataSource\",\"id\":\"p1041\",\"attributes\":{\"selected\":{\"type\":\"object\",\"name\":\"Selection\",\"id\":\"p1042\",\"attributes\":{\"indices\":[],\"line_indices\":[]}},\"selection_policy\":{\"type\":\"object\",\"name\":\"UnionRenderers\",\"id\":\"p1043\"},\"data\":{\"type\":\"map\",\"entries\":[[\"x\",{\"type\":\"ndarray\",\"array\":{\"type\":\"bytes\",\"data\":\"AAAAAAAAWUCF61G4HnlfQNk9eVioz2NA9+RhodbwaEDSAN4CCWZvQHbgnBGlw3NAGeJYF7fheED7XG3F/lJ/QLAD54yot4NAYVRSJ6DSiEAAAAAAAECPQDMzMzOzq5NAUI2XbpLDmEA1XrpJDC2fQIPAyqHFn6NAkxgEVo60qECgGi/dJBqvQGiR7Xzfk7NAnMQgsJKluEB56SYxSAe/QAAAAAAAiMNAAAAAAKCWyECkcD0Kd/TOQOF6FK4nfNNA4XoUrreH2EC4HoXrseHeQKRwPQpXcONApHA9Ctd46EDD9Shc987uQHsUrkeNZPNAAAAAAABq+EAAAAAASLz+QGZmZmbKWANBmpmZmTFbCEHNzMzMpKkOQTMzMzMPTRNBzczMzGxMGEEzMzMzDZceQZqZmZlaQSNBmpmZmbA9KEEAAAAAgIQuQQ==\"},\"shape\":[41],\"dtype\":\"float64\",\"order\":\"little\"}],[\"y\",{\"type\":\"ndarray\",\"array\":{\"type\":\"bytes\",\"data\":\"S81Trf/tuz+vF1N/xmG6P8LyghJK2rk/Nc8JZxxZuD+Bv2gGOpu7P9m3c4lNUbs/Ck3eZhmuuz/nCrzVe/+6P+rOKwedKbs//z62Xf3Yuj/XNvGutBq7P7wI4yLfb7o/J8kYyM8Luj8SMVz6hR26P1lw/1vHrrk/mLTl7SAPuT/sj9CYWk25P/kNCR/jqbc/rufeOAHmuD8UnTxbvSe4P6W/dIw1YLc/nY5gOzXOtj/RmGJ+X0m2P3GTj45FdLU/3kfBVQa+tD9NPy4cVHKzP9tTsgwXSLI/5qPsH7wSsD+qu4KHWTGuP05oCzCb76o/VXZylluBpj+iH9Kf2DKkP4G+webyW6I//tY/xR7XmT90fQ5EbiuRP8CamwBQYn4/i6QXl28wWr9b6aEKtKKAv5dCWkU7/ZG/JcZlJgHym7+z+Rt9ujCivw==\"},\"shape\":[41],\"dtype\":\"float64\",\"order\":\"little\"}]]}}},\"view\":{\"type\":\"object\",\"name\":\"CDSView\",\"id\":\"p1048\",\"attributes\":{\"filter\":{\"type\":\"object\",\"name\":\"AllIndices\",\"id\":\"p1049\"}}},\"glyph\":{\"type\":\"object\",\"name\":\"Circle\",\"id\":\"p1044\",\"attributes\":{\"x\":{\"type\":\"field\",\"field\":\"x\"},\"y\":{\"type\":\"field\",\"field\":\"y\"},\"line_color\":{\"type\":\"value\",\"value\":\"#1f77b4\"},\"fill_color\":{\"type\":\"value\",\"value\":\"#1f77b4\"}}},\"nonselection_glyph\":{\"type\":\"object\",\"name\":\"Circle\",\"id\":\"p1045\",\"attributes\":{\"x\":{\"type\":\"field\",\"field\":\"x\"},\"y\":{\"type\":\"field\",\"field\":\"y\"},\"line_color\":{\"type\":\"value\",\"value\":\"#1f77b4\"},\"line_alpha\":{\"type\":\"value\",\"value\":0.1},\"fill_color\":{\"type\":\"value\",\"value\":\"#1f77b4\"},\"fill_alpha\":{\"type\":\"value\",\"value\":0.1},\"hatch_alpha\":{\"type\":\"value\",\"value\":0.1}}},\"muted_glyph\":{\"type\":\"object\",\"name\":\"Circle\",\"id\":\"p1046\",\"attributes\":{\"x\":{\"type\":\"field\",\"field\":\"x\"},\"y\":{\"type\":\"field\",\"field\":\"y\"},\"line_color\":{\"type\":\"value\",\"value\":\"#1f77b4\"},\"line_alpha\":{\"type\":\"value\",\"value\":0.2},\"fill_color\":{\"type\":\"value\",\"value\":\"#1f77b4\"},\"fill_alpha\":{\"type\":\"value\",\"value\":0.2},\"hatch_alpha\":{\"type\":\"value\",\"value\":0.2}}}}},{\"type\":\"object\",\"name\":\"GlyphRenderer\",\"id\":\"p1056\",\"attributes\":{\"data_source\":{\"type\":\"object\",\"name\":\"ColumnDataSource\",\"id\":\"p1050\",\"attributes\":{\"selected\":{\"type\":\"object\",\"name\":\"Selection\",\"id\":\"p1051\",\"attributes\":{\"indices\":[],\"line_indices\":[]}},\"selection_policy\":{\"type\":\"object\",\"name\":\"UnionRenderers\",\"id\":\"p1052\"},\"data\":{\"type\":\"map\",\"entries\":[[\"x\",{\"type\":\"ndarray\",\"array\":{\"type\":\"bytes\",\"data\":\"AAAAAAAAWUCF61G4HnlfQNk9eVioz2NA9+RhodbwaEDSAN4CCWZvQHbgnBGlw3NAGeJYF7fheED7XG3F/lJ/QLAD54yot4NAYVRSJ6DSiEAAAAAAAECPQDMzMzOzq5NAUI2XbpLDmEA1XrpJDC2fQIPAyqHFn6NAkxgEVo60qECgGi/dJBqvQGiR7Xzfk7NAnMQgsJKluEB56SYxSAe/QAAAAAAAiMNAAAAAAKCWyECkcD0Kd/TOQOF6FK4nfNNA4XoUrreH2EC4HoXrseHeQKRwPQpXcONApHA9Ctd46EDD9Shc987uQHsUrkeNZPNAAAAAAABq+EAAAAAASLz+QGZmZmbKWANBmpmZmTFbCEHNzMzMpKkOQTMzMzMPTRNBzczMzGxMGEEzMzMzDZceQZqZmZlaQSNBmpmZmbA9KEEAAAAAgIQuQQ==\"},\"shape\":[41],\"dtype\":\"float64\",\"order\":\"little\"}],[\"y\",{\"type\":\"ndarray\",\"array\":{\"type\":\"bytes\",\"data\":\"vxjnrZLOvD9RxOopp768PzC32X6Fq7w/gU4gfLqUvD/p1YH+zHm8P7N+yXE+Wrw/5Pum2Io1vD90nSAfKAu8P6Y3c+KE2rs/d36zuwajuz8CGds9CGS7PzJMQA3XHLs/hErNIrLMuj8Zn5kHyXK6P13Eb1c7Dro/fbCBZBmeuT8PG1bGZSG5Py7Ok3EXl7g/HfgrPR3+tz8ArYHvYVW3P+t7vObRm7Y/IZhlmWHQtT95AQT7FPK0P57hCBYJALQ/YSD+P335sj8cNPm83t2xP8kZtzPTrLA/4eQnpYnMrj/q5Anj2RSsP+mv9He8M6k//0j70Bkrpj/kzOnTp/2iPw4hB4PbXZ8/vFySj4WGmD93F0cgfn+RP1SoiP2aqIQ/ZXb5abyMaD/J5OyV2+xwv5VoiTWBCIe/YdqZRqC7kr8Tqm/9y9OZvw==\"},\"shape\":[41],\"dtype\":\"float64\",\"order\":\"little\"}]]}}},\"view\":{\"type\":\"object\",\"name\":\"CDSView\",\"id\":\"p1057\",\"attributes\":{\"filter\":{\"type\":\"object\",\"name\":\"AllIndices\",\"id\":\"p1058\"}}},\"glyph\":{\"type\":\"object\",\"name\":\"Line\",\"id\":\"p1053\",\"attributes\":{\"x\":{\"type\":\"field\",\"field\":\"x\"},\"y\":{\"type\":\"field\",\"field\":\"y\"},\"line_color\":\"#f46d43\",\"line_alpha\":0.6,\"line_width\":2}},\"nonselection_glyph\":{\"type\":\"object\",\"name\":\"Line\",\"id\":\"p1054\",\"attributes\":{\"x\":{\"type\":\"field\",\"field\":\"x\"},\"y\":{\"type\":\"field\",\"field\":\"y\"},\"line_color\":\"#f46d43\",\"line_alpha\":0.1,\"line_width\":2}},\"muted_glyph\":{\"type\":\"object\",\"name\":\"Line\",\"id\":\"p1055\",\"attributes\":{\"x\":{\"type\":\"field\",\"field\":\"x\"},\"y\":{\"type\":\"field\",\"field\":\"y\"},\"line_color\":\"#f46d43\",\"line_alpha\":0.2,\"line_width\":2}}}}],\"toolbar\":{\"type\":\"object\",\"name\":\"Toolbar\",\"id\":\"p1011\",\"attributes\":{\"tools\":[{\"id\":\"p1034\"},{\"id\":\"p1036\"}]}},\"toolbar_location\":null,\"left\":[{\"type\":\"object\",\"name\":\"LinearAxis\",\"id\":\"p1027\",\"attributes\":{\"ticker\":{\"type\":\"object\",\"name\":\"BasicTicker\",\"id\":\"p1029\",\"attributes\":{\"mantissas\":[1,2,5]}},\"formatter\":{\"type\":\"object\",\"name\":\"BasicTickFormatter\",\"id\":\"p1030\"},\"axis_label\":\"im(dz)/x0\",\"major_label_policy\":{\"type\":\"object\",\"name\":\"AllLabels\",\"id\":\"p1028\"}}}],\"below\":[{\"type\":\"object\",\"name\":\"LogAxis\",\"id\":\"p1020\",\"attributes\":{\"ticker\":{\"type\":\"object\",\"name\":\"LogTicker\",\"id\":\"p1022\",\"attributes\":{\"num_minor_ticks\":10,\"mantissas\":[1,5]}},\"formatter\":{\"type\":\"object\",\"name\":\"LogTickFormatter\",\"id\":\"p1023\"},\"axis_label\":\"f[Hz]\",\"major_label_policy\":{\"type\":\"object\",\"name\":\"AllLabels\",\"id\":\"p1021\"}}}],\"center\":[{\"type\":\"object\",\"name\":\"Grid\",\"id\":\"p1026\",\"attributes\":{\"axis\":{\"id\":\"p1020\"}}},{\"type\":\"object\",\"name\":\"Grid\",\"id\":\"p1033\",\"attributes\":{\"dimension\":1,\"axis\":{\"id\":\"p1027\"}}}]}},0,0],[{\"type\":\"object\",\"name\":\"Figure\",\"id\":\"p1059\",\"attributes\":{\"width\":300,\"height\":250,\"x_range\":{\"type\":\"object\",\"name\":\"DataRange1d\",\"id\":\"p1060\"},\"y_range\":{\"type\":\"object\",\"name\":\"DataRange1d\",\"id\":\"p1061\"},\"x_scale\":{\"type\":\"object\",\"name\":\"LogScale\",\"id\":\"p1073\"},\"y_scale\":{\"type\":\"object\",\"name\":\"LinearScale\",\"id\":\"p1075\"},\"title\":{\"type\":\"object\",\"name\":\"Title\",\"id\":\"p1062\",\"attributes\":{\"text\":\"347-M02 mueff = 43.17\"}},\"renderers\":[{\"type\":\"object\",\"name\":\"GlyphRenderer\",\"id\":\"p1104\",\"attributes\":{\"data_source\":{\"type\":\"object\",\"name\":\"ColumnDataSource\",\"id\":\"p1098\",\"attributes\":{\"selected\":{\"type\":\"object\",\"name\":\"Selection\",\"id\":\"p1099\",\"attributes\":{\"indices\":[],\"line_indices\":[]}},\"selection_policy\":{\"type\":\"object\",\"name\":\"UnionRenderers\",\"id\":\"p1100\"},\"data\":{\"type\":\"map\",\"entries\":[[\"x\",{\"type\":\"ndarray\",\"array\":{\"type\":\"bytes\",\"data\":\"AAAAAAAAWUCF61G4HnlfQNk9eVioz2NA9+RhodbwaEDSAN4CCWZvQHbgnBGlw3NAGeJYF7fheED7XG3F/lJ/QLAD54yot4NAYVRSJ6DSiEAAAAAAAECPQDMzMzOzq5NAUI2XbpLDmEA1XrpJDC2fQIPAyqHFn6NAkxgEVo60qECgGi/dJBqvQGiR7Xzfk7NAnMQgsJKluEB56SYxSAe/QAAAAAAAiMNAAAAAAKCWyECkcD0Kd/TOQOF6FK4nfNNA4XoUrreH2EC4HoXrseHeQKRwPQpXcONApHA9Ctd46EDD9Shc987uQHsUrkeNZPNAAAAAAABq+EAAAAAASLz+QGZmZmbKWANBmpmZmTFbCEHNzMzMpKkOQTMzMzMPTRNBzczMzGxMGEEzMzMzDZceQZqZmZlaQSNBmpmZmbA9KEEAAAAAgIQuQQ==\"},\"shape\":[41],\"dtype\":\"float64\",\"order\":\"little\"}],[\"y\",{\"type\":\"ndarray\",\"array\":{\"type\":\"bytes\",\"data\":\"6P/YHCpguz/PyC9BPjG9P8Gz/9wiK7s/7y0h2dBsuD+kEYXy0Gm7P+RUHl83a7s/LJzUnRuiuj/+E9RsVlq7P0AFYfz32bo//MERyJ3Puj9HqILZlCq7PzUBn6wEXLs/U1RpTBgFuz94lJOiSdC6P3V0/eF6WLo/WTQ64GYauj9xEBPZUM25P6aEAodrJLo/Dj+LZx/WuT8W1oyRvqe5P5b7BG2f4rk/+J6q4w5juD9SRz5736+4P+YBxCyB5rc/WARIIEHZtj/OubS/5mW2P+jtxK+avrU/f0Xo6jWGtD+yqHg1q9CyP5MXs9aXnbE/ZkrPaj8isD86AbYl4vmvP4OrlBh0l6o/6EMFihDzpz9P5OfoqDumP2qHXlSMcqE/WYEXqxaxmj/3f6V8Yt6TP7+ro+URcIg/OdkkjTZ5aT89TotqwCV4vw==\"},\"shape\":[41],\"dtype\":\"float64\",\"order\":\"little\"}]]}}},\"view\":{\"type\":\"object\",\"name\":\"CDSView\",\"id\":\"p1105\",\"attributes\":{\"filter\":{\"type\":\"object\",\"name\":\"AllIndices\",\"id\":\"p1106\"}}},\"glyph\":{\"type\":\"object\",\"name\":\"Circle\",\"id\":\"p1101\",\"attributes\":{\"x\":{\"type\":\"field\",\"field\":\"x\"},\"y\":{\"type\":\"field\",\"field\":\"y\"},\"line_color\":{\"type\":\"value\",\"value\":\"#1f77b4\"},\"fill_color\":{\"type\":\"value\",\"value\":\"#1f77b4\"}}},\"nonselection_glyph\":{\"type\":\"object\",\"name\":\"Circle\",\"id\":\"p1102\",\"attributes\":{\"x\":{\"type\":\"field\",\"field\":\"x\"},\"y\":{\"type\":\"field\",\"field\":\"y\"},\"line_color\":{\"type\":\"value\",\"value\":\"#1f77b4\"},\"line_alpha\":{\"type\":\"value\",\"value\":0.1},\"fill_color\":{\"type\":\"value\",\"value\":\"#1f77b4\"},\"fill_alpha\":{\"type\":\"value\",\"value\":0.1},\"hatch_alpha\":{\"type\":\"value\",\"value\":0.1}}},\"muted_glyph\":{\"type\":\"object\",\"name\":\"Circle\",\"id\":\"p1103\",\"attributes\":{\"x\":{\"type\":\"field\",\"field\":\"x\"},\"y\":{\"type\":\"field\",\"field\":\"y\"},\"line_color\":{\"type\":\"value\",\"value\":\"#1f77b4\"},\"line_alpha\":{\"type\":\"value\",\"value\":0.2},\"fill_color\":{\"type\":\"value\",\"value\":\"#1f77b4\"},\"fill_alpha\":{\"type\":\"value\",\"value\":0.2},\"hatch_alpha\":{\"type\":\"value\",\"value\":0.2}}}}},{\"type\":\"object\",\"name\":\"GlyphRenderer\",\"id\":\"p1113\",\"attributes\":{\"data_source\":{\"type\":\"object\",\"name\":\"ColumnDataSource\",\"id\":\"p1107\",\"attributes\":{\"selected\":{\"type\":\"object\",\"name\":\"Selection\",\"id\":\"p1108\",\"attributes\":{\"indices\":[],\"line_indices\":[]}},\"selection_policy\":{\"type\":\"object\",\"name\":\"UnionRenderers\",\"id\":\"p1109\"},\"data\":{\"type\":\"map\",\"entries\":[[\"x\",{\"type\":\"ndarray\",\"array\":{\"type\":\"bytes\",\"data\":\"AAAAAAAAWUCF61G4HnlfQNk9eVioz2NA9+RhodbwaEDSAN4CCWZvQHbgnBGlw3NAGeJYF7fheED7XG3F/lJ/QLAD54yot4NAYVRSJ6DSiEAAAAAAAECPQDMzMzOzq5NAUI2XbpLDmEA1XrpJDC2fQIPAyqHFn6NAkxgEVo60qECgGi/dJBqvQGiR7Xzfk7NAnMQgsJKluEB56SYxSAe/QAAAAAAAiMNAAAAAAKCWyECkcD0Kd/TOQOF6FK4nfNNA4XoUrreH2EC4HoXrseHeQKRwPQpXcONApHA9Ctd46EDD9Shc987uQHsUrkeNZPNAAAAAAABq+EAAAAAASLz+QGZmZmbKWANBmpmZmTFbCEHNzMzMpKkOQTMzMzMPTRNBzczMzGxMGEEzMzMzDZceQZqZmZlaQSNBmpmZmbA9KEEAAAAAgIQuQQ==\"},\"shape\":[41],\"dtype\":\"float64\",\"order\":\"little\"}],[\"y\",{\"type\":\"ndarray\",\"array\":{\"type\":\"bytes\",\"data\":\"0OxWGNeJvD//bncgz4S8P7z4hTNofrw/Uc789Ex2vD8+UOrOHWy8P+kLOXdvX7w/AQ7GmchPvD/caXDSoTy8PzdiinpnJbw/46IzYHsJvD9ZtfFLNui7PzvvxqTpwLs/MGoQs+CSuz8lnHV8YV27P+fD95WsH7s/79JLVvzYuj9aOnx2g4i6P8EJIDVrLbo/R53U+9HGuT9tvlFgylO5P1P9AY1b07g/M/EWxoJEuD8T0+QkNqa3P+5lOoFp97Y/A+DwuBM3tj+LTkRwNmS1PwpuCdLlfbQ/DT2GnVKDsz8mu8Fg1HOyP0ZyeN/0TrE/VxvIu3sUsD/HZI8/84itP3fIQ2alvqo/g5oWhJHLpz+r+vmOArKkPyPnxsQTdaE/hrlBvGQxnD/yulRLKEOVP429iQWhVIw/YQG/09nLez+IKGkt93Q1vw==\"},\"shape\":[41],\"dtype\":\"float64\",\"order\":\"little\"}]]}}},\"view\":{\"type\":\"object\",\"name\":\"CDSView\",\"id\":\"p1114\",\"attributes\":{\"filter\":{\"type\":\"object\",\"name\":\"AllIndices\",\"id\":\"p1115\"}}},\"glyph\":{\"type\":\"object\",\"name\":\"Line\",\"id\":\"p1110\",\"attributes\":{\"x\":{\"type\":\"field\",\"field\":\"x\"},\"y\":{\"type\":\"field\",\"field\":\"y\"},\"line_color\":\"#f46d43\",\"line_alpha\":0.6,\"line_width\":2}},\"nonselection_glyph\":{\"type\":\"object\",\"name\":\"Line\",\"id\":\"p1111\",\"attributes\":{\"x\":{\"type\":\"field\",\"field\":\"x\"},\"y\":{\"type\":\"field\",\"field\":\"y\"},\"line_color\":\"#f46d43\",\"line_alpha\":0.1,\"line_width\":2}},\"muted_glyph\":{\"type\":\"object\",\"name\":\"Line\",\"id\":\"p1112\",\"attributes\":{\"x\":{\"type\":\"field\",\"field\":\"x\"},\"y\":{\"type\":\"field\",\"field\":\"y\"},\"line_color\":\"#f46d43\",\"line_alpha\":0.2,\"line_width\":2}}}}],\"toolbar\":{\"type\":\"object\",\"name\":\"Toolbar\",\"id\":\"p1068\",\"attributes\":{\"tools\":[{\"id\":\"p1091\"},{\"id\":\"p1093\"}]}},\"toolbar_location\":null,\"left\":[{\"type\":\"object\",\"name\":\"LinearAxis\",\"id\":\"p1084\",\"attributes\":{\"ticker\":{\"type\":\"object\",\"name\":\"BasicTicker\",\"id\":\"p1086\",\"attributes\":{\"mantissas\":[1,2,5]}},\"formatter\":{\"type\":\"object\",\"name\":\"BasicTickFormatter\",\"id\":\"p1087\"},\"axis_label\":\"im(dz)/x0\",\"major_label_policy\":{\"type\":\"object\",\"name\":\"AllLabels\",\"id\":\"p1085\"}}}],\"below\":[{\"type\":\"object\",\"name\":\"LogAxis\",\"id\":\"p1077\",\"attributes\":{\"ticker\":{\"type\":\"object\",\"name\":\"LogTicker\",\"id\":\"p1079\",\"attributes\":{\"num_minor_ticks\":10,\"mantissas\":[1,5]}},\"formatter\":{\"type\":\"object\",\"name\":\"LogTickFormatter\",\"id\":\"p1080\"},\"axis_label\":\"f[Hz]\",\"major_label_policy\":{\"type\":\"object\",\"name\":\"AllLabels\",\"id\":\"p1078\"}}}],\"center\":[{\"type\":\"object\",\"name\":\"Grid\",\"id\":\"p1083\",\"attributes\":{\"axis\":{\"id\":\"p1077\"}}},{\"type\":\"object\",\"name\":\"Grid\",\"id\":\"p1090\",\"attributes\":{\"dimension\":1,\"axis\":{\"id\":\"p1084\"}}}]}},0,1]]}}],\"callbacks\":{\"type\":\"map\"}}};\n",
       "  const render_items = [{\"docid\":\"15515fff-537d-4e73-ba9f-4415e9ec855b\",\"roots\":{\"p1159\":\"5aa400e7-002b-43a4-b9ac-b6dbbc28240f\"},\"root_ids\":[\"p1159\"]}];\n",
       "  root.Bokeh.embed.embed_items_notebook(docs_json, render_items);\n",
       "  }\n",
       "  if (root.Bokeh !== undefined) {\n",
       "    embed_document(root);\n",
       "  } else {\n",
       "    let attempts = 0;\n",
       "    const timer = setInterval(function(root) {\n",
       "      if (root.Bokeh !== undefined) {\n",
       "        clearInterval(timer);\n",
       "        embed_document(root);\n",
       "      } else {\n",
       "        attempts++;\n",
       "        if (attempts > 100) {\n",
       "          clearInterval(timer);\n",
       "          console.log(\"Bokeh: ERROR: Unable to run BokehJS code because BokehJS library is missing\");\n",
       "        }\n",
       "      }\n",
       "    }, 10, root)\n",
       "  }\n",
       "})(window);"
      ],
      "application/vnd.bokehjs_exec.v0+json": ""
     },
     "metadata": {
      "application/vnd.bokehjs_exec.v0+json": {
       "id": "p1159"
      }
     },
     "output_type": "display_data"
    }
   ],
   "source": [
    "exp1.muesplot()"
   ]
  },
  {
   "cell_type": "code",
   "execution_count": 9,
   "id": "dc9270c5",
   "metadata": {},
   "outputs": [
    {
     "data": {
      "text/html": [
       "\n",
       "  <div id=\"c0010774-e55b-49b4-83b5-786644a9f140\" data-root-id=\"p1548\" style=\"display: contents;\"></div>\n"
      ]
     },
     "metadata": {},
     "output_type": "display_data"
    },
    {
     "data": {
      "application/javascript": [
       "(function(root) {\n",
       "  function embed_document(root) {\n",
       "  const docs_json = {\"d376bbfc-5f44-4a79-9c7d-f8ee29d90215\":{\"version\":\"3.1.0\",\"title\":\"Bokeh Application\",\"defs\":[],\"roots\":[{\"type\":\"object\",\"name\":\"GridPlot\",\"id\":\"p1548\",\"attributes\":{\"rows\":null,\"cols\":null,\"toolbar\":{\"type\":\"object\",\"name\":\"Toolbar\",\"id\":\"p1547\",\"attributes\":{\"tools\":[{\"type\":\"object\",\"name\":\"ToolProxy\",\"id\":\"p1545\",\"attributes\":{\"tools\":[{\"type\":\"object\",\"name\":\"BoxZoomTool\",\"id\":\"p1423\",\"attributes\":{\"overlay\":{\"type\":\"object\",\"name\":\"BoxAnnotation\",\"id\":\"p1424\",\"attributes\":{\"syncable\":false,\"level\":\"overlay\",\"visible\":false,\"left_units\":\"canvas\",\"right_units\":\"canvas\",\"bottom_units\":\"canvas\",\"top_units\":\"canvas\",\"line_color\":\"black\",\"line_alpha\":1.0,\"line_width\":2,\"line_dash\":[4,4],\"fill_color\":\"lightgrey\",\"fill_alpha\":0.5}}}},{\"type\":\"object\",\"name\":\"BoxZoomTool\",\"id\":\"p1480\",\"attributes\":{\"overlay\":{\"type\":\"object\",\"name\":\"BoxAnnotation\",\"id\":\"p1481\",\"attributes\":{\"syncable\":false,\"level\":\"overlay\",\"visible\":false,\"left_units\":\"canvas\",\"right_units\":\"canvas\",\"bottom_units\":\"canvas\",\"top_units\":\"canvas\",\"line_color\":\"black\",\"line_alpha\":1.0,\"line_width\":2,\"line_dash\":[4,4],\"fill_color\":\"lightgrey\",\"fill_alpha\":0.5}}}}]}},{\"type\":\"object\",\"name\":\"ToolProxy\",\"id\":\"p1546\",\"attributes\":{\"tools\":[{\"type\":\"object\",\"name\":\"ResetTool\",\"id\":\"p1425\"},{\"type\":\"object\",\"name\":\"ResetTool\",\"id\":\"p1482\"}]}}]}},\"children\":[[{\"type\":\"object\",\"name\":\"Figure\",\"id\":\"p1391\",\"attributes\":{\"width\":300,\"height\":250,\"x_range\":{\"type\":\"object\",\"name\":\"DataRange1d\",\"id\":\"p1392\"},\"y_range\":{\"type\":\"object\",\"name\":\"DataRange1d\",\"id\":\"p1393\"},\"x_scale\":{\"type\":\"object\",\"name\":\"LogScale\",\"id\":\"p1405\"},\"y_scale\":{\"type\":\"object\",\"name\":\"LinearScale\",\"id\":\"p1407\"},\"title\":{\"type\":\"object\",\"name\":\"Title\",\"id\":\"p1394\",\"attributes\":{\"text\":\"1010-M01 mueff = 71.19\"}},\"renderers\":[{\"type\":\"object\",\"name\":\"GlyphRenderer\",\"id\":\"p1436\",\"attributes\":{\"data_source\":{\"type\":\"object\",\"name\":\"ColumnDataSource\",\"id\":\"p1430\",\"attributes\":{\"selected\":{\"type\":\"object\",\"name\":\"Selection\",\"id\":\"p1431\",\"attributes\":{\"indices\":[],\"line_indices\":[]}},\"selection_policy\":{\"type\":\"object\",\"name\":\"UnionRenderers\",\"id\":\"p1432\"},\"data\":{\"type\":\"map\",\"entries\":[[\"x\",{\"type\":\"ndarray\",\"array\":{\"type\":\"bytes\",\"data\":\"AAAAAAAAWUCF61G4HnlfQNk9eVioz2NA9+RhodbwaEDSAN4CCWZvQHbgnBGlw3NAGeJYF7fheED7XG3F/lJ/QLAD54yot4NAYVRSJ6DSiEAAAAAAAECPQDMzMzOzq5NAUI2XbpLDmEA1XrpJDC2fQIPAyqHFn6NAkxgEVo60qECgGi/dJBqvQGiR7Xzfk7NAnMQgsJKluEB56SYxSAe/QAAAAAAAiMNAAAAAAKCWyECkcD0Kd/TOQOF6FK4nfNNA4XoUrreH2EC4HoXrseHeQKRwPQpXcONApHA9Ctd46EDD9Shc987uQHsUrkeNZPNAAAAAAABq+EAAAAAASLz+QGZmZmbKWANBmpmZmTFbCEHNzMzMpKkOQTMzMzMPTRNBzczMzGxMGEEzMzMzDZceQZqZmZlaQSNBmpmZmbA9KEEAAAAAgIQuQQ==\"},\"shape\":[41],\"dtype\":\"float64\",\"order\":\"little\"}],[\"y\",{\"type\":\"ndarray\",\"array\":{\"type\":\"bytes\",\"data\":\"R3k5upQdtj/RunyDd3i3PxC2QGh0obc/stl8Z7QQuD8//Uoni3G3P1gH2An48rY/no4rXi4Ktz8y9pYlJAu3P1K09pgdrrY/A8YE6dWCtj//4krJuVy2P28BXcBJULY/aV2rxiZjtj8vRjVMnxm2P8G1udF+FbY/FtpqsimQtT9J3RbjYq21P5M1I2Cnn7Q/5dKwyctftD+alCxH1auzP5NxDnYBLrM/Tx8ypQ91sT9VpGuU3sqwPwV72gNI9a4/RBMD3osSrD8ynayILISpP9CK+lDa4qc/U3EAG6s6pD9ZNmFG/HOfPwTaHp4+s5Q/KQrV7xP5kD9a1jXVufqDP3QxL1uIcCg/sTqcdbB6gL/AUcPrc/+Jv9IIKoSDopS/deFuS1pZnb9cMAUfGw2jvzi0Li0n9KW/z17h6Ne1qL9PmAO0cCasvw==\"},\"shape\":[41],\"dtype\":\"float64\",\"order\":\"little\"}]]}}},\"view\":{\"type\":\"object\",\"name\":\"CDSView\",\"id\":\"p1437\",\"attributes\":{\"filter\":{\"type\":\"object\",\"name\":\"AllIndices\",\"id\":\"p1438\"}}},\"glyph\":{\"type\":\"object\",\"name\":\"Circle\",\"id\":\"p1433\",\"attributes\":{\"x\":{\"type\":\"field\",\"field\":\"x\"},\"y\":{\"type\":\"field\",\"field\":\"y\"},\"line_color\":{\"type\":\"value\",\"value\":\"#1f77b4\"},\"fill_color\":{\"type\":\"value\",\"value\":\"#1f77b4\"}}},\"nonselection_glyph\":{\"type\":\"object\",\"name\":\"Circle\",\"id\":\"p1434\",\"attributes\":{\"x\":{\"type\":\"field\",\"field\":\"x\"},\"y\":{\"type\":\"field\",\"field\":\"y\"},\"line_color\":{\"type\":\"value\",\"value\":\"#1f77b4\"},\"line_alpha\":{\"type\":\"value\",\"value\":0.1},\"fill_color\":{\"type\":\"value\",\"value\":\"#1f77b4\"},\"fill_alpha\":{\"type\":\"value\",\"value\":0.1},\"hatch_alpha\":{\"type\":\"value\",\"value\":0.1}}},\"muted_glyph\":{\"type\":\"object\",\"name\":\"Circle\",\"id\":\"p1435\",\"attributes\":{\"x\":{\"type\":\"field\",\"field\":\"x\"},\"y\":{\"type\":\"field\",\"field\":\"y\"},\"line_color\":{\"type\":\"value\",\"value\":\"#1f77b4\"},\"line_alpha\":{\"type\":\"value\",\"value\":0.2},\"fill_color\":{\"type\":\"value\",\"value\":\"#1f77b4\"},\"fill_alpha\":{\"type\":\"value\",\"value\":0.2},\"hatch_alpha\":{\"type\":\"value\",\"value\":0.2}}}}},{\"type\":\"object\",\"name\":\"GlyphRenderer\",\"id\":\"p1445\",\"attributes\":{\"data_source\":{\"type\":\"object\",\"name\":\"ColumnDataSource\",\"id\":\"p1439\",\"attributes\":{\"selected\":{\"type\":\"object\",\"name\":\"Selection\",\"id\":\"p1440\",\"attributes\":{\"indices\":[],\"line_indices\":[]}},\"selection_policy\":{\"type\":\"object\",\"name\":\"UnionRenderers\",\"id\":\"p1441\"},\"data\":{\"type\":\"map\",\"entries\":[[\"x\",{\"type\":\"ndarray\",\"array\":{\"type\":\"bytes\",\"data\":\"AAAAAAAAWUCF61G4HnlfQNk9eVioz2NA9+RhodbwaEDSAN4CCWZvQHbgnBGlw3NAGeJYF7fheED7XG3F/lJ/QLAD54yot4NAYVRSJ6DSiEAAAAAAAECPQDMzMzOzq5NAUI2XbpLDmEA1XrpJDC2fQIPAyqHFn6NAkxgEVo60qECgGi/dJBqvQGiR7Xzfk7NAnMQgsJKluEB56SYxSAe/QAAAAAAAiMNAAAAAAKCWyECkcD0Kd/TOQOF6FK4nfNNA4XoUrreH2EC4HoXrseHeQKRwPQpXcONApHA9Ctd46EDD9Shc987uQHsUrkeNZPNAAAAAAABq+EAAAAAASLz+QGZmZmbKWANBmpmZmTFbCEHNzMzMpKkOQTMzMzMPTRNBzczMzGxMGEEzMzMzDZceQZqZmZlaQSNBmpmZmbA9KEEAAAAAgIQuQQ==\"},\"shape\":[41],\"dtype\":\"float64\",\"order\":\"little\"}],[\"y\",{\"type\":\"ndarray\",\"array\":{\"type\":\"bytes\",\"data\":\"NleF6juGuj9/oOJyhma6P6uNz9nnQbo/RnWNSeEXuj/m7wyu6+e5PwINK/B1sbk/UnD4NuNzuT9z2StAiS65PxCzmFOv4Lg/ANxO1I2JuD/aGRNxTii4P43oTyUNvLc/nCGLuNlDtz9dgGCfur62P36ZiQSwK7Y/V+MZOLiJtT+rs0oy1de0PyCBNZ8SFbQ/jwL+q41Asz83yc8pfVmyP+rKOlA7X7E/8Li+wE9RsD+oPxMZ816uP8DWliJ186s/MIwatsBgqT8ix4m3G6imPwVeLyKCy6M/3GxYG7DNoD/5IUq8RWSbPwlH/x4n+pQ/keuRjqXNjD/TbLLoEdV+P73YCavWLE4/s65iF9Rgd7/ykqYBZTWJvw5xQ8tGSZO/PlE24pXXmb/4HkmkCB2gv87Ws/kiM6O/zuZACpEppr/X+fb3kPyovw==\"},\"shape\":[41],\"dtype\":\"float64\",\"order\":\"little\"}]]}}},\"view\":{\"type\":\"object\",\"name\":\"CDSView\",\"id\":\"p1446\",\"attributes\":{\"filter\":{\"type\":\"object\",\"name\":\"AllIndices\",\"id\":\"p1447\"}}},\"glyph\":{\"type\":\"object\",\"name\":\"Line\",\"id\":\"p1442\",\"attributes\":{\"x\":{\"type\":\"field\",\"field\":\"x\"},\"y\":{\"type\":\"field\",\"field\":\"y\"},\"line_color\":\"#f46d43\",\"line_alpha\":0.6,\"line_width\":2}},\"nonselection_glyph\":{\"type\":\"object\",\"name\":\"Line\",\"id\":\"p1443\",\"attributes\":{\"x\":{\"type\":\"field\",\"field\":\"x\"},\"y\":{\"type\":\"field\",\"field\":\"y\"},\"line_color\":\"#f46d43\",\"line_alpha\":0.1,\"line_width\":2}},\"muted_glyph\":{\"type\":\"object\",\"name\":\"Line\",\"id\":\"p1444\",\"attributes\":{\"x\":{\"type\":\"field\",\"field\":\"x\"},\"y\":{\"type\":\"field\",\"field\":\"y\"},\"line_color\":\"#f46d43\",\"line_alpha\":0.2,\"line_width\":2}}}}],\"toolbar\":{\"type\":\"object\",\"name\":\"Toolbar\",\"id\":\"p1400\",\"attributes\":{\"tools\":[{\"id\":\"p1423\"},{\"id\":\"p1425\"}]}},\"toolbar_location\":null,\"left\":[{\"type\":\"object\",\"name\":\"LinearAxis\",\"id\":\"p1416\",\"attributes\":{\"ticker\":{\"type\":\"object\",\"name\":\"BasicTicker\",\"id\":\"p1418\",\"attributes\":{\"mantissas\":[1,2,5]}},\"formatter\":{\"type\":\"object\",\"name\":\"BasicTickFormatter\",\"id\":\"p1419\"},\"axis_label\":\"im(dz)/x0\",\"major_label_policy\":{\"type\":\"object\",\"name\":\"AllLabels\",\"id\":\"p1417\"}}}],\"below\":[{\"type\":\"object\",\"name\":\"LogAxis\",\"id\":\"p1409\",\"attributes\":{\"ticker\":{\"type\":\"object\",\"name\":\"LogTicker\",\"id\":\"p1411\",\"attributes\":{\"num_minor_ticks\":10,\"mantissas\":[1,5]}},\"formatter\":{\"type\":\"object\",\"name\":\"LogTickFormatter\",\"id\":\"p1412\"},\"axis_label\":\"f[Hz]\",\"major_label_policy\":{\"type\":\"object\",\"name\":\"AllLabels\",\"id\":\"p1410\"}}}],\"center\":[{\"type\":\"object\",\"name\":\"Grid\",\"id\":\"p1415\",\"attributes\":{\"axis\":{\"id\":\"p1409\"}}},{\"type\":\"object\",\"name\":\"Grid\",\"id\":\"p1422\",\"attributes\":{\"dimension\":1,\"axis\":{\"id\":\"p1416\"}}}]}},0,0],[{\"type\":\"object\",\"name\":\"Figure\",\"id\":\"p1448\",\"attributes\":{\"width\":300,\"height\":250,\"x_range\":{\"type\":\"object\",\"name\":\"DataRange1d\",\"id\":\"p1449\"},\"y_range\":{\"type\":\"object\",\"name\":\"DataRange1d\",\"id\":\"p1450\"},\"x_scale\":{\"type\":\"object\",\"name\":\"LogScale\",\"id\":\"p1462\"},\"y_scale\":{\"type\":\"object\",\"name\":\"LinearScale\",\"id\":\"p1464\"},\"title\":{\"type\":\"object\",\"name\":\"Title\",\"id\":\"p1451\",\"attributes\":{\"text\":\"347-M02 mueff = 47.04\"}},\"renderers\":[{\"type\":\"object\",\"name\":\"GlyphRenderer\",\"id\":\"p1493\",\"attributes\":{\"data_source\":{\"type\":\"object\",\"name\":\"ColumnDataSource\",\"id\":\"p1487\",\"attributes\":{\"selected\":{\"type\":\"object\",\"name\":\"Selection\",\"id\":\"p1488\",\"attributes\":{\"indices\":[],\"line_indices\":[]}},\"selection_policy\":{\"type\":\"object\",\"name\":\"UnionRenderers\",\"id\":\"p1489\"},\"data\":{\"type\":\"map\",\"entries\":[[\"x\",{\"type\":\"ndarray\",\"array\":{\"type\":\"bytes\",\"data\":\"AAAAAAAAWUCF61G4HnlfQNk9eVioz2NA9+RhodbwaEDSAN4CCWZvQHbgnBGlw3NAGeJYF7fheED7XG3F/lJ/QLAD54yot4NAYVRSJ6DSiEAAAAAAAECPQDMzMzOzq5NAUI2XbpLDmEA1XrpJDC2fQIPAyqHFn6NAkxgEVo60qECgGi/dJBqvQGiR7Xzfk7NAnMQgsJKluEB56SYxSAe/QAAAAAAAiMNAAAAAAKCWyECkcD0Kd/TOQOF6FK4nfNNA4XoUrreH2EC4HoXrseHeQKRwPQpXcONApHA9Ctd46EDD9Shc987uQHsUrkeNZPNAAAAAAABq+EAAAAAASLz+QGZmZmbKWANBmpmZmTFbCEHNzMzMpKkOQTMzMzMPTRNBzczMzGxMGEEzMzMzDZceQZqZmZlaQSNBmpmZmbA9KEEAAAAAgIQuQQ==\"},\"shape\":[41],\"dtype\":\"float64\",\"order\":\"little\"}],[\"y\",{\"type\":\"ndarray\",\"array\":{\"type\":\"bytes\",\"data\":\"s/NtTAt3tz9mXLPTqXW3P12/WMHk3bg/dlm/oPMWtz94I7KBY/q2P2PBWQKk67Y/lbwotE8Atz8Ba3oDN3u3P/TlrdHRh7c/HdYwFyrutj89FbT/pBq3PxuUJ//xYbc/MG+8qt5Utz9Lucbt0GW3P+OOZBV6dbc/To2bk66stz/DwkFv6m23P5+BFC2cGbc/gCywiAevtj9PBnKY1Rm2P/JUNzzPSbU/WcxcVQvltD/bPjvlGsSzP/uyL4lN5LI/0z8z8pzRsT/4qP6VLNmwP+IbpQ8uUrA/FO9C4KD8qz+1vTWX7LuqP21TW6VEMqU/hXE3ghdDoT8uUc4SFtigP5qUsGlIspo/4hZkWVhFkz9WxqSh5yKFP9GXypWuEH4/L+KJerR5Xb/wiqmw0ZZ9vzBcIytbs5C/oKq+n8wll7+x00h3q5aevw==\"},\"shape\":[41],\"dtype\":\"float64\",\"order\":\"little\"}]]}}},\"view\":{\"type\":\"object\",\"name\":\"CDSView\",\"id\":\"p1494\",\"attributes\":{\"filter\":{\"type\":\"object\",\"name\":\"AllIndices\",\"id\":\"p1495\"}}},\"glyph\":{\"type\":\"object\",\"name\":\"Circle\",\"id\":\"p1490\",\"attributes\":{\"x\":{\"type\":\"field\",\"field\":\"x\"},\"y\":{\"type\":\"field\",\"field\":\"y\"},\"line_color\":{\"type\":\"value\",\"value\":\"#1f77b4\"},\"fill_color\":{\"type\":\"value\",\"value\":\"#1f77b4\"}}},\"nonselection_glyph\":{\"type\":\"object\",\"name\":\"Circle\",\"id\":\"p1491\",\"attributes\":{\"x\":{\"type\":\"field\",\"field\":\"x\"},\"y\":{\"type\":\"field\",\"field\":\"y\"},\"line_color\":{\"type\":\"value\",\"value\":\"#1f77b4\"},\"line_alpha\":{\"type\":\"value\",\"value\":0.1},\"fill_color\":{\"type\":\"value\",\"value\":\"#1f77b4\"},\"fill_alpha\":{\"type\":\"value\",\"value\":0.1},\"hatch_alpha\":{\"type\":\"value\",\"value\":0.1}}},\"muted_glyph\":{\"type\":\"object\",\"name\":\"Circle\",\"id\":\"p1492\",\"attributes\":{\"x\":{\"type\":\"field\",\"field\":\"x\"},\"y\":{\"type\":\"field\",\"field\":\"y\"},\"line_color\":{\"type\":\"value\",\"value\":\"#1f77b4\"},\"line_alpha\":{\"type\":\"value\",\"value\":0.2},\"fill_color\":{\"type\":\"value\",\"value\":\"#1f77b4\"},\"fill_alpha\":{\"type\":\"value\",\"value\":0.2},\"hatch_alpha\":{\"type\":\"value\",\"value\":0.2}}}}},{\"type\":\"object\",\"name\":\"GlyphRenderer\",\"id\":\"p1502\",\"attributes\":{\"data_source\":{\"type\":\"object\",\"name\":\"ColumnDataSource\",\"id\":\"p1496\",\"attributes\":{\"selected\":{\"type\":\"object\",\"name\":\"Selection\",\"id\":\"p1497\",\"attributes\":{\"indices\":[],\"line_indices\":[]}},\"selection_policy\":{\"type\":\"object\",\"name\":\"UnionRenderers\",\"id\":\"p1498\"},\"data\":{\"type\":\"map\",\"entries\":[[\"x\",{\"type\":\"ndarray\",\"array\":{\"type\":\"bytes\",\"data\":\"AAAAAAAAWUCF61G4HnlfQNk9eVioz2NA9+RhodbwaEDSAN4CCWZvQHbgnBGlw3NAGeJYF7fheED7XG3F/lJ/QLAD54yot4NAYVRSJ6DSiEAAAAAAAECPQDMzMzOzq5NAUI2XbpLDmEA1XrpJDC2fQIPAyqHFn6NAkxgEVo60qECgGi/dJBqvQGiR7Xzfk7NAnMQgsJKluEB56SYxSAe/QAAAAAAAiMNAAAAAAKCWyECkcD0Kd/TOQOF6FK4nfNNA4XoUrreH2EC4HoXrseHeQKRwPQpXcONApHA9Ctd46EDD9Shc987uQHsUrkeNZPNAAAAAAABq+EAAAAAASLz+QGZmZmbKWANBmpmZmTFbCEHNzMzMpKkOQTMzMzMPTRNBzczMzGxMGEEzMzMzDZceQZqZmZlaQSNBmpmZmbA9KEEAAAAAgIQuQQ==\"},\"shape\":[41],\"dtype\":\"float64\",\"order\":\"little\"}],[\"y\",{\"type\":\"ndarray\",\"array\":{\"type\":\"bytes\",\"data\":\"+RjXqOOLuj/KlGXgU366P9m8OZXBbbo/8myi6aRZuj8LBXsxd0G6P71opYesJLo/C/lGLq8Cuj/0C9PE4dq5P2nB5xairLk/RiVd40h3uT8kYZ2bKDq5P4thJg+M9Lg/99RNo7SluD+4srQG2Uy4P7n/qfwj6bc/BOuCWbR5tz+8b1csnv22P80hxMTsc7Y/NhC7bKbbtT+qZZvX0DO1PyQYHjt3e7Q/1iE2N7Gxsz/1tdaFqtWyP/Jwt7Cs5rE/8jVOKSjksD9puBMCf5uvP9C4bkCiRq0/5VxkhQTKqj/zFVYTkCaoPw/O80jfXaU/1B0FRUhyoj9oAe7Lw82eP3qs9doDf5g/8xovXGsBkj8RmCE9t76GP5LTRd4lkXI/oiNtMS0cYb+QQuAUotaBv1aLlrFoTI+/tYS2G4pHlr95gj6tRcOcvw==\"},\"shape\":[41],\"dtype\":\"float64\",\"order\":\"little\"}]]}}},\"view\":{\"type\":\"object\",\"name\":\"CDSView\",\"id\":\"p1503\",\"attributes\":{\"filter\":{\"type\":\"object\",\"name\":\"AllIndices\",\"id\":\"p1504\"}}},\"glyph\":{\"type\":\"object\",\"name\":\"Line\",\"id\":\"p1499\",\"attributes\":{\"x\":{\"type\":\"field\",\"field\":\"x\"},\"y\":{\"type\":\"field\",\"field\":\"y\"},\"line_color\":\"#f46d43\",\"line_alpha\":0.6,\"line_width\":2}},\"nonselection_glyph\":{\"type\":\"object\",\"name\":\"Line\",\"id\":\"p1500\",\"attributes\":{\"x\":{\"type\":\"field\",\"field\":\"x\"},\"y\":{\"type\":\"field\",\"field\":\"y\"},\"line_color\":\"#f46d43\",\"line_alpha\":0.1,\"line_width\":2}},\"muted_glyph\":{\"type\":\"object\",\"name\":\"Line\",\"id\":\"p1501\",\"attributes\":{\"x\":{\"type\":\"field\",\"field\":\"x\"},\"y\":{\"type\":\"field\",\"field\":\"y\"},\"line_color\":\"#f46d43\",\"line_alpha\":0.2,\"line_width\":2}}}}],\"toolbar\":{\"type\":\"object\",\"name\":\"Toolbar\",\"id\":\"p1457\",\"attributes\":{\"tools\":[{\"id\":\"p1480\"},{\"id\":\"p1482\"}]}},\"toolbar_location\":null,\"left\":[{\"type\":\"object\",\"name\":\"LinearAxis\",\"id\":\"p1473\",\"attributes\":{\"ticker\":{\"type\":\"object\",\"name\":\"BasicTicker\",\"id\":\"p1475\",\"attributes\":{\"mantissas\":[1,2,5]}},\"formatter\":{\"type\":\"object\",\"name\":\"BasicTickFormatter\",\"id\":\"p1476\"},\"axis_label\":\"im(dz)/x0\",\"major_label_policy\":{\"type\":\"object\",\"name\":\"AllLabels\",\"id\":\"p1474\"}}}],\"below\":[{\"type\":\"object\",\"name\":\"LogAxis\",\"id\":\"p1466\",\"attributes\":{\"ticker\":{\"type\":\"object\",\"name\":\"LogTicker\",\"id\":\"p1468\",\"attributes\":{\"num_minor_ticks\":10,\"mantissas\":[1,5]}},\"formatter\":{\"type\":\"object\",\"name\":\"LogTickFormatter\",\"id\":\"p1469\"},\"axis_label\":\"f[Hz]\",\"major_label_policy\":{\"type\":\"object\",\"name\":\"AllLabels\",\"id\":\"p1467\"}}}],\"center\":[{\"type\":\"object\",\"name\":\"Grid\",\"id\":\"p1472\",\"attributes\":{\"axis\":{\"id\":\"p1466\"}}},{\"type\":\"object\",\"name\":\"Grid\",\"id\":\"p1479\",\"attributes\":{\"dimension\":1,\"axis\":{\"id\":\"p1473\"}}}]}},0,1]]}}],\"callbacks\":{\"type\":\"map\"}}};\n",
       "  const render_items = [{\"docid\":\"d376bbfc-5f44-4a79-9c7d-f8ee29d90215\",\"roots\":{\"p1548\":\"c0010774-e55b-49b4-83b5-786644a9f140\"},\"root_ids\":[\"p1548\"]}];\n",
       "  root.Bokeh.embed.embed_items_notebook(docs_json, render_items);\n",
       "  }\n",
       "  if (root.Bokeh !== undefined) {\n",
       "    embed_document(root);\n",
       "  } else {\n",
       "    let attempts = 0;\n",
       "    const timer = setInterval(function(root) {\n",
       "      if (root.Bokeh !== undefined) {\n",
       "        clearInterval(timer);\n",
       "        embed_document(root);\n",
       "      } else {\n",
       "        attempts++;\n",
       "        if (attempts > 100) {\n",
       "          clearInterval(timer);\n",
       "          console.log(\"Bokeh: ERROR: Unable to run BokehJS code because BokehJS library is missing\");\n",
       "        }\n",
       "      }\n",
       "    }, 10, root)\n",
       "  }\n",
       "})(window);"
      ],
      "application/vnd.bokehjs_exec.v0+json": ""
     },
     "metadata": {
      "application/vnd.bokehjs_exec.v0+json": {
       "id": "p1548"
      }
     },
     "output_type": "display_data"
    }
   ],
   "source": [
    "exp2.muesplot()"
   ]
  },
  {
   "cell_type": "code",
   "execution_count": 10,
   "id": "70d79400",
   "metadata": {},
   "outputs": [
    {
     "data": {
      "text/html": [
       "<div>\n",
       "<style scoped>\n",
       "    .dataframe tbody tr th:only-of-type {\n",
       "        vertical-align: middle;\n",
       "    }\n",
       "\n",
       "    .dataframe tbody tr th {\n",
       "        vertical-align: top;\n",
       "    }\n",
       "\n",
       "    .dataframe thead th {\n",
       "        text-align: right;\n",
       "    }\n",
       "</style>\n",
       "<table border=\"1\" class=\"dataframe\">\n",
       "  <thead>\n",
       "    <tr style=\"text-align: right;\">\n",
       "      <th></th>\n",
       "      <th>archivo</th>\n",
       "      <th>conductividad</th>\n",
       "      <th>espesor</th>\n",
       "      <th>bobina</th>\n",
       "      <th>muestras</th>\n",
       "      <th>mueff</th>\n",
       "      <th>R2</th>\n",
       "    </tr>\n",
       "  </thead>\n",
       "  <tbody>\n",
       "    <tr>\n",
       "      <th>0</th>\n",
       "      <td>Exp_m1_347-M02.csv</td>\n",
       "      <td>1118491.27</td>\n",
       "      <td>0.02340</td>\n",
       "      <td>m1</td>\n",
       "      <td>347-M02</td>\n",
       "      <td>50.134098</td>\n",
       "      <td>0.965275</td>\n",
       "    </tr>\n",
       "    <tr>\n",
       "      <th>1</th>\n",
       "      <td>Exp_m1_1010-M01_m1.csv</td>\n",
       "      <td>3830000.00</td>\n",
       "      <td>0.06500</td>\n",
       "      <td>m1</td>\n",
       "      <td>1010-M01</td>\n",
       "      <td>82.626238</td>\n",
       "      <td>0.974319</td>\n",
       "    </tr>\n",
       "    <tr>\n",
       "      <th>2</th>\n",
       "      <td>Exp_m1_aire.csv</td>\n",
       "      <td>0.00</td>\n",
       "      <td>0.00000</td>\n",
       "      <td>m1</td>\n",
       "      <td>aire</td>\n",
       "      <td>NaN</td>\n",
       "      <td>NaN</td>\n",
       "    </tr>\n",
       "    <tr>\n",
       "      <th>3</th>\n",
       "      <td>Exp_m1_P057.csv</td>\n",
       "      <td>3948000.00</td>\n",
       "      <td>0.14957</td>\n",
       "      <td>m1</td>\n",
       "      <td>P057</td>\n",
       "      <td>NaN</td>\n",
       "      <td>NaN</td>\n",
       "    </tr>\n",
       "  </tbody>\n",
       "</table>\n",
       "</div>"
      ],
      "text/plain": [
       "                  archivo  conductividad  espesor bobina  muestras      mueff  \\\n",
       "0      Exp_m1_347-M02.csv     1118491.27  0.02340     m1   347-M02  50.134098   \n",
       "1  Exp_m1_1010-M01_m1.csv     3830000.00  0.06500     m1  1010-M01  82.626238   \n",
       "2         Exp_m1_aire.csv           0.00  0.00000     m1      aire        NaN   \n",
       "3         Exp_m1_P057.csv     3948000.00  0.14957     m1      P057        NaN   \n",
       "\n",
       "         R2  \n",
       "0  0.965275  \n",
       "1  0.974319  \n",
       "2       NaN  \n",
       "3       NaN  "
      ]
     },
     "execution_count": 10,
     "metadata": {},
     "output_type": "execute_result"
    }
   ],
   "source": [
    "exp1.set_frange(1e3,1e5)\n",
    "exp1.fitmues()\n",
    "exp1.info"
   ]
  },
  {
   "cell_type": "code",
   "execution_count": 11,
   "id": "7ad47b86",
   "metadata": {},
   "outputs": [
    {
     "data": {
      "text/html": [
       "<div>\n",
       "<style scoped>\n",
       "    .dataframe tbody tr th:only-of-type {\n",
       "        vertical-align: middle;\n",
       "    }\n",
       "\n",
       "    .dataframe tbody tr th {\n",
       "        vertical-align: top;\n",
       "    }\n",
       "\n",
       "    .dataframe thead th {\n",
       "        text-align: right;\n",
       "    }\n",
       "</style>\n",
       "<table border=\"1\" class=\"dataframe\">\n",
       "  <thead>\n",
       "    <tr style=\"text-align: right;\">\n",
       "      <th></th>\n",
       "      <th>archivo</th>\n",
       "      <th>conductividad</th>\n",
       "      <th>espesor</th>\n",
       "      <th>bobina</th>\n",
       "      <th>muestras</th>\n",
       "      <th>mueff</th>\n",
       "      <th>R2</th>\n",
       "    </tr>\n",
       "  </thead>\n",
       "  <tbody>\n",
       "    <tr>\n",
       "      <th>0</th>\n",
       "      <td>Exp_pp1_1010-M01.csv</td>\n",
       "      <td>3830000.00</td>\n",
       "      <td>0.06500</td>\n",
       "      <td>pp1</td>\n",
       "      <td>1010-M01</td>\n",
       "      <td>83.967633</td>\n",
       "      <td>0.977480</td>\n",
       "    </tr>\n",
       "    <tr>\n",
       "      <th>1</th>\n",
       "      <td>Exp_pp1_aire.csv</td>\n",
       "      <td>0.00</td>\n",
       "      <td>0.00000</td>\n",
       "      <td>pp1</td>\n",
       "      <td>aire</td>\n",
       "      <td>NaN</td>\n",
       "      <td>NaN</td>\n",
       "    </tr>\n",
       "    <tr>\n",
       "      <th>2</th>\n",
       "      <td>Exp_pp1_347-M02.csv</td>\n",
       "      <td>1118491.27</td>\n",
       "      <td>0.02340</td>\n",
       "      <td>pp1</td>\n",
       "      <td>347-M02</td>\n",
       "      <td>52.591943</td>\n",
       "      <td>0.959789</td>\n",
       "    </tr>\n",
       "    <tr>\n",
       "      <th>3</th>\n",
       "      <td>Exp_pp1_P057.csv</td>\n",
       "      <td>3948000.00</td>\n",
       "      <td>0.14957</td>\n",
       "      <td>pp1</td>\n",
       "      <td>P057</td>\n",
       "      <td>NaN</td>\n",
       "      <td>NaN</td>\n",
       "    </tr>\n",
       "  </tbody>\n",
       "</table>\n",
       "</div>"
      ],
      "text/plain": [
       "                archivo  conductividad  espesor bobina  muestras      mueff  \\\n",
       "0  Exp_pp1_1010-M01.csv     3830000.00  0.06500    pp1  1010-M01  83.967633   \n",
       "1      Exp_pp1_aire.csv           0.00  0.00000    pp1      aire        NaN   \n",
       "2   Exp_pp1_347-M02.csv     1118491.27  0.02340    pp1   347-M02  52.591943   \n",
       "3      Exp_pp1_P057.csv     3948000.00  0.14957    pp1      P057        NaN   \n",
       "\n",
       "         R2  \n",
       "0  0.977480  \n",
       "1       NaN  \n",
       "2  0.959789  \n",
       "3       NaN  "
      ]
     },
     "execution_count": 11,
     "metadata": {},
     "output_type": "execute_result"
    }
   ],
   "source": [
    "exp2.set_frange(1e3,1e5)\n",
    "exp2.fitmues()\n",
    "exp2.info"
   ]
  },
  {
   "cell_type": "code",
   "execution_count": 12,
   "id": "a1402db3",
   "metadata": {},
   "outputs": [
    {
     "data": {
      "text/html": [
       "\n",
       "  <div id=\"7b6a7f2c-1da4-441b-ab5b-f0b06e42f7eb\" data-root-id=\"p1973\" style=\"display: contents;\"></div>\n"
      ]
     },
     "metadata": {},
     "output_type": "display_data"
    },
    {
     "data": {
      "application/javascript": [
       "(function(root) {\n",
       "  function embed_document(root) {\n",
       "  const docs_json = {\"7ba8673b-387e-4c1d-ac3b-e4b0ee7db13c\":{\"version\":\"3.1.0\",\"title\":\"Bokeh Application\",\"defs\":[],\"roots\":[{\"type\":\"object\",\"name\":\"GridPlot\",\"id\":\"p1973\",\"attributes\":{\"rows\":null,\"cols\":null,\"toolbar\":{\"type\":\"object\",\"name\":\"Toolbar\",\"id\":\"p1972\",\"attributes\":{\"tools\":[{\"type\":\"object\",\"name\":\"ToolProxy\",\"id\":\"p1970\",\"attributes\":{\"tools\":[{\"type\":\"object\",\"name\":\"BoxZoomTool\",\"id\":\"p1848\",\"attributes\":{\"overlay\":{\"type\":\"object\",\"name\":\"BoxAnnotation\",\"id\":\"p1849\",\"attributes\":{\"syncable\":false,\"level\":\"overlay\",\"visible\":false,\"left_units\":\"canvas\",\"right_units\":\"canvas\",\"bottom_units\":\"canvas\",\"top_units\":\"canvas\",\"line_color\":\"black\",\"line_alpha\":1.0,\"line_width\":2,\"line_dash\":[4,4],\"fill_color\":\"lightgrey\",\"fill_alpha\":0.5}}}},{\"type\":\"object\",\"name\":\"BoxZoomTool\",\"id\":\"p1905\",\"attributes\":{\"overlay\":{\"type\":\"object\",\"name\":\"BoxAnnotation\",\"id\":\"p1906\",\"attributes\":{\"syncable\":false,\"level\":\"overlay\",\"visible\":false,\"left_units\":\"canvas\",\"right_units\":\"canvas\",\"bottom_units\":\"canvas\",\"top_units\":\"canvas\",\"line_color\":\"black\",\"line_alpha\":1.0,\"line_width\":2,\"line_dash\":[4,4],\"fill_color\":\"lightgrey\",\"fill_alpha\":0.5}}}}]}},{\"type\":\"object\",\"name\":\"ToolProxy\",\"id\":\"p1971\",\"attributes\":{\"tools\":[{\"type\":\"object\",\"name\":\"ResetTool\",\"id\":\"p1850\"},{\"type\":\"object\",\"name\":\"ResetTool\",\"id\":\"p1907\"}]}}]}},\"children\":[[{\"type\":\"object\",\"name\":\"Figure\",\"id\":\"p1816\",\"attributes\":{\"width\":300,\"height\":250,\"x_range\":{\"type\":\"object\",\"name\":\"DataRange1d\",\"id\":\"p1817\"},\"y_range\":{\"type\":\"object\",\"name\":\"DataRange1d\",\"id\":\"p1818\"},\"x_scale\":{\"type\":\"object\",\"name\":\"LogScale\",\"id\":\"p1830\"},\"y_scale\":{\"type\":\"object\",\"name\":\"LinearScale\",\"id\":\"p1832\"},\"title\":{\"type\":\"object\",\"name\":\"Title\",\"id\":\"p1819\",\"attributes\":{\"text\":\"1010-M01 mueff = 82.63\"}},\"renderers\":[{\"type\":\"object\",\"name\":\"GlyphRenderer\",\"id\":\"p1861\",\"attributes\":{\"data_source\":{\"type\":\"object\",\"name\":\"ColumnDataSource\",\"id\":\"p1855\",\"attributes\":{\"selected\":{\"type\":\"object\",\"name\":\"Selection\",\"id\":\"p1856\",\"attributes\":{\"indices\":[],\"line_indices\":[]}},\"selection_policy\":{\"type\":\"object\",\"name\":\"UnionRenderers\",\"id\":\"p1857\"},\"data\":{\"type\":\"map\",\"entries\":[[\"x\",{\"type\":\"ndarray\",\"array\":{\"type\":\"bytes\",\"data\":\"AAAAAABAj0AzMzMzs6uTQFCNl26Sw5hANV66SQwtn0CDwMqhxZ+jQJMYBFaOtKhAoBov3SQar0Boke1835OzQJzEILCSpbhAeekmMUgHv0AAAAAAAIjDQAAAAACglshApHA9Cnf0zkDhehSuJ3zTQOF6FK63h9hAuB6F67Hh3kCkcD0KV3DjQKRwPQrXeOhAw/UoXPfO7kB7FK5HjWTzQAAAAAAAavhA\"},\"shape\":[21],\"dtype\":\"float64\",\"order\":\"little\"}],[\"y\",{\"type\":\"ndarray\",\"array\":{\"type\":\"bytes\",\"data\":\"1zbxrrQauz+8COMi32+6PyfJGMjPC7o/EjFc+oUduj9ZcP9bx665P5i05e0gD7k/7I/QmFpNuT/5DQkf46m3P67n3jgB5rg/FJ08W70nuD+lv3SMNWC3P52OYDs1zrY/0Zhifl9Jtj9xk4+ORXS1P95HwVUGvrQ/TT8uHFRysz/bU7IMF0iyP+aj7B+8ErA/qruCh1kxrj9OaAswm++qP1V2cpZbgaY/\"},\"shape\":[21],\"dtype\":\"float64\",\"order\":\"little\"}]]}}},\"view\":{\"type\":\"object\",\"name\":\"CDSView\",\"id\":\"p1862\",\"attributes\":{\"filter\":{\"type\":\"object\",\"name\":\"AllIndices\",\"id\":\"p1863\"}}},\"glyph\":{\"type\":\"object\",\"name\":\"Circle\",\"id\":\"p1858\",\"attributes\":{\"x\":{\"type\":\"field\",\"field\":\"x\"},\"y\":{\"type\":\"field\",\"field\":\"y\"},\"line_color\":{\"type\":\"value\",\"value\":\"#1f77b4\"},\"fill_color\":{\"type\":\"value\",\"value\":\"#1f77b4\"}}},\"nonselection_glyph\":{\"type\":\"object\",\"name\":\"Circle\",\"id\":\"p1859\",\"attributes\":{\"x\":{\"type\":\"field\",\"field\":\"x\"},\"y\":{\"type\":\"field\",\"field\":\"y\"},\"line_color\":{\"type\":\"value\",\"value\":\"#1f77b4\"},\"line_alpha\":{\"type\":\"value\",\"value\":0.1},\"fill_color\":{\"type\":\"value\",\"value\":\"#1f77b4\"},\"fill_alpha\":{\"type\":\"value\",\"value\":0.1},\"hatch_alpha\":{\"type\":\"value\",\"value\":0.1}}},\"muted_glyph\":{\"type\":\"object\",\"name\":\"Circle\",\"id\":\"p1860\",\"attributes\":{\"x\":{\"type\":\"field\",\"field\":\"x\"},\"y\":{\"type\":\"field\",\"field\":\"y\"},\"line_color\":{\"type\":\"value\",\"value\":\"#1f77b4\"},\"line_alpha\":{\"type\":\"value\",\"value\":0.2},\"fill_color\":{\"type\":\"value\",\"value\":\"#1f77b4\"},\"fill_alpha\":{\"type\":\"value\",\"value\":0.2},\"hatch_alpha\":{\"type\":\"value\",\"value\":0.2}}}}},{\"type\":\"object\",\"name\":\"GlyphRenderer\",\"id\":\"p1870\",\"attributes\":{\"data_source\":{\"type\":\"object\",\"name\":\"ColumnDataSource\",\"id\":\"p1864\",\"attributes\":{\"selected\":{\"type\":\"object\",\"name\":\"Selection\",\"id\":\"p1865\",\"attributes\":{\"indices\":[],\"line_indices\":[]}},\"selection_policy\":{\"type\":\"object\",\"name\":\"UnionRenderers\",\"id\":\"p1866\"},\"data\":{\"type\":\"map\",\"entries\":[[\"x\",{\"type\":\"ndarray\",\"array\":{\"type\":\"bytes\",\"data\":\"AAAAAABAj0AzMzMzs6uTQFCNl26Sw5hANV66SQwtn0CDwMqhxZ+jQJMYBFaOtKhAoBov3SQar0Boke1835OzQJzEILCSpbhAeekmMUgHv0AAAAAAAIjDQAAAAACglshApHA9Cnf0zkDhehSuJ3zTQOF6FK63h9hAuB6F67Hh3kCkcD0KV3DjQKRwPQrXeOhAw/UoXPfO7kB7FK5HjWTzQAAAAAAAavhA\"},\"shape\":[21],\"dtype\":\"float64\",\"order\":\"little\"}],[\"y\",{\"type\":\"ndarray\",\"array\":{\"type\":\"bytes\",\"data\":\"IERl78avuz/mnm6aRG+7P6Uvc/i+Jrs/DDBX93HVuj+PDukHiXq6P5cZRoMfFbo/UDU3vUGkuT9+Af9w7ia5PznYtGAZnLg/i5CSYa4CuD+nAh3ZlVm3P0ssFwa6n7Y/cR0XLA3UtT8aWELmkfW0P4c861BjA7Q/3B8Ut7/8sj8rqCyFEuGxP8GTgT0AsLA/5uM1GePSrj9pWFQHPRusPwiLTEMxOqk/\"},\"shape\":[21],\"dtype\":\"float64\",\"order\":\"little\"}]]}}},\"view\":{\"type\":\"object\",\"name\":\"CDSView\",\"id\":\"p1871\",\"attributes\":{\"filter\":{\"type\":\"object\",\"name\":\"AllIndices\",\"id\":\"p1872\"}}},\"glyph\":{\"type\":\"object\",\"name\":\"Line\",\"id\":\"p1867\",\"attributes\":{\"x\":{\"type\":\"field\",\"field\":\"x\"},\"y\":{\"type\":\"field\",\"field\":\"y\"},\"line_color\":\"#f46d43\",\"line_alpha\":0.6,\"line_width\":2}},\"nonselection_glyph\":{\"type\":\"object\",\"name\":\"Line\",\"id\":\"p1868\",\"attributes\":{\"x\":{\"type\":\"field\",\"field\":\"x\"},\"y\":{\"type\":\"field\",\"field\":\"y\"},\"line_color\":\"#f46d43\",\"line_alpha\":0.1,\"line_width\":2}},\"muted_glyph\":{\"type\":\"object\",\"name\":\"Line\",\"id\":\"p1869\",\"attributes\":{\"x\":{\"type\":\"field\",\"field\":\"x\"},\"y\":{\"type\":\"field\",\"field\":\"y\"},\"line_color\":\"#f46d43\",\"line_alpha\":0.2,\"line_width\":2}}}}],\"toolbar\":{\"type\":\"object\",\"name\":\"Toolbar\",\"id\":\"p1825\",\"attributes\":{\"tools\":[{\"id\":\"p1848\"},{\"id\":\"p1850\"}]}},\"toolbar_location\":null,\"left\":[{\"type\":\"object\",\"name\":\"LinearAxis\",\"id\":\"p1841\",\"attributes\":{\"ticker\":{\"type\":\"object\",\"name\":\"BasicTicker\",\"id\":\"p1843\",\"attributes\":{\"mantissas\":[1,2,5]}},\"formatter\":{\"type\":\"object\",\"name\":\"BasicTickFormatter\",\"id\":\"p1844\"},\"axis_label\":\"im(dz)/x0\",\"major_label_policy\":{\"type\":\"object\",\"name\":\"AllLabels\",\"id\":\"p1842\"}}}],\"below\":[{\"type\":\"object\",\"name\":\"LogAxis\",\"id\":\"p1834\",\"attributes\":{\"ticker\":{\"type\":\"object\",\"name\":\"LogTicker\",\"id\":\"p1836\",\"attributes\":{\"num_minor_ticks\":10,\"mantissas\":[1,5]}},\"formatter\":{\"type\":\"object\",\"name\":\"LogTickFormatter\",\"id\":\"p1837\"},\"axis_label\":\"f[Hz]\",\"major_label_policy\":{\"type\":\"object\",\"name\":\"AllLabels\",\"id\":\"p1835\"}}}],\"center\":[{\"type\":\"object\",\"name\":\"Grid\",\"id\":\"p1840\",\"attributes\":{\"axis\":{\"id\":\"p1834\"}}},{\"type\":\"object\",\"name\":\"Grid\",\"id\":\"p1847\",\"attributes\":{\"dimension\":1,\"axis\":{\"id\":\"p1841\"}}}]}},0,0],[{\"type\":\"object\",\"name\":\"Figure\",\"id\":\"p1873\",\"attributes\":{\"width\":300,\"height\":250,\"x_range\":{\"type\":\"object\",\"name\":\"DataRange1d\",\"id\":\"p1874\"},\"y_range\":{\"type\":\"object\",\"name\":\"DataRange1d\",\"id\":\"p1875\"},\"x_scale\":{\"type\":\"object\",\"name\":\"LogScale\",\"id\":\"p1887\"},\"y_scale\":{\"type\":\"object\",\"name\":\"LinearScale\",\"id\":\"p1889\"},\"title\":{\"type\":\"object\",\"name\":\"Title\",\"id\":\"p1876\",\"attributes\":{\"text\":\"347-M02 mueff = 50.13\"}},\"renderers\":[{\"type\":\"object\",\"name\":\"GlyphRenderer\",\"id\":\"p1918\",\"attributes\":{\"data_source\":{\"type\":\"object\",\"name\":\"ColumnDataSource\",\"id\":\"p1912\",\"attributes\":{\"selected\":{\"type\":\"object\",\"name\":\"Selection\",\"id\":\"p1913\",\"attributes\":{\"indices\":[],\"line_indices\":[]}},\"selection_policy\":{\"type\":\"object\",\"name\":\"UnionRenderers\",\"id\":\"p1914\"},\"data\":{\"type\":\"map\",\"entries\":[[\"x\",{\"type\":\"ndarray\",\"array\":{\"type\":\"bytes\",\"data\":\"AAAAAABAj0AzMzMzs6uTQFCNl26Sw5hANV66SQwtn0CDwMqhxZ+jQJMYBFaOtKhAoBov3SQar0Boke1835OzQJzEILCSpbhAeekmMUgHv0AAAAAAAIjDQAAAAACglshApHA9Cnf0zkDhehSuJ3zTQOF6FK63h9hAuB6F67Hh3kCkcD0KV3DjQKRwPQrXeOhAw/UoXPfO7kB7FK5HjWTzQAAAAAAAavhA\"},\"shape\":[21],\"dtype\":\"float64\",\"order\":\"little\"}],[\"y\",{\"type\":\"ndarray\",\"array\":{\"type\":\"bytes\",\"data\":\"R6iC2ZQquz81AZ+sBFy7P1NUaUwYBbs/eJSToknQuj91dP3heli6P1k0OuBmGro/cRAT2VDNuT+mhAKHayS6Pw4/i2cf1rk/FtaMkb6nuT+W+wRtn+K5P/iequMOY7g/Ukc+e9+vuD/mAcQsgea3P1gESCBB2bY/zrm0v+Zltj/o7cSvmr61P39F6Oo1hrQ/sqh4NavQsj+TF7PWl52xP2ZKz2o/IrA/\"},\"shape\":[21],\"dtype\":\"float64\",\"order\":\"little\"}]]}}},\"view\":{\"type\":\"object\",\"name\":\"CDSView\",\"id\":\"p1919\",\"attributes\":{\"filter\":{\"type\":\"object\",\"name\":\"AllIndices\",\"id\":\"p1920\"}}},\"glyph\":{\"type\":\"object\",\"name\":\"Circle\",\"id\":\"p1915\",\"attributes\":{\"x\":{\"type\":\"field\",\"field\":\"x\"},\"y\":{\"type\":\"field\",\"field\":\"y\"},\"line_color\":{\"type\":\"value\",\"value\":\"#1f77b4\"},\"fill_color\":{\"type\":\"value\",\"value\":\"#1f77b4\"}}},\"nonselection_glyph\":{\"type\":\"object\",\"name\":\"Circle\",\"id\":\"p1916\",\"attributes\":{\"x\":{\"type\":\"field\",\"field\":\"x\"},\"y\":{\"type\":\"field\",\"field\":\"y\"},\"line_color\":{\"type\":\"value\",\"value\":\"#1f77b4\"},\"line_alpha\":{\"type\":\"value\",\"value\":0.1},\"fill_color\":{\"type\":\"value\",\"value\":\"#1f77b4\"},\"fill_alpha\":{\"type\":\"value\",\"value\":0.1},\"hatch_alpha\":{\"type\":\"value\",\"value\":0.1}}},\"muted_glyph\":{\"type\":\"object\",\"name\":\"Circle\",\"id\":\"p1917\",\"attributes\":{\"x\":{\"type\":\"field\",\"field\":\"x\"},\"y\":{\"type\":\"field\",\"field\":\"y\"},\"line_color\":{\"type\":\"value\",\"value\":\"#1f77b4\"},\"line_alpha\":{\"type\":\"value\",\"value\":0.2},\"fill_color\":{\"type\":\"value\",\"value\":\"#1f77b4\"},\"fill_alpha\":{\"type\":\"value\",\"value\":0.2},\"hatch_alpha\":{\"type\":\"value\",\"value\":0.2}}}}},{\"type\":\"object\",\"name\":\"GlyphRenderer\",\"id\":\"p1927\",\"attributes\":{\"data_source\":{\"type\":\"object\",\"name\":\"ColumnDataSource\",\"id\":\"p1921\",\"attributes\":{\"selected\":{\"type\":\"object\",\"name\":\"Selection\",\"id\":\"p1922\",\"attributes\":{\"indices\":[],\"line_indices\":[]}},\"selection_policy\":{\"type\":\"object\",\"name\":\"UnionRenderers\",\"id\":\"p1923\"},\"data\":{\"type\":\"map\",\"entries\":[[\"x\",{\"type\":\"ndarray\",\"array\":{\"type\":\"bytes\",\"data\":\"AAAAAABAj0AzMzMzs6uTQFCNl26Sw5hANV66SQwtn0CDwMqhxZ+jQJMYBFaOtKhAoBov3SQar0Boke1835OzQJzEILCSpbhAeekmMUgHv0AAAAAAAIjDQAAAAACglshApHA9Cnf0zkDhehSuJ3zTQOF6FK63h9hAuB6F67Hh3kCkcD0KV3DjQKRwPQrXeOhAw/UoXPfO7kB7FK5HjWTzQAAAAAAAavhA\"},\"shape\":[21],\"dtype\":\"float64\",\"order\":\"little\"}],[\"y\",{\"type\":\"ndarray\",\"array\":{\"type\":\"bytes\",\"data\":\"O5xSCiwavD/hiHnqZvS7P1LxIN1ayLs/+pvuW1+Vuz+RA+9XxVq7P5VkA9XVF7s/8k3tKNDLuj+VMo3653W6PzU2z+xDFbo/Mns0vfyouT8h6h25HTC5P9XoZyymqbg/7LAj1YsUuD9iG5tFv2+3P9rlwokwurY/y355GtbytT8Sst7Zsxi1PyQpiVXkKrQ/eQZfW6Iosz9vGcfiUxGyP1fCE3uV5LA/\"},\"shape\":[21],\"dtype\":\"float64\",\"order\":\"little\"}]]}}},\"view\":{\"type\":\"object\",\"name\":\"CDSView\",\"id\":\"p1928\",\"attributes\":{\"filter\":{\"type\":\"object\",\"name\":\"AllIndices\",\"id\":\"p1929\"}}},\"glyph\":{\"type\":\"object\",\"name\":\"Line\",\"id\":\"p1924\",\"attributes\":{\"x\":{\"type\":\"field\",\"field\":\"x\"},\"y\":{\"type\":\"field\",\"field\":\"y\"},\"line_color\":\"#f46d43\",\"line_alpha\":0.6,\"line_width\":2}},\"nonselection_glyph\":{\"type\":\"object\",\"name\":\"Line\",\"id\":\"p1925\",\"attributes\":{\"x\":{\"type\":\"field\",\"field\":\"x\"},\"y\":{\"type\":\"field\",\"field\":\"y\"},\"line_color\":\"#f46d43\",\"line_alpha\":0.1,\"line_width\":2}},\"muted_glyph\":{\"type\":\"object\",\"name\":\"Line\",\"id\":\"p1926\",\"attributes\":{\"x\":{\"type\":\"field\",\"field\":\"x\"},\"y\":{\"type\":\"field\",\"field\":\"y\"},\"line_color\":\"#f46d43\",\"line_alpha\":0.2,\"line_width\":2}}}}],\"toolbar\":{\"type\":\"object\",\"name\":\"Toolbar\",\"id\":\"p1882\",\"attributes\":{\"tools\":[{\"id\":\"p1905\"},{\"id\":\"p1907\"}]}},\"toolbar_location\":null,\"left\":[{\"type\":\"object\",\"name\":\"LinearAxis\",\"id\":\"p1898\",\"attributes\":{\"ticker\":{\"type\":\"object\",\"name\":\"BasicTicker\",\"id\":\"p1900\",\"attributes\":{\"mantissas\":[1,2,5]}},\"formatter\":{\"type\":\"object\",\"name\":\"BasicTickFormatter\",\"id\":\"p1901\"},\"axis_label\":\"im(dz)/x0\",\"major_label_policy\":{\"type\":\"object\",\"name\":\"AllLabels\",\"id\":\"p1899\"}}}],\"below\":[{\"type\":\"object\",\"name\":\"LogAxis\",\"id\":\"p1891\",\"attributes\":{\"ticker\":{\"type\":\"object\",\"name\":\"LogTicker\",\"id\":\"p1893\",\"attributes\":{\"num_minor_ticks\":10,\"mantissas\":[1,5]}},\"formatter\":{\"type\":\"object\",\"name\":\"LogTickFormatter\",\"id\":\"p1894\"},\"axis_label\":\"f[Hz]\",\"major_label_policy\":{\"type\":\"object\",\"name\":\"AllLabels\",\"id\":\"p1892\"}}}],\"center\":[{\"type\":\"object\",\"name\":\"Grid\",\"id\":\"p1897\",\"attributes\":{\"axis\":{\"id\":\"p1891\"}}},{\"type\":\"object\",\"name\":\"Grid\",\"id\":\"p1904\",\"attributes\":{\"dimension\":1,\"axis\":{\"id\":\"p1898\"}}}]}},0,1]]}}],\"callbacks\":{\"type\":\"map\"}}};\n",
       "  const render_items = [{\"docid\":\"7ba8673b-387e-4c1d-ac3b-e4b0ee7db13c\",\"roots\":{\"p1973\":\"7b6a7f2c-1da4-441b-ab5b-f0b06e42f7eb\"},\"root_ids\":[\"p1973\"]}];\n",
       "  root.Bokeh.embed.embed_items_notebook(docs_json, render_items);\n",
       "  }\n",
       "  if (root.Bokeh !== undefined) {\n",
       "    embed_document(root);\n",
       "  } else {\n",
       "    let attempts = 0;\n",
       "    const timer = setInterval(function(root) {\n",
       "      if (root.Bokeh !== undefined) {\n",
       "        clearInterval(timer);\n",
       "        embed_document(root);\n",
       "      } else {\n",
       "        attempts++;\n",
       "        if (attempts > 100) {\n",
       "          clearInterval(timer);\n",
       "          console.log(\"Bokeh: ERROR: Unable to run BokehJS code because BokehJS library is missing\");\n",
       "        }\n",
       "      }\n",
       "    }, 10, root)\n",
       "  }\n",
       "})(window);"
      ],
      "application/vnd.bokehjs_exec.v0+json": ""
     },
     "metadata": {
      "application/vnd.bokehjs_exec.v0+json": {
       "id": "p1973"
      }
     },
     "output_type": "display_data"
    }
   ],
   "source": [
    "exp1.muesplot()"
   ]
  },
  {
   "cell_type": "code",
   "execution_count": 13,
   "id": "9c691a6b",
   "metadata": {},
   "outputs": [
    {
     "data": {
      "text/html": [
       "\n",
       "  <div id=\"ecbf23ec-e52a-48d4-97b0-2df9e2380b87\" data-root-id=\"p2434\" style=\"display: contents;\"></div>\n"
      ]
     },
     "metadata": {},
     "output_type": "display_data"
    },
    {
     "data": {
      "application/javascript": [
       "(function(root) {\n",
       "  function embed_document(root) {\n",
       "  const docs_json = {\"d1d64669-ae0a-4d64-8aa3-9177e77a3599\":{\"version\":\"3.1.0\",\"title\":\"Bokeh Application\",\"defs\":[],\"roots\":[{\"type\":\"object\",\"name\":\"GridPlot\",\"id\":\"p2434\",\"attributes\":{\"rows\":null,\"cols\":null,\"toolbar\":{\"type\":\"object\",\"name\":\"Toolbar\",\"id\":\"p2433\",\"attributes\":{\"tools\":[{\"type\":\"object\",\"name\":\"ToolProxy\",\"id\":\"p2431\",\"attributes\":{\"tools\":[{\"type\":\"object\",\"name\":\"BoxZoomTool\",\"id\":\"p2309\",\"attributes\":{\"overlay\":{\"type\":\"object\",\"name\":\"BoxAnnotation\",\"id\":\"p2310\",\"attributes\":{\"syncable\":false,\"level\":\"overlay\",\"visible\":false,\"left_units\":\"canvas\",\"right_units\":\"canvas\",\"bottom_units\":\"canvas\",\"top_units\":\"canvas\",\"line_color\":\"black\",\"line_alpha\":1.0,\"line_width\":2,\"line_dash\":[4,4],\"fill_color\":\"lightgrey\",\"fill_alpha\":0.5}}}},{\"type\":\"object\",\"name\":\"BoxZoomTool\",\"id\":\"p2366\",\"attributes\":{\"overlay\":{\"type\":\"object\",\"name\":\"BoxAnnotation\",\"id\":\"p2367\",\"attributes\":{\"syncable\":false,\"level\":\"overlay\",\"visible\":false,\"left_units\":\"canvas\",\"right_units\":\"canvas\",\"bottom_units\":\"canvas\",\"top_units\":\"canvas\",\"line_color\":\"black\",\"line_alpha\":1.0,\"line_width\":2,\"line_dash\":[4,4],\"fill_color\":\"lightgrey\",\"fill_alpha\":0.5}}}}]}},{\"type\":\"object\",\"name\":\"ToolProxy\",\"id\":\"p2432\",\"attributes\":{\"tools\":[{\"type\":\"object\",\"name\":\"ResetTool\",\"id\":\"p2311\"},{\"type\":\"object\",\"name\":\"ResetTool\",\"id\":\"p2368\"}]}}]}},\"children\":[[{\"type\":\"object\",\"name\":\"Figure\",\"id\":\"p2277\",\"attributes\":{\"width\":300,\"height\":250,\"x_range\":{\"type\":\"object\",\"name\":\"DataRange1d\",\"id\":\"p2278\"},\"y_range\":{\"type\":\"object\",\"name\":\"DataRange1d\",\"id\":\"p2279\"},\"x_scale\":{\"type\":\"object\",\"name\":\"LogScale\",\"id\":\"p2291\"},\"y_scale\":{\"type\":\"object\",\"name\":\"LinearScale\",\"id\":\"p2293\"},\"title\":{\"type\":\"object\",\"name\":\"Title\",\"id\":\"p2280\",\"attributes\":{\"text\":\"1010-M01 mueff = 83.97\"}},\"renderers\":[{\"type\":\"object\",\"name\":\"GlyphRenderer\",\"id\":\"p2322\",\"attributes\":{\"data_source\":{\"type\":\"object\",\"name\":\"ColumnDataSource\",\"id\":\"p2316\",\"attributes\":{\"selected\":{\"type\":\"object\",\"name\":\"Selection\",\"id\":\"p2317\",\"attributes\":{\"indices\":[],\"line_indices\":[]}},\"selection_policy\":{\"type\":\"object\",\"name\":\"UnionRenderers\",\"id\":\"p2318\"},\"data\":{\"type\":\"map\",\"entries\":[[\"x\",{\"type\":\"ndarray\",\"array\":{\"type\":\"bytes\",\"data\":\"AAAAAABAj0AzMzMzs6uTQFCNl26Sw5hANV66SQwtn0CDwMqhxZ+jQJMYBFaOtKhAoBov3SQar0Boke1835OzQJzEILCSpbhAeekmMUgHv0AAAAAAAIjDQAAAAACglshApHA9Cnf0zkDhehSuJ3zTQOF6FK63h9hAuB6F67Hh3kCkcD0KV3DjQKRwPQrXeOhAw/UoXPfO7kB7FK5HjWTzQAAAAAAAavhA\"},\"shape\":[21],\"dtype\":\"float64\",\"order\":\"little\"}],[\"y\",{\"type\":\"ndarray\",\"array\":{\"type\":\"bytes\",\"data\":\"/+JKyblctj9vAV3ASVC2P2ldq8YmY7Y/L0Y1TJ8Ztj/BtbnRfhW2PxbaarIpkLU/Sd0W42KttT+TNSNgp5+0P+XSsMnLX7Q/mpQsR9Wrsz+TcQ52AS6zP08fMqUPdbE/VaRrlN7KsD8Fe9oDSPWuP0QTA96LEqw/Mp2siCyEqT/QivpQ2uKnP1NxABurOqQ/WTZhRvxznz8E2h6ePrOUPykK1e8T+ZA/\"},\"shape\":[21],\"dtype\":\"float64\",\"order\":\"little\"}]]}}},\"view\":{\"type\":\"object\",\"name\":\"CDSView\",\"id\":\"p2323\",\"attributes\":{\"filter\":{\"type\":\"object\",\"name\":\"AllIndices\",\"id\":\"p2324\"}}},\"glyph\":{\"type\":\"object\",\"name\":\"Circle\",\"id\":\"p2319\",\"attributes\":{\"x\":{\"type\":\"field\",\"field\":\"x\"},\"y\":{\"type\":\"field\",\"field\":\"y\"},\"line_color\":{\"type\":\"value\",\"value\":\"#1f77b4\"},\"fill_color\":{\"type\":\"value\",\"value\":\"#1f77b4\"}}},\"nonselection_glyph\":{\"type\":\"object\",\"name\":\"Circle\",\"id\":\"p2320\",\"attributes\":{\"x\":{\"type\":\"field\",\"field\":\"x\"},\"y\":{\"type\":\"field\",\"field\":\"y\"},\"line_color\":{\"type\":\"value\",\"value\":\"#1f77b4\"},\"line_alpha\":{\"type\":\"value\",\"value\":0.1},\"fill_color\":{\"type\":\"value\",\"value\":\"#1f77b4\"},\"fill_alpha\":{\"type\":\"value\",\"value\":0.1},\"hatch_alpha\":{\"type\":\"value\",\"value\":0.1}}},\"muted_glyph\":{\"type\":\"object\",\"name\":\"Circle\",\"id\":\"p2321\",\"attributes\":{\"x\":{\"type\":\"field\",\"field\":\"x\"},\"y\":{\"type\":\"field\",\"field\":\"y\"},\"line_color\":{\"type\":\"value\",\"value\":\"#1f77b4\"},\"line_alpha\":{\"type\":\"value\",\"value\":0.2},\"fill_color\":{\"type\":\"value\",\"value\":\"#1f77b4\"},\"fill_alpha\":{\"type\":\"value\",\"value\":0.2},\"hatch_alpha\":{\"type\":\"value\",\"value\":0.2}}}}},{\"type\":\"object\",\"name\":\"GlyphRenderer\",\"id\":\"p2331\",\"attributes\":{\"data_source\":{\"type\":\"object\",\"name\":\"ColumnDataSource\",\"id\":\"p2325\",\"attributes\":{\"selected\":{\"type\":\"object\",\"name\":\"Selection\",\"id\":\"p2326\",\"attributes\":{\"indices\":[],\"line_indices\":[]}},\"selection_policy\":{\"type\":\"object\",\"name\":\"UnionRenderers\",\"id\":\"p2327\"},\"data\":{\"type\":\"map\",\"entries\":[[\"x\",{\"type\":\"ndarray\",\"array\":{\"type\":\"bytes\",\"data\":\"AAAAAABAj0AzMzMzs6uTQFCNl26Sw5hANV66SQwtn0CDwMqhxZ+jQJMYBFaOtKhAoBov3SQar0Boke1835OzQJzEILCSpbhAeekmMUgHv0AAAAAAAIjDQAAAAACglshApHA9Cnf0zkDhehSuJ3zTQOF6FK63h9hAuB6F67Hh3kCkcD0KV3DjQKRwPQrXeOhAw/UoXPfO7kB7FK5HjWTzQAAAAAAAavhA\"},\"shape\":[21],\"dtype\":\"float64\",\"order\":\"little\"}],[\"y\",{\"type\":\"ndarray\",\"array\":{\"type\":\"bytes\",\"data\":\"+aP6G/lyuD9BcrSYLg64P+sxeK8vnrc/acq1Rgcitz8I0/HAt5i2P95JxLQ+AbY/qQ15qZlatT9oQg5dy6O0P84ZGcDi27M/+YLdXAICsz+6LzlraRWyP6kRrVZ9FbE/Wpx4iNMBsD8BiEiSebStP5GdQEqdPas/W5SDCNyfqD/oGjWOrNylP8dfk2ZA9qI/7l/PRBPfnz8I0xdidpiZP+pTrhuCIZM/\"},\"shape\":[21],\"dtype\":\"float64\",\"order\":\"little\"}]]}}},\"view\":{\"type\":\"object\",\"name\":\"CDSView\",\"id\":\"p2332\",\"attributes\":{\"filter\":{\"type\":\"object\",\"name\":\"AllIndices\",\"id\":\"p2333\"}}},\"glyph\":{\"type\":\"object\",\"name\":\"Line\",\"id\":\"p2328\",\"attributes\":{\"x\":{\"type\":\"field\",\"field\":\"x\"},\"y\":{\"type\":\"field\",\"field\":\"y\"},\"line_color\":\"#f46d43\",\"line_alpha\":0.6,\"line_width\":2}},\"nonselection_glyph\":{\"type\":\"object\",\"name\":\"Line\",\"id\":\"p2329\",\"attributes\":{\"x\":{\"type\":\"field\",\"field\":\"x\"},\"y\":{\"type\":\"field\",\"field\":\"y\"},\"line_color\":\"#f46d43\",\"line_alpha\":0.1,\"line_width\":2}},\"muted_glyph\":{\"type\":\"object\",\"name\":\"Line\",\"id\":\"p2330\",\"attributes\":{\"x\":{\"type\":\"field\",\"field\":\"x\"},\"y\":{\"type\":\"field\",\"field\":\"y\"},\"line_color\":\"#f46d43\",\"line_alpha\":0.2,\"line_width\":2}}}}],\"toolbar\":{\"type\":\"object\",\"name\":\"Toolbar\",\"id\":\"p2286\",\"attributes\":{\"tools\":[{\"id\":\"p2309\"},{\"id\":\"p2311\"}]}},\"toolbar_location\":null,\"left\":[{\"type\":\"object\",\"name\":\"LinearAxis\",\"id\":\"p2302\",\"attributes\":{\"ticker\":{\"type\":\"object\",\"name\":\"BasicTicker\",\"id\":\"p2304\",\"attributes\":{\"mantissas\":[1,2,5]}},\"formatter\":{\"type\":\"object\",\"name\":\"BasicTickFormatter\",\"id\":\"p2305\"},\"axis_label\":\"im(dz)/x0\",\"major_label_policy\":{\"type\":\"object\",\"name\":\"AllLabels\",\"id\":\"p2303\"}}}],\"below\":[{\"type\":\"object\",\"name\":\"LogAxis\",\"id\":\"p2295\",\"attributes\":{\"ticker\":{\"type\":\"object\",\"name\":\"LogTicker\",\"id\":\"p2297\",\"attributes\":{\"num_minor_ticks\":10,\"mantissas\":[1,5]}},\"formatter\":{\"type\":\"object\",\"name\":\"LogTickFormatter\",\"id\":\"p2298\"},\"axis_label\":\"f[Hz]\",\"major_label_policy\":{\"type\":\"object\",\"name\":\"AllLabels\",\"id\":\"p2296\"}}}],\"center\":[{\"type\":\"object\",\"name\":\"Grid\",\"id\":\"p2301\",\"attributes\":{\"axis\":{\"id\":\"p2295\"}}},{\"type\":\"object\",\"name\":\"Grid\",\"id\":\"p2308\",\"attributes\":{\"dimension\":1,\"axis\":{\"id\":\"p2302\"}}}]}},0,0],[{\"type\":\"object\",\"name\":\"Figure\",\"id\":\"p2334\",\"attributes\":{\"width\":300,\"height\":250,\"x_range\":{\"type\":\"object\",\"name\":\"DataRange1d\",\"id\":\"p2335\"},\"y_range\":{\"type\":\"object\",\"name\":\"DataRange1d\",\"id\":\"p2336\"},\"x_scale\":{\"type\":\"object\",\"name\":\"LogScale\",\"id\":\"p2348\"},\"y_scale\":{\"type\":\"object\",\"name\":\"LinearScale\",\"id\":\"p2350\"},\"title\":{\"type\":\"object\",\"name\":\"Title\",\"id\":\"p2337\",\"attributes\":{\"text\":\"347-M02 mueff = 52.59\"}},\"renderers\":[{\"type\":\"object\",\"name\":\"GlyphRenderer\",\"id\":\"p2379\",\"attributes\":{\"data_source\":{\"type\":\"object\",\"name\":\"ColumnDataSource\",\"id\":\"p2373\",\"attributes\":{\"selected\":{\"type\":\"object\",\"name\":\"Selection\",\"id\":\"p2374\",\"attributes\":{\"indices\":[],\"line_indices\":[]}},\"selection_policy\":{\"type\":\"object\",\"name\":\"UnionRenderers\",\"id\":\"p2375\"},\"data\":{\"type\":\"map\",\"entries\":[[\"x\",{\"type\":\"ndarray\",\"array\":{\"type\":\"bytes\",\"data\":\"AAAAAABAj0AzMzMzs6uTQFCNl26Sw5hANV66SQwtn0CDwMqhxZ+jQJMYBFaOtKhAoBov3SQar0Boke1835OzQJzEILCSpbhAeekmMUgHv0AAAAAAAIjDQAAAAACglshApHA9Cnf0zkDhehSuJ3zTQOF6FK63h9hAuB6F67Hh3kCkcD0KV3DjQKRwPQrXeOhAw/UoXPfO7kB7FK5HjWTzQAAAAAAAavhA\"},\"shape\":[21],\"dtype\":\"float64\",\"order\":\"little\"}],[\"y\",{\"type\":\"ndarray\",\"array\":{\"type\":\"bytes\",\"data\":\"PRW0/6Qatz8blCf/8WG3PzBvvKreVLc/S7nG7dBltz/jjmQVenW3P06Nm5OurLc/w8JBb+pttz+fgRQtnBm3P4AssIgHr7Y/TwZymNUZtj/yVDc8z0m1P1nMXFUL5bQ/2z475RrEsz/7si+JTeSyP9M/M/Kc0bE/+Kj+lSzZsD/iG6UPLlKwPxTvQuCg/Ks/tb01l+y7qj9tU1ulRDKlP4VxN4IXQ6E/\"},\"shape\":[21],\"dtype\":\"float64\",\"order\":\"little\"}]]}}},\"view\":{\"type\":\"object\",\"name\":\"CDSView\",\"id\":\"p2380\",\"attributes\":{\"filter\":{\"type\":\"object\",\"name\":\"AllIndices\",\"id\":\"p2381\"}}},\"glyph\":{\"type\":\"object\",\"name\":\"Circle\",\"id\":\"p2376\",\"attributes\":{\"x\":{\"type\":\"field\",\"field\":\"x\"},\"y\":{\"type\":\"field\",\"field\":\"y\"},\"line_color\":{\"type\":\"value\",\"value\":\"#1f77b4\"},\"fill_color\":{\"type\":\"value\",\"value\":\"#1f77b4\"}}},\"nonselection_glyph\":{\"type\":\"object\",\"name\":\"Circle\",\"id\":\"p2377\",\"attributes\":{\"x\":{\"type\":\"field\",\"field\":\"x\"},\"y\":{\"type\":\"field\",\"field\":\"y\"},\"line_color\":{\"type\":\"value\",\"value\":\"#1f77b4\"},\"line_alpha\":{\"type\":\"value\",\"value\":0.1},\"fill_color\":{\"type\":\"value\",\"value\":\"#1f77b4\"},\"fill_alpha\":{\"type\":\"value\",\"value\":0.1},\"hatch_alpha\":{\"type\":\"value\",\"value\":0.1}}},\"muted_glyph\":{\"type\":\"object\",\"name\":\"Circle\",\"id\":\"p2378\",\"attributes\":{\"x\":{\"type\":\"field\",\"field\":\"x\"},\"y\":{\"type\":\"field\",\"field\":\"y\"},\"line_color\":{\"type\":\"value\",\"value\":\"#1f77b4\"},\"line_alpha\":{\"type\":\"value\",\"value\":0.2},\"fill_color\":{\"type\":\"value\",\"value\":\"#1f77b4\"},\"fill_alpha\":{\"type\":\"value\",\"value\":0.2},\"hatch_alpha\":{\"type\":\"value\",\"value\":0.2}}}}},{\"type\":\"object\",\"name\":\"GlyphRenderer\",\"id\":\"p2388\",\"attributes\":{\"data_source\":{\"type\":\"object\",\"name\":\"ColumnDataSource\",\"id\":\"p2382\",\"attributes\":{\"selected\":{\"type\":\"object\",\"name\":\"Selection\",\"id\":\"p2383\",\"attributes\":{\"indices\":[],\"line_indices\":[]}},\"selection_policy\":{\"type\":\"object\",\"name\":\"UnionRenderers\",\"id\":\"p2384\"},\"data\":{\"type\":\"map\",\"entries\":[[\"x\",{\"type\":\"ndarray\",\"array\":{\"type\":\"bytes\",\"data\":\"AAAAAABAj0AzMzMzs6uTQFCNl26Sw5hANV66SQwtn0CDwMqhxZ+jQJMYBFaOtKhAoBov3SQar0Boke1835OzQJzEILCSpbhAeekmMUgHv0AAAAAAAIjDQAAAAACglshApHA9Cnf0zkDhehSuJ3zTQOF6FK63h9hAuB6F67Hh3kCkcD0KV3DjQKRwPQrXeOhAw/UoXPfO7kB7FK5HjWTzQAAAAAAAavhA\"},\"shape\":[21],\"dtype\":\"float64\",\"order\":\"little\"}],[\"y\",{\"type\":\"ndarray\",\"array\":{\"type\":\"bytes\",\"data\":\"mYlYPytjuT8y91DodiC5P6V8U1gE1bg/CnUXTRCAuD9JEypbyiC4P6Fmz/VUtrc/V+95i8Y/tz+9mv5fK7y2P3wSKPKIKrY/0qk3/+GJtT8Xv3EXPNm0P5w5QfylF7Q/oUvsyT5Esz8Cnb0nP16yP1HWvv8BZbE/FpJpaw9YsD+h49vBTG6uP9Fbt6+PBKw/MX/7r4BzqT/z9xjdYbymPxjsqUss4aM/\"},\"shape\":[21],\"dtype\":\"float64\",\"order\":\"little\"}]]}}},\"view\":{\"type\":\"object\",\"name\":\"CDSView\",\"id\":\"p2389\",\"attributes\":{\"filter\":{\"type\":\"object\",\"name\":\"AllIndices\",\"id\":\"p2390\"}}},\"glyph\":{\"type\":\"object\",\"name\":\"Line\",\"id\":\"p2385\",\"attributes\":{\"x\":{\"type\":\"field\",\"field\":\"x\"},\"y\":{\"type\":\"field\",\"field\":\"y\"},\"line_color\":\"#f46d43\",\"line_alpha\":0.6,\"line_width\":2}},\"nonselection_glyph\":{\"type\":\"object\",\"name\":\"Line\",\"id\":\"p2386\",\"attributes\":{\"x\":{\"type\":\"field\",\"field\":\"x\"},\"y\":{\"type\":\"field\",\"field\":\"y\"},\"line_color\":\"#f46d43\",\"line_alpha\":0.1,\"line_width\":2}},\"muted_glyph\":{\"type\":\"object\",\"name\":\"Line\",\"id\":\"p2387\",\"attributes\":{\"x\":{\"type\":\"field\",\"field\":\"x\"},\"y\":{\"type\":\"field\",\"field\":\"y\"},\"line_color\":\"#f46d43\",\"line_alpha\":0.2,\"line_width\":2}}}}],\"toolbar\":{\"type\":\"object\",\"name\":\"Toolbar\",\"id\":\"p2343\",\"attributes\":{\"tools\":[{\"id\":\"p2366\"},{\"id\":\"p2368\"}]}},\"toolbar_location\":null,\"left\":[{\"type\":\"object\",\"name\":\"LinearAxis\",\"id\":\"p2359\",\"attributes\":{\"ticker\":{\"type\":\"object\",\"name\":\"BasicTicker\",\"id\":\"p2361\",\"attributes\":{\"mantissas\":[1,2,5]}},\"formatter\":{\"type\":\"object\",\"name\":\"BasicTickFormatter\",\"id\":\"p2362\"},\"axis_label\":\"im(dz)/x0\",\"major_label_policy\":{\"type\":\"object\",\"name\":\"AllLabels\",\"id\":\"p2360\"}}}],\"below\":[{\"type\":\"object\",\"name\":\"LogAxis\",\"id\":\"p2352\",\"attributes\":{\"ticker\":{\"type\":\"object\",\"name\":\"LogTicker\",\"id\":\"p2354\",\"attributes\":{\"num_minor_ticks\":10,\"mantissas\":[1,5]}},\"formatter\":{\"type\":\"object\",\"name\":\"LogTickFormatter\",\"id\":\"p2355\"},\"axis_label\":\"f[Hz]\",\"major_label_policy\":{\"type\":\"object\",\"name\":\"AllLabels\",\"id\":\"p2353\"}}}],\"center\":[{\"type\":\"object\",\"name\":\"Grid\",\"id\":\"p2358\",\"attributes\":{\"axis\":{\"id\":\"p2352\"}}},{\"type\":\"object\",\"name\":\"Grid\",\"id\":\"p2365\",\"attributes\":{\"dimension\":1,\"axis\":{\"id\":\"p2359\"}}}]}},0,1]]}}],\"callbacks\":{\"type\":\"map\"}}};\n",
       "  const render_items = [{\"docid\":\"d1d64669-ae0a-4d64-8aa3-9177e77a3599\",\"roots\":{\"p2434\":\"ecbf23ec-e52a-48d4-97b0-2df9e2380b87\"},\"root_ids\":[\"p2434\"]}];\n",
       "  root.Bokeh.embed.embed_items_notebook(docs_json, render_items);\n",
       "  }\n",
       "  if (root.Bokeh !== undefined) {\n",
       "    embed_document(root);\n",
       "  } else {\n",
       "    let attempts = 0;\n",
       "    const timer = setInterval(function(root) {\n",
       "      if (root.Bokeh !== undefined) {\n",
       "        clearInterval(timer);\n",
       "        embed_document(root);\n",
       "      } else {\n",
       "        attempts++;\n",
       "        if (attempts > 100) {\n",
       "          clearInterval(timer);\n",
       "          console.log(\"Bokeh: ERROR: Unable to run BokehJS code because BokehJS library is missing\");\n",
       "        }\n",
       "      }\n",
       "    }, 10, root)\n",
       "  }\n",
       "})(window);"
      ],
      "application/vnd.bokehjs_exec.v0+json": ""
     },
     "metadata": {
      "application/vnd.bokehjs_exec.v0+json": {
       "id": "p2434"
      }
     },
     "output_type": "display_data"
    }
   ],
   "source": [
    "exp2.muesplot()"
   ]
  }
 ],
 "metadata": {
  "kernelspec": {
   "display_name": "Python 3 (ipykernel)",
   "language": "python",
   "name": "python3"
  },
  "language_info": {
   "codemirror_mode": {
    "name": "ipython",
    "version": 3
   },
   "file_extension": ".py",
   "mimetype": "text/x-python",
   "name": "python",
   "nbconvert_exporter": "python",
   "pygments_lexer": "ipython3",
   "version": "3.10.9"
  }
 },
 "nbformat": 4,
 "nbformat_minor": 5
}
