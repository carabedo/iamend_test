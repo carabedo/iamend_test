{
 "cells": [
  {
   "cell_type": "code",
   "execution_count": 1,
   "id": "d46b58a6",
   "metadata": {},
   "outputs": [
    {
     "data": {
      "text/html": [
       "<style>\n",
       "        .bk-notebook-logo {\n",
       "            display: block;\n",
       "            width: 20px;\n",
       "            height: 20px;\n",
       "            background-image: url(data:image/png;base64,iVBORw0KGgoAAAANSUhEUgAAABQAAAAUCAYAAACNiR0NAAAABHNCSVQICAgIfAhkiAAAAAlwSFlzAAALEgAACxIB0t1+/AAAABx0RVh0U29mdHdhcmUAQWRvYmUgRmlyZXdvcmtzIENTNui8sowAAAOkSURBVDiNjZRtaJVlGMd/1/08zzln5zjP1LWcU9N0NkN8m2CYjpgQYQXqSs0I84OLIC0hkEKoPtiH3gmKoiJDU7QpLgoLjLIQCpEsNJ1vqUOdO7ppbuec5+V+rj4ctwzd8IIbbi6u+8f1539dt3A78eXC7QizUF7gyV1fD1Yqg4JWz84yffhm0qkFqBogB9rM8tZdtwVsPUhWhGcFJngGeWrPzHm5oaMmkfEg1usvLFyc8jLRqDOMru7AyC8saQr7GG7f5fvDeH7Ej8CM66nIF+8yngt6HWaKh7k49Soy9nXurCi1o3qUbS3zWfrYeQDTB/Qj6kX6Ybhw4B+bOYoLKCC9H3Nu/leUTZ1JdRWkkn2ldcCamzrcf47KKXdAJllSlxAOkRgyHsGC/zRday5Qld9DyoM4/q/rUoy/CXh3jzOu3bHUVZeU+DEn8FInkPBFlu3+nW3Nw0mk6vCDiWg8CeJaxEwuHS3+z5RgY+YBR6V1Z1nxSOfoaPa4LASWxxdNp+VWTk7+4vzaou8v8PN+xo+KY2xsw6une2frhw05CTYOmQvsEhjhWjn0bmXPjpE1+kplmmkP3suftwTubK9Vq22qKmrBhpY4jvd5afdRA3wGjFAgcnTK2s4hY0/GPNIb0nErGMCRxWOOX64Z8RAC4oCXdklmEvcL8o0BfkNK4lUg9HTl+oPlQxdNo3Mg4Nv175e/1LDGzZen30MEjRUtmXSfiTVu1kK8W4txyV6BMKlbgk3lMwYCiusNy9fVfvvwMxv8Ynl6vxoByANLTWplvuj/nF9m2+PDtt1eiHPBr1oIfhCChQMBw6Aw0UulqTKZdfVvfG7VcfIqLG9bcldL/+pdWTLxLUy8Qq38heUIjh4XlzZxzQm19lLFlr8vdQ97rjZVOLf8nclzckbcD4wxXMidpX30sFd37Fv/GtwwhzhxGVAprjbg0gCAEeIgwCZyTV2Z1REEW8O4py0wsjeloKoMr6iCY6dP92H6Vw/oTyICIthibxjm/DfN9lVz8IqtqKYLUXfoKVMVQVVJOElGjrnnUt9T9wbgp8AyYKaGlqingHZU/uG2NTZSVqwHQTWkx9hxjkpWDaCg6Ckj5qebgBVbT3V3NNXMSiWSDdGV3hrtzla7J+duwPOToIg42ChPQOQjspnSlp1V+Gjdged7+8UN5CRAV7a5EdFNwCjEaBR27b3W890TE7g24NAP/mMDXRWrGoFPQI9ls/MWO2dWFAar/xcOIImbbpA3zgAAAABJRU5ErkJggg==);\n",
       "        }\n",
       "    </style>\n",
       "    <div>\n",
       "        <a href=\"https://bokeh.org\" target=\"_blank\" class=\"bk-notebook-logo\"></a>\n",
       "        <span id=\"p1001\">Loading BokehJS ...</span>\n",
       "    </div>\n"
      ]
     },
     "metadata": {},
     "output_type": "display_data"
    },
    {
     "data": {
      "application/javascript": [
       "(function(root) {\n",
       "  function now() {\n",
       "    return new Date();\n",
       "  }\n",
       "\n",
       "  const force = true;\n",
       "\n",
       "  if (typeof root._bokeh_onload_callbacks === \"undefined\" || force === true) {\n",
       "    root._bokeh_onload_callbacks = [];\n",
       "    root._bokeh_is_loading = undefined;\n",
       "  }\n",
       "\n",
       "const JS_MIME_TYPE = 'application/javascript';\n",
       "  const HTML_MIME_TYPE = 'text/html';\n",
       "  const EXEC_MIME_TYPE = 'application/vnd.bokehjs_exec.v0+json';\n",
       "  const CLASS_NAME = 'output_bokeh rendered_html';\n",
       "\n",
       "  /**\n",
       "   * Render data to the DOM node\n",
       "   */\n",
       "  function render(props, node) {\n",
       "    const script = document.createElement(\"script\");\n",
       "    node.appendChild(script);\n",
       "  }\n",
       "\n",
       "  /**\n",
       "   * Handle when an output is cleared or removed\n",
       "   */\n",
       "  function handleClearOutput(event, handle) {\n",
       "    const cell = handle.cell;\n",
       "\n",
       "    const id = cell.output_area._bokeh_element_id;\n",
       "    const server_id = cell.output_area._bokeh_server_id;\n",
       "    // Clean up Bokeh references\n",
       "    if (id != null && id in Bokeh.index) {\n",
       "      Bokeh.index[id].model.document.clear();\n",
       "      delete Bokeh.index[id];\n",
       "    }\n",
       "\n",
       "    if (server_id !== undefined) {\n",
       "      // Clean up Bokeh references\n",
       "      const cmd_clean = \"from bokeh.io.state import curstate; print(curstate().uuid_to_server['\" + server_id + \"'].get_sessions()[0].document.roots[0]._id)\";\n",
       "      cell.notebook.kernel.execute(cmd_clean, {\n",
       "        iopub: {\n",
       "          output: function(msg) {\n",
       "            const id = msg.content.text.trim();\n",
       "            if (id in Bokeh.index) {\n",
       "              Bokeh.index[id].model.document.clear();\n",
       "              delete Bokeh.index[id];\n",
       "            }\n",
       "          }\n",
       "        }\n",
       "      });\n",
       "      // Destroy server and session\n",
       "      const cmd_destroy = \"import bokeh.io.notebook as ion; ion.destroy_server('\" + server_id + \"')\";\n",
       "      cell.notebook.kernel.execute(cmd_destroy);\n",
       "    }\n",
       "  }\n",
       "\n",
       "  /**\n",
       "   * Handle when a new output is added\n",
       "   */\n",
       "  function handleAddOutput(event, handle) {\n",
       "    const output_area = handle.output_area;\n",
       "    const output = handle.output;\n",
       "\n",
       "    // limit handleAddOutput to display_data with EXEC_MIME_TYPE content only\n",
       "    if ((output.output_type != \"display_data\") || (!Object.prototype.hasOwnProperty.call(output.data, EXEC_MIME_TYPE))) {\n",
       "      return\n",
       "    }\n",
       "\n",
       "    const toinsert = output_area.element.find(\".\" + CLASS_NAME.split(' ')[0]);\n",
       "\n",
       "    if (output.metadata[EXEC_MIME_TYPE][\"id\"] !== undefined) {\n",
       "      toinsert[toinsert.length - 1].firstChild.textContent = output.data[JS_MIME_TYPE];\n",
       "      // store reference to embed id on output_area\n",
       "      output_area._bokeh_element_id = output.metadata[EXEC_MIME_TYPE][\"id\"];\n",
       "    }\n",
       "    if (output.metadata[EXEC_MIME_TYPE][\"server_id\"] !== undefined) {\n",
       "      const bk_div = document.createElement(\"div\");\n",
       "      bk_div.innerHTML = output.data[HTML_MIME_TYPE];\n",
       "      const script_attrs = bk_div.children[0].attributes;\n",
       "      for (let i = 0; i < script_attrs.length; i++) {\n",
       "        toinsert[toinsert.length - 1].firstChild.setAttribute(script_attrs[i].name, script_attrs[i].value);\n",
       "        toinsert[toinsert.length - 1].firstChild.textContent = bk_div.children[0].textContent\n",
       "      }\n",
       "      // store reference to server id on output_area\n",
       "      output_area._bokeh_server_id = output.metadata[EXEC_MIME_TYPE][\"server_id\"];\n",
       "    }\n",
       "  }\n",
       "\n",
       "  function register_renderer(events, OutputArea) {\n",
       "\n",
       "    function append_mime(data, metadata, element) {\n",
       "      // create a DOM node to render to\n",
       "      const toinsert = this.create_output_subarea(\n",
       "        metadata,\n",
       "        CLASS_NAME,\n",
       "        EXEC_MIME_TYPE\n",
       "      );\n",
       "      this.keyboard_manager.register_events(toinsert);\n",
       "      // Render to node\n",
       "      const props = {data: data, metadata: metadata[EXEC_MIME_TYPE]};\n",
       "      render(props, toinsert[toinsert.length - 1]);\n",
       "      element.append(toinsert);\n",
       "      return toinsert\n",
       "    }\n",
       "\n",
       "    /* Handle when an output is cleared or removed */\n",
       "    events.on('clear_output.CodeCell', handleClearOutput);\n",
       "    events.on('delete.Cell', handleClearOutput);\n",
       "\n",
       "    /* Handle when a new output is added */\n",
       "    events.on('output_added.OutputArea', handleAddOutput);\n",
       "\n",
       "    /**\n",
       "     * Register the mime type and append_mime function with output_area\n",
       "     */\n",
       "    OutputArea.prototype.register_mime_type(EXEC_MIME_TYPE, append_mime, {\n",
       "      /* Is output safe? */\n",
       "      safe: true,\n",
       "      /* Index of renderer in `output_area.display_order` */\n",
       "      index: 0\n",
       "    });\n",
       "  }\n",
       "\n",
       "  // register the mime type if in Jupyter Notebook environment and previously unregistered\n",
       "  if (root.Jupyter !== undefined) {\n",
       "    const events = require('base/js/events');\n",
       "    const OutputArea = require('notebook/js/outputarea').OutputArea;\n",
       "\n",
       "    if (OutputArea.prototype.mime_types().indexOf(EXEC_MIME_TYPE) == -1) {\n",
       "      register_renderer(events, OutputArea);\n",
       "    }\n",
       "  }\n",
       "  if (typeof (root._bokeh_timeout) === \"undefined\" || force === true) {\n",
       "    root._bokeh_timeout = Date.now() + 5000;\n",
       "    root._bokeh_failed_load = false;\n",
       "  }\n",
       "\n",
       "  const NB_LOAD_WARNING = {'data': {'text/html':\n",
       "     \"<div style='background-color: #fdd'>\\n\"+\n",
       "     \"<p>\\n\"+\n",
       "     \"BokehJS does not appear to have successfully loaded. If loading BokehJS from CDN, this \\n\"+\n",
       "     \"may be due to a slow or bad network connection. Possible fixes:\\n\"+\n",
       "     \"</p>\\n\"+\n",
       "     \"<ul>\\n\"+\n",
       "     \"<li>re-rerun `output_notebook()` to attempt to load from CDN again, or</li>\\n\"+\n",
       "     \"<li>use INLINE resources instead, as so:</li>\\n\"+\n",
       "     \"</ul>\\n\"+\n",
       "     \"<code>\\n\"+\n",
       "     \"from bokeh.resources import INLINE\\n\"+\n",
       "     \"output_notebook(resources=INLINE)\\n\"+\n",
       "     \"</code>\\n\"+\n",
       "     \"</div>\"}};\n",
       "\n",
       "  function display_loaded() {\n",
       "    const el = document.getElementById(\"p1001\");\n",
       "    if (el != null) {\n",
       "      el.textContent = \"BokehJS is loading...\";\n",
       "    }\n",
       "    if (root.Bokeh !== undefined) {\n",
       "      if (el != null) {\n",
       "        el.textContent = \"BokehJS \" + root.Bokeh.version + \" successfully loaded.\";\n",
       "      }\n",
       "    } else if (Date.now() < root._bokeh_timeout) {\n",
       "      setTimeout(display_loaded, 100)\n",
       "    }\n",
       "  }\n",
       "\n",
       "  function run_callbacks() {\n",
       "    try {\n",
       "      root._bokeh_onload_callbacks.forEach(function(callback) {\n",
       "        if (callback != null)\n",
       "          callback();\n",
       "      });\n",
       "    } finally {\n",
       "      delete root._bokeh_onload_callbacks\n",
       "    }\n",
       "    console.debug(\"Bokeh: all callbacks have finished\");\n",
       "  }\n",
       "\n",
       "  function load_libs(css_urls, js_urls, callback) {\n",
       "    if (css_urls == null) css_urls = [];\n",
       "    if (js_urls == null) js_urls = [];\n",
       "\n",
       "    root._bokeh_onload_callbacks.push(callback);\n",
       "    if (root._bokeh_is_loading > 0) {\n",
       "      console.debug(\"Bokeh: BokehJS is being loaded, scheduling callback at\", now());\n",
       "      return null;\n",
       "    }\n",
       "    if (js_urls == null || js_urls.length === 0) {\n",
       "      run_callbacks();\n",
       "      return null;\n",
       "    }\n",
       "    console.debug(\"Bokeh: BokehJS not loaded, scheduling load and callback at\", now());\n",
       "    root._bokeh_is_loading = css_urls.length + js_urls.length;\n",
       "\n",
       "    function on_load() {\n",
       "      root._bokeh_is_loading--;\n",
       "      if (root._bokeh_is_loading === 0) {\n",
       "        console.debug(\"Bokeh: all BokehJS libraries/stylesheets loaded\");\n",
       "        run_callbacks()\n",
       "      }\n",
       "    }\n",
       "\n",
       "    function on_error(url) {\n",
       "      console.error(\"failed to load \" + url);\n",
       "    }\n",
       "\n",
       "    for (let i = 0; i < css_urls.length; i++) {\n",
       "      const url = css_urls[i];\n",
       "      const element = document.createElement(\"link\");\n",
       "      element.onload = on_load;\n",
       "      element.onerror = on_error.bind(null, url);\n",
       "      element.rel = \"stylesheet\";\n",
       "      element.type = \"text/css\";\n",
       "      element.href = url;\n",
       "      console.debug(\"Bokeh: injecting link tag for BokehJS stylesheet: \", url);\n",
       "      document.body.appendChild(element);\n",
       "    }\n",
       "\n",
       "    for (let i = 0; i < js_urls.length; i++) {\n",
       "      const url = js_urls[i];\n",
       "      const element = document.createElement('script');\n",
       "      element.onload = on_load;\n",
       "      element.onerror = on_error.bind(null, url);\n",
       "      element.async = false;\n",
       "      element.src = url;\n",
       "      console.debug(\"Bokeh: injecting script tag for BokehJS library: \", url);\n",
       "      document.head.appendChild(element);\n",
       "    }\n",
       "  };\n",
       "\n",
       "  function inject_raw_css(css) {\n",
       "    const element = document.createElement(\"style\");\n",
       "    element.appendChild(document.createTextNode(css));\n",
       "    document.body.appendChild(element);\n",
       "  }\n",
       "\n",
       "  const js_urls = [\"https://cdn.bokeh.org/bokeh/release/bokeh-3.1.0.min.js\", \"https://cdn.bokeh.org/bokeh/release/bokeh-gl-3.1.0.min.js\", \"https://cdn.bokeh.org/bokeh/release/bokeh-widgets-3.1.0.min.js\", \"https://cdn.bokeh.org/bokeh/release/bokeh-tables-3.1.0.min.js\", \"https://cdn.bokeh.org/bokeh/release/bokeh-mathjax-3.1.0.min.js\"];\n",
       "  const css_urls = [];\n",
       "\n",
       "  const inline_js = [    function(Bokeh) {\n",
       "      Bokeh.set_log_level(\"info\");\n",
       "    },\n",
       "function(Bokeh) {\n",
       "    }\n",
       "  ];\n",
       "\n",
       "  function run_inline_js() {\n",
       "    if (root.Bokeh !== undefined || force === true) {\n",
       "          for (let i = 0; i < inline_js.length; i++) {\n",
       "      inline_js[i].call(root, root.Bokeh);\n",
       "    }\n",
       "if (force === true) {\n",
       "        display_loaded();\n",
       "      }} else if (Date.now() < root._bokeh_timeout) {\n",
       "      setTimeout(run_inline_js, 100);\n",
       "    } else if (!root._bokeh_failed_load) {\n",
       "      console.log(\"Bokeh: BokehJS failed to load within specified timeout.\");\n",
       "      root._bokeh_failed_load = true;\n",
       "    } else if (force !== true) {\n",
       "      const cell = $(document.getElementById(\"p1001\")).parents('.cell').data().cell;\n",
       "      cell.output_area.append_execute_result(NB_LOAD_WARNING)\n",
       "    }\n",
       "  }\n",
       "\n",
       "  if (root._bokeh_is_loading === 0) {\n",
       "    console.debug(\"Bokeh: BokehJS loaded, going straight to plotting\");\n",
       "    run_inline_js();\n",
       "  } else {\n",
       "    load_libs(css_urls, js_urls, function() {\n",
       "      console.debug(\"Bokeh: BokehJS plotting callback run at\", now());\n",
       "      run_inline_js();\n",
       "    });\n",
       "  }\n",
       "}(window));"
      ],
      "application/vnd.bokehjs_load.v0+json": "(function(root) {\n  function now() {\n    return new Date();\n  }\n\n  const force = true;\n\n  if (typeof root._bokeh_onload_callbacks === \"undefined\" || force === true) {\n    root._bokeh_onload_callbacks = [];\n    root._bokeh_is_loading = undefined;\n  }\n\n\n  if (typeof (root._bokeh_timeout) === \"undefined\" || force === true) {\n    root._bokeh_timeout = Date.now() + 5000;\n    root._bokeh_failed_load = false;\n  }\n\n  const NB_LOAD_WARNING = {'data': {'text/html':\n     \"<div style='background-color: #fdd'>\\n\"+\n     \"<p>\\n\"+\n     \"BokehJS does not appear to have successfully loaded. If loading BokehJS from CDN, this \\n\"+\n     \"may be due to a slow or bad network connection. Possible fixes:\\n\"+\n     \"</p>\\n\"+\n     \"<ul>\\n\"+\n     \"<li>re-rerun `output_notebook()` to attempt to load from CDN again, or</li>\\n\"+\n     \"<li>use INLINE resources instead, as so:</li>\\n\"+\n     \"</ul>\\n\"+\n     \"<code>\\n\"+\n     \"from bokeh.resources import INLINE\\n\"+\n     \"output_notebook(resources=INLINE)\\n\"+\n     \"</code>\\n\"+\n     \"</div>\"}};\n\n  function display_loaded() {\n    const el = document.getElementById(\"p1001\");\n    if (el != null) {\n      el.textContent = \"BokehJS is loading...\";\n    }\n    if (root.Bokeh !== undefined) {\n      if (el != null) {\n        el.textContent = \"BokehJS \" + root.Bokeh.version + \" successfully loaded.\";\n      }\n    } else if (Date.now() < root._bokeh_timeout) {\n      setTimeout(display_loaded, 100)\n    }\n  }\n\n  function run_callbacks() {\n    try {\n      root._bokeh_onload_callbacks.forEach(function(callback) {\n        if (callback != null)\n          callback();\n      });\n    } finally {\n      delete root._bokeh_onload_callbacks\n    }\n    console.debug(\"Bokeh: all callbacks have finished\");\n  }\n\n  function load_libs(css_urls, js_urls, callback) {\n    if (css_urls == null) css_urls = [];\n    if (js_urls == null) js_urls = [];\n\n    root._bokeh_onload_callbacks.push(callback);\n    if (root._bokeh_is_loading > 0) {\n      console.debug(\"Bokeh: BokehJS is being loaded, scheduling callback at\", now());\n      return null;\n    }\n    if (js_urls == null || js_urls.length === 0) {\n      run_callbacks();\n      return null;\n    }\n    console.debug(\"Bokeh: BokehJS not loaded, scheduling load and callback at\", now());\n    root._bokeh_is_loading = css_urls.length + js_urls.length;\n\n    function on_load() {\n      root._bokeh_is_loading--;\n      if (root._bokeh_is_loading === 0) {\n        console.debug(\"Bokeh: all BokehJS libraries/stylesheets loaded\");\n        run_callbacks()\n      }\n    }\n\n    function on_error(url) {\n      console.error(\"failed to load \" + url);\n    }\n\n    for (let i = 0; i < css_urls.length; i++) {\n      const url = css_urls[i];\n      const element = document.createElement(\"link\");\n      element.onload = on_load;\n      element.onerror = on_error.bind(null, url);\n      element.rel = \"stylesheet\";\n      element.type = \"text/css\";\n      element.href = url;\n      console.debug(\"Bokeh: injecting link tag for BokehJS stylesheet: \", url);\n      document.body.appendChild(element);\n    }\n\n    for (let i = 0; i < js_urls.length; i++) {\n      const url = js_urls[i];\n      const element = document.createElement('script');\n      element.onload = on_load;\n      element.onerror = on_error.bind(null, url);\n      element.async = false;\n      element.src = url;\n      console.debug(\"Bokeh: injecting script tag for BokehJS library: \", url);\n      document.head.appendChild(element);\n    }\n  };\n\n  function inject_raw_css(css) {\n    const element = document.createElement(\"style\");\n    element.appendChild(document.createTextNode(css));\n    document.body.appendChild(element);\n  }\n\n  const js_urls = [\"https://cdn.bokeh.org/bokeh/release/bokeh-3.1.0.min.js\", \"https://cdn.bokeh.org/bokeh/release/bokeh-gl-3.1.0.min.js\", \"https://cdn.bokeh.org/bokeh/release/bokeh-widgets-3.1.0.min.js\", \"https://cdn.bokeh.org/bokeh/release/bokeh-tables-3.1.0.min.js\", \"https://cdn.bokeh.org/bokeh/release/bokeh-mathjax-3.1.0.min.js\"];\n  const css_urls = [];\n\n  const inline_js = [    function(Bokeh) {\n      Bokeh.set_log_level(\"info\");\n    },\nfunction(Bokeh) {\n    }\n  ];\n\n  function run_inline_js() {\n    if (root.Bokeh !== undefined || force === true) {\n          for (let i = 0; i < inline_js.length; i++) {\n      inline_js[i].call(root, root.Bokeh);\n    }\nif (force === true) {\n        display_loaded();\n      }} else if (Date.now() < root._bokeh_timeout) {\n      setTimeout(run_inline_js, 100);\n    } else if (!root._bokeh_failed_load) {\n      console.log(\"Bokeh: BokehJS failed to load within specified timeout.\");\n      root._bokeh_failed_load = true;\n    } else if (force !== true) {\n      const cell = $(document.getElementById(\"p1001\")).parents('.cell').data().cell;\n      cell.output_area.append_execute_result(NB_LOAD_WARNING)\n    }\n  }\n\n  if (root._bokeh_is_loading === 0) {\n    console.debug(\"Bokeh: BokehJS loaded, going straight to plotting\");\n    run_inline_js();\n  } else {\n    load_libs(css_urls, js_urls, function() {\n      console.debug(\"Bokeh: BokehJS plotting callback run at\", now());\n      run_inline_js();\n    });\n  }\n}(window));"
     },
     "metadata": {},
     "output_type": "display_data"
    }
   ],
   "source": [
    "import iamend_ci as ci"
   ]
  },
  {
   "cell_type": "code",
   "execution_count": 2,
   "id": "41662902",
   "metadata": {},
   "outputs": [
    {
     "name": "stdout",
     "output_type": "stream",
     "text": [
      "             archivo  conductividad  espesor bobina  muestras\n",
      "0  Exp_1010_Aire.csv           0.00  0.00000      a      aire\n",
      "1   Exp_1010-M00.csv     3830000.00  0.06500      a  1010-M00\n",
      "2   Exp_1010-M01.csv     3830000.00  0.06500      a  1010-M01\n",
      "3  Exp_1010_P057.csv     3948000.00  0.14957      a      P057\n",
      "4    Exp_347-M02.csv     1118491.27  0.02340      a   347-M02\n"
     ]
    }
   ],
   "source": [
    "exp=ci.exp('.//iamend_ci//datos//marzo2023//bob_a//')"
   ]
  },
  {
   "cell_type": "code",
   "execution_count": 3,
   "id": "177e6f6f",
   "metadata": {},
   "outputs": [
    {
     "name": "stdout",
     "output_type": "stream",
     "text": [
      "N = 72.71797530843834\n"
     ]
    },
    {
     "data": {
      "text/html": [
       "\n",
       "  <div id=\"251f7c5f-37a9-42ad-b634-a3cc357320bf\" data-root-id=\"p1002\" style=\"display: contents;\"></div>\n"
      ]
     },
     "metadata": {},
     "output_type": "display_data"
    },
    {
     "data": {
      "application/javascript": [
       "(function(root) {\n",
       "  function embed_document(root) {\n",
       "  const docs_json = {\"ac213d24-70ba-4290-b715-e7b4f7be7e31\":{\"version\":\"3.1.0\",\"title\":\"Bokeh Application\",\"defs\":[],\"roots\":[{\"type\":\"object\",\"name\":\"Figure\",\"id\":\"p1002\",\"attributes\":{\"height\":500,\"x_range\":{\"type\":\"object\",\"name\":\"DataRange1d\",\"id\":\"p1003\"},\"y_range\":{\"type\":\"object\",\"name\":\"DataRange1d\",\"id\":\"p1004\"},\"x_scale\":{\"type\":\"object\",\"name\":\"LogScale\",\"id\":\"p1015\"},\"y_scale\":{\"type\":\"object\",\"name\":\"LinearScale\",\"id\":\"p1017\"},\"title\":{\"type\":\"object\",\"name\":\"Title\",\"id\":\"p1006\"},\"renderers\":[{\"type\":\"object\",\"name\":\"GlyphRenderer\",\"id\":\"p1046\",\"attributes\":{\"data_source\":{\"type\":\"object\",\"name\":\"ColumnDataSource\",\"id\":\"p1040\",\"attributes\":{\"selected\":{\"type\":\"object\",\"name\":\"Selection\",\"id\":\"p1041\",\"attributes\":{\"indices\":[],\"line_indices\":[]}},\"selection_policy\":{\"type\":\"object\",\"name\":\"UnionRenderers\",\"id\":\"p1042\"},\"data\":{\"type\":\"map\",\"entries\":[[\"x\",{\"type\":\"ndarray\",\"array\":{\"type\":\"bytes\",\"data\":\"AAAAAAAAWUCF61G4HnlfQNk9eVioz2NA9+RhodbwaEDSAN4CCWZvQHbgnBGlw3NAGeJYF7fheED7XG3F/lJ/QLAD54yot4NAYVRSJ6DSiEAAAAAAAECPQDMzMzOzq5NAUI2XbpLDmEA1XrpJDC2fQIPAyqHFn6NAkxgEVo60qECgGi/dJBqvQGiR7Xzfk7NAnMQgsJKluEB56SYxSAe/QAAAAAAAiMNAAAAAAKCWyECkcD0Kd/TOQOF6FK4nfNNA4XoUrreH2EC4HoXrseHeQKRwPQpXcONApHA9Ctd46EDD9Shc987uQHsUrkeNZPNAAAAAAABq+EAAAAAASLz+QGZmZmbKWANBmpmZmTFbCEHNzMzMpKkOQTMzMzMPTRNBzczMzGxMGEEzMzMzDZceQZqZmZlaQSNBmpmZmbA9KEEAAAAAgIQuQQ==\"},\"shape\":[41],\"dtype\":\"float64\",\"order\":\"little\"}],[\"y\",{\"type\":\"ndarray\",\"array\":{\"type\":\"bytes\",\"data\":\"ZsNtSC3ubb+qZRbSWyh0v6wq7o9wlWC/qygxwmvtfL/wZgIta60lv3A/MqLlziw/1s/t57i6Z79J1IcPtmJVv4fE74zK/nK/xSxtPDJtc78S5uyCDZt6vyjdiS4WJIG/rXhWO/1vhb+7suFvb8KKv8eDjsoadI+/yhakl4MVk7+CHyW0kGqUv9PNiYrKbZe/7yYnLDKvmr/njwdsWFWev9N6hYYJGKG/GqkfU9ppor+4BafmB0ekvwdRnYDp1aW/xrFBt33ypr9hVCqmrZaov3VGMoiPYam/npUZ68lWq7+Re86ylX+sv1NysJXsQa2/BkFLWvSvrr8R/2JuvDGvv7v26EF+ELC/Q3baVYy3sL8yML4ahQCxv/aSBlTadrG/P417ODVbsr8kbk+JgIizvzSAf02qObW/toOU85QtuL+UoECVZ569vw==\"},\"shape\":[41],\"dtype\":\"float64\",\"order\":\"little\"}]]}}},\"view\":{\"type\":\"object\",\"name\":\"CDSView\",\"id\":\"p1047\",\"attributes\":{\"filter\":{\"type\":\"object\",\"name\":\"AllIndices\",\"id\":\"p1048\"}}},\"glyph\":{\"type\":\"object\",\"name\":\"Circle\",\"id\":\"p1043\",\"attributes\":{\"x\":{\"type\":\"field\",\"field\":\"x\"},\"y\":{\"type\":\"field\",\"field\":\"y\"},\"line_color\":{\"type\":\"value\",\"value\":\"#1f77b4\"},\"fill_color\":{\"type\":\"value\",\"value\":\"#1f77b4\"}}},\"nonselection_glyph\":{\"type\":\"object\",\"name\":\"Circle\",\"id\":\"p1044\",\"attributes\":{\"x\":{\"type\":\"field\",\"field\":\"x\"},\"y\":{\"type\":\"field\",\"field\":\"y\"},\"line_color\":{\"type\":\"value\",\"value\":\"#1f77b4\"},\"line_alpha\":{\"type\":\"value\",\"value\":0.1},\"fill_color\":{\"type\":\"value\",\"value\":\"#1f77b4\"},\"fill_alpha\":{\"type\":\"value\",\"value\":0.1},\"hatch_alpha\":{\"type\":\"value\",\"value\":0.1}}},\"muted_glyph\":{\"type\":\"object\",\"name\":\"Circle\",\"id\":\"p1045\",\"attributes\":{\"x\":{\"type\":\"field\",\"field\":\"x\"},\"y\":{\"type\":\"field\",\"field\":\"y\"},\"line_color\":{\"type\":\"value\",\"value\":\"#1f77b4\"},\"line_alpha\":{\"type\":\"value\",\"value\":0.2},\"fill_color\":{\"type\":\"value\",\"value\":\"#1f77b4\"},\"fill_alpha\":{\"type\":\"value\",\"value\":0.2},\"hatch_alpha\":{\"type\":\"value\",\"value\":0.2}}}}},{\"type\":\"object\",\"name\":\"GlyphRenderer\",\"id\":\"p1055\",\"attributes\":{\"data_source\":{\"type\":\"object\",\"name\":\"ColumnDataSource\",\"id\":\"p1049\",\"attributes\":{\"selected\":{\"type\":\"object\",\"name\":\"Selection\",\"id\":\"p1050\",\"attributes\":{\"indices\":[],\"line_indices\":[]}},\"selection_policy\":{\"type\":\"object\",\"name\":\"UnionRenderers\",\"id\":\"p1051\"},\"data\":{\"type\":\"map\",\"entries\":[[\"x\",{\"type\":\"ndarray\",\"array\":{\"type\":\"bytes\",\"data\":\"AAAAAAAAWUCF61G4HnlfQNk9eVioz2NA9+RhodbwaEDSAN4CCWZvQHbgnBGlw3NAGeJYF7fheED7XG3F/lJ/QLAD54yot4NAYVRSJ6DSiEAAAAAAAECPQDMzMzOzq5NAUI2XbpLDmEA1XrpJDC2fQIPAyqHFn6NAkxgEVo60qECgGi/dJBqvQGiR7Xzfk7NAnMQgsJKluEB56SYxSAe/QAAAAAAAiMNAAAAAAKCWyECkcD0Kd/TOQOF6FK4nfNNA4XoUrreH2EC4HoXrseHeQKRwPQpXcONApHA9Ctd46EDD9Shc987uQHsUrkeNZPNAAAAAAABq+EAAAAAASLz+QGZmZmbKWANBmpmZmTFbCEHNzMzMpKkOQTMzMzMPTRNBzczMzGxMGEEzMzMzDZceQZqZmZlaQSNBmpmZmbA9KEEAAAAAgIQuQQ==\"},\"shape\":[41],\"dtype\":\"float64\",\"order\":\"little\"}],[\"y\",{\"type\":\"ndarray\",\"array\":{\"type\":\"bytes\",\"data\":\"gSxf1HGwW79WxdHGvdthv7rk+KCD2Wa/0bfDmvf3bL9lqyYaTjJyv6q3BahVqXa/gu04EiL6e7+FfeoknRyBv58eGwo4uoS/y09UWC/ZiL/Ark8kvXiNvwDgf9t7SZG/Yf0cOP0NlL8DObSf+QCXv3R3dS0DF5q/E5uywNhCnb/r3+WdKjugvykqoaXF0aG/IqFePOpeo78R3P/DUt2kv8lmnzMASaa/mOa9JkCfp7+YqPOoid6ov+B3TYRCBqq/UOFfPIQWq7+u64rc5w+svxxnZlBf86y/PgfAqhbCrb9dilpwXX2uv2bZI86UJq+/47CwYiK/r7+E8iRhMySwvwJbr1fbYbC/b7nPGCuZsL8b5sEKu8qwv9qZSRcZ97C/V/SzVMgesb9u6JApQUKxv/3txoPxYbG/EUWkYD1+sb/inSRMf5exvw==\"},\"shape\":[41],\"dtype\":\"float64\",\"order\":\"little\"}]]}}},\"view\":{\"type\":\"object\",\"name\":\"CDSView\",\"id\":\"p1056\",\"attributes\":{\"filter\":{\"type\":\"object\",\"name\":\"AllIndices\",\"id\":\"p1057\"}}},\"glyph\":{\"type\":\"object\",\"name\":\"Line\",\"id\":\"p1052\",\"attributes\":{\"x\":{\"type\":\"field\",\"field\":\"x\"},\"y\":{\"type\":\"field\",\"field\":\"y\"},\"line_color\":\"#f46d43\",\"line_alpha\":0.6,\"line_width\":2}},\"nonselection_glyph\":{\"type\":\"object\",\"name\":\"Line\",\"id\":\"p1053\",\"attributes\":{\"x\":{\"type\":\"field\",\"field\":\"x\"},\"y\":{\"type\":\"field\",\"field\":\"y\"},\"line_color\":\"#f46d43\",\"line_alpha\":0.1,\"line_width\":2}},\"muted_glyph\":{\"type\":\"object\",\"name\":\"Line\",\"id\":\"p1054\",\"attributes\":{\"x\":{\"type\":\"field\",\"field\":\"x\"},\"y\":{\"type\":\"field\",\"field\":\"y\"},\"line_color\":\"#f46d43\",\"line_alpha\":0.2,\"line_width\":2}}}}],\"toolbar\":{\"type\":\"object\",\"name\":\"Toolbar\",\"id\":\"p1005\",\"attributes\":{\"tools\":[{\"type\":\"object\",\"name\":\"BoxZoomTool\",\"id\":\"p1033\",\"attributes\":{\"overlay\":{\"type\":\"object\",\"name\":\"BoxAnnotation\",\"id\":\"p1034\",\"attributes\":{\"syncable\":false,\"level\":\"overlay\",\"visible\":false,\"left_units\":\"canvas\",\"right_units\":\"canvas\",\"bottom_units\":\"canvas\",\"top_units\":\"canvas\",\"line_color\":\"black\",\"line_alpha\":1.0,\"line_width\":2,\"line_dash\":[4,4],\"fill_color\":\"lightgrey\",\"fill_alpha\":0.5}}}},{\"type\":\"object\",\"name\":\"ResetTool\",\"id\":\"p1035\"}]}},\"left\":[{\"type\":\"object\",\"name\":\"LinearAxis\",\"id\":\"p1026\",\"attributes\":{\"ticker\":{\"type\":\"object\",\"name\":\"BasicTicker\",\"id\":\"p1028\",\"attributes\":{\"mantissas\":[1,2,5]}},\"formatter\":{\"type\":\"object\",\"name\":\"BasicTickFormatter\",\"id\":\"p1029\"},\"axis_label\":\"im(dz)/x0\",\"major_label_policy\":{\"type\":\"object\",\"name\":\"AllLabels\",\"id\":\"p1027\"}}}],\"below\":[{\"type\":\"object\",\"name\":\"LogAxis\",\"id\":\"p1019\",\"attributes\":{\"ticker\":{\"type\":\"object\",\"name\":\"LogTicker\",\"id\":\"p1021\",\"attributes\":{\"num_minor_ticks\":10,\"mantissas\":[1,5]}},\"formatter\":{\"type\":\"object\",\"name\":\"LogTickFormatter\",\"id\":\"p1022\"},\"axis_label\":\"f[Hz]\",\"major_label_policy\":{\"type\":\"object\",\"name\":\"AllLabels\",\"id\":\"p1020\"}}}],\"center\":[{\"type\":\"object\",\"name\":\"Grid\",\"id\":\"p1025\",\"attributes\":{\"axis\":{\"id\":\"p1019\"}}},{\"type\":\"object\",\"name\":\"Grid\",\"id\":\"p1032\",\"attributes\":{\"dimension\":1,\"axis\":{\"id\":\"p1026\"}}}]}}],\"callbacks\":{\"type\":\"map\"}}};\n",
       "  const render_items = [{\"docid\":\"ac213d24-70ba-4290-b715-e7b4f7be7e31\",\"roots\":{\"p1002\":\"251f7c5f-37a9-42ad-b634-a3cc357320bf\"},\"root_ids\":[\"p1002\"]}];\n",
       "  root.Bokeh.embed.embed_items_notebook(docs_json, render_items);\n",
       "  }\n",
       "  if (root.Bokeh !== undefined) {\n",
       "    embed_document(root);\n",
       "  } else {\n",
       "    let attempts = 0;\n",
       "    const timer = setInterval(function(root) {\n",
       "      if (root.Bokeh !== undefined) {\n",
       "        clearInterval(timer);\n",
       "        embed_document(root);\n",
       "      } else {\n",
       "        attempts++;\n",
       "        if (attempts > 100) {\n",
       "          clearInterval(timer);\n",
       "          console.log(\"Bokeh: ERROR: Unable to run BokehJS code because BokehJS library is missing\");\n",
       "        }\n",
       "      }\n",
       "    }, 10, root)\n",
       "  }\n",
       "})(window);"
      ],
      "application/vnd.bokehjs_exec.v0+json": ""
     },
     "metadata": {
      "application/vnd.bokehjs_exec.v0+json": {
       "id": "p1002"
      }
     },
     "output_type": "display_data"
    },
    {
     "data": {
      "text/plain": [
       "True"
      ]
     },
     "execution_count": 3,
     "metadata": {},
     "output_type": "execute_result"
    }
   ],
   "source": [
    "exp.fitpatron('N',plot=True)"
   ]
  },
  {
   "cell_type": "code",
   "execution_count": 4,
   "id": "8bce6ead",
   "metadata": {},
   "outputs": [],
   "source": [
    "exp.set_frange(1e2,1e5)"
   ]
  },
  {
   "cell_type": "code",
   "execution_count": 5,
   "id": "a58f9511",
   "metadata": {
    "scrolled": false
   },
   "outputs": [
    {
     "name": "stdout",
     "output_type": "stream",
     "text": [
      "N = 66.27118455426631\n"
     ]
    },
    {
     "data": {
      "text/html": [
       "\n",
       "  <div id=\"eb98e8ac-92d6-4829-a205-5816ddf77fe6\" data-root-id=\"p1179\" style=\"display: contents;\"></div>\n"
      ]
     },
     "metadata": {},
     "output_type": "display_data"
    },
    {
     "data": {
      "application/javascript": [
       "(function(root) {\n",
       "  function embed_document(root) {\n",
       "  const docs_json = {\"00458af9-3539-4079-96e2-60c83c790415\":{\"version\":\"3.1.0\",\"title\":\"Bokeh Application\",\"defs\":[],\"roots\":[{\"type\":\"object\",\"name\":\"Figure\",\"id\":\"p1179\",\"attributes\":{\"height\":500,\"x_range\":{\"type\":\"object\",\"name\":\"DataRange1d\",\"id\":\"p1180\"},\"y_range\":{\"type\":\"object\",\"name\":\"DataRange1d\",\"id\":\"p1181\"},\"x_scale\":{\"type\":\"object\",\"name\":\"LogScale\",\"id\":\"p1192\"},\"y_scale\":{\"type\":\"object\",\"name\":\"LinearScale\",\"id\":\"p1194\"},\"title\":{\"type\":\"object\",\"name\":\"Title\",\"id\":\"p1183\"},\"renderers\":[{\"type\":\"object\",\"name\":\"GlyphRenderer\",\"id\":\"p1223\",\"attributes\":{\"data_source\":{\"type\":\"object\",\"name\":\"ColumnDataSource\",\"id\":\"p1217\",\"attributes\":{\"selected\":{\"type\":\"object\",\"name\":\"Selection\",\"id\":\"p1218\",\"attributes\":{\"indices\":[],\"line_indices\":[]}},\"selection_policy\":{\"type\":\"object\",\"name\":\"UnionRenderers\",\"id\":\"p1219\"},\"data\":{\"type\":\"map\",\"entries\":[[\"x\",{\"type\":\"ndarray\",\"array\":{\"type\":\"bytes\",\"data\":\"AAAAAAAAWUCF61G4HnlfQNk9eVioz2NA9+RhodbwaEDSAN4CCWZvQHbgnBGlw3NAGeJYF7fheED7XG3F/lJ/QLAD54yot4NAYVRSJ6DSiEAAAAAAAECPQDMzMzOzq5NAUI2XbpLDmEA1XrpJDC2fQIPAyqHFn6NAkxgEVo60qECgGi/dJBqvQGiR7Xzfk7NAnMQgsJKluEB56SYxSAe/QAAAAAAAiMNAAAAAAKCWyECkcD0Kd/TOQOF6FK4nfNNA4XoUrreH2EC4HoXrseHeQKRwPQpXcONApHA9Ctd46EDD9Shc987uQHsUrkeNZPNAAAAAAABq+EA=\"},\"shape\":[31],\"dtype\":\"float64\",\"order\":\"little\"}],[\"y\",{\"type\":\"ndarray\",\"array\":{\"type\":\"bytes\",\"data\":\"ZsNtSC3ubb+qZRbSWyh0v6wq7o9wlWC/qygxwmvtfL/wZgIta60lv3A/MqLlziw/1s/t57i6Z79J1IcPtmJVv4fE74zK/nK/xSxtPDJtc78S5uyCDZt6vyjdiS4WJIG/rXhWO/1vhb+7suFvb8KKv8eDjsoadI+/yhakl4MVk7+CHyW0kGqUv9PNiYrKbZe/7yYnLDKvmr/njwdsWFWev9N6hYYJGKG/GqkfU9ppor+4BafmB0ekvwdRnYDp1aW/xrFBt33ypr9hVCqmrZaov3VGMoiPYam/npUZ68lWq7+Re86ylX+sv1NysJXsQa2/BkFLWvSvrr8=\"},\"shape\":[31],\"dtype\":\"float64\",\"order\":\"little\"}]]}}},\"view\":{\"type\":\"object\",\"name\":\"CDSView\",\"id\":\"p1224\",\"attributes\":{\"filter\":{\"type\":\"object\",\"name\":\"AllIndices\",\"id\":\"p1225\"}}},\"glyph\":{\"type\":\"object\",\"name\":\"Circle\",\"id\":\"p1220\",\"attributes\":{\"x\":{\"type\":\"field\",\"field\":\"x\"},\"y\":{\"type\":\"field\",\"field\":\"y\"},\"line_color\":{\"type\":\"value\",\"value\":\"#1f77b4\"},\"fill_color\":{\"type\":\"value\",\"value\":\"#1f77b4\"}}},\"nonselection_glyph\":{\"type\":\"object\",\"name\":\"Circle\",\"id\":\"p1221\",\"attributes\":{\"x\":{\"type\":\"field\",\"field\":\"x\"},\"y\":{\"type\":\"field\",\"field\":\"y\"},\"line_color\":{\"type\":\"value\",\"value\":\"#1f77b4\"},\"line_alpha\":{\"type\":\"value\",\"value\":0.1},\"fill_color\":{\"type\":\"value\",\"value\":\"#1f77b4\"},\"fill_alpha\":{\"type\":\"value\",\"value\":0.1},\"hatch_alpha\":{\"type\":\"value\",\"value\":0.1}}},\"muted_glyph\":{\"type\":\"object\",\"name\":\"Circle\",\"id\":\"p1222\",\"attributes\":{\"x\":{\"type\":\"field\",\"field\":\"x\"},\"y\":{\"type\":\"field\",\"field\":\"y\"},\"line_color\":{\"type\":\"value\",\"value\":\"#1f77b4\"},\"line_alpha\":{\"type\":\"value\",\"value\":0.2},\"fill_color\":{\"type\":\"value\",\"value\":\"#1f77b4\"},\"fill_alpha\":{\"type\":\"value\",\"value\":0.2},\"hatch_alpha\":{\"type\":\"value\",\"value\":0.2}}}}},{\"type\":\"object\",\"name\":\"GlyphRenderer\",\"id\":\"p1232\",\"attributes\":{\"data_source\":{\"type\":\"object\",\"name\":\"ColumnDataSource\",\"id\":\"p1226\",\"attributes\":{\"selected\":{\"type\":\"object\",\"name\":\"Selection\",\"id\":\"p1227\",\"attributes\":{\"indices\":[],\"line_indices\":[]}},\"selection_policy\":{\"type\":\"object\",\"name\":\"UnionRenderers\",\"id\":\"p1228\"},\"data\":{\"type\":\"map\",\"entries\":[[\"x\",{\"type\":\"ndarray\",\"array\":{\"type\":\"bytes\",\"data\":\"AAAAAAAAWUCF61G4HnlfQNk9eVioz2NA9+RhodbwaEDSAN4CCWZvQHbgnBGlw3NAGeJYF7fheED7XG3F/lJ/QLAD54yot4NAYVRSJ6DSiEAAAAAAAECPQDMzMzOzq5NAUI2XbpLDmEA1XrpJDC2fQIPAyqHFn6NAkxgEVo60qECgGi/dJBqvQGiR7Xzfk7NAnMQgsJKluEB56SYxSAe/QAAAAAAAiMNAAAAAAKCWyECkcD0Kd/TOQOF6FK4nfNNA4XoUrreH2EC4HoXrseHeQKRwPQpXcONApHA9Ctd46EDD9Shc987uQHsUrkeNZPNAAAAAAABq+EA=\"},\"shape\":[31],\"dtype\":\"float64\",\"order\":\"little\"}],[\"y\",{\"type\":\"ndarray\",\"array\":{\"type\":\"bytes\",\"data\":\"OoHoNk//Vr9l0bQpH6pdv509v79Q+mK/pQXmV1UPaL9vAcGw6Tluv0B04sNM0nK/4Go66oI8d78sJKbJo2x8v1ofB9cUN4G/b+TyoEijhL/qrt7gSHqIvy1BZF8st4y/GZTKMgmokL/dgqX2FhuTvwyyMmFBq5W/lYe3SIZNmL9VlnQoJvaav7NGsdGPmZ2/tgXkx6AWoL+I9X3EPFShv1R5HjBKgqK/jY7oooueo79NzH2+uqekv/Vpcm5XnaW/uqKU43Z/pr9U/VQ6mE6nv9UyAGCEC6i/0oV2jjS3qL+t0/hvv1Kpv0kgAllK36m/B+rtTv5dqr8=\"},\"shape\":[31],\"dtype\":\"float64\",\"order\":\"little\"}]]}}},\"view\":{\"type\":\"object\",\"name\":\"CDSView\",\"id\":\"p1233\",\"attributes\":{\"filter\":{\"type\":\"object\",\"name\":\"AllIndices\",\"id\":\"p1234\"}}},\"glyph\":{\"type\":\"object\",\"name\":\"Line\",\"id\":\"p1229\",\"attributes\":{\"x\":{\"type\":\"field\",\"field\":\"x\"},\"y\":{\"type\":\"field\",\"field\":\"y\"},\"line_color\":\"#f46d43\",\"line_alpha\":0.6,\"line_width\":2}},\"nonselection_glyph\":{\"type\":\"object\",\"name\":\"Line\",\"id\":\"p1230\",\"attributes\":{\"x\":{\"type\":\"field\",\"field\":\"x\"},\"y\":{\"type\":\"field\",\"field\":\"y\"},\"line_color\":\"#f46d43\",\"line_alpha\":0.1,\"line_width\":2}},\"muted_glyph\":{\"type\":\"object\",\"name\":\"Line\",\"id\":\"p1231\",\"attributes\":{\"x\":{\"type\":\"field\",\"field\":\"x\"},\"y\":{\"type\":\"field\",\"field\":\"y\"},\"line_color\":\"#f46d43\",\"line_alpha\":0.2,\"line_width\":2}}}}],\"toolbar\":{\"type\":\"object\",\"name\":\"Toolbar\",\"id\":\"p1182\",\"attributes\":{\"tools\":[{\"type\":\"object\",\"name\":\"BoxZoomTool\",\"id\":\"p1210\",\"attributes\":{\"overlay\":{\"type\":\"object\",\"name\":\"BoxAnnotation\",\"id\":\"p1211\",\"attributes\":{\"syncable\":false,\"level\":\"overlay\",\"visible\":false,\"left_units\":\"canvas\",\"right_units\":\"canvas\",\"bottom_units\":\"canvas\",\"top_units\":\"canvas\",\"line_color\":\"black\",\"line_alpha\":1.0,\"line_width\":2,\"line_dash\":[4,4],\"fill_color\":\"lightgrey\",\"fill_alpha\":0.5}}}},{\"type\":\"object\",\"name\":\"ResetTool\",\"id\":\"p1212\"}]}},\"left\":[{\"type\":\"object\",\"name\":\"LinearAxis\",\"id\":\"p1203\",\"attributes\":{\"ticker\":{\"type\":\"object\",\"name\":\"BasicTicker\",\"id\":\"p1205\",\"attributes\":{\"mantissas\":[1,2,5]}},\"formatter\":{\"type\":\"object\",\"name\":\"BasicTickFormatter\",\"id\":\"p1206\"},\"axis_label\":\"im(dz)/x0\",\"major_label_policy\":{\"type\":\"object\",\"name\":\"AllLabels\",\"id\":\"p1204\"}}}],\"below\":[{\"type\":\"object\",\"name\":\"LogAxis\",\"id\":\"p1196\",\"attributes\":{\"ticker\":{\"type\":\"object\",\"name\":\"LogTicker\",\"id\":\"p1198\",\"attributes\":{\"num_minor_ticks\":10,\"mantissas\":[1,5]}},\"formatter\":{\"type\":\"object\",\"name\":\"LogTickFormatter\",\"id\":\"p1199\"},\"axis_label\":\"f[Hz]\",\"major_label_policy\":{\"type\":\"object\",\"name\":\"AllLabels\",\"id\":\"p1197\"}}}],\"center\":[{\"type\":\"object\",\"name\":\"Grid\",\"id\":\"p1202\",\"attributes\":{\"axis\":{\"id\":\"p1196\"}}},{\"type\":\"object\",\"name\":\"Grid\",\"id\":\"p1209\",\"attributes\":{\"dimension\":1,\"axis\":{\"id\":\"p1203\"}}}]}}],\"callbacks\":{\"type\":\"map\"}}};\n",
       "  const render_items = [{\"docid\":\"00458af9-3539-4079-96e2-60c83c790415\",\"roots\":{\"p1179\":\"eb98e8ac-92d6-4829-a205-5816ddf77fe6\"},\"root_ids\":[\"p1179\"]}];\n",
       "  root.Bokeh.embed.embed_items_notebook(docs_json, render_items);\n",
       "  }\n",
       "  if (root.Bokeh !== undefined) {\n",
       "    embed_document(root);\n",
       "  } else {\n",
       "    let attempts = 0;\n",
       "    const timer = setInterval(function(root) {\n",
       "      if (root.Bokeh !== undefined) {\n",
       "        clearInterval(timer);\n",
       "        embed_document(root);\n",
       "      } else {\n",
       "        attempts++;\n",
       "        if (attempts > 100) {\n",
       "          clearInterval(timer);\n",
       "          console.log(\"Bokeh: ERROR: Unable to run BokehJS code because BokehJS library is missing\");\n",
       "        }\n",
       "      }\n",
       "    }, 10, root)\n",
       "  }\n",
       "})(window);"
      ],
      "application/vnd.bokehjs_exec.v0+json": ""
     },
     "metadata": {
      "application/vnd.bokehjs_exec.v0+json": {
       "id": "p1179"
      }
     },
     "output_type": "display_data"
    },
    {
     "data": {
      "text/plain": [
       "True"
      ]
     },
     "execution_count": 5,
     "metadata": {},
     "output_type": "execute_result"
    }
   ],
   "source": [
    "exp.fitpatron('N',plot=True, rango=[60,70])"
   ]
  },
  {
   "cell_type": "code",
   "execution_count": 7,
   "id": "64e590ef",
   "metadata": {},
   "outputs": [
    {
     "name": "stdout",
     "output_type": "stream",
     "text": [
      "Ajustando z1 effectivo\n",
      "z1 = 0.4510037623300952 mm\n"
     ]
    }
   ],
   "source": [
    "exp.fitmues()"
   ]
  },
  {
   "cell_type": "code",
   "execution_count": 8,
   "id": "6026796e",
   "metadata": {},
   "outputs": [
    {
     "data": {
      "text/html": [
       "<div>\n",
       "<style scoped>\n",
       "    .dataframe tbody tr th:only-of-type {\n",
       "        vertical-align: middle;\n",
       "    }\n",
       "\n",
       "    .dataframe tbody tr th {\n",
       "        vertical-align: top;\n",
       "    }\n",
       "\n",
       "    .dataframe thead th {\n",
       "        text-align: right;\n",
       "    }\n",
       "</style>\n",
       "<table border=\"1\" class=\"dataframe\">\n",
       "  <thead>\n",
       "    <tr style=\"text-align: right;\">\n",
       "      <th></th>\n",
       "      <th>archivo</th>\n",
       "      <th>conductividad</th>\n",
       "      <th>espesor</th>\n",
       "      <th>bobina</th>\n",
       "      <th>muestras</th>\n",
       "      <th>mueff</th>\n",
       "      <th>R2</th>\n",
       "    </tr>\n",
       "  </thead>\n",
       "  <tbody>\n",
       "    <tr>\n",
       "      <th>0</th>\n",
       "      <td>Exp_1010_Aire.csv</td>\n",
       "      <td>0.00</td>\n",
       "      <td>0.00000</td>\n",
       "      <td>a</td>\n",
       "      <td>aire</td>\n",
       "      <td>NaN</td>\n",
       "      <td>NaN</td>\n",
       "    </tr>\n",
       "    <tr>\n",
       "      <th>1</th>\n",
       "      <td>Exp_1010-M00.csv</td>\n",
       "      <td>3830000.00</td>\n",
       "      <td>0.06500</td>\n",
       "      <td>a</td>\n",
       "      <td>1010-M00</td>\n",
       "      <td>150.000000</td>\n",
       "      <td>0.548222</td>\n",
       "    </tr>\n",
       "    <tr>\n",
       "      <th>2</th>\n",
       "      <td>Exp_1010-M01.csv</td>\n",
       "      <td>3830000.00</td>\n",
       "      <td>0.06500</td>\n",
       "      <td>a</td>\n",
       "      <td>1010-M01</td>\n",
       "      <td>150.000000</td>\n",
       "      <td>0.255733</td>\n",
       "    </tr>\n",
       "    <tr>\n",
       "      <th>3</th>\n",
       "      <td>Exp_1010_P057.csv</td>\n",
       "      <td>3948000.00</td>\n",
       "      <td>0.14957</td>\n",
       "      <td>a</td>\n",
       "      <td>P057</td>\n",
       "      <td>NaN</td>\n",
       "      <td>NaN</td>\n",
       "    </tr>\n",
       "    <tr>\n",
       "      <th>4</th>\n",
       "      <td>Exp_347-M02.csv</td>\n",
       "      <td>1118491.27</td>\n",
       "      <td>0.02340</td>\n",
       "      <td>a</td>\n",
       "      <td>347-M02</td>\n",
       "      <td>149.999992</td>\n",
       "      <td>0.393294</td>\n",
       "    </tr>\n",
       "  </tbody>\n",
       "</table>\n",
       "</div>"
      ],
      "text/plain": [
       "             archivo  conductividad  espesor bobina  muestras       mueff  \\\n",
       "0  Exp_1010_Aire.csv           0.00  0.00000      a      aire         NaN   \n",
       "1   Exp_1010-M00.csv     3830000.00  0.06500      a  1010-M00  150.000000   \n",
       "2   Exp_1010-M01.csv     3830000.00  0.06500      a  1010-M01  150.000000   \n",
       "3  Exp_1010_P057.csv     3948000.00  0.14957      a      P057         NaN   \n",
       "4    Exp_347-M02.csv     1118491.27  0.02340      a   347-M02  149.999992   \n",
       "\n",
       "         R2  \n",
       "0       NaN  \n",
       "1  0.548222  \n",
       "2  0.255733  \n",
       "3       NaN  \n",
       "4  0.393294  "
      ]
     },
     "execution_count": 8,
     "metadata": {},
     "output_type": "execute_result"
    }
   ],
   "source": [
    "exp.info"
   ]
  },
  {
   "cell_type": "code",
   "execution_count": 9,
   "id": "ce4f9db2",
   "metadata": {},
   "outputs": [
    {
     "data": {
      "text/html": [
       "\n",
       "  <div id=\"da3bda38-0ad1-4ac4-9de5-9bd5f2eb5b68\" data-root-id=\"p1609\" style=\"display: contents;\"></div>\n"
      ]
     },
     "metadata": {},
     "output_type": "display_data"
    },
    {
     "data": {
      "application/javascript": [
       "(function(root) {\n",
       "  function embed_document(root) {\n",
       "  const docs_json = {\"4b8694cc-e944-4e89-a7b0-7bc38f77c927\":{\"version\":\"3.1.0\",\"title\":\"Bokeh Application\",\"defs\":[],\"roots\":[{\"type\":\"object\",\"name\":\"GridPlot\",\"id\":\"p1609\",\"attributes\":{\"rows\":null,\"cols\":null,\"toolbar\":{\"type\":\"object\",\"name\":\"Toolbar\",\"id\":\"p1608\",\"attributes\":{\"tools\":[{\"type\":\"object\",\"name\":\"ToolProxy\",\"id\":\"p1606\",\"attributes\":{\"tools\":[{\"type\":\"object\",\"name\":\"BoxZoomTool\",\"id\":\"p1407\",\"attributes\":{\"overlay\":{\"type\":\"object\",\"name\":\"BoxAnnotation\",\"id\":\"p1408\",\"attributes\":{\"syncable\":false,\"level\":\"overlay\",\"visible\":false,\"left_units\":\"canvas\",\"right_units\":\"canvas\",\"bottom_units\":\"canvas\",\"top_units\":\"canvas\",\"line_color\":\"black\",\"line_alpha\":1.0,\"line_width\":2,\"line_dash\":[4,4],\"fill_color\":\"lightgrey\",\"fill_alpha\":0.5}}}},{\"type\":\"object\",\"name\":\"BoxZoomTool\",\"id\":\"p1464\",\"attributes\":{\"overlay\":{\"type\":\"object\",\"name\":\"BoxAnnotation\",\"id\":\"p1465\",\"attributes\":{\"syncable\":false,\"level\":\"overlay\",\"visible\":false,\"left_units\":\"canvas\",\"right_units\":\"canvas\",\"bottom_units\":\"canvas\",\"top_units\":\"canvas\",\"line_color\":\"black\",\"line_alpha\":1.0,\"line_width\":2,\"line_dash\":[4,4],\"fill_color\":\"lightgrey\",\"fill_alpha\":0.5}}}},{\"type\":\"object\",\"name\":\"BoxZoomTool\",\"id\":\"p1521\",\"attributes\":{\"overlay\":{\"type\":\"object\",\"name\":\"BoxAnnotation\",\"id\":\"p1522\",\"attributes\":{\"syncable\":false,\"level\":\"overlay\",\"visible\":false,\"left_units\":\"canvas\",\"right_units\":\"canvas\",\"bottom_units\":\"canvas\",\"top_units\":\"canvas\",\"line_color\":\"black\",\"line_alpha\":1.0,\"line_width\":2,\"line_dash\":[4,4],\"fill_color\":\"lightgrey\",\"fill_alpha\":0.5}}}}]}},{\"type\":\"object\",\"name\":\"ToolProxy\",\"id\":\"p1607\",\"attributes\":{\"tools\":[{\"type\":\"object\",\"name\":\"ResetTool\",\"id\":\"p1409\"},{\"type\":\"object\",\"name\":\"ResetTool\",\"id\":\"p1466\"},{\"type\":\"object\",\"name\":\"ResetTool\",\"id\":\"p1523\"}]}}]}},\"children\":[[{\"type\":\"object\",\"name\":\"Figure\",\"id\":\"p1375\",\"attributes\":{\"width\":300,\"height\":250,\"x_range\":{\"type\":\"object\",\"name\":\"DataRange1d\",\"id\":\"p1376\"},\"y_range\":{\"type\":\"object\",\"name\":\"DataRange1d\",\"id\":\"p1377\"},\"x_scale\":{\"type\":\"object\",\"name\":\"LogScale\",\"id\":\"p1389\"},\"y_scale\":{\"type\":\"object\",\"name\":\"LinearScale\",\"id\":\"p1391\"},\"title\":{\"type\":\"object\",\"name\":\"Title\",\"id\":\"p1378\",\"attributes\":{\"text\":\"1010-M00 mueff = 150.0\"}},\"renderers\":[{\"type\":\"object\",\"name\":\"GlyphRenderer\",\"id\":\"p1420\",\"attributes\":{\"data_source\":{\"type\":\"object\",\"name\":\"ColumnDataSource\",\"id\":\"p1414\",\"attributes\":{\"selected\":{\"type\":\"object\",\"name\":\"Selection\",\"id\":\"p1415\",\"attributes\":{\"indices\":[],\"line_indices\":[]}},\"selection_policy\":{\"type\":\"object\",\"name\":\"UnionRenderers\",\"id\":\"p1416\"},\"data\":{\"type\":\"map\",\"entries\":[[\"x\",{\"type\":\"ndarray\",\"array\":{\"type\":\"bytes\",\"data\":\"AAAAAAAAWUCF61G4HnlfQNk9eVioz2NA9+RhodbwaEDSAN4CCWZvQHbgnBGlw3NAGeJYF7fheED7XG3F/lJ/QLAD54yot4NAYVRSJ6DSiEAAAAAAAECPQDMzMzOzq5NAUI2XbpLDmEA1XrpJDC2fQIPAyqHFn6NAkxgEVo60qECgGi/dJBqvQGiR7Xzfk7NAnMQgsJKluEB56SYxSAe/QAAAAAAAiMNAAAAAAKCWyECkcD0Kd/TOQOF6FK4nfNNA4XoUrreH2EC4HoXrseHeQKRwPQpXcONApHA9Ctd46EDD9Shc987uQHsUrkeNZPNAAAAAAABq+EA=\"},\"shape\":[31],\"dtype\":\"float64\",\"order\":\"little\"}],[\"y\",{\"type\":\"ndarray\",\"array\":{\"type\":\"bytes\",\"data\":\"RRQM/mh2sj9/enc13oOsPzQfYv0qRas/F4U++eJJsz+dnvT1BCCxPzKxyqYhD7E/aDBAgRWZsT/V5zPt6wGxP0+DW9R59K8/LyjZHSHEsD+GjDOfAEiwP/kxmVRpMq8/FOF2cnzerj+mczwpWeCtPwjOt0EmQa0/anIlpPJlrj+4vD4BMcyrPwmYj2GUzao/ec9TS0p+qj+TtGo4bBCpP/ijAepR96c/7tNW2v2zpj8QWMGpZ/GjP7ud346sv6E/Chvyv5QJoT9ZOWNFFzmcP/OIlW0m+5g/njXRhTl/kz+f1//bC7WQP6+WMRJ114I/8NVApy6nMD8=\"},\"shape\":[31],\"dtype\":\"float64\",\"order\":\"little\"}]]}}},\"view\":{\"type\":\"object\",\"name\":\"CDSView\",\"id\":\"p1421\",\"attributes\":{\"filter\":{\"type\":\"object\",\"name\":\"AllIndices\",\"id\":\"p1422\"}}},\"glyph\":{\"type\":\"object\",\"name\":\"Circle\",\"id\":\"p1417\",\"attributes\":{\"x\":{\"type\":\"field\",\"field\":\"x\"},\"y\":{\"type\":\"field\",\"field\":\"y\"},\"line_color\":{\"type\":\"value\",\"value\":\"#1f77b4\"},\"fill_color\":{\"type\":\"value\",\"value\":\"#1f77b4\"}}},\"nonselection_glyph\":{\"type\":\"object\",\"name\":\"Circle\",\"id\":\"p1418\",\"attributes\":{\"x\":{\"type\":\"field\",\"field\":\"x\"},\"y\":{\"type\":\"field\",\"field\":\"y\"},\"line_color\":{\"type\":\"value\",\"value\":\"#1f77b4\"},\"line_alpha\":{\"type\":\"value\",\"value\":0.1},\"fill_color\":{\"type\":\"value\",\"value\":\"#1f77b4\"},\"fill_alpha\":{\"type\":\"value\",\"value\":0.1},\"hatch_alpha\":{\"type\":\"value\",\"value\":0.1}}},\"muted_glyph\":{\"type\":\"object\",\"name\":\"Circle\",\"id\":\"p1419\",\"attributes\":{\"x\":{\"type\":\"field\",\"field\":\"x\"},\"y\":{\"type\":\"field\",\"field\":\"y\"},\"line_color\":{\"type\":\"value\",\"value\":\"#1f77b4\"},\"line_alpha\":{\"type\":\"value\",\"value\":0.2},\"fill_color\":{\"type\":\"value\",\"value\":\"#1f77b4\"},\"fill_alpha\":{\"type\":\"value\",\"value\":0.2},\"hatch_alpha\":{\"type\":\"value\",\"value\":0.2}}}}},{\"type\":\"object\",\"name\":\"GlyphRenderer\",\"id\":\"p1429\",\"attributes\":{\"data_source\":{\"type\":\"object\",\"name\":\"ColumnDataSource\",\"id\":\"p1423\",\"attributes\":{\"selected\":{\"type\":\"object\",\"name\":\"Selection\",\"id\":\"p1424\",\"attributes\":{\"indices\":[],\"line_indices\":[]}},\"selection_policy\":{\"type\":\"object\",\"name\":\"UnionRenderers\",\"id\":\"p1425\"},\"data\":{\"type\":\"map\",\"entries\":[[\"x\",{\"type\":\"ndarray\",\"array\":{\"type\":\"bytes\",\"data\":\"AAAAAAAAWUCF61G4HnlfQNk9eVioz2NA9+RhodbwaEDSAN4CCWZvQHbgnBGlw3NAGeJYF7fheED7XG3F/lJ/QLAD54yot4NAYVRSJ6DSiEAAAAAAAECPQDMzMzOzq5NAUI2XbpLDmEA1XrpJDC2fQIPAyqHFn6NAkxgEVo60qECgGi/dJBqvQGiR7Xzfk7NAnMQgsJKluEB56SYxSAe/QAAAAAAAiMNAAAAAAKCWyECkcD0Kd/TOQOF6FK4nfNNA4XoUrreH2EC4HoXrseHeQKRwPQpXcONApHA9Ctd46EDD9Shc987uQHsUrkeNZPNAAAAAAABq+EA=\"},\"shape\":[31],\"dtype\":\"float64\",\"order\":\"little\"}],[\"y\",{\"type\":\"ndarray\",\"array\":{\"type\":\"bytes\",\"data\":\"KFroaWtlrT8co42bqjOtP5KQtnXQ+6w/fp4kuzi9rD9CiqW6L3esP68gwP3xKKw//wvVPazRqz9McmVte3CrPyfpjlhtBKs/WWEEw4GMqj+LeQYKrAeqPyuS3qTVdKk/FDGHMOHSqD+fTGxQryCoPy+9IccjXac/kP3CciyHpj9W9+CnyZ2lP2pqHBQXoKQ/wDy9k1aNoz82Devj+mSiPxR1somwJqE/0Xux0eeknz+buVVUHtGcP4OMo0hS05k//hcnKZitlj8lXUut12KTP4yAQMKX7Y8/lcKBpv/biD8jIlzMfZuBP+nJtcT1b3Q/kqTLHnzzVT8=\"},\"shape\":[31],\"dtype\":\"float64\",\"order\":\"little\"}]]}}},\"view\":{\"type\":\"object\",\"name\":\"CDSView\",\"id\":\"p1430\",\"attributes\":{\"filter\":{\"type\":\"object\",\"name\":\"AllIndices\",\"id\":\"p1431\"}}},\"glyph\":{\"type\":\"object\",\"name\":\"Line\",\"id\":\"p1426\",\"attributes\":{\"x\":{\"type\":\"field\",\"field\":\"x\"},\"y\":{\"type\":\"field\",\"field\":\"y\"},\"line_color\":\"#f46d43\",\"line_alpha\":0.6,\"line_width\":2}},\"nonselection_glyph\":{\"type\":\"object\",\"name\":\"Line\",\"id\":\"p1427\",\"attributes\":{\"x\":{\"type\":\"field\",\"field\":\"x\"},\"y\":{\"type\":\"field\",\"field\":\"y\"},\"line_color\":\"#f46d43\",\"line_alpha\":0.1,\"line_width\":2}},\"muted_glyph\":{\"type\":\"object\",\"name\":\"Line\",\"id\":\"p1428\",\"attributes\":{\"x\":{\"type\":\"field\",\"field\":\"x\"},\"y\":{\"type\":\"field\",\"field\":\"y\"},\"line_color\":\"#f46d43\",\"line_alpha\":0.2,\"line_width\":2}}}}],\"toolbar\":{\"type\":\"object\",\"name\":\"Toolbar\",\"id\":\"p1380\",\"attributes\":{\"tools\":[{\"id\":\"p1407\"},{\"id\":\"p1409\"}]}},\"toolbar_location\":null,\"left\":[{\"type\":\"object\",\"name\":\"LinearAxis\",\"id\":\"p1400\",\"attributes\":{\"ticker\":{\"type\":\"object\",\"name\":\"BasicTicker\",\"id\":\"p1402\",\"attributes\":{\"mantissas\":[1,2,5]}},\"formatter\":{\"type\":\"object\",\"name\":\"BasicTickFormatter\",\"id\":\"p1403\"},\"axis_label\":\"im(dz)/x0\",\"major_label_policy\":{\"type\":\"object\",\"name\":\"AllLabels\",\"id\":\"p1401\"}}}],\"below\":[{\"type\":\"object\",\"name\":\"LogAxis\",\"id\":\"p1393\",\"attributes\":{\"ticker\":{\"type\":\"object\",\"name\":\"LogTicker\",\"id\":\"p1395\",\"attributes\":{\"num_minor_ticks\":10,\"mantissas\":[1,5]}},\"formatter\":{\"type\":\"object\",\"name\":\"LogTickFormatter\",\"id\":\"p1396\"},\"axis_label\":\"f[Hz]\",\"major_label_policy\":{\"type\":\"object\",\"name\":\"AllLabels\",\"id\":\"p1394\"}}}],\"center\":[{\"type\":\"object\",\"name\":\"Grid\",\"id\":\"p1399\",\"attributes\":{\"axis\":{\"id\":\"p1393\"}}},{\"type\":\"object\",\"name\":\"Grid\",\"id\":\"p1406\",\"attributes\":{\"dimension\":1,\"axis\":{\"id\":\"p1400\"}}}]}},0,0],[{\"type\":\"object\",\"name\":\"Figure\",\"id\":\"p1432\",\"attributes\":{\"width\":300,\"height\":250,\"x_range\":{\"type\":\"object\",\"name\":\"DataRange1d\",\"id\":\"p1433\"},\"y_range\":{\"type\":\"object\",\"name\":\"DataRange1d\",\"id\":\"p1434\"},\"x_scale\":{\"type\":\"object\",\"name\":\"LogScale\",\"id\":\"p1446\"},\"y_scale\":{\"type\":\"object\",\"name\":\"LinearScale\",\"id\":\"p1448\"},\"title\":{\"type\":\"object\",\"name\":\"Title\",\"id\":\"p1435\",\"attributes\":{\"text\":\"1010-M01 mueff = 150.0\"}},\"renderers\":[{\"type\":\"object\",\"name\":\"GlyphRenderer\",\"id\":\"p1477\",\"attributes\":{\"data_source\":{\"type\":\"object\",\"name\":\"ColumnDataSource\",\"id\":\"p1471\",\"attributes\":{\"selected\":{\"type\":\"object\",\"name\":\"Selection\",\"id\":\"p1472\",\"attributes\":{\"indices\":[],\"line_indices\":[]}},\"selection_policy\":{\"type\":\"object\",\"name\":\"UnionRenderers\",\"id\":\"p1473\"},\"data\":{\"type\":\"map\",\"entries\":[[\"x\",{\"type\":\"ndarray\",\"array\":{\"type\":\"bytes\",\"data\":\"AAAAAAAAWUCF61G4HnlfQNk9eVioz2NA9+RhodbwaEDSAN4CCWZvQHbgnBGlw3NAGeJYF7fheED7XG3F/lJ/QLAD54yot4NAYVRSJ6DSiEAAAAAAAECPQDMzMzOzq5NAUI2XbpLDmEA1XrpJDC2fQIPAyqHFn6NAkxgEVo60qECgGi/dJBqvQGiR7Xzfk7NAnMQgsJKluEB56SYxSAe/QAAAAAAAiMNAAAAAAKCWyECkcD0Kd/TOQOF6FK4nfNNA4XoUrreH2EC4HoXrseHeQKRwPQpXcONApHA9Ctd46EDD9Shc987uQHsUrkeNZPNAAAAAAABq+EA=\"},\"shape\":[31],\"dtype\":\"float64\",\"order\":\"little\"}],[\"y\",{\"type\":\"ndarray\",\"array\":{\"type\":\"bytes\",\"data\":\"NXYWqputsD+RoUurWZeuP81I3Jvz+bE/kHwGwi10sj9B/xxY4Hm0P8M5WfoCCLE/hCAG0R2IsT8UuyPd2N2xP2EpbCTkVLE/SUbLZMzCsD9TD1lruD6xPwHfIeso6LA/YrnK+L2VsD8CytYUST+wPxbZwmVWua8/J74TpgADrT9PLn7KncuuPzUWQpT0gKw/Jtaa3im3rD8RDEudIumqP2bxv0nNTKo/GBzr/9NNpz9LPA0Ytt+mP08ZqiXX8qQ/2HbjuksNpD8yOzF4vGCgP25OnjqBIps/Og4hbLnOlj8ymTA0u0eRPyDzIhGgXIw/ENFJBYDTeT8=\"},\"shape\":[31],\"dtype\":\"float64\",\"order\":\"little\"}]]}}},\"view\":{\"type\":\"object\",\"name\":\"CDSView\",\"id\":\"p1478\",\"attributes\":{\"filter\":{\"type\":\"object\",\"name\":\"AllIndices\",\"id\":\"p1479\"}}},\"glyph\":{\"type\":\"object\",\"name\":\"Circle\",\"id\":\"p1474\",\"attributes\":{\"x\":{\"type\":\"field\",\"field\":\"x\"},\"y\":{\"type\":\"field\",\"field\":\"y\"},\"line_color\":{\"type\":\"value\",\"value\":\"#1f77b4\"},\"fill_color\":{\"type\":\"value\",\"value\":\"#1f77b4\"}}},\"nonselection_glyph\":{\"type\":\"object\",\"name\":\"Circle\",\"id\":\"p1475\",\"attributes\":{\"x\":{\"type\":\"field\",\"field\":\"x\"},\"y\":{\"type\":\"field\",\"field\":\"y\"},\"line_color\":{\"type\":\"value\",\"value\":\"#1f77b4\"},\"line_alpha\":{\"type\":\"value\",\"value\":0.1},\"fill_color\":{\"type\":\"value\",\"value\":\"#1f77b4\"},\"fill_alpha\":{\"type\":\"value\",\"value\":0.1},\"hatch_alpha\":{\"type\":\"value\",\"value\":0.1}}},\"muted_glyph\":{\"type\":\"object\",\"name\":\"Circle\",\"id\":\"p1476\",\"attributes\":{\"x\":{\"type\":\"field\",\"field\":\"x\"},\"y\":{\"type\":\"field\",\"field\":\"y\"},\"line_color\":{\"type\":\"value\",\"value\":\"#1f77b4\"},\"line_alpha\":{\"type\":\"value\",\"value\":0.2},\"fill_color\":{\"type\":\"value\",\"value\":\"#1f77b4\"},\"fill_alpha\":{\"type\":\"value\",\"value\":0.2},\"hatch_alpha\":{\"type\":\"value\",\"value\":0.2}}}}},{\"type\":\"object\",\"name\":\"GlyphRenderer\",\"id\":\"p1486\",\"attributes\":{\"data_source\":{\"type\":\"object\",\"name\":\"ColumnDataSource\",\"id\":\"p1480\",\"attributes\":{\"selected\":{\"type\":\"object\",\"name\":\"Selection\",\"id\":\"p1481\",\"attributes\":{\"indices\":[],\"line_indices\":[]}},\"selection_policy\":{\"type\":\"object\",\"name\":\"UnionRenderers\",\"id\":\"p1482\"},\"data\":{\"type\":\"map\",\"entries\":[[\"x\",{\"type\":\"ndarray\",\"array\":{\"type\":\"bytes\",\"data\":\"AAAAAAAAWUCF61G4HnlfQNk9eVioz2NA9+RhodbwaEDSAN4CCWZvQHbgnBGlw3NAGeJYF7fheED7XG3F/lJ/QLAD54yot4NAYVRSJ6DSiEAAAAAAAECPQDMzMzOzq5NAUI2XbpLDmEA1XrpJDC2fQIPAyqHFn6NAkxgEVo60qECgGi/dJBqvQGiR7Xzfk7NAnMQgsJKluEB56SYxSAe/QAAAAAAAiMNAAAAAAKCWyECkcD0Kd/TOQOF6FK4nfNNA4XoUrreH2EC4HoXrseHeQKRwPQpXcONApHA9Ctd46EDD9Shc987uQHsUrkeNZPNAAAAAAABq+EA=\"},\"shape\":[31],\"dtype\":\"float64\",\"order\":\"little\"}],[\"y\",{\"type\":\"ndarray\",\"array\":{\"type\":\"bytes\",\"data\":\"KNPsaWtlrT/XkZKbqjOtPwQEvHXQ+6w/1aYquzi9rD/pOKy6L3esP1aIx/3xKKw/lEDdPazRqz8JiW5te3CrP3f4mFhtBKs/u4APw4GMqj9swRIKrAeqP6cb7KTVdKk/mxWWMOHSqD+VpXxQryCoP12jM8cjXac/d4jWciyHpj99PPanyZ2lP298MxQXoKQ/eCrWk1aNoz+j4AXk+mSiP6Ayz4mwJqE/O8Xu0eeknz/evJZUHtGcP0Ik6EhS05k/5AxvKZitlj9GZZat12KTP4f+28KX7Y8/WtIhp//biD/kx//MfZuBPx4UAsb1b3Q/DHEHJHzzVT8=\"},\"shape\":[31],\"dtype\":\"float64\",\"order\":\"little\"}]]}}},\"view\":{\"type\":\"object\",\"name\":\"CDSView\",\"id\":\"p1487\",\"attributes\":{\"filter\":{\"type\":\"object\",\"name\":\"AllIndices\",\"id\":\"p1488\"}}},\"glyph\":{\"type\":\"object\",\"name\":\"Line\",\"id\":\"p1483\",\"attributes\":{\"x\":{\"type\":\"field\",\"field\":\"x\"},\"y\":{\"type\":\"field\",\"field\":\"y\"},\"line_color\":\"#f46d43\",\"line_alpha\":0.6,\"line_width\":2}},\"nonselection_glyph\":{\"type\":\"object\",\"name\":\"Line\",\"id\":\"p1484\",\"attributes\":{\"x\":{\"type\":\"field\",\"field\":\"x\"},\"y\":{\"type\":\"field\",\"field\":\"y\"},\"line_color\":\"#f46d43\",\"line_alpha\":0.1,\"line_width\":2}},\"muted_glyph\":{\"type\":\"object\",\"name\":\"Line\",\"id\":\"p1485\",\"attributes\":{\"x\":{\"type\":\"field\",\"field\":\"x\"},\"y\":{\"type\":\"field\",\"field\":\"y\"},\"line_color\":\"#f46d43\",\"line_alpha\":0.2,\"line_width\":2}}}}],\"toolbar\":{\"type\":\"object\",\"name\":\"Toolbar\",\"id\":\"p1437\",\"attributes\":{\"tools\":[{\"id\":\"p1464\"},{\"id\":\"p1466\"}]}},\"toolbar_location\":null,\"left\":[{\"type\":\"object\",\"name\":\"LinearAxis\",\"id\":\"p1457\",\"attributes\":{\"ticker\":{\"type\":\"object\",\"name\":\"BasicTicker\",\"id\":\"p1459\",\"attributes\":{\"mantissas\":[1,2,5]}},\"formatter\":{\"type\":\"object\",\"name\":\"BasicTickFormatter\",\"id\":\"p1460\"},\"axis_label\":\"im(dz)/x0\",\"major_label_policy\":{\"type\":\"object\",\"name\":\"AllLabels\",\"id\":\"p1458\"}}}],\"below\":[{\"type\":\"object\",\"name\":\"LogAxis\",\"id\":\"p1450\",\"attributes\":{\"ticker\":{\"type\":\"object\",\"name\":\"LogTicker\",\"id\":\"p1452\",\"attributes\":{\"num_minor_ticks\":10,\"mantissas\":[1,5]}},\"formatter\":{\"type\":\"object\",\"name\":\"LogTickFormatter\",\"id\":\"p1453\"},\"axis_label\":\"f[Hz]\",\"major_label_policy\":{\"type\":\"object\",\"name\":\"AllLabels\",\"id\":\"p1451\"}}}],\"center\":[{\"type\":\"object\",\"name\":\"Grid\",\"id\":\"p1456\",\"attributes\":{\"axis\":{\"id\":\"p1450\"}}},{\"type\":\"object\",\"name\":\"Grid\",\"id\":\"p1463\",\"attributes\":{\"dimension\":1,\"axis\":{\"id\":\"p1457\"}}}]}},0,1],[{\"type\":\"object\",\"name\":\"Figure\",\"id\":\"p1489\",\"attributes\":{\"width\":300,\"height\":250,\"x_range\":{\"type\":\"object\",\"name\":\"DataRange1d\",\"id\":\"p1490\"},\"y_range\":{\"type\":\"object\",\"name\":\"DataRange1d\",\"id\":\"p1491\"},\"x_scale\":{\"type\":\"object\",\"name\":\"LogScale\",\"id\":\"p1503\"},\"y_scale\":{\"type\":\"object\",\"name\":\"LinearScale\",\"id\":\"p1505\"},\"title\":{\"type\":\"object\",\"name\":\"Title\",\"id\":\"p1492\",\"attributes\":{\"text\":\"347-M02 mueff = 150.0\"}},\"renderers\":[{\"type\":\"object\",\"name\":\"GlyphRenderer\",\"id\":\"p1534\",\"attributes\":{\"data_source\":{\"type\":\"object\",\"name\":\"ColumnDataSource\",\"id\":\"p1528\",\"attributes\":{\"selected\":{\"type\":\"object\",\"name\":\"Selection\",\"id\":\"p1529\",\"attributes\":{\"indices\":[],\"line_indices\":[]}},\"selection_policy\":{\"type\":\"object\",\"name\":\"UnionRenderers\",\"id\":\"p1530\"},\"data\":{\"type\":\"map\",\"entries\":[[\"x\",{\"type\":\"ndarray\",\"array\":{\"type\":\"bytes\",\"data\":\"AAAAAAAAWUCF61G4HnlfQNk9eVioz2NA9+RhodbwaEDSAN4CCWZvQHbgnBGlw3NAGeJYF7fheED7XG3F/lJ/QLAD54yot4NAYVRSJ6DSiEAAAAAAAECPQDMzMzOzq5NAUI2XbpLDmEA1XrpJDC2fQIPAyqHFn6NAkxgEVo60qECgGi/dJBqvQGiR7Xzfk7NAnMQgsJKluEB56SYxSAe/QAAAAAAAiMNAAAAAAKCWyECkcD0Kd/TOQOF6FK4nfNNA4XoUrreH2EC4HoXrseHeQKRwPQpXcONApHA9Ctd46EDD9Shc987uQHsUrkeNZPNAAAAAAABq+EA=\"},\"shape\":[31],\"dtype\":\"float64\",\"order\":\"little\"}],[\"y\",{\"type\":\"ndarray\",\"array\":{\"type\":\"bytes\",\"data\":\"itiUlFiAsT+agXgvF7ewP/aouEti/rA/EOL20RMstD/0cTmmbq2wPymIUCIQ2bA/iEv1xq6KsT9vsVPxvZOwP7Y44TM4vrA/+2+AaXvhsD/rPvgFA4+wPwLTlVQ6E7E/dZJLLwTIsD8VpfWk+CSwP03mPFm7CbA/cOgx7Degrj9lIZ99bt2tPyruEP3h0q0/e/z39C1prD/AfB0HDFOsPxB/gwEmxqs/OHMscGwiqj+OOC74fJ2oPyC57EGJEKc/nx0Z6vgnpj97u8ri9oyjP9XocuZVwaM/UV7+p316oD86Idz9hNKbP0Y2S9OqDZc/eCeeQw8ekT8=\"},\"shape\":[31],\"dtype\":\"float64\",\"order\":\"little\"}]]}}},\"view\":{\"type\":\"object\",\"name\":\"CDSView\",\"id\":\"p1535\",\"attributes\":{\"filter\":{\"type\":\"object\",\"name\":\"AllIndices\",\"id\":\"p1536\"}}},\"glyph\":{\"type\":\"object\",\"name\":\"Circle\",\"id\":\"p1531\",\"attributes\":{\"x\":{\"type\":\"field\",\"field\":\"x\"},\"y\":{\"type\":\"field\",\"field\":\"y\"},\"line_color\":{\"type\":\"value\",\"value\":\"#1f77b4\"},\"fill_color\":{\"type\":\"value\",\"value\":\"#1f77b4\"}}},\"nonselection_glyph\":{\"type\":\"object\",\"name\":\"Circle\",\"id\":\"p1532\",\"attributes\":{\"x\":{\"type\":\"field\",\"field\":\"x\"},\"y\":{\"type\":\"field\",\"field\":\"y\"},\"line_color\":{\"type\":\"value\",\"value\":\"#1f77b4\"},\"line_alpha\":{\"type\":\"value\",\"value\":0.1},\"fill_color\":{\"type\":\"value\",\"value\":\"#1f77b4\"},\"fill_alpha\":{\"type\":\"value\",\"value\":0.1},\"hatch_alpha\":{\"type\":\"value\",\"value\":0.1}}},\"muted_glyph\":{\"type\":\"object\",\"name\":\"Circle\",\"id\":\"p1533\",\"attributes\":{\"x\":{\"type\":\"field\",\"field\":\"x\"},\"y\":{\"type\":\"field\",\"field\":\"y\"},\"line_color\":{\"type\":\"value\",\"value\":\"#1f77b4\"},\"line_alpha\":{\"type\":\"value\",\"value\":0.2},\"fill_color\":{\"type\":\"value\",\"value\":\"#1f77b4\"},\"fill_alpha\":{\"type\":\"value\",\"value\":0.2},\"hatch_alpha\":{\"type\":\"value\",\"value\":0.2}}}}},{\"type\":\"object\",\"name\":\"GlyphRenderer\",\"id\":\"p1543\",\"attributes\":{\"data_source\":{\"type\":\"object\",\"name\":\"ColumnDataSource\",\"id\":\"p1537\",\"attributes\":{\"selected\":{\"type\":\"object\",\"name\":\"Selection\",\"id\":\"p1538\",\"attributes\":{\"indices\":[],\"line_indices\":[]}},\"selection_policy\":{\"type\":\"object\",\"name\":\"UnionRenderers\",\"id\":\"p1539\"},\"data\":{\"type\":\"map\",\"entries\":[[\"x\",{\"type\":\"ndarray\",\"array\":{\"type\":\"bytes\",\"data\":\"AAAAAAAAWUCF61G4HnlfQNk9eVioz2NA9+RhodbwaEDSAN4CCWZvQHbgnBGlw3NAGeJYF7fheED7XG3F/lJ/QLAD54yot4NAYVRSJ6DSiEAAAAAAAECPQDMzMzOzq5NAUI2XbpLDmEA1XrpJDC2fQIPAyqHFn6NAkxgEVo60qECgGi/dJBqvQGiR7Xzfk7NAnMQgsJKluEB56SYxSAe/QAAAAAAAiMNAAAAAAKCWyECkcD0Kd/TOQOF6FK4nfNNA4XoUrreH2EC4HoXrseHeQKRwPQpXcONApHA9Ctd46EDD9Shc987uQHsUrkeNZPNAAAAAAABq+EA=\"},\"shape\":[31],\"dtype\":\"float64\",\"order\":\"little\"}],[\"y\",{\"type\":\"ndarray\",\"array\":{\"type\":\"bytes\",\"data\":\"jpkb/8odrj9+QQgNBwSuP0Pyvl2w5q0/gZiAt2fFrT/4hR6ew5+tP+CAaYZOda0/lqKk5YVFrT9DX1xE2Q+tP/G0V4mp06w/1DAnaEiQrD/4Atjq90SsP8fmVUTq8Ks/4lOCt0GTqz+P41ZOESurPz8VMXhdt6o/KQY6lB03qj8QP+08PqmpPxy7zgGkDKk/QGE+rC9gqD/sceYZw6KnPxYsTelH06Y/amepFbfwpT/7SjuAIfqkP/kGpcK67qM/1frdROPNoj8lHmJ2MpehPwyxG7WHSqA/hXz24yLQnT/Oq/BxquCaP7dgtIt0yJc/c40gMB+KlD8=\"},\"shape\":[31],\"dtype\":\"float64\",\"order\":\"little\"}]]}}},\"view\":{\"type\":\"object\",\"name\":\"CDSView\",\"id\":\"p1544\",\"attributes\":{\"filter\":{\"type\":\"object\",\"name\":\"AllIndices\",\"id\":\"p1545\"}}},\"glyph\":{\"type\":\"object\",\"name\":\"Line\",\"id\":\"p1540\",\"attributes\":{\"x\":{\"type\":\"field\",\"field\":\"x\"},\"y\":{\"type\":\"field\",\"field\":\"y\"},\"line_color\":\"#f46d43\",\"line_alpha\":0.6,\"line_width\":2}},\"nonselection_glyph\":{\"type\":\"object\",\"name\":\"Line\",\"id\":\"p1541\",\"attributes\":{\"x\":{\"type\":\"field\",\"field\":\"x\"},\"y\":{\"type\":\"field\",\"field\":\"y\"},\"line_color\":\"#f46d43\",\"line_alpha\":0.1,\"line_width\":2}},\"muted_glyph\":{\"type\":\"object\",\"name\":\"Line\",\"id\":\"p1542\",\"attributes\":{\"x\":{\"type\":\"field\",\"field\":\"x\"},\"y\":{\"type\":\"field\",\"field\":\"y\"},\"line_color\":\"#f46d43\",\"line_alpha\":0.2,\"line_width\":2}}}}],\"toolbar\":{\"type\":\"object\",\"name\":\"Toolbar\",\"id\":\"p1494\",\"attributes\":{\"tools\":[{\"id\":\"p1521\"},{\"id\":\"p1523\"}]}},\"toolbar_location\":null,\"left\":[{\"type\":\"object\",\"name\":\"LinearAxis\",\"id\":\"p1514\",\"attributes\":{\"ticker\":{\"type\":\"object\",\"name\":\"BasicTicker\",\"id\":\"p1516\",\"attributes\":{\"mantissas\":[1,2,5]}},\"formatter\":{\"type\":\"object\",\"name\":\"BasicTickFormatter\",\"id\":\"p1517\"},\"axis_label\":\"im(dz)/x0\",\"major_label_policy\":{\"type\":\"object\",\"name\":\"AllLabels\",\"id\":\"p1515\"}}}],\"below\":[{\"type\":\"object\",\"name\":\"LogAxis\",\"id\":\"p1507\",\"attributes\":{\"ticker\":{\"type\":\"object\",\"name\":\"LogTicker\",\"id\":\"p1509\",\"attributes\":{\"num_minor_ticks\":10,\"mantissas\":[1,5]}},\"formatter\":{\"type\":\"object\",\"name\":\"LogTickFormatter\",\"id\":\"p1510\"},\"axis_label\":\"f[Hz]\",\"major_label_policy\":{\"type\":\"object\",\"name\":\"AllLabels\",\"id\":\"p1508\"}}}],\"center\":[{\"type\":\"object\",\"name\":\"Grid\",\"id\":\"p1513\",\"attributes\":{\"axis\":{\"id\":\"p1507\"}}},{\"type\":\"object\",\"name\":\"Grid\",\"id\":\"p1520\",\"attributes\":{\"dimension\":1,\"axis\":{\"id\":\"p1514\"}}}]}},1,0]]}}],\"callbacks\":{\"type\":\"map\"}}};\n",
       "  const render_items = [{\"docid\":\"4b8694cc-e944-4e89-a7b0-7bc38f77c927\",\"roots\":{\"p1609\":\"da3bda38-0ad1-4ac4-9de5-9bd5f2eb5b68\"},\"root_ids\":[\"p1609\"]}];\n",
       "  root.Bokeh.embed.embed_items_notebook(docs_json, render_items);\n",
       "  }\n",
       "  if (root.Bokeh !== undefined) {\n",
       "    embed_document(root);\n",
       "  } else {\n",
       "    let attempts = 0;\n",
       "    const timer = setInterval(function(root) {\n",
       "      if (root.Bokeh !== undefined) {\n",
       "        clearInterval(timer);\n",
       "        embed_document(root);\n",
       "      } else {\n",
       "        attempts++;\n",
       "        if (attempts > 100) {\n",
       "          clearInterval(timer);\n",
       "          console.log(\"Bokeh: ERROR: Unable to run BokehJS code because BokehJS library is missing\");\n",
       "        }\n",
       "      }\n",
       "    }, 10, root)\n",
       "  }\n",
       "})(window);"
      ],
      "application/vnd.bokehjs_exec.v0+json": ""
     },
     "metadata": {
      "application/vnd.bokehjs_exec.v0+json": {
       "id": "p1609"
      }
     },
     "output_type": "display_data"
    }
   ],
   "source": [
    "exp.muesplot()"
   ]
  },
  {
   "cell_type": "code",
   "execution_count": 11,
   "id": "1a41b9ed",
   "metadata": {},
   "outputs": [
    {
     "name": "stdout",
     "output_type": "stream",
     "text": [
      "                archivo  conductividad  espesor bobina  muestras\n",
      "0     Exp_1010_Aire.csv           0.00  0.00000      b      aire\n",
      "1      Exp_1010-M00.csv     3830000.00  0.06500      b  1010-M00\n",
      "2     Exp_1010_P057.csv     3948000.00  0.14957      b      P057\n",
      "3  Exp_1010_347-M02.csv     1118491.27  0.02340      b   347-M02\n"
     ]
    }
   ],
   "source": [
    "exp2=ci.exp('.//iamend_ci//datos//marzo2023//bob_b//')"
   ]
  },
  {
   "cell_type": "code",
   "execution_count": 12,
   "id": "31f7cd4d",
   "metadata": {},
   "outputs": [
    {
     "name": "stdout",
     "output_type": "stream",
     "text": [
      "N = 152.28399629710233\n"
     ]
    },
    {
     "data": {
      "text/html": [
       "\n",
       "  <div id=\"c338ea96-b63a-4fb6-bcf5-e0cd238b7d9d\" data-root-id=\"p1994\" style=\"display: contents;\"></div>\n"
      ]
     },
     "metadata": {},
     "output_type": "display_data"
    },
    {
     "data": {
      "application/javascript": [
       "(function(root) {\n",
       "  function embed_document(root) {\n",
       "  const docs_json = {\"43ac973e-e94c-4991-96f7-c744282ab79a\":{\"version\":\"3.1.0\",\"title\":\"Bokeh Application\",\"defs\":[],\"roots\":[{\"type\":\"object\",\"name\":\"Figure\",\"id\":\"p1994\",\"attributes\":{\"height\":500,\"x_range\":{\"type\":\"object\",\"name\":\"DataRange1d\",\"id\":\"p1995\"},\"y_range\":{\"type\":\"object\",\"name\":\"DataRange1d\",\"id\":\"p1996\"},\"x_scale\":{\"type\":\"object\",\"name\":\"LogScale\",\"id\":\"p2007\"},\"y_scale\":{\"type\":\"object\",\"name\":\"LinearScale\",\"id\":\"p2009\"},\"title\":{\"type\":\"object\",\"name\":\"Title\",\"id\":\"p1998\"},\"renderers\":[{\"type\":\"object\",\"name\":\"GlyphRenderer\",\"id\":\"p2038\",\"attributes\":{\"data_source\":{\"type\":\"object\",\"name\":\"ColumnDataSource\",\"id\":\"p2032\",\"attributes\":{\"selected\":{\"type\":\"object\",\"name\":\"Selection\",\"id\":\"p2033\",\"attributes\":{\"indices\":[],\"line_indices\":[]}},\"selection_policy\":{\"type\":\"object\",\"name\":\"UnionRenderers\",\"id\":\"p2034\"},\"data\":{\"type\":\"map\",\"entries\":[[\"x\",{\"type\":\"ndarray\",\"array\":{\"type\":\"bytes\",\"data\":\"AAAAAAAAWUCF61G4HnlfQNk9eVioz2NA9+RhodbwaEDSAN4CCWZvQHbgnBGlw3NAGeJYF7fheED7XG3F/lJ/QLAD54yot4NAYVRSJ6DSiEAAAAAAAECPQDMzMzOzq5NAUI2XbpLDmEA1XrpJDC2fQIPAyqHFn6NAkxgEVo60qECgGi/dJBqvQGiR7Xzfk7NAnMQgsJKluEB56SYxSAe/QAAAAAAAiMNAAAAAAKCWyECkcD0Kd/TOQOF6FK4nfNNA4XoUrreH2EC4HoXrseHeQKRwPQpXcONApHA9Ctd46EDD9Shc987uQHsUrkeNZPNAAAAAAABq+EAAAAAASLz+QGZmZmbKWANBmpmZmTFbCEHNzMzMpKkOQTMzMzMPTRNBzczMzGxMGEEzMzMzDZceQZqZmZlaQSNBmpmZmbA9KEEAAAAAgIQuQQ==\"},\"shape\":[41],\"dtype\":\"float64\",\"order\":\"little\"}],[\"y\",{\"type\":\"ndarray\",\"array\":{\"type\":\"bytes\",\"data\":\"ji11jjo/UL/lLdrwffxYv1GbzLssyGW/4P1WekoCXb8GrZfAHhlHv9fg1vwwbUC/yuQXxf1lV79WQvR1yQVQv8TfKL1roE2/gM/aEiSnU7/tpUjzgkFTv/7yffab3FC/BtkMoAMUL79DFGNS/dMbv1IOocroFE4/rotdrUOqWj9SnBiDG6RlP8Jjsqrmqm0/SoVznUcnZD8Rb4EYuIxbv40yuxwmJoW/SDX7mNJLmb9pGRY2R7ulv9S93v2jrK6/sWdpGLh7s7/Z2fMvR/62v8XYdlQaPLq/Z+5wGC47vL92RBJ7gSe/v675uRn8sr+/5/epuN6awL8HElgNhyDBv/PpkiRRwMG/rzDysN9+wr/gZdt1KPnCvx4xz/S6aMO/mTN5rrtwxL/W+d4ovo/Fv8I3orjLP8e/rvMWDPs8yr8xYC5QW6TPvw==\"},\"shape\":[41],\"dtype\":\"float64\",\"order\":\"little\"}]]}}},\"view\":{\"type\":\"object\",\"name\":\"CDSView\",\"id\":\"p2039\",\"attributes\":{\"filter\":{\"type\":\"object\",\"name\":\"AllIndices\",\"id\":\"p2040\"}}},\"glyph\":{\"type\":\"object\",\"name\":\"Circle\",\"id\":\"p2035\",\"attributes\":{\"x\":{\"type\":\"field\",\"field\":\"x\"},\"y\":{\"type\":\"field\",\"field\":\"y\"},\"line_color\":{\"type\":\"value\",\"value\":\"#1f77b4\"},\"fill_color\":{\"type\":\"value\",\"value\":\"#1f77b4\"}}},\"nonselection_glyph\":{\"type\":\"object\",\"name\":\"Circle\",\"id\":\"p2036\",\"attributes\":{\"x\":{\"type\":\"field\",\"field\":\"x\"},\"y\":{\"type\":\"field\",\"field\":\"y\"},\"line_color\":{\"type\":\"value\",\"value\":\"#1f77b4\"},\"line_alpha\":{\"type\":\"value\",\"value\":0.1},\"fill_color\":{\"type\":\"value\",\"value\":\"#1f77b4\"},\"fill_alpha\":{\"type\":\"value\",\"value\":0.1},\"hatch_alpha\":{\"type\":\"value\",\"value\":0.1}}},\"muted_glyph\":{\"type\":\"object\",\"name\":\"Circle\",\"id\":\"p2037\",\"attributes\":{\"x\":{\"type\":\"field\",\"field\":\"x\"},\"y\":{\"type\":\"field\",\"field\":\"y\"},\"line_color\":{\"type\":\"value\",\"value\":\"#1f77b4\"},\"line_alpha\":{\"type\":\"value\",\"value\":0.2},\"fill_color\":{\"type\":\"value\",\"value\":\"#1f77b4\"},\"fill_alpha\":{\"type\":\"value\",\"value\":0.2},\"hatch_alpha\":{\"type\":\"value\",\"value\":0.2}}}}},{\"type\":\"object\",\"name\":\"GlyphRenderer\",\"id\":\"p2047\",\"attributes\":{\"data_source\":{\"type\":\"object\",\"name\":\"ColumnDataSource\",\"id\":\"p2041\",\"attributes\":{\"selected\":{\"type\":\"object\",\"name\":\"Selection\",\"id\":\"p2042\",\"attributes\":{\"indices\":[],\"line_indices\":[]}},\"selection_policy\":{\"type\":\"object\",\"name\":\"UnionRenderers\",\"id\":\"p2043\"},\"data\":{\"type\":\"map\",\"entries\":[[\"x\",{\"type\":\"ndarray\",\"array\":{\"type\":\"bytes\",\"data\":\"AAAAAAAAWUCF61G4HnlfQNk9eVioz2NA9+RhodbwaEDSAN4CCWZvQHbgnBGlw3NAGeJYF7fheED7XG3F/lJ/QLAD54yot4NAYVRSJ6DSiEAAAAAAAECPQDMzMzOzq5NAUI2XbpLDmEA1XrpJDC2fQIPAyqHFn6NAkxgEVo60qECgGi/dJBqvQGiR7Xzfk7NAnMQgsJKluEB56SYxSAe/QAAAAAAAiMNAAAAAAKCWyECkcD0Kd/TOQOF6FK4nfNNA4XoUrreH2EC4HoXrseHeQKRwPQpXcONApHA9Ctd46EDD9Shc987uQHsUrkeNZPNAAAAAAABq+EAAAAAASLz+QGZmZmbKWANBmpmZmTFbCEHNzMzMpKkOQTMzMzMPTRNBzczMzGxMGEEzMzMzDZceQZqZmZlaQSNBmpmZmbA9KEEAAAAAgIQuQQ==\"},\"shape\":[41],\"dtype\":\"float64\",\"order\":\"little\"}],[\"y\",{\"type\":\"ndarray\",\"array\":{\"type\":\"bytes\",\"data\":\"nuKiHrLiab+MEbSyLrVwvxQYz7DvZHW/UvKyfl4le7+KxuqZDRGBv4DiIkYsRoW/CYOj6DdKir+9Ka2jmBiQv4FcCe1vhJO/2adSoydsl795swbNbM+bv0QdXhaDVKC/ra1Sfv72or9O8GSXz8alv5aVPRknuai/bU2MUWXBq7/aQ6f0/dGuv6Je7vjE7rC/MsYo5Odrsr+fPGBtStuzv3shzOsHObW/oOkLu3uCtr/mOVPfH7a3v9CATG1U07i/+1G0lSbaub83fSuHHsu6v3F9Y44ap7u/PBcL1jFvvL9FFsS/niS9v8BcV9ytyL2/rU1cOLFcvr+TqIcy9+G+v4IUVuLDWb+/W2jjQ0zFv7/FHG/Z2RLAv9i8KQ8FPsC/UjM0oaVkwL/mpBFoL4fAvzcYeV0MpsC/cx9TEp3BwL9v6QQdOdrAvw==\"},\"shape\":[41],\"dtype\":\"float64\",\"order\":\"little\"}]]}}},\"view\":{\"type\":\"object\",\"name\":\"CDSView\",\"id\":\"p2048\",\"attributes\":{\"filter\":{\"type\":\"object\",\"name\":\"AllIndices\",\"id\":\"p2049\"}}},\"glyph\":{\"type\":\"object\",\"name\":\"Line\",\"id\":\"p2044\",\"attributes\":{\"x\":{\"type\":\"field\",\"field\":\"x\"},\"y\":{\"type\":\"field\",\"field\":\"y\"},\"line_color\":\"#f46d43\",\"line_alpha\":0.6,\"line_width\":2}},\"nonselection_glyph\":{\"type\":\"object\",\"name\":\"Line\",\"id\":\"p2045\",\"attributes\":{\"x\":{\"type\":\"field\",\"field\":\"x\"},\"y\":{\"type\":\"field\",\"field\":\"y\"},\"line_color\":\"#f46d43\",\"line_alpha\":0.1,\"line_width\":2}},\"muted_glyph\":{\"type\":\"object\",\"name\":\"Line\",\"id\":\"p2046\",\"attributes\":{\"x\":{\"type\":\"field\",\"field\":\"x\"},\"y\":{\"type\":\"field\",\"field\":\"y\"},\"line_color\":\"#f46d43\",\"line_alpha\":0.2,\"line_width\":2}}}}],\"toolbar\":{\"type\":\"object\",\"name\":\"Toolbar\",\"id\":\"p1997\",\"attributes\":{\"tools\":[{\"type\":\"object\",\"name\":\"BoxZoomTool\",\"id\":\"p2025\",\"attributes\":{\"overlay\":{\"type\":\"object\",\"name\":\"BoxAnnotation\",\"id\":\"p2026\",\"attributes\":{\"syncable\":false,\"level\":\"overlay\",\"visible\":false,\"left_units\":\"canvas\",\"right_units\":\"canvas\",\"bottom_units\":\"canvas\",\"top_units\":\"canvas\",\"line_color\":\"black\",\"line_alpha\":1.0,\"line_width\":2,\"line_dash\":[4,4],\"fill_color\":\"lightgrey\",\"fill_alpha\":0.5}}}},{\"type\":\"object\",\"name\":\"ResetTool\",\"id\":\"p2027\"}]}},\"left\":[{\"type\":\"object\",\"name\":\"LinearAxis\",\"id\":\"p2018\",\"attributes\":{\"ticker\":{\"type\":\"object\",\"name\":\"BasicTicker\",\"id\":\"p2020\",\"attributes\":{\"mantissas\":[1,2,5]}},\"formatter\":{\"type\":\"object\",\"name\":\"BasicTickFormatter\",\"id\":\"p2021\"},\"axis_label\":\"im(dz)/x0\",\"major_label_policy\":{\"type\":\"object\",\"name\":\"AllLabels\",\"id\":\"p2019\"}}}],\"below\":[{\"type\":\"object\",\"name\":\"LogAxis\",\"id\":\"p2011\",\"attributes\":{\"ticker\":{\"type\":\"object\",\"name\":\"LogTicker\",\"id\":\"p2013\",\"attributes\":{\"num_minor_ticks\":10,\"mantissas\":[1,5]}},\"formatter\":{\"type\":\"object\",\"name\":\"LogTickFormatter\",\"id\":\"p2014\"},\"axis_label\":\"f[Hz]\",\"major_label_policy\":{\"type\":\"object\",\"name\":\"AllLabels\",\"id\":\"p2012\"}}}],\"center\":[{\"type\":\"object\",\"name\":\"Grid\",\"id\":\"p2017\",\"attributes\":{\"axis\":{\"id\":\"p2011\"}}},{\"type\":\"object\",\"name\":\"Grid\",\"id\":\"p2024\",\"attributes\":{\"dimension\":1,\"axis\":{\"id\":\"p2018\"}}}]}}],\"callbacks\":{\"type\":\"map\"}}};\n",
       "  const render_items = [{\"docid\":\"43ac973e-e94c-4991-96f7-c744282ab79a\",\"roots\":{\"p1994\":\"c338ea96-b63a-4fb6-bcf5-e0cd238b7d9d\"},\"root_ids\":[\"p1994\"]}];\n",
       "  root.Bokeh.embed.embed_items_notebook(docs_json, render_items);\n",
       "  }\n",
       "  if (root.Bokeh !== undefined) {\n",
       "    embed_document(root);\n",
       "  } else {\n",
       "    let attempts = 0;\n",
       "    const timer = setInterval(function(root) {\n",
       "      if (root.Bokeh !== undefined) {\n",
       "        clearInterval(timer);\n",
       "        embed_document(root);\n",
       "      } else {\n",
       "        attempts++;\n",
       "        if (attempts > 100) {\n",
       "          clearInterval(timer);\n",
       "          console.log(\"Bokeh: ERROR: Unable to run BokehJS code because BokehJS library is missing\");\n",
       "        }\n",
       "      }\n",
       "    }, 10, root)\n",
       "  }\n",
       "})(window);"
      ],
      "application/vnd.bokehjs_exec.v0+json": ""
     },
     "metadata": {
      "application/vnd.bokehjs_exec.v0+json": {
       "id": "p1994"
      }
     },
     "output_type": "display_data"
    },
    {
     "data": {
      "text/plain": [
       "True"
      ]
     },
     "execution_count": 12,
     "metadata": {},
     "output_type": "execute_result"
    }
   ],
   "source": [
    "exp2.fitpatron('N',plot=True)"
   ]
  },
  {
   "cell_type": "code",
   "execution_count": 14,
   "id": "45336781",
   "metadata": {},
   "outputs": [
    {
     "data": {
      "application/vnd.plotly.v1+json": {
       "config": {
        "plotlyServerURL": "https://plot.ly"
       },
       "data": [
        {
         "hovertemplate": "repeticion=1<br>f=%{x}<br>idznorm=%{y}<extra></extra>",
         "legendgroup": "1",
         "marker": {
          "color": "#636efa",
          "symbol": "circle"
         },
         "mode": "markers",
         "name": "1",
         "orientation": "v",
         "showlegend": true,
         "type": "scatter",
         "x": [
          100,
          125.8925,
          158.4893,
          199.5262,
          251.1886,
          316.2278,
          398.1072,
          501.1872,
          630.9573,
          794.3282,
          1000,
          1258.925,
          1584.893,
          1995.262,
          2511.886,
          3162.278,
          3981.072,
          5011.873,
          6309.573,
          7943.282,
          10000,
          12589.25,
          15848.93,
          19952.62,
          25118.87,
          31622.78,
          39810.72,
          50118.72,
          63095.73,
          79432.83,
          100000,
          125892.5,
          158489.3,
          199526.2,
          251188.6,
          316227.8,
          398107.2,
          501187.3,
          630957.3,
          794328.3,
          1000000
         ],
         "xaxis": "x",
         "y": [
          0.42825021850383216,
          0.42859253678852666,
          0.43726409971953173,
          0.4357913712639559,
          0.4312606242472659,
          0.4292664407126147,
          0.4289583061768596,
          0.428276511873874,
          0.42968627567004974,
          0.43044489384761003,
          0.42926851562129276,
          0.4302864397337582,
          0.42941632884805075,
          0.42906133029883003,
          0.4295506080549791,
          0.42900377129498823,
          0.42998465827742316,
          0.4307449787333682,
          0.42936332217087486,
          0.42940921045868896,
          0.43007337898826603,
          0.42863420811691605,
          0.4296370002207873,
          0.42968474704758725,
          0.4293872032980268,
          0.4298283058768561,
          0.42934970478171464,
          0.4301325403800519,
          0.4317702301262205,
          0.43220875128575137,
          0.4329961512596542,
          0.4373234111620386,
          0.4405044846139275,
          0.4473793578373215,
          0.45864378369068876,
          0.4755698929657344,
          0.5087999225846147,
          0.5704501649169026,
          0.7139612067143161,
          1.2181922348392047,
          -3.269048053326172
         ],
         "yaxis": "y"
        },
        {
         "hovertemplate": "repeticion=2<br>f=%{x}<br>idznorm=%{y}<extra></extra>",
         "legendgroup": "2",
         "marker": {
          "color": "#EF553B",
          "symbol": "circle"
         },
         "mode": "markers",
         "name": "2",
         "orientation": "v",
         "showlegend": true,
         "type": "scatter",
         "x": [
          100,
          125.8925,
          158.4893,
          199.5262,
          251.1886,
          316.2278,
          398.1072,
          501.1872,
          630.9573,
          794.3282,
          1000,
          1258.925,
          1584.893,
          1995.262,
          2511.886,
          3162.278,
          3981.072,
          5011.873,
          6309.573,
          7943.282,
          10000,
          12589.25,
          15848.93,
          19952.62,
          25118.87,
          31622.78,
          39810.72,
          50118.72,
          63095.73,
          79432.83,
          100000,
          125892.5,
          158489.3,
          199526.2,
          251188.6,
          316227.8,
          398107.2,
          501187.3,
          630957.3,
          794328.3,
          1000000
         ],
         "xaxis": "x",
         "y": [
          0.42843935449229753,
          0.4305631519757824,
          0.4344357315066009,
          0.4272630393665105,
          0.43086582192303424,
          0.430014430079152,
          0.43236530041179716,
          0.43008360087308667,
          0.42847315788509577,
          0.4302505837236272,
          0.42923331147745436,
          0.42955792256288067,
          0.42907341714910074,
          0.4290285795854288,
          0.42953283737031533,
          0.4287045755483733,
          0.42953372917005767,
          0.430669962656046,
          0.4288737865144923,
          0.42935075520672156,
          0.4288455596918558,
          0.4302400164117805,
          0.429395713496124,
          0.4299066215989393,
          0.430099496024487,
          0.42984285819916224,
          0.42932901359734693,
          0.43001216572033096,
          0.4316835840654663,
          0.4316114533948575,
          0.4332890129215992,
          0.43582689871970415,
          0.439435099527363,
          0.4481319323290695,
          0.458025290583215,
          0.47614107161625163,
          0.5086143954845579,
          0.5703253829718833,
          0.7140201377051321,
          1.217238643832016,
          -3.3092539466990094
         ],
         "yaxis": "y"
        },
        {
         "hovertemplate": "repeticion=3<br>f=%{x}<br>idznorm=%{y}<extra></extra>",
         "legendgroup": "3",
         "marker": {
          "color": "#00cc96",
          "symbol": "circle"
         },
         "mode": "markers",
         "name": "3",
         "orientation": "v",
         "showlegend": true,
         "type": "scatter",
         "x": [
          100,
          125.8925,
          158.4893,
          199.5262,
          251.1886,
          316.2278,
          398.1072,
          501.1872,
          630.9573,
          794.3282,
          1000,
          1258.925,
          1584.893,
          1995.262,
          2511.886,
          3162.278,
          3981.072,
          5011.873,
          6309.573,
          7943.282,
          10000,
          12589.25,
          15848.93,
          19952.62,
          25118.87,
          31622.78,
          39810.72,
          50118.72,
          63095.73,
          79432.83,
          100000,
          125892.5,
          158489.3,
          199526.2,
          251188.6,
          316227.8,
          398107.2,
          501187.3,
          630957.3,
          794328.3,
          1000000
         ],
         "xaxis": "x",
         "y": [
          0.43168200127848444,
          0.42825404862985506,
          0.4282935180607184,
          0.43864183652399663,
          0.4297928023346238,
          0.42951761379561926,
          0.4328855854444176,
          0.43020572009309344,
          0.43044778368379977,
          0.42962808453394447,
          0.4299597133212321,
          0.42989970056326726,
          0.4290818375041131,
          0.4294347345593694,
          0.42959897362973415,
          0.429493456940591,
          0.4292064847960633,
          0.43065068067778695,
          0.4294612730627881,
          0.4292458949430337,
          0.42864312436016244,
          0.4291554652597516,
          0.42944797776861426,
          0.4292336175024267,
          0.43008520620127094,
          0.42981811925124175,
          0.4310833717266693,
          0.43073955554055166,
          0.4316221733052347,
          0.4315703203684235,
          0.43438181397222897,
          0.4357026158104727,
          0.43925623957261856,
          0.44745662184428925,
          0.45700246859890636,
          0.47643575614295164,
          0.5077858233641795,
          0.5705651222349043,
          0.7141335506886951,
          1.2165220022306238,
          -3.274523793293934
         ],
         "yaxis": "y"
        },
        {
         "hovertemplate": "repeticion=4<br>f=%{x}<br>idznorm=%{y}<extra></extra>",
         "legendgroup": "4",
         "marker": {
          "color": "#ab63fa",
          "symbol": "circle"
         },
         "mode": "markers",
         "name": "4",
         "orientation": "v",
         "showlegend": true,
         "type": "scatter",
         "x": [
          100,
          125.8925,
          158.4893,
          199.5262,
          251.1886,
          316.2278,
          398.1072,
          501.1872,
          630.9573,
          794.3282,
          1000,
          1258.925,
          1584.893,
          1995.262,
          2511.886,
          3162.278,
          3981.072,
          5011.873,
          6309.573,
          7943.282,
          10000,
          12589.25,
          15848.93,
          19952.62,
          25118.87,
          31622.78,
          39810.72,
          50118.72,
          63095.73,
          79432.83,
          100000,
          125892.5,
          158489.3,
          199526.2,
          251188.6,
          316227.8,
          398107.2,
          501187.3,
          630957.3,
          794328.3,
          1000000
         ],
         "xaxis": "x",
         "y": [
          0.42801925170915867,
          0.43343554933090306,
          0.43295229723908585,
          0.43151994019219,
          0.4310034073269776,
          0.43052652630110616,
          0.430375710102652,
          0.4292580565820486,
          0.4300353396824822,
          0.4290653151408707,
          0.42941733941367655,
          0.4300634615730782,
          0.42923804960744505,
          0.428754580659227,
          0.4298021456842923,
          0.43017217725295087,
          0.42924752038517244,
          0.42783027817214975,
          0.4299912143737648,
          0.4295678333327096,
          0.4288174884137624,
          0.42949505003232824,
          0.4292696985280086,
          0.429216319590419,
          0.43002584847406594,
          0.43003553094649594,
          0.4288503421198795,
          0.4300375077539564,
          0.4308000568095935,
          0.43225874818971277,
          0.43356783894449746,
          0.4356766626147214,
          0.44036569393475894,
          0.44775552976378213,
          0.45848201549936785,
          0.4753644141747712,
          0.5090389693403266,
          0.5715323429919568,
          0.7136892343569485,
          1.2156304004322864,
          -3.251395361069399
         ],
         "yaxis": "y"
        },
        {
         "hovertemplate": "repeticion=5<br>f=%{x}<br>idznorm=%{y}<extra></extra>",
         "legendgroup": "5",
         "marker": {
          "color": "#FFA15A",
          "symbol": "circle"
         },
         "mode": "markers",
         "name": "5",
         "orientation": "v",
         "showlegend": true,
         "type": "scatter",
         "x": [
          100,
          125.8925,
          158.4893,
          199.5262,
          251.1886,
          316.2278,
          398.1072,
          501.1872,
          630.9573,
          794.3282,
          1000,
          1258.925,
          1584.893,
          1995.262,
          2511.886,
          3162.278,
          3981.072,
          5011.873,
          6309.573,
          7943.282,
          10000,
          12589.25,
          15848.93,
          19952.62,
          25118.87,
          31622.78,
          39810.72,
          50118.72,
          63095.73,
          79432.83,
          100000,
          125892.5,
          158489.3,
          199526.2,
          251188.6,
          316227.8,
          398107.2,
          501187.3,
          630957.3,
          794328.3,
          1000000
         ],
         "xaxis": "x",
         "y": [
          0.4305169512006306,
          0.43009453230038597,
          0.43264016338949124,
          0.43494354293675225,
          0.430688298279331,
          0.4279145299703712,
          0.42968619661240964,
          0.42944316361026935,
          0.4300451128913551,
          0.42972906322986043,
          0.42933275743148686,
          0.42994831711305487,
          0.42963816164906493,
          0.42968566960289434,
          0.4292776356823085,
          0.4299592767776116,
          0.4291689170032169,
          0.43040359589923854,
          0.42980136614468795,
          0.4294363234992447,
          0.428917210478727,
          0.429828055121475,
          0.429670971997906,
          0.42904357110916885,
          0.4290665982899751,
          0.4298875338286422,
          0.43114556087298117,
          0.4305422365903302,
          0.4318729217537811,
          0.43157698276002904,
          0.43322026129951463,
          0.43677912512719835,
          0.4411932115825213,
          0.446562435112905,
          0.45751946728056836,
          0.4754969858309805,
          0.5086185568400732,
          0.5698433335154066,
          0.7142590707817574,
          1.2163939684441178,
          -3.2940011186267792
         ],
         "yaxis": "y"
        },
        {
         "hovertemplate": "repeticion=6<br>f=%{x}<br>idznorm=%{y}<extra></extra>",
         "legendgroup": "6",
         "marker": {
          "color": "#19d3f3",
          "symbol": "circle"
         },
         "mode": "markers",
         "name": "6",
         "orientation": "v",
         "showlegend": true,
         "type": "scatter",
         "x": [
          100,
          125.8925,
          158.4893,
          199.5262,
          251.1886,
          316.2278,
          398.1072,
          501.1872,
          630.9573,
          794.3282,
          1000,
          1258.925,
          1584.893,
          1995.262,
          2511.886,
          3162.278,
          3981.072,
          5011.873,
          6309.573,
          7943.282,
          10000,
          12589.25,
          15848.93,
          19952.62,
          25118.87,
          31622.78,
          39810.72,
          50118.72,
          63095.73,
          79432.83,
          100000,
          125892.5,
          158489.3,
          199526.2,
          251188.6,
          316227.8,
          398107.2,
          501187.3,
          630957.3,
          794328.3,
          1000000
         ],
         "xaxis": "x",
         "y": [
          0.42781916332038794,
          0.42805409936117966,
          0.4325594441242007,
          0.4354382632201722,
          0.430413310674379,
          0.429059797735867,
          0.4307189063394549,
          0.4306266182167859,
          0.42844704737183814,
          0.42991532054906284,
          0.42978106954818523,
          0.42888679485303066,
          0.4290940325010275,
          0.4297142688174137,
          0.43006266025740475,
          0.4289272260796578,
          0.4292457864870411,
          0.4298524067778615,
          0.42993097056384644,
          0.4294106588048725,
          0.42924035230622193,
          0.4284477837530688,
          0.42958212273467256,
          0.42972187989869715,
          0.42965651150479034,
          0.42952678175867215,
          0.43137327949423465,
          0.4306232209151768,
          0.43199216948891006,
          0.43175286989841444,
          0.4327617330783299,
          0.4350303914867176,
          0.44149634436296475,
          0.4466867494405336,
          0.45709168842809467,
          0.47744801568256906,
          0.5092579028777146,
          0.570574946861922,
          0.7137898108870665,
          1.216044627388629,
          -3.296229794033441
         ],
         "yaxis": "y"
        },
        {
         "hovertemplate": "repeticion=7<br>f=%{x}<br>idznorm=%{y}<extra></extra>",
         "legendgroup": "7",
         "marker": {
          "color": "#FF6692",
          "symbol": "circle"
         },
         "mode": "markers",
         "name": "7",
         "orientation": "v",
         "showlegend": true,
         "type": "scatter",
         "x": [
          100,
          125.8925,
          158.4893,
          199.5262,
          251.1886,
          316.2278,
          398.1072,
          501.1872,
          630.9573,
          794.3282,
          1000,
          1258.925,
          1584.893,
          1995.262,
          2511.886,
          3162.278,
          3981.072,
          5011.873,
          6309.573,
          7943.282,
          10000,
          12589.25,
          15848.93,
          19952.62,
          25118.87,
          31622.78,
          39810.72,
          50118.72,
          63095.73,
          79432.83,
          100000,
          125892.5,
          158489.3,
          199526.2,
          251188.6,
          316227.8,
          398107.2,
          501187.3,
          630957.3,
          794328.3,
          1000000
         ],
         "xaxis": "x",
         "y": [
          0.4272454968405315,
          0.43642857421557185,
          0.42813498310083137,
          0.43809522250455357,
          0.43219495921412493,
          0.4293965384740319,
          0.4292880936014466,
          0.4285647315968824,
          0.42842618813498995,
          0.4297046730801297,
          0.4309052552080933,
          0.42982951727334834,
          0.4293030895909885,
          0.4297650093593029,
          0.42932252040130464,
          0.4286933702601976,
          0.4289444349918086,
          0.43052947967158706,
          0.42890507536976463,
          0.429399535506183,
          0.42894104805586203,
          0.42925635373901017,
          0.4294055856364833,
          0.42970481262551624,
          0.4300051465506889,
          0.4298393656418088,
          0.42921180208366616,
          0.430187723576461,
          0.4318941456626022,
          0.43168943234356205,
          0.4349186196426546,
          0.43623922554797806,
          0.4409763148516867,
          0.44725435159321264,
          0.4582788434448097,
          0.47524988739822166,
          0.5081439311249123,
          0.5699321224343423,
          0.7142629363046699,
          1.2175752394426944,
          -3.3018537135347454
         ],
         "yaxis": "y"
        },
        {
         "hovertemplate": "repeticion=8<br>f=%{x}<br>idznorm=%{y}<extra></extra>",
         "legendgroup": "8",
         "marker": {
          "color": "#B6E880",
          "symbol": "circle"
         },
         "mode": "markers",
         "name": "8",
         "orientation": "v",
         "showlegend": true,
         "type": "scatter",
         "x": [
          100,
          125.8925,
          158.4893,
          199.5262,
          251.1886,
          316.2278,
          398.1072,
          501.1872,
          630.9573,
          794.3282,
          1000,
          1258.925,
          1584.893,
          1995.262,
          2511.886,
          3162.278,
          3981.072,
          5011.873,
          6309.573,
          7943.282,
          10000,
          12589.25,
          15848.93,
          19952.62,
          25118.87,
          31622.78,
          39810.72,
          50118.72,
          63095.73,
          79432.83,
          100000,
          125892.5,
          158489.3,
          199526.2,
          251188.6,
          316227.8,
          398107.2,
          501187.3,
          630957.3,
          794328.3,
          1000000
         ],
         "xaxis": "x",
         "y": [
          0.434233450364732,
          0.42723237000837855,
          0.4273687307947103,
          0.43503602910628664,
          0.4306311389637114,
          0.42866179172079316,
          0.43009851758804996,
          0.43001446119439113,
          0.4300257123423984,
          0.4307864138776871,
          0.4290623067735279,
          0.4302407474877172,
          0.4299099358660143,
          0.42957680807665927,
          0.42924887282156404,
          0.42992376911118446,
          0.43006730742168525,
          0.42949210924124914,
          0.4289884393827631,
          0.4293884701413408,
          0.42906644843750885,
          0.4298375591086515,
          0.4294622052650144,
          0.4294206655909365,
          0.43004838242606047,
          0.42979148850142146,
          0.42984340337632065,
          0.43038320614743414,
          0.4303685039968975,
          0.4318213476973511,
          0.43257517412523033,
          0.43627614488277916,
          0.4390564739088781,
          0.4472257523786932,
          0.4589057638872786,
          0.4769199119060781,
          0.509054574423509,
          0.5721459689953157,
          0.7135468664187395,
          1.2150307851877908,
          -3.2704861310973508
         ],
         "yaxis": "y"
        },
        {
         "hovertemplate": "repeticion=9<br>f=%{x}<br>idznorm=%{y}<extra></extra>",
         "legendgroup": "9",
         "marker": {
          "color": "#FF97FF",
          "symbol": "circle"
         },
         "mode": "markers",
         "name": "9",
         "orientation": "v",
         "showlegend": true,
         "type": "scatter",
         "x": [
          100,
          125.8925,
          158.4893,
          199.5262,
          251.1886,
          316.2278,
          398.1072,
          501.1872,
          630.9573,
          794.3282,
          1000,
          1258.925,
          1584.893,
          1995.262,
          2511.886,
          3162.278,
          3981.072,
          5011.873,
          6309.573,
          7943.282,
          10000,
          12589.25,
          15848.93,
          19952.62,
          25118.87,
          31622.78,
          39810.72,
          50118.72,
          63095.73,
          79432.83,
          100000,
          125892.5,
          158489.3,
          199526.2,
          251188.6,
          316227.8,
          398107.2,
          501187.3,
          630957.3,
          794328.3,
          1000000
         ],
         "xaxis": "x",
         "y": [
          0.4273391904834793,
          0.43141924189760633,
          0.435148558111954,
          0.4362858609085491,
          0.43145115529933126,
          0.42893726718204905,
          0.43005378301626057,
          0.4296290051901894,
          0.4302403582656305,
          0.4303309379698896,
          0.430082536667513,
          0.4298031985396287,
          0.4295426341732355,
          0.4300556142810321,
          0.4299875470541867,
          0.4285568694769657,
          0.4306392626186205,
          0.4308097110889522,
          0.42903978519654334,
          0.42916797391835965,
          0.4297653772435461,
          0.4283940496717246,
          0.42955395809894176,
          0.4293946034035116,
          0.4291250400028714,
          0.42963708836175296,
          0.43023249011700054,
          0.4300197866942111,
          0.43189429153139136,
          0.43144576261232054,
          0.43387450615304585,
          0.4364757286134862,
          0.43928672706490457,
          0.44618118913225546,
          0.4584032382374562,
          0.4750582333134493,
          0.5081329497700803,
          0.5708121151945086,
          0.713564443607832,
          1.213799691086773,
          -3.324500792367712
         ],
         "yaxis": "y"
        },
        {
         "hovertemplate": "repeticion=10<br>f=%{x}<br>idznorm=%{y}<extra></extra>",
         "legendgroup": "10",
         "marker": {
          "color": "#FECB52",
          "symbol": "circle"
         },
         "mode": "markers",
         "name": "10",
         "orientation": "v",
         "showlegend": true,
         "type": "scatter",
         "x": [
          100,
          125.8925,
          158.4893,
          199.5262,
          251.1886,
          316.2278,
          398.1072,
          501.1872,
          630.9573,
          794.3282,
          1000,
          1258.925,
          1584.893,
          1995.262,
          2511.886,
          3162.278,
          3981.072,
          5011.873,
          6309.573,
          7943.282,
          10000,
          12589.25,
          15848.93,
          19952.62,
          25118.87,
          31622.78,
          39810.72,
          50118.72,
          63095.73,
          79432.83,
          100000,
          125892.5,
          158489.3,
          199526.2,
          251188.6,
          316227.8,
          398107.2,
          501187.3,
          630957.3,
          794328.3,
          1000000
         ],
         "xaxis": "x",
         "y": [
          0.42802399161349247,
          0.42667382799277354,
          0.4332432350226149,
          0.43394856703806983,
          0.4280589697608288,
          0.43162522663522224,
          0.43034334400419966,
          0.4300364977453698,
          0.4285394552497638,
          0.42945318224882095,
          0.42947131910089553,
          0.4292943696877162,
          0.42963380629302406,
          0.42938975998814943,
          0.42910194406795205,
          0.4302567262455497,
          0.42881115602211045,
          0.43040322862346225,
          0.4298086595841454,
          0.4294723004184437,
          0.42889723845464084,
          0.4302703560631517,
          0.4293739367159197,
          0.4291528939130575,
          0.4289607070358871,
          0.4299045600457404,
          0.42987149252604884,
          0.43041203730163125,
          0.4313675593337759,
          0.43216645958251637,
          0.4336203460400787,
          0.4365948939911611,
          0.441196695867354,
          0.4476960249464757,
          0.4576390987969133,
          0.47701130049016083,
          0.5077303386239757,
          0.5714047146596706,
          0.713222673034857,
          1.2147967324739972,
          -3.309207928210332
         ],
         "yaxis": "y"
        },
        {
         "hovertemplate": "repeticion=11<br>f=%{x}<br>idznorm=%{y}<extra></extra>",
         "legendgroup": "11",
         "marker": {
          "color": "#636efa",
          "symbol": "circle"
         },
         "mode": "markers",
         "name": "11",
         "orientation": "v",
         "showlegend": true,
         "type": "scatter",
         "x": [
          100,
          125.8925,
          158.4893,
          199.5262,
          251.1886,
          316.2278,
          398.1072,
          501.1872,
          630.9573,
          794.3282,
          1000,
          1258.925,
          1584.893,
          1995.262,
          2511.886,
          3162.278,
          3981.072,
          5011.873,
          6309.573,
          7943.282,
          10000,
          12589.25,
          15848.93,
          19952.62,
          25118.87,
          31622.78,
          39810.72,
          50118.72,
          63095.73,
          79432.83,
          100000,
          125892.5,
          158489.3,
          199526.2,
          251188.6,
          316227.8,
          398107.2,
          501187.3,
          630957.3,
          794328.3,
          1000000
         ],
         "xaxis": "x",
         "y": [
          0.42799748496401413,
          0.42897233073761937,
          0.42954031131668036,
          0.43574870308100355,
          0.4318355150562862,
          0.4285439179101132,
          0.4301713413095676,
          0.42823657062522513,
          0.430916460103334,
          0.42958040497758254,
          0.4284493405043407,
          0.4291075797859007,
          0.4295748638079378,
          0.42926336991107994,
          0.4295918287152817,
          0.43068893021804305,
          0.4303973260326897,
          0.42955206701174053,
          0.4297430915634231,
          0.4292632750972361,
          0.42903543197614,
          0.4288195358668583,
          0.42928392602440874,
          0.42979360857382237,
          0.4291966723218132,
          0.4297168350879908,
          0.4285515336752396,
          0.43063460646651575,
          0.431961172371216,
          0.4316653897999421,
          0.43267089258168007,
          0.43539263961333063,
          0.43919148994614454,
          0.4480156903603778,
          0.45776862327173073,
          0.47502927419206004,
          0.5080885619779172,
          0.5710348679528728,
          0.7141316543944362,
          1.216815147461266,
          -3.280961779859947
         ],
         "yaxis": "y"
        },
        {
         "hovertemplate": "repeticion=12<br>f=%{x}<br>idznorm=%{y}<extra></extra>",
         "legendgroup": "12",
         "marker": {
          "color": "#EF553B",
          "symbol": "circle"
         },
         "mode": "markers",
         "name": "12",
         "orientation": "v",
         "showlegend": true,
         "type": "scatter",
         "x": [
          100,
          125.8925,
          158.4893,
          199.5262,
          251.1886,
          316.2278,
          398.1072,
          501.1872,
          630.9573,
          794.3282,
          1000,
          1258.925,
          1584.893,
          1995.262,
          2511.886,
          3162.278,
          3981.072,
          5011.873,
          6309.573,
          7943.282,
          10000,
          12589.25,
          15848.93,
          19952.62,
          25118.87,
          31622.78,
          39810.72,
          50118.72,
          63095.73,
          79432.83,
          100000,
          125892.5,
          158489.3,
          199526.2,
          251188.6,
          316227.8,
          398107.2,
          501187.3,
          630957.3,
          794328.3,
          1000000
         ],
         "xaxis": "x",
         "y": [
          0.4312317563852616,
          0.4259051016453799,
          0.43362824849662646,
          0.43107872811658043,
          0.43340006811843845,
          0.4312976538601103,
          0.43089980971116143,
          0.42877003879683356,
          0.42806895547036516,
          0.42966058542230295,
          0.4291102580387301,
          0.42955719148694405,
          0.42907951464755795,
          0.42926775204878853,
          0.4296830637767515,
          0.4298245222730564,
          0.43053476635790316,
          0.42918295485649544,
          0.42906633331616834,
          0.42931587903062207,
          0.42974324235049205,
          0.4284419351455756,
          0.4292014646167019,
          0.42985103764168786,
          0.4301843189494744,
          0.42992013103060805,
          0.42886664076231434,
          0.4305127627033962,
          0.4301481691908886,
          0.4317224546323893,
          0.43370607848448534,
          0.43643588497493846,
          0.4399650011790003,
          0.4463592423065213,
          0.45820537906800374,
          0.47676885880053993,
          0.50844944397566,
          0.5698825402045333,
          0.713532935949376,
          1.2165781980554702,
          -3.298937982092125
         ],
         "yaxis": "y"
        }
       ],
       "layout": {
        "legend": {
         "title": {
          "text": "repeticion"
         },
         "tracegroupgap": 0
        },
        "margin": {
         "t": 60
        },
        "template": {
         "data": {
          "bar": [
           {
            "error_x": {
             "color": "#2a3f5f"
            },
            "error_y": {
             "color": "#2a3f5f"
            },
            "marker": {
             "line": {
              "color": "#E5ECF6",
              "width": 0.5
             },
             "pattern": {
              "fillmode": "overlay",
              "size": 10,
              "solidity": 0.2
             }
            },
            "type": "bar"
           }
          ],
          "barpolar": [
           {
            "marker": {
             "line": {
              "color": "#E5ECF6",
              "width": 0.5
             },
             "pattern": {
              "fillmode": "overlay",
              "size": 10,
              "solidity": 0.2
             }
            },
            "type": "barpolar"
           }
          ],
          "carpet": [
           {
            "aaxis": {
             "endlinecolor": "#2a3f5f",
             "gridcolor": "white",
             "linecolor": "white",
             "minorgridcolor": "white",
             "startlinecolor": "#2a3f5f"
            },
            "baxis": {
             "endlinecolor": "#2a3f5f",
             "gridcolor": "white",
             "linecolor": "white",
             "minorgridcolor": "white",
             "startlinecolor": "#2a3f5f"
            },
            "type": "carpet"
           }
          ],
          "choropleth": [
           {
            "colorbar": {
             "outlinewidth": 0,
             "ticks": ""
            },
            "type": "choropleth"
           }
          ],
          "contour": [
           {
            "colorbar": {
             "outlinewidth": 0,
             "ticks": ""
            },
            "colorscale": [
             [
              0,
              "#0d0887"
             ],
             [
              0.1111111111111111,
              "#46039f"
             ],
             [
              0.2222222222222222,
              "#7201a8"
             ],
             [
              0.3333333333333333,
              "#9c179e"
             ],
             [
              0.4444444444444444,
              "#bd3786"
             ],
             [
              0.5555555555555556,
              "#d8576b"
             ],
             [
              0.6666666666666666,
              "#ed7953"
             ],
             [
              0.7777777777777778,
              "#fb9f3a"
             ],
             [
              0.8888888888888888,
              "#fdca26"
             ],
             [
              1,
              "#f0f921"
             ]
            ],
            "type": "contour"
           }
          ],
          "contourcarpet": [
           {
            "colorbar": {
             "outlinewidth": 0,
             "ticks": ""
            },
            "type": "contourcarpet"
           }
          ],
          "heatmap": [
           {
            "colorbar": {
             "outlinewidth": 0,
             "ticks": ""
            },
            "colorscale": [
             [
              0,
              "#0d0887"
             ],
             [
              0.1111111111111111,
              "#46039f"
             ],
             [
              0.2222222222222222,
              "#7201a8"
             ],
             [
              0.3333333333333333,
              "#9c179e"
             ],
             [
              0.4444444444444444,
              "#bd3786"
             ],
             [
              0.5555555555555556,
              "#d8576b"
             ],
             [
              0.6666666666666666,
              "#ed7953"
             ],
             [
              0.7777777777777778,
              "#fb9f3a"
             ],
             [
              0.8888888888888888,
              "#fdca26"
             ],
             [
              1,
              "#f0f921"
             ]
            ],
            "type": "heatmap"
           }
          ],
          "heatmapgl": [
           {
            "colorbar": {
             "outlinewidth": 0,
             "ticks": ""
            },
            "colorscale": [
             [
              0,
              "#0d0887"
             ],
             [
              0.1111111111111111,
              "#46039f"
             ],
             [
              0.2222222222222222,
              "#7201a8"
             ],
             [
              0.3333333333333333,
              "#9c179e"
             ],
             [
              0.4444444444444444,
              "#bd3786"
             ],
             [
              0.5555555555555556,
              "#d8576b"
             ],
             [
              0.6666666666666666,
              "#ed7953"
             ],
             [
              0.7777777777777778,
              "#fb9f3a"
             ],
             [
              0.8888888888888888,
              "#fdca26"
             ],
             [
              1,
              "#f0f921"
             ]
            ],
            "type": "heatmapgl"
           }
          ],
          "histogram": [
           {
            "marker": {
             "pattern": {
              "fillmode": "overlay",
              "size": 10,
              "solidity": 0.2
             }
            },
            "type": "histogram"
           }
          ],
          "histogram2d": [
           {
            "colorbar": {
             "outlinewidth": 0,
             "ticks": ""
            },
            "colorscale": [
             [
              0,
              "#0d0887"
             ],
             [
              0.1111111111111111,
              "#46039f"
             ],
             [
              0.2222222222222222,
              "#7201a8"
             ],
             [
              0.3333333333333333,
              "#9c179e"
             ],
             [
              0.4444444444444444,
              "#bd3786"
             ],
             [
              0.5555555555555556,
              "#d8576b"
             ],
             [
              0.6666666666666666,
              "#ed7953"
             ],
             [
              0.7777777777777778,
              "#fb9f3a"
             ],
             [
              0.8888888888888888,
              "#fdca26"
             ],
             [
              1,
              "#f0f921"
             ]
            ],
            "type": "histogram2d"
           }
          ],
          "histogram2dcontour": [
           {
            "colorbar": {
             "outlinewidth": 0,
             "ticks": ""
            },
            "colorscale": [
             [
              0,
              "#0d0887"
             ],
             [
              0.1111111111111111,
              "#46039f"
             ],
             [
              0.2222222222222222,
              "#7201a8"
             ],
             [
              0.3333333333333333,
              "#9c179e"
             ],
             [
              0.4444444444444444,
              "#bd3786"
             ],
             [
              0.5555555555555556,
              "#d8576b"
             ],
             [
              0.6666666666666666,
              "#ed7953"
             ],
             [
              0.7777777777777778,
              "#fb9f3a"
             ],
             [
              0.8888888888888888,
              "#fdca26"
             ],
             [
              1,
              "#f0f921"
             ]
            ],
            "type": "histogram2dcontour"
           }
          ],
          "mesh3d": [
           {
            "colorbar": {
             "outlinewidth": 0,
             "ticks": ""
            },
            "type": "mesh3d"
           }
          ],
          "parcoords": [
           {
            "line": {
             "colorbar": {
              "outlinewidth": 0,
              "ticks": ""
             }
            },
            "type": "parcoords"
           }
          ],
          "pie": [
           {
            "automargin": true,
            "type": "pie"
           }
          ],
          "scatter": [
           {
            "fillpattern": {
             "fillmode": "overlay",
             "size": 10,
             "solidity": 0.2
            },
            "type": "scatter"
           }
          ],
          "scatter3d": [
           {
            "line": {
             "colorbar": {
              "outlinewidth": 0,
              "ticks": ""
             }
            },
            "marker": {
             "colorbar": {
              "outlinewidth": 0,
              "ticks": ""
             }
            },
            "type": "scatter3d"
           }
          ],
          "scattercarpet": [
           {
            "marker": {
             "colorbar": {
              "outlinewidth": 0,
              "ticks": ""
             }
            },
            "type": "scattercarpet"
           }
          ],
          "scattergeo": [
           {
            "marker": {
             "colorbar": {
              "outlinewidth": 0,
              "ticks": ""
             }
            },
            "type": "scattergeo"
           }
          ],
          "scattergl": [
           {
            "marker": {
             "colorbar": {
              "outlinewidth": 0,
              "ticks": ""
             }
            },
            "type": "scattergl"
           }
          ],
          "scattermapbox": [
           {
            "marker": {
             "colorbar": {
              "outlinewidth": 0,
              "ticks": ""
             }
            },
            "type": "scattermapbox"
           }
          ],
          "scatterpolar": [
           {
            "marker": {
             "colorbar": {
              "outlinewidth": 0,
              "ticks": ""
             }
            },
            "type": "scatterpolar"
           }
          ],
          "scatterpolargl": [
           {
            "marker": {
             "colorbar": {
              "outlinewidth": 0,
              "ticks": ""
             }
            },
            "type": "scatterpolargl"
           }
          ],
          "scatterternary": [
           {
            "marker": {
             "colorbar": {
              "outlinewidth": 0,
              "ticks": ""
             }
            },
            "type": "scatterternary"
           }
          ],
          "surface": [
           {
            "colorbar": {
             "outlinewidth": 0,
             "ticks": ""
            },
            "colorscale": [
             [
              0,
              "#0d0887"
             ],
             [
              0.1111111111111111,
              "#46039f"
             ],
             [
              0.2222222222222222,
              "#7201a8"
             ],
             [
              0.3333333333333333,
              "#9c179e"
             ],
             [
              0.4444444444444444,
              "#bd3786"
             ],
             [
              0.5555555555555556,
              "#d8576b"
             ],
             [
              0.6666666666666666,
              "#ed7953"
             ],
             [
              0.7777777777777778,
              "#fb9f3a"
             ],
             [
              0.8888888888888888,
              "#fdca26"
             ],
             [
              1,
              "#f0f921"
             ]
            ],
            "type": "surface"
           }
          ],
          "table": [
           {
            "cells": {
             "fill": {
              "color": "#EBF0F8"
             },
             "line": {
              "color": "white"
             }
            },
            "header": {
             "fill": {
              "color": "#C8D4E3"
             },
             "line": {
              "color": "white"
             }
            },
            "type": "table"
           }
          ]
         },
         "layout": {
          "annotationdefaults": {
           "arrowcolor": "#2a3f5f",
           "arrowhead": 0,
           "arrowwidth": 1
          },
          "autotypenumbers": "strict",
          "coloraxis": {
           "colorbar": {
            "outlinewidth": 0,
            "ticks": ""
           }
          },
          "colorscale": {
           "diverging": [
            [
             0,
             "#8e0152"
            ],
            [
             0.1,
             "#c51b7d"
            ],
            [
             0.2,
             "#de77ae"
            ],
            [
             0.3,
             "#f1b6da"
            ],
            [
             0.4,
             "#fde0ef"
            ],
            [
             0.5,
             "#f7f7f7"
            ],
            [
             0.6,
             "#e6f5d0"
            ],
            [
             0.7,
             "#b8e186"
            ],
            [
             0.8,
             "#7fbc41"
            ],
            [
             0.9,
             "#4d9221"
            ],
            [
             1,
             "#276419"
            ]
           ],
           "sequential": [
            [
             0,
             "#0d0887"
            ],
            [
             0.1111111111111111,
             "#46039f"
            ],
            [
             0.2222222222222222,
             "#7201a8"
            ],
            [
             0.3333333333333333,
             "#9c179e"
            ],
            [
             0.4444444444444444,
             "#bd3786"
            ],
            [
             0.5555555555555556,
             "#d8576b"
            ],
            [
             0.6666666666666666,
             "#ed7953"
            ],
            [
             0.7777777777777778,
             "#fb9f3a"
            ],
            [
             0.8888888888888888,
             "#fdca26"
            ],
            [
             1,
             "#f0f921"
            ]
           ],
           "sequentialminus": [
            [
             0,
             "#0d0887"
            ],
            [
             0.1111111111111111,
             "#46039f"
            ],
            [
             0.2222222222222222,
             "#7201a8"
            ],
            [
             0.3333333333333333,
             "#9c179e"
            ],
            [
             0.4444444444444444,
             "#bd3786"
            ],
            [
             0.5555555555555556,
             "#d8576b"
            ],
            [
             0.6666666666666666,
             "#ed7953"
            ],
            [
             0.7777777777777778,
             "#fb9f3a"
            ],
            [
             0.8888888888888888,
             "#fdca26"
            ],
            [
             1,
             "#f0f921"
            ]
           ]
          },
          "colorway": [
           "#636efa",
           "#EF553B",
           "#00cc96",
           "#ab63fa",
           "#FFA15A",
           "#19d3f3",
           "#FF6692",
           "#B6E880",
           "#FF97FF",
           "#FECB52"
          ],
          "font": {
           "color": "#2a3f5f"
          },
          "geo": {
           "bgcolor": "white",
           "lakecolor": "white",
           "landcolor": "#E5ECF6",
           "showlakes": true,
           "showland": true,
           "subunitcolor": "white"
          },
          "hoverlabel": {
           "align": "left"
          },
          "hovermode": "closest",
          "mapbox": {
           "style": "light"
          },
          "paper_bgcolor": "white",
          "plot_bgcolor": "#E5ECF6",
          "polar": {
           "angularaxis": {
            "gridcolor": "white",
            "linecolor": "white",
            "ticks": ""
           },
           "bgcolor": "#E5ECF6",
           "radialaxis": {
            "gridcolor": "white",
            "linecolor": "white",
            "ticks": ""
           }
          },
          "scene": {
           "xaxis": {
            "backgroundcolor": "#E5ECF6",
            "gridcolor": "white",
            "gridwidth": 2,
            "linecolor": "white",
            "showbackground": true,
            "ticks": "",
            "zerolinecolor": "white"
           },
           "yaxis": {
            "backgroundcolor": "#E5ECF6",
            "gridcolor": "white",
            "gridwidth": 2,
            "linecolor": "white",
            "showbackground": true,
            "ticks": "",
            "zerolinecolor": "white"
           },
           "zaxis": {
            "backgroundcolor": "#E5ECF6",
            "gridcolor": "white",
            "gridwidth": 2,
            "linecolor": "white",
            "showbackground": true,
            "ticks": "",
            "zerolinecolor": "white"
           }
          },
          "shapedefaults": {
           "line": {
            "color": "#2a3f5f"
           }
          },
          "ternary": {
           "aaxis": {
            "gridcolor": "white",
            "linecolor": "white",
            "ticks": ""
           },
           "baxis": {
            "gridcolor": "white",
            "linecolor": "white",
            "ticks": ""
           },
           "bgcolor": "#E5ECF6",
           "caxis": {
            "gridcolor": "white",
            "linecolor": "white",
            "ticks": ""
           }
          },
          "title": {
           "x": 0.05
          },
          "xaxis": {
           "automargin": true,
           "gridcolor": "white",
           "linecolor": "white",
           "ticks": "",
           "title": {
            "standoff": 15
           },
           "zerolinecolor": "white",
           "zerolinewidth": 2
          },
          "yaxis": {
           "automargin": true,
           "gridcolor": "white",
           "linecolor": "white",
           "ticks": "",
           "title": {
            "standoff": 15
           },
           "zerolinecolor": "white",
           "zerolinewidth": 2
          }
         }
        },
        "xaxis": {
         "anchor": "y",
         "domain": [
          0,
          1
         ],
         "title": {
          "text": "f"
         },
         "type": "log"
        },
        "yaxis": {
         "anchor": "x",
         "domain": [
          0,
          1
         ],
         "title": {
          "text": "idznorm"
         }
        }
       }
      },
      "text/html": [
       "<div>                            <div id=\"d23e684f-fd58-45a4-8b3e-859769a234e4\" class=\"plotly-graph-div\" style=\"height:525px; width:100%;\"></div>            <script type=\"text/javascript\">                require([\"plotly\"], function(Plotly) {                    window.PLOTLYENV=window.PLOTLYENV || {};                                    if (document.getElementById(\"d23e684f-fd58-45a4-8b3e-859769a234e4\")) {                    Plotly.newPlot(                        \"d23e684f-fd58-45a4-8b3e-859769a234e4\",                        [{\"hovertemplate\":\"repeticion=1<br>f=%{x}<br>idznorm=%{y}<extra></extra>\",\"legendgroup\":\"1\",\"marker\":{\"color\":\"#636efa\",\"symbol\":\"circle\"},\"mode\":\"markers\",\"name\":\"1\",\"orientation\":\"v\",\"showlegend\":true,\"x\":[100.0,125.8925,158.4893,199.5262,251.1886,316.2278,398.1072,501.1872,630.9573,794.3282,1000.0,1258.925,1584.893,1995.262,2511.886,3162.278,3981.072,5011.873,6309.573,7943.282,10000.0,12589.25,15848.93,19952.62,25118.87,31622.78,39810.72,50118.72,63095.73,79432.83,100000.0,125892.5,158489.3,199526.2,251188.6,316227.8,398107.2,501187.3,630957.3,794328.3,1000000.0],\"xaxis\":\"x\",\"y\":[0.42825021850383216,0.42859253678852666,0.43726409971953173,0.4357913712639559,0.4312606242472659,0.4292664407126147,0.4289583061768596,0.428276511873874,0.42968627567004974,0.43044489384761003,0.42926851562129276,0.4302864397337582,0.42941632884805075,0.42906133029883003,0.4295506080549791,0.42900377129498823,0.42998465827742316,0.4307449787333682,0.42936332217087486,0.42940921045868896,0.43007337898826603,0.42863420811691605,0.4296370002207873,0.42968474704758725,0.4293872032980268,0.4298283058768561,0.42934970478171464,0.4301325403800519,0.4317702301262205,0.43220875128575137,0.4329961512596542,0.4373234111620386,0.4405044846139275,0.4473793578373215,0.45864378369068876,0.4755698929657344,0.5087999225846147,0.5704501649169026,0.7139612067143161,1.2181922348392047,-3.269048053326172],\"yaxis\":\"y\",\"type\":\"scatter\"},{\"hovertemplate\":\"repeticion=2<br>f=%{x}<br>idznorm=%{y}<extra></extra>\",\"legendgroup\":\"2\",\"marker\":{\"color\":\"#EF553B\",\"symbol\":\"circle\"},\"mode\":\"markers\",\"name\":\"2\",\"orientation\":\"v\",\"showlegend\":true,\"x\":[100.0,125.8925,158.4893,199.5262,251.1886,316.2278,398.1072,501.1872,630.9573,794.3282,1000.0,1258.925,1584.893,1995.262,2511.886,3162.278,3981.072,5011.873,6309.573,7943.282,10000.0,12589.25,15848.93,19952.62,25118.87,31622.78,39810.72,50118.72,63095.73,79432.83,100000.0,125892.5,158489.3,199526.2,251188.6,316227.8,398107.2,501187.3,630957.3,794328.3,1000000.0],\"xaxis\":\"x\",\"y\":[0.42843935449229753,0.4305631519757824,0.4344357315066009,0.4272630393665105,0.43086582192303424,0.430014430079152,0.43236530041179716,0.43008360087308667,0.42847315788509577,0.4302505837236272,0.42923331147745436,0.42955792256288067,0.42907341714910074,0.4290285795854288,0.42953283737031533,0.4287045755483733,0.42953372917005767,0.430669962656046,0.4288737865144923,0.42935075520672156,0.4288455596918558,0.4302400164117805,0.429395713496124,0.4299066215989393,0.430099496024487,0.42984285819916224,0.42932901359734693,0.43001216572033096,0.4316835840654663,0.4316114533948575,0.4332890129215992,0.43582689871970415,0.439435099527363,0.4481319323290695,0.458025290583215,0.47614107161625163,0.5086143954845579,0.5703253829718833,0.7140201377051321,1.217238643832016,-3.3092539466990094],\"yaxis\":\"y\",\"type\":\"scatter\"},{\"hovertemplate\":\"repeticion=3<br>f=%{x}<br>idznorm=%{y}<extra></extra>\",\"legendgroup\":\"3\",\"marker\":{\"color\":\"#00cc96\",\"symbol\":\"circle\"},\"mode\":\"markers\",\"name\":\"3\",\"orientation\":\"v\",\"showlegend\":true,\"x\":[100.0,125.8925,158.4893,199.5262,251.1886,316.2278,398.1072,501.1872,630.9573,794.3282,1000.0,1258.925,1584.893,1995.262,2511.886,3162.278,3981.072,5011.873,6309.573,7943.282,10000.0,12589.25,15848.93,19952.62,25118.87,31622.78,39810.72,50118.72,63095.73,79432.83,100000.0,125892.5,158489.3,199526.2,251188.6,316227.8,398107.2,501187.3,630957.3,794328.3,1000000.0],\"xaxis\":\"x\",\"y\":[0.43168200127848444,0.42825404862985506,0.4282935180607184,0.43864183652399663,0.4297928023346238,0.42951761379561926,0.4328855854444176,0.43020572009309344,0.43044778368379977,0.42962808453394447,0.4299597133212321,0.42989970056326726,0.4290818375041131,0.4294347345593694,0.42959897362973415,0.429493456940591,0.4292064847960633,0.43065068067778695,0.4294612730627881,0.4292458949430337,0.42864312436016244,0.4291554652597516,0.42944797776861426,0.4292336175024267,0.43008520620127094,0.42981811925124175,0.4310833717266693,0.43073955554055166,0.4316221733052347,0.4315703203684235,0.43438181397222897,0.4357026158104727,0.43925623957261856,0.44745662184428925,0.45700246859890636,0.47643575614295164,0.5077858233641795,0.5705651222349043,0.7141335506886951,1.2165220022306238,-3.274523793293934],\"yaxis\":\"y\",\"type\":\"scatter\"},{\"hovertemplate\":\"repeticion=4<br>f=%{x}<br>idznorm=%{y}<extra></extra>\",\"legendgroup\":\"4\",\"marker\":{\"color\":\"#ab63fa\",\"symbol\":\"circle\"},\"mode\":\"markers\",\"name\":\"4\",\"orientation\":\"v\",\"showlegend\":true,\"x\":[100.0,125.8925,158.4893,199.5262,251.1886,316.2278,398.1072,501.1872,630.9573,794.3282,1000.0,1258.925,1584.893,1995.262,2511.886,3162.278,3981.072,5011.873,6309.573,7943.282,10000.0,12589.25,15848.93,19952.62,25118.87,31622.78,39810.72,50118.72,63095.73,79432.83,100000.0,125892.5,158489.3,199526.2,251188.6,316227.8,398107.2,501187.3,630957.3,794328.3,1000000.0],\"xaxis\":\"x\",\"y\":[0.42801925170915867,0.43343554933090306,0.43295229723908585,0.43151994019219,0.4310034073269776,0.43052652630110616,0.430375710102652,0.4292580565820486,0.4300353396824822,0.4290653151408707,0.42941733941367655,0.4300634615730782,0.42923804960744505,0.428754580659227,0.4298021456842923,0.43017217725295087,0.42924752038517244,0.42783027817214975,0.4299912143737648,0.4295678333327096,0.4288174884137624,0.42949505003232824,0.4292696985280086,0.429216319590419,0.43002584847406594,0.43003553094649594,0.4288503421198795,0.4300375077539564,0.4308000568095935,0.43225874818971277,0.43356783894449746,0.4356766626147214,0.44036569393475894,0.44775552976378213,0.45848201549936785,0.4753644141747712,0.5090389693403266,0.5715323429919568,0.7136892343569485,1.2156304004322864,-3.251395361069399],\"yaxis\":\"y\",\"type\":\"scatter\"},{\"hovertemplate\":\"repeticion=5<br>f=%{x}<br>idznorm=%{y}<extra></extra>\",\"legendgroup\":\"5\",\"marker\":{\"color\":\"#FFA15A\",\"symbol\":\"circle\"},\"mode\":\"markers\",\"name\":\"5\",\"orientation\":\"v\",\"showlegend\":true,\"x\":[100.0,125.8925,158.4893,199.5262,251.1886,316.2278,398.1072,501.1872,630.9573,794.3282,1000.0,1258.925,1584.893,1995.262,2511.886,3162.278,3981.072,5011.873,6309.573,7943.282,10000.0,12589.25,15848.93,19952.62,25118.87,31622.78,39810.72,50118.72,63095.73,79432.83,100000.0,125892.5,158489.3,199526.2,251188.6,316227.8,398107.2,501187.3,630957.3,794328.3,1000000.0],\"xaxis\":\"x\",\"y\":[0.4305169512006306,0.43009453230038597,0.43264016338949124,0.43494354293675225,0.430688298279331,0.4279145299703712,0.42968619661240964,0.42944316361026935,0.4300451128913551,0.42972906322986043,0.42933275743148686,0.42994831711305487,0.42963816164906493,0.42968566960289434,0.4292776356823085,0.4299592767776116,0.4291689170032169,0.43040359589923854,0.42980136614468795,0.4294363234992447,0.428917210478727,0.429828055121475,0.429670971997906,0.42904357110916885,0.4290665982899751,0.4298875338286422,0.43114556087298117,0.4305422365903302,0.4318729217537811,0.43157698276002904,0.43322026129951463,0.43677912512719835,0.4411932115825213,0.446562435112905,0.45751946728056836,0.4754969858309805,0.5086185568400732,0.5698433335154066,0.7142590707817574,1.2163939684441178,-3.2940011186267792],\"yaxis\":\"y\",\"type\":\"scatter\"},{\"hovertemplate\":\"repeticion=6<br>f=%{x}<br>idznorm=%{y}<extra></extra>\",\"legendgroup\":\"6\",\"marker\":{\"color\":\"#19d3f3\",\"symbol\":\"circle\"},\"mode\":\"markers\",\"name\":\"6\",\"orientation\":\"v\",\"showlegend\":true,\"x\":[100.0,125.8925,158.4893,199.5262,251.1886,316.2278,398.1072,501.1872,630.9573,794.3282,1000.0,1258.925,1584.893,1995.262,2511.886,3162.278,3981.072,5011.873,6309.573,7943.282,10000.0,12589.25,15848.93,19952.62,25118.87,31622.78,39810.72,50118.72,63095.73,79432.83,100000.0,125892.5,158489.3,199526.2,251188.6,316227.8,398107.2,501187.3,630957.3,794328.3,1000000.0],\"xaxis\":\"x\",\"y\":[0.42781916332038794,0.42805409936117966,0.4325594441242007,0.4354382632201722,0.430413310674379,0.429059797735867,0.4307189063394549,0.4306266182167859,0.42844704737183814,0.42991532054906284,0.42978106954818523,0.42888679485303066,0.4290940325010275,0.4297142688174137,0.43006266025740475,0.4289272260796578,0.4292457864870411,0.4298524067778615,0.42993097056384644,0.4294106588048725,0.42924035230622193,0.4284477837530688,0.42958212273467256,0.42972187989869715,0.42965651150479034,0.42952678175867215,0.43137327949423465,0.4306232209151768,0.43199216948891006,0.43175286989841444,0.4327617330783299,0.4350303914867176,0.44149634436296475,0.4466867494405336,0.45709168842809467,0.47744801568256906,0.5092579028777146,0.570574946861922,0.7137898108870665,1.216044627388629,-3.296229794033441],\"yaxis\":\"y\",\"type\":\"scatter\"},{\"hovertemplate\":\"repeticion=7<br>f=%{x}<br>idznorm=%{y}<extra></extra>\",\"legendgroup\":\"7\",\"marker\":{\"color\":\"#FF6692\",\"symbol\":\"circle\"},\"mode\":\"markers\",\"name\":\"7\",\"orientation\":\"v\",\"showlegend\":true,\"x\":[100.0,125.8925,158.4893,199.5262,251.1886,316.2278,398.1072,501.1872,630.9573,794.3282,1000.0,1258.925,1584.893,1995.262,2511.886,3162.278,3981.072,5011.873,6309.573,7943.282,10000.0,12589.25,15848.93,19952.62,25118.87,31622.78,39810.72,50118.72,63095.73,79432.83,100000.0,125892.5,158489.3,199526.2,251188.6,316227.8,398107.2,501187.3,630957.3,794328.3,1000000.0],\"xaxis\":\"x\",\"y\":[0.4272454968405315,0.43642857421557185,0.42813498310083137,0.43809522250455357,0.43219495921412493,0.4293965384740319,0.4292880936014466,0.4285647315968824,0.42842618813498995,0.4297046730801297,0.4309052552080933,0.42982951727334834,0.4293030895909885,0.4297650093593029,0.42932252040130464,0.4286933702601976,0.4289444349918086,0.43052947967158706,0.42890507536976463,0.429399535506183,0.42894104805586203,0.42925635373901017,0.4294055856364833,0.42970481262551624,0.4300051465506889,0.4298393656418088,0.42921180208366616,0.430187723576461,0.4318941456626022,0.43168943234356205,0.4349186196426546,0.43623922554797806,0.4409763148516867,0.44725435159321264,0.4582788434448097,0.47524988739822166,0.5081439311249123,0.5699321224343423,0.7142629363046699,1.2175752394426944,-3.3018537135347454],\"yaxis\":\"y\",\"type\":\"scatter\"},{\"hovertemplate\":\"repeticion=8<br>f=%{x}<br>idznorm=%{y}<extra></extra>\",\"legendgroup\":\"8\",\"marker\":{\"color\":\"#B6E880\",\"symbol\":\"circle\"},\"mode\":\"markers\",\"name\":\"8\",\"orientation\":\"v\",\"showlegend\":true,\"x\":[100.0,125.8925,158.4893,199.5262,251.1886,316.2278,398.1072,501.1872,630.9573,794.3282,1000.0,1258.925,1584.893,1995.262,2511.886,3162.278,3981.072,5011.873,6309.573,7943.282,10000.0,12589.25,15848.93,19952.62,25118.87,31622.78,39810.72,50118.72,63095.73,79432.83,100000.0,125892.5,158489.3,199526.2,251188.6,316227.8,398107.2,501187.3,630957.3,794328.3,1000000.0],\"xaxis\":\"x\",\"y\":[0.434233450364732,0.42723237000837855,0.4273687307947103,0.43503602910628664,0.4306311389637114,0.42866179172079316,0.43009851758804996,0.43001446119439113,0.4300257123423984,0.4307864138776871,0.4290623067735279,0.4302407474877172,0.4299099358660143,0.42957680807665927,0.42924887282156404,0.42992376911118446,0.43006730742168525,0.42949210924124914,0.4289884393827631,0.4293884701413408,0.42906644843750885,0.4298375591086515,0.4294622052650144,0.4294206655909365,0.43004838242606047,0.42979148850142146,0.42984340337632065,0.43038320614743414,0.4303685039968975,0.4318213476973511,0.43257517412523033,0.43627614488277916,0.4390564739088781,0.4472257523786932,0.4589057638872786,0.4769199119060781,0.509054574423509,0.5721459689953157,0.7135468664187395,1.2150307851877908,-3.2704861310973508],\"yaxis\":\"y\",\"type\":\"scatter\"},{\"hovertemplate\":\"repeticion=9<br>f=%{x}<br>idznorm=%{y}<extra></extra>\",\"legendgroup\":\"9\",\"marker\":{\"color\":\"#FF97FF\",\"symbol\":\"circle\"},\"mode\":\"markers\",\"name\":\"9\",\"orientation\":\"v\",\"showlegend\":true,\"x\":[100.0,125.8925,158.4893,199.5262,251.1886,316.2278,398.1072,501.1872,630.9573,794.3282,1000.0,1258.925,1584.893,1995.262,2511.886,3162.278,3981.072,5011.873,6309.573,7943.282,10000.0,12589.25,15848.93,19952.62,25118.87,31622.78,39810.72,50118.72,63095.73,79432.83,100000.0,125892.5,158489.3,199526.2,251188.6,316227.8,398107.2,501187.3,630957.3,794328.3,1000000.0],\"xaxis\":\"x\",\"y\":[0.4273391904834793,0.43141924189760633,0.435148558111954,0.4362858609085491,0.43145115529933126,0.42893726718204905,0.43005378301626057,0.4296290051901894,0.4302403582656305,0.4303309379698896,0.430082536667513,0.4298031985396287,0.4295426341732355,0.4300556142810321,0.4299875470541867,0.4285568694769657,0.4306392626186205,0.4308097110889522,0.42903978519654334,0.42916797391835965,0.4297653772435461,0.4283940496717246,0.42955395809894176,0.4293946034035116,0.4291250400028714,0.42963708836175296,0.43023249011700054,0.4300197866942111,0.43189429153139136,0.43144576261232054,0.43387450615304585,0.4364757286134862,0.43928672706490457,0.44618118913225546,0.4584032382374562,0.4750582333134493,0.5081329497700803,0.5708121151945086,0.713564443607832,1.213799691086773,-3.324500792367712],\"yaxis\":\"y\",\"type\":\"scatter\"},{\"hovertemplate\":\"repeticion=10<br>f=%{x}<br>idznorm=%{y}<extra></extra>\",\"legendgroup\":\"10\",\"marker\":{\"color\":\"#FECB52\",\"symbol\":\"circle\"},\"mode\":\"markers\",\"name\":\"10\",\"orientation\":\"v\",\"showlegend\":true,\"x\":[100.0,125.8925,158.4893,199.5262,251.1886,316.2278,398.1072,501.1872,630.9573,794.3282,1000.0,1258.925,1584.893,1995.262,2511.886,3162.278,3981.072,5011.873,6309.573,7943.282,10000.0,12589.25,15848.93,19952.62,25118.87,31622.78,39810.72,50118.72,63095.73,79432.83,100000.0,125892.5,158489.3,199526.2,251188.6,316227.8,398107.2,501187.3,630957.3,794328.3,1000000.0],\"xaxis\":\"x\",\"y\":[0.42802399161349247,0.42667382799277354,0.4332432350226149,0.43394856703806983,0.4280589697608288,0.43162522663522224,0.43034334400419966,0.4300364977453698,0.4285394552497638,0.42945318224882095,0.42947131910089553,0.4292943696877162,0.42963380629302406,0.42938975998814943,0.42910194406795205,0.4302567262455497,0.42881115602211045,0.43040322862346225,0.4298086595841454,0.4294723004184437,0.42889723845464084,0.4302703560631517,0.4293739367159197,0.4291528939130575,0.4289607070358871,0.4299045600457404,0.42987149252604884,0.43041203730163125,0.4313675593337759,0.43216645958251637,0.4336203460400787,0.4365948939911611,0.441196695867354,0.4476960249464757,0.4576390987969133,0.47701130049016083,0.5077303386239757,0.5714047146596706,0.713222673034857,1.2147967324739972,-3.309207928210332],\"yaxis\":\"y\",\"type\":\"scatter\"},{\"hovertemplate\":\"repeticion=11<br>f=%{x}<br>idznorm=%{y}<extra></extra>\",\"legendgroup\":\"11\",\"marker\":{\"color\":\"#636efa\",\"symbol\":\"circle\"},\"mode\":\"markers\",\"name\":\"11\",\"orientation\":\"v\",\"showlegend\":true,\"x\":[100.0,125.8925,158.4893,199.5262,251.1886,316.2278,398.1072,501.1872,630.9573,794.3282,1000.0,1258.925,1584.893,1995.262,2511.886,3162.278,3981.072,5011.873,6309.573,7943.282,10000.0,12589.25,15848.93,19952.62,25118.87,31622.78,39810.72,50118.72,63095.73,79432.83,100000.0,125892.5,158489.3,199526.2,251188.6,316227.8,398107.2,501187.3,630957.3,794328.3,1000000.0],\"xaxis\":\"x\",\"y\":[0.42799748496401413,0.42897233073761937,0.42954031131668036,0.43574870308100355,0.4318355150562862,0.4285439179101132,0.4301713413095676,0.42823657062522513,0.430916460103334,0.42958040497758254,0.4284493405043407,0.4291075797859007,0.4295748638079378,0.42926336991107994,0.4295918287152817,0.43068893021804305,0.4303973260326897,0.42955206701174053,0.4297430915634231,0.4292632750972361,0.42903543197614,0.4288195358668583,0.42928392602440874,0.42979360857382237,0.4291966723218132,0.4297168350879908,0.4285515336752396,0.43063460646651575,0.431961172371216,0.4316653897999421,0.43267089258168007,0.43539263961333063,0.43919148994614454,0.4480156903603778,0.45776862327173073,0.47502927419206004,0.5080885619779172,0.5710348679528728,0.7141316543944362,1.216815147461266,-3.280961779859947],\"yaxis\":\"y\",\"type\":\"scatter\"},{\"hovertemplate\":\"repeticion=12<br>f=%{x}<br>idznorm=%{y}<extra></extra>\",\"legendgroup\":\"12\",\"marker\":{\"color\":\"#EF553B\",\"symbol\":\"circle\"},\"mode\":\"markers\",\"name\":\"12\",\"orientation\":\"v\",\"showlegend\":true,\"x\":[100.0,125.8925,158.4893,199.5262,251.1886,316.2278,398.1072,501.1872,630.9573,794.3282,1000.0,1258.925,1584.893,1995.262,2511.886,3162.278,3981.072,5011.873,6309.573,7943.282,10000.0,12589.25,15848.93,19952.62,25118.87,31622.78,39810.72,50118.72,63095.73,79432.83,100000.0,125892.5,158489.3,199526.2,251188.6,316227.8,398107.2,501187.3,630957.3,794328.3,1000000.0],\"xaxis\":\"x\",\"y\":[0.4312317563852616,0.4259051016453799,0.43362824849662646,0.43107872811658043,0.43340006811843845,0.4312976538601103,0.43089980971116143,0.42877003879683356,0.42806895547036516,0.42966058542230295,0.4291102580387301,0.42955719148694405,0.42907951464755795,0.42926775204878853,0.4296830637767515,0.4298245222730564,0.43053476635790316,0.42918295485649544,0.42906633331616834,0.42931587903062207,0.42974324235049205,0.4284419351455756,0.4292014646167019,0.42985103764168786,0.4301843189494744,0.42992013103060805,0.42886664076231434,0.4305127627033962,0.4301481691908886,0.4317224546323893,0.43370607848448534,0.43643588497493846,0.4399650011790003,0.4463592423065213,0.45820537906800374,0.47676885880053993,0.50844944397566,0.5698825402045333,0.713532935949376,1.2165781980554702,-3.298937982092125],\"yaxis\":\"y\",\"type\":\"scatter\"}],                        {\"template\":{\"data\":{\"histogram2dcontour\":[{\"type\":\"histogram2dcontour\",\"colorbar\":{\"outlinewidth\":0,\"ticks\":\"\"},\"colorscale\":[[0.0,\"#0d0887\"],[0.1111111111111111,\"#46039f\"],[0.2222222222222222,\"#7201a8\"],[0.3333333333333333,\"#9c179e\"],[0.4444444444444444,\"#bd3786\"],[0.5555555555555556,\"#d8576b\"],[0.6666666666666666,\"#ed7953\"],[0.7777777777777778,\"#fb9f3a\"],[0.8888888888888888,\"#fdca26\"],[1.0,\"#f0f921\"]]}],\"choropleth\":[{\"type\":\"choropleth\",\"colorbar\":{\"outlinewidth\":0,\"ticks\":\"\"}}],\"histogram2d\":[{\"type\":\"histogram2d\",\"colorbar\":{\"outlinewidth\":0,\"ticks\":\"\"},\"colorscale\":[[0.0,\"#0d0887\"],[0.1111111111111111,\"#46039f\"],[0.2222222222222222,\"#7201a8\"],[0.3333333333333333,\"#9c179e\"],[0.4444444444444444,\"#bd3786\"],[0.5555555555555556,\"#d8576b\"],[0.6666666666666666,\"#ed7953\"],[0.7777777777777778,\"#fb9f3a\"],[0.8888888888888888,\"#fdca26\"],[1.0,\"#f0f921\"]]}],\"heatmap\":[{\"type\":\"heatmap\",\"colorbar\":{\"outlinewidth\":0,\"ticks\":\"\"},\"colorscale\":[[0.0,\"#0d0887\"],[0.1111111111111111,\"#46039f\"],[0.2222222222222222,\"#7201a8\"],[0.3333333333333333,\"#9c179e\"],[0.4444444444444444,\"#bd3786\"],[0.5555555555555556,\"#d8576b\"],[0.6666666666666666,\"#ed7953\"],[0.7777777777777778,\"#fb9f3a\"],[0.8888888888888888,\"#fdca26\"],[1.0,\"#f0f921\"]]}],\"heatmapgl\":[{\"type\":\"heatmapgl\",\"colorbar\":{\"outlinewidth\":0,\"ticks\":\"\"},\"colorscale\":[[0.0,\"#0d0887\"],[0.1111111111111111,\"#46039f\"],[0.2222222222222222,\"#7201a8\"],[0.3333333333333333,\"#9c179e\"],[0.4444444444444444,\"#bd3786\"],[0.5555555555555556,\"#d8576b\"],[0.6666666666666666,\"#ed7953\"],[0.7777777777777778,\"#fb9f3a\"],[0.8888888888888888,\"#fdca26\"],[1.0,\"#f0f921\"]]}],\"contourcarpet\":[{\"type\":\"contourcarpet\",\"colorbar\":{\"outlinewidth\":0,\"ticks\":\"\"}}],\"contour\":[{\"type\":\"contour\",\"colorbar\":{\"outlinewidth\":0,\"ticks\":\"\"},\"colorscale\":[[0.0,\"#0d0887\"],[0.1111111111111111,\"#46039f\"],[0.2222222222222222,\"#7201a8\"],[0.3333333333333333,\"#9c179e\"],[0.4444444444444444,\"#bd3786\"],[0.5555555555555556,\"#d8576b\"],[0.6666666666666666,\"#ed7953\"],[0.7777777777777778,\"#fb9f3a\"],[0.8888888888888888,\"#fdca26\"],[1.0,\"#f0f921\"]]}],\"surface\":[{\"type\":\"surface\",\"colorbar\":{\"outlinewidth\":0,\"ticks\":\"\"},\"colorscale\":[[0.0,\"#0d0887\"],[0.1111111111111111,\"#46039f\"],[0.2222222222222222,\"#7201a8\"],[0.3333333333333333,\"#9c179e\"],[0.4444444444444444,\"#bd3786\"],[0.5555555555555556,\"#d8576b\"],[0.6666666666666666,\"#ed7953\"],[0.7777777777777778,\"#fb9f3a\"],[0.8888888888888888,\"#fdca26\"],[1.0,\"#f0f921\"]]}],\"mesh3d\":[{\"type\":\"mesh3d\",\"colorbar\":{\"outlinewidth\":0,\"ticks\":\"\"}}],\"scatter\":[{\"fillpattern\":{\"fillmode\":\"overlay\",\"size\":10,\"solidity\":0.2},\"type\":\"scatter\"}],\"parcoords\":[{\"type\":\"parcoords\",\"line\":{\"colorbar\":{\"outlinewidth\":0,\"ticks\":\"\"}}}],\"scatterpolargl\":[{\"type\":\"scatterpolargl\",\"marker\":{\"colorbar\":{\"outlinewidth\":0,\"ticks\":\"\"}}}],\"bar\":[{\"error_x\":{\"color\":\"#2a3f5f\"},\"error_y\":{\"color\":\"#2a3f5f\"},\"marker\":{\"line\":{\"color\":\"#E5ECF6\",\"width\":0.5},\"pattern\":{\"fillmode\":\"overlay\",\"size\":10,\"solidity\":0.2}},\"type\":\"bar\"}],\"scattergeo\":[{\"type\":\"scattergeo\",\"marker\":{\"colorbar\":{\"outlinewidth\":0,\"ticks\":\"\"}}}],\"scatterpolar\":[{\"type\":\"scatterpolar\",\"marker\":{\"colorbar\":{\"outlinewidth\":0,\"ticks\":\"\"}}}],\"histogram\":[{\"marker\":{\"pattern\":{\"fillmode\":\"overlay\",\"size\":10,\"solidity\":0.2}},\"type\":\"histogram\"}],\"scattergl\":[{\"type\":\"scattergl\",\"marker\":{\"colorbar\":{\"outlinewidth\":0,\"ticks\":\"\"}}}],\"scatter3d\":[{\"type\":\"scatter3d\",\"line\":{\"colorbar\":{\"outlinewidth\":0,\"ticks\":\"\"}},\"marker\":{\"colorbar\":{\"outlinewidth\":0,\"ticks\":\"\"}}}],\"scattermapbox\":[{\"type\":\"scattermapbox\",\"marker\":{\"colorbar\":{\"outlinewidth\":0,\"ticks\":\"\"}}}],\"scatterternary\":[{\"type\":\"scatterternary\",\"marker\":{\"colorbar\":{\"outlinewidth\":0,\"ticks\":\"\"}}}],\"scattercarpet\":[{\"type\":\"scattercarpet\",\"marker\":{\"colorbar\":{\"outlinewidth\":0,\"ticks\":\"\"}}}],\"carpet\":[{\"aaxis\":{\"endlinecolor\":\"#2a3f5f\",\"gridcolor\":\"white\",\"linecolor\":\"white\",\"minorgridcolor\":\"white\",\"startlinecolor\":\"#2a3f5f\"},\"baxis\":{\"endlinecolor\":\"#2a3f5f\",\"gridcolor\":\"white\",\"linecolor\":\"white\",\"minorgridcolor\":\"white\",\"startlinecolor\":\"#2a3f5f\"},\"type\":\"carpet\"}],\"table\":[{\"cells\":{\"fill\":{\"color\":\"#EBF0F8\"},\"line\":{\"color\":\"white\"}},\"header\":{\"fill\":{\"color\":\"#C8D4E3\"},\"line\":{\"color\":\"white\"}},\"type\":\"table\"}],\"barpolar\":[{\"marker\":{\"line\":{\"color\":\"#E5ECF6\",\"width\":0.5},\"pattern\":{\"fillmode\":\"overlay\",\"size\":10,\"solidity\":0.2}},\"type\":\"barpolar\"}],\"pie\":[{\"automargin\":true,\"type\":\"pie\"}]},\"layout\":{\"autotypenumbers\":\"strict\",\"colorway\":[\"#636efa\",\"#EF553B\",\"#00cc96\",\"#ab63fa\",\"#FFA15A\",\"#19d3f3\",\"#FF6692\",\"#B6E880\",\"#FF97FF\",\"#FECB52\"],\"font\":{\"color\":\"#2a3f5f\"},\"hovermode\":\"closest\",\"hoverlabel\":{\"align\":\"left\"},\"paper_bgcolor\":\"white\",\"plot_bgcolor\":\"#E5ECF6\",\"polar\":{\"bgcolor\":\"#E5ECF6\",\"angularaxis\":{\"gridcolor\":\"white\",\"linecolor\":\"white\",\"ticks\":\"\"},\"radialaxis\":{\"gridcolor\":\"white\",\"linecolor\":\"white\",\"ticks\":\"\"}},\"ternary\":{\"bgcolor\":\"#E5ECF6\",\"aaxis\":{\"gridcolor\":\"white\",\"linecolor\":\"white\",\"ticks\":\"\"},\"baxis\":{\"gridcolor\":\"white\",\"linecolor\":\"white\",\"ticks\":\"\"},\"caxis\":{\"gridcolor\":\"white\",\"linecolor\":\"white\",\"ticks\":\"\"}},\"coloraxis\":{\"colorbar\":{\"outlinewidth\":0,\"ticks\":\"\"}},\"colorscale\":{\"sequential\":[[0.0,\"#0d0887\"],[0.1111111111111111,\"#46039f\"],[0.2222222222222222,\"#7201a8\"],[0.3333333333333333,\"#9c179e\"],[0.4444444444444444,\"#bd3786\"],[0.5555555555555556,\"#d8576b\"],[0.6666666666666666,\"#ed7953\"],[0.7777777777777778,\"#fb9f3a\"],[0.8888888888888888,\"#fdca26\"],[1.0,\"#f0f921\"]],\"sequentialminus\":[[0.0,\"#0d0887\"],[0.1111111111111111,\"#46039f\"],[0.2222222222222222,\"#7201a8\"],[0.3333333333333333,\"#9c179e\"],[0.4444444444444444,\"#bd3786\"],[0.5555555555555556,\"#d8576b\"],[0.6666666666666666,\"#ed7953\"],[0.7777777777777778,\"#fb9f3a\"],[0.8888888888888888,\"#fdca26\"],[1.0,\"#f0f921\"]],\"diverging\":[[0,\"#8e0152\"],[0.1,\"#c51b7d\"],[0.2,\"#de77ae\"],[0.3,\"#f1b6da\"],[0.4,\"#fde0ef\"],[0.5,\"#f7f7f7\"],[0.6,\"#e6f5d0\"],[0.7,\"#b8e186\"],[0.8,\"#7fbc41\"],[0.9,\"#4d9221\"],[1,\"#276419\"]]},\"xaxis\":{\"gridcolor\":\"white\",\"linecolor\":\"white\",\"ticks\":\"\",\"title\":{\"standoff\":15},\"zerolinecolor\":\"white\",\"automargin\":true,\"zerolinewidth\":2},\"yaxis\":{\"gridcolor\":\"white\",\"linecolor\":\"white\",\"ticks\":\"\",\"title\":{\"standoff\":15},\"zerolinecolor\":\"white\",\"automargin\":true,\"zerolinewidth\":2},\"scene\":{\"xaxis\":{\"backgroundcolor\":\"#E5ECF6\",\"gridcolor\":\"white\",\"linecolor\":\"white\",\"showbackground\":true,\"ticks\":\"\",\"zerolinecolor\":\"white\",\"gridwidth\":2},\"yaxis\":{\"backgroundcolor\":\"#E5ECF6\",\"gridcolor\":\"white\",\"linecolor\":\"white\",\"showbackground\":true,\"ticks\":\"\",\"zerolinecolor\":\"white\",\"gridwidth\":2},\"zaxis\":{\"backgroundcolor\":\"#E5ECF6\",\"gridcolor\":\"white\",\"linecolor\":\"white\",\"showbackground\":true,\"ticks\":\"\",\"zerolinecolor\":\"white\",\"gridwidth\":2}},\"shapedefaults\":{\"line\":{\"color\":\"#2a3f5f\"}},\"annotationdefaults\":{\"arrowcolor\":\"#2a3f5f\",\"arrowhead\":0,\"arrowwidth\":1},\"geo\":{\"bgcolor\":\"white\",\"landcolor\":\"#E5ECF6\",\"subunitcolor\":\"white\",\"showland\":true,\"showlakes\":true,\"lakecolor\":\"white\"},\"title\":{\"x\":0.05},\"mapbox\":{\"style\":\"light\"}}},\"xaxis\":{\"anchor\":\"y\",\"domain\":[0.0,1.0],\"title\":{\"text\":\"f\"},\"type\":\"log\"},\"yaxis\":{\"anchor\":\"x\",\"domain\":[0.0,1.0],\"title\":{\"text\":\"idznorm\"}},\"legend\":{\"title\":{\"text\":\"repeticion\"},\"tracegroupgap\":0},\"margin\":{\"t\":60}},                        {\"responsive\": true}                    ).then(function(){\n",
       "                            \n",
       "var gd = document.getElementById('d23e684f-fd58-45a4-8b3e-859769a234e4');\n",
       "var x = new MutationObserver(function (mutations, observer) {{\n",
       "        var display = window.getComputedStyle(gd).display;\n",
       "        if (!display || display === 'none') {{\n",
       "            console.log([gd, 'removed!']);\n",
       "            Plotly.purge(gd);\n",
       "            observer.disconnect();\n",
       "        }}\n",
       "}});\n",
       "\n",
       "// Listen for the removal of the full notebook cells\n",
       "var notebookContainer = gd.closest('#notebook-container');\n",
       "if (notebookContainer) {{\n",
       "    x.observe(notebookContainer, {childList: true});\n",
       "}}\n",
       "\n",
       "// Listen for the clearing of the current output cell\n",
       "var outputEl = gd.closest('.output');\n",
       "if (outputEl) {{\n",
       "    x.observe(outputEl, {childList: true});\n",
       "}}\n",
       "\n",
       "                        })                };                });            </script>        </div>"
      ]
     },
     "metadata": {},
     "output_type": "display_data"
    }
   ],
   "source": [
    "exp2.df2.impx()"
   ]
  }
 ],
 "metadata": {
  "kernelspec": {
   "display_name": "Python 3 (ipykernel)",
   "language": "python",
   "name": "python3"
  },
  "language_info": {
   "codemirror_mode": {
    "name": "ipython",
    "version": 3
   },
   "file_extension": ".py",
   "mimetype": "text/x-python",
   "name": "python",
   "nbconvert_exporter": "python",
   "pygments_lexer": "ipython3",
   "version": "3.9.6"
  }
 },
 "nbformat": 4,
 "nbformat_minor": 5
}
