{
 "cells": [
  {
   "cell_type": "code",
   "execution_count": 8,
   "id": "8f808c22",
   "metadata": {},
   "outputs": [
    {
     "name": "stdout",
     "output_type": "stream",
     "text": [
      "folder: ./iamend_ci/datos/-f\n"
     ]
    },
    {
     "data": {
      "text/plain": [
       "0     m1_347-M02\n",
       "1    1010-M01_m1\n",
       "2           aire\n",
       "3        m1_P057\n",
       "Name: archivo, dtype: object"
      ]
     },
     "execution_count": 8,
     "metadata": {},
     "output_type": "execute_result"
    }
   ],
   "source": [
    "import glob\n",
    "import sys\n",
    "import pandas as pd\n",
    "\n",
    "path = './iamend_ci/datos/'+sys.argv[1] \n",
    "print('folder: '+path)\n",
    "files = glob.glob(path+ \"*.csv\")\n",
    "csv_files=[ x.split('/')[-1] for x in files]\n",
    "\n",
    "\n",
    "try:\n",
    "    bobina = sys.argv[2]\n",
    "    for x in csv_files:\n",
    "        lines.append([x, '0' , '0' ,bobina])\n",
    "except:\n",
    "    bobina=input('Bobina?')\n",
    "    for x in csv_files:\n",
    "        lines.append([x, '0' , '0' ,bobina])\n",
    "\n",
    "txt_file = path+'info.txt'\n",
    "\n",
    "# with open(txt_file, 'w') as f:\n",
    "#     # write csv file names to text file\n",
    "#     f.write('archivo,conductividad,espesor,bobina'+'\\n')\n",
    "#     for line in lines:\n",
    "#         f.write(','.join(line) + '\\n')\n",
    "\n",
    "\n",
    "\n",
    "def get_id(x):\n",
    "    if 'aire'in x.lower():\n",
    "        return 'aire'\n",
    "    elif 'm' in x.lower():\n",
    "        return '_'.join(x.split('.')[0].split('_')[-2:])\n",
    "    elif 'p' in x.lower():\n",
    "        return '_'.join(x.split('.')[0].split('_')[-1:])\n",
    "    else:\n",
    "        return 'No se reconoce el nombre del archivo.'\n",
    "\n",
    "def get_sigma(x,muestras):\n",
    "    try:\n",
    "        return muestras[muestras.nombre==x].conductividad.values[0]\n",
    "    except:   \n",
    "        return 0 \n",
    "def get_esp(x,muestras):\n",
    "    try:\n",
    "        return muestras[muestras.nombre==x].espesor.values[0]*10e-3\n",
    "    except:   \n",
    "        return 0       \n",
    "    \n",
    "\n",
    "data=pd.DataFrame(lines)\n",
    "data.columns=['archivo','conductividad','espesor','bobina']\n",
    "data.archivo.apply(lambda x: get_id(x))\n"
   ]
  },
  {
   "cell_type": "code",
   "execution_count": 9,
   "id": "6e25a348",
   "metadata": {},
   "outputs": [
    {
     "data": {
      "text/html": [
       "<div>\n",
       "<style scoped>\n",
       "    .dataframe tbody tr th:only-of-type {\n",
       "        vertical-align: middle;\n",
       "    }\n",
       "\n",
       "    .dataframe tbody tr th {\n",
       "        vertical-align: top;\n",
       "    }\n",
       "\n",
       "    .dataframe thead th {\n",
       "        text-align: right;\n",
       "    }\n",
       "</style>\n",
       "<table border=\"1\" class=\"dataframe\">\n",
       "  <thead>\n",
       "    <tr style=\"text-align: right;\">\n",
       "      <th></th>\n",
       "      <th>archivo</th>\n",
       "      <th>conductividad</th>\n",
       "      <th>espesor</th>\n",
       "      <th>bobina</th>\n",
       "    </tr>\n",
       "  </thead>\n",
       "  <tbody>\n",
       "    <tr>\n",
       "      <th>0</th>\n",
       "      <td>Exp_m1_347-M02.csv</td>\n",
       "      <td>0</td>\n",
       "      <td>0</td>\n",
       "      <td>m1</td>\n",
       "    </tr>\n",
       "    <tr>\n",
       "      <th>1</th>\n",
       "      <td>Exp_m1_1010-M01_m1.csv</td>\n",
       "      <td>0</td>\n",
       "      <td>0</td>\n",
       "      <td>m1</td>\n",
       "    </tr>\n",
       "    <tr>\n",
       "      <th>2</th>\n",
       "      <td>Exp_m1_aire.csv</td>\n",
       "      <td>0</td>\n",
       "      <td>0</td>\n",
       "      <td>m1</td>\n",
       "    </tr>\n",
       "    <tr>\n",
       "      <th>3</th>\n",
       "      <td>Exp_m1_P057.csv</td>\n",
       "      <td>0</td>\n",
       "      <td>0</td>\n",
       "      <td>m1</td>\n",
       "    </tr>\n",
       "  </tbody>\n",
       "</table>\n",
       "</div>"
      ],
      "text/plain": [
       "                  archivo conductividad espesor bobina\n",
       "0      Exp_m1_347-M02.csv             0       0     m1\n",
       "1  Exp_m1_1010-M01_m1.csv             0       0     m1\n",
       "2         Exp_m1_aire.csv             0       0     m1\n",
       "3         Exp_m1_P057.csv             0       0     m1"
      ]
     },
     "execution_count": 9,
     "metadata": {},
     "output_type": "execute_result"
    }
   ],
   "source": [
    "data"
   ]
  },
  {
   "cell_type": "code",
   "execution_count": 37,
   "id": "108b1b57",
   "metadata": {},
   "outputs": [],
   "source": [
    "def get_id(x):\n",
    "    if 'aire'in x.lower():\n",
    "        return 'aire'\n",
    "    \n",
    "    elif 'P' in x:\n",
    "        return [y for y in x.split('_') if 'P' in y][0].split('.')[0]\n",
    "    \n",
    "    elif '-' in x:\n",
    "        \n",
    "        return [y for y in x.split('_') if '-' in y][0].split('.')[0]\n",
    "\n",
    "    else:\n",
    "        print('No se reconoce el nombre del archivo.')"
   ]
  },
  {
   "cell_type": "code",
   "execution_count": 42,
   "id": "66b40164",
   "metadata": {},
   "outputs": [],
   "source": [
    "data['muestras']=data.archivo.apply(lambda x: get_id(x))\n",
    "muestras=pd.read_csv('./iamend_ci/muestras2.csv')\n",
    "data.conductividad=data.muestras.apply(lambda x: get_sigma(x,muestras))\n",
    "data.espesor=data.muestras.apply(lambda x: get_esp(x,muestras))"
   ]
  },
  {
   "cell_type": "code",
   "execution_count": 43,
   "id": "48b0751a",
   "metadata": {},
   "outputs": [
    {
     "data": {
      "text/html": [
       "<div>\n",
       "<style scoped>\n",
       "    .dataframe tbody tr th:only-of-type {\n",
       "        vertical-align: middle;\n",
       "    }\n",
       "\n",
       "    .dataframe tbody tr th {\n",
       "        vertical-align: top;\n",
       "    }\n",
       "\n",
       "    .dataframe thead th {\n",
       "        text-align: right;\n",
       "    }\n",
       "</style>\n",
       "<table border=\"1\" class=\"dataframe\">\n",
       "  <thead>\n",
       "    <tr style=\"text-align: right;\">\n",
       "      <th></th>\n",
       "      <th>archivo</th>\n",
       "      <th>conductividad</th>\n",
       "      <th>espesor</th>\n",
       "      <th>bobina</th>\n",
       "      <th>muestras</th>\n",
       "    </tr>\n",
       "  </thead>\n",
       "  <tbody>\n",
       "    <tr>\n",
       "      <th>0</th>\n",
       "      <td>Exp_m1_347-M02.csv</td>\n",
       "      <td>1118491.27</td>\n",
       "      <td>0.02340</td>\n",
       "      <td>m1</td>\n",
       "      <td>347-M02</td>\n",
       "    </tr>\n",
       "    <tr>\n",
       "      <th>1</th>\n",
       "      <td>Exp_m1_1010-M01_m1.csv</td>\n",
       "      <td>3830000.00</td>\n",
       "      <td>0.06500</td>\n",
       "      <td>m1</td>\n",
       "      <td>1010-M01</td>\n",
       "    </tr>\n",
       "    <tr>\n",
       "      <th>2</th>\n",
       "      <td>Exp_m1_aire.csv</td>\n",
       "      <td>0.00</td>\n",
       "      <td>0.00000</td>\n",
       "      <td>m1</td>\n",
       "      <td>aire</td>\n",
       "    </tr>\n",
       "    <tr>\n",
       "      <th>3</th>\n",
       "      <td>Exp_m1_P057.csv</td>\n",
       "      <td>3948000.00</td>\n",
       "      <td>0.14957</td>\n",
       "      <td>m1</td>\n",
       "      <td>P057</td>\n",
       "    </tr>\n",
       "  </tbody>\n",
       "</table>\n",
       "</div>"
      ],
      "text/plain": [
       "                  archivo  conductividad  espesor bobina  muestras\n",
       "0      Exp_m1_347-M02.csv     1118491.27  0.02340     m1   347-M02\n",
       "1  Exp_m1_1010-M01_m1.csv     3830000.00  0.06500     m1  1010-M01\n",
       "2         Exp_m1_aire.csv           0.00  0.00000     m1      aire\n",
       "3         Exp_m1_P057.csv     3948000.00  0.14957     m1      P057"
      ]
     },
     "execution_count": 43,
     "metadata": {},
     "output_type": "execute_result"
    }
   ],
   "source": [
    "data"
   ]
  },
  {
   "cell_type": "code",
   "execution_count": 25,
   "id": "1aca81c2",
   "metadata": {},
   "outputs": [],
   "source": [
    "file='Exp_m1_1010-M01_m1.csv'"
   ]
  },
  {
   "cell_type": "code",
   "execution_count": 29,
   "id": "a6cc4f1b",
   "metadata": {},
   "outputs": [],
   "source": [
    "file='Exp_m1_P057.csv'"
   ]
  },
  {
   "cell_type": "code",
   "execution_count": 14,
   "id": "7bcf440d",
   "metadata": {},
   "outputs": [
    {
     "data": {
      "text/plain": [
       "['Exp', 'm1', '1010-M01', 'm1.csv']"
      ]
     },
     "execution_count": 14,
     "metadata": {},
     "output_type": "execute_result"
    }
   ],
   "source": [
    "file.split('_')"
   ]
  },
  {
   "cell_type": "code",
   "execution_count": 26,
   "id": "fc028011",
   "metadata": {},
   "outputs": [
    {
     "data": {
      "text/plain": [
       "['1010-M01']"
      ]
     },
     "execution_count": 26,
     "metadata": {},
     "output_type": "execute_result"
    }
   ],
   "source": [
    "[x for x in file.split('_') if '-' in x]"
   ]
  },
  {
   "cell_type": "code",
   "execution_count": 30,
   "id": "64392b76",
   "metadata": {},
   "outputs": [
    {
     "data": {
      "text/plain": [
       "'P057'"
      ]
     },
     "execution_count": 30,
     "metadata": {},
     "output_type": "execute_result"
    }
   ],
   "source": [
    "[x for x in file.split('_') if 'P' in x][0].split('.')[0]"
   ]
  }
 ],
 "metadata": {
  "kernelspec": {
   "display_name": "Python 3 (ipykernel)",
   "language": "python",
   "name": "python3"
  },
  "language_info": {
   "codemirror_mode": {
    "name": "ipython",
    "version": 3
   },
   "file_extension": ".py",
   "mimetype": "text/x-python",
   "name": "python",
   "nbconvert_exporter": "python",
   "pygments_lexer": "ipython3",
   "version": "3.9.6"
  }
 },
 "nbformat": 4,
 "nbformat_minor": 5
}
