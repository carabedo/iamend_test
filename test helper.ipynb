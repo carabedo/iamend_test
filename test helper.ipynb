{
 "cells": [
  {
   "cell_type": "code",
   "execution_count": 15,
   "id": "9f93c95c",
   "metadata": {},
   "outputs": [
    {
     "name": "stdout",
     "output_type": "stream",
     "text": [
      "folder: ./iamend_ci/datos/pp1_manual/\n"
     ]
    }
   ],
   "source": [
    "import glob\n",
    "import sys\n",
    "import pandas as pd\n",
    "\n",
    "path = './iamend_ci/datos/pp1_manual/'\n",
    "print('folder: '+path)\n",
    "files = glob.glob(path+ \"*.csv\")\n",
    "csv_files=[ x.split('/')[-1] for x in files]"
   ]
  },
  {
   "cell_type": "code",
   "execution_count": 16,
   "id": "48f3628a",
   "metadata": {},
   "outputs": [
    {
     "data": {
      "text/plain": [
       "['./iamend_ci/datos/pp1_manual/Exp_aire.csv',\n",
       " './iamend_ci/datos/pp1_manual/Exp_1010-M01.csv',\n",
       " './iamend_ci/datos/pp1_manual/Exp_p057.csv',\n",
       " './iamend_ci/datos/pp1_manual/Exp_p057_d1012.csv',\n",
       " './iamend_ci/datos/pp1_manual/Exp_1010-M01_d342.csv',\n",
       " './iamend_ci/datos/pp1_manual/Exp_1010-M01_nfne.csv',\n",
       " './iamend_ci/datos/pp1_manual/Exp_p057_d519.csv',\n",
       " './iamend_ci/datos/pp1_manual/Exp_p066.csv',\n",
       " './iamend_ci/datos/pp1_manual/Exp_nfne.csv',\n",
       " './iamend_ci/datos/pp1_manual/Exp_1010-M01_d519.csv',\n",
       " './iamend_ci/datos/pp1_manual/Exp_p057_nfne.csv',\n",
       " './iamend_ci/datos/pp1_manual/Exp_1010-M01_d1012.csv',\n",
       " './iamend_ci/datos/pp1_manual/Exp_p057_d342.csv']"
      ]
     },
     "execution_count": 16,
     "metadata": {},
     "output_type": "execute_result"
    }
   ],
   "source": [
    "files"
   ]
  },
  {
   "cell_type": "code",
   "execution_count": 6,
   "id": "d385b6e7",
   "metadata": {},
   "outputs": [
    {
     "name": "stdout",
     "output_type": "stream",
     "text": [
      "folder: ./iamend_ci/datos/pp1_manual\n"
     ]
    }
   ],
   "source": [
    "try:\n",
    "    bobina = sys.argv[2]\n",
    "    for x in csv_files:\n",
    "        lines.append([x, '0' , '0' ,bobina])\n",
    "except:\n",
    "    bobina=input('Bobina?')\n",
    "    for x in csv_files:\n",
    "        lines.append([x, '0' , '0' ,bobina])\n",
    "\n",
    "txt_file = path+'info.txt'\n",
    "\n",
    "\n",
    "\n",
    "def get_id(x):\n",
    "    if 'aire'in x.lower():\n",
    "        return 'aire'\n",
    "    elif 'm' in x.lower():\n",
    "        return '_'.join(x.split('.')[0].split('_')[-2:])\n",
    "    elif 'p' in x.lower():\n",
    "        return '_'.join(x.split('.')[0].split('_')[-1:])\n",
    "    else:\n",
    "        return 'No se reconoce el nombre del archivo.'\n",
    "\n",
    "def get_sigma(x,muestras):\n",
    "    try:\n",
    "        return muestras[muestras.nombre==x].conductividad.values[0]\n",
    "    except:   \n",
    "        return 0 \n",
    "def get_esp(x,muestras):\n",
    "    try:\n",
    "        return muestras[muestras.nombre==x].espesor.values[0]*10e-3\n",
    "    except:   \n",
    "        return 0       \n",
    "    "
   ]
  },
  {
   "cell_type": "code",
   "execution_count": 7,
   "id": "e9d9a6ae",
   "metadata": {},
   "outputs": [],
   "source": [
    "lines=[]\n",
    "try:\n",
    "    bobina = 'pp1'\n",
    "    for x in csv_files:\n",
    "        lines.append([x, '0' , '0' ,bobina])\n",
    "except:\n",
    "    bobina=input('Bobina?')\n",
    "    for x in csv_files:\n",
    "        lines.append([x, '0' , '0' ,bobina])\n"
   ]
  },
  {
   "cell_type": "code",
   "execution_count": 11,
   "id": "703c4ed6",
   "metadata": {},
   "outputs": [
    {
     "data": {
      "text/plain": [
       "[]"
      ]
     },
     "execution_count": 11,
     "metadata": {},
     "output_type": "execute_result"
    }
   ],
   "source": [
    "lines"
   ]
  },
  {
   "cell_type": "code",
   "execution_count": 12,
   "id": "ccf81f7b",
   "metadata": {},
   "outputs": [
    {
     "data": {
      "text/plain": [
       "[]"
      ]
     },
     "execution_count": 12,
     "metadata": {},
     "output_type": "execute_result"
    }
   ],
   "source": [
    "csv_files"
   ]
  },
  {
   "cell_type": "code",
   "execution_count": 10,
   "id": "935dae77",
   "metadata": {},
   "outputs": [],
   "source": [
    "data=pd.DataFrame(lines)"
   ]
  },
  {
   "cell_type": "code",
   "execution_count": 8,
   "id": "8f808c22",
   "metadata": {},
   "outputs": [
    {
     "ename": "ValueError",
     "evalue": "Length mismatch: Expected axis has 0 elements, new values have 4 elements",
     "output_type": "error",
     "traceback": [
      "\u001b[0;31m---------------------------------------------------------------------------\u001b[0m",
      "\u001b[0;31mValueError\u001b[0m                                Traceback (most recent call last)",
      "Input \u001b[0;32mIn [8]\u001b[0m, in \u001b[0;36m<module>\u001b[0;34m\u001b[0m\n\u001b[1;32m      1\u001b[0m data\u001b[38;5;241m=\u001b[39mpd\u001b[38;5;241m.\u001b[39mDataFrame(lines)\n\u001b[0;32m----> 2\u001b[0m data\u001b[38;5;241m.\u001b[39mcolumns\u001b[38;5;241m=\u001b[39m[\u001b[38;5;124m'\u001b[39m\u001b[38;5;124marchivo\u001b[39m\u001b[38;5;124m'\u001b[39m,\u001b[38;5;124m'\u001b[39m\u001b[38;5;124mconductividad\u001b[39m\u001b[38;5;124m'\u001b[39m,\u001b[38;5;124m'\u001b[39m\u001b[38;5;124mespesor\u001b[39m\u001b[38;5;124m'\u001b[39m,\u001b[38;5;124m'\u001b[39m\u001b[38;5;124mbobina\u001b[39m\u001b[38;5;124m'\u001b[39m]\n\u001b[1;32m      3\u001b[0m data\u001b[38;5;241m.\u001b[39marchivo\u001b[38;5;241m.\u001b[39mapply(\u001b[38;5;28;01mlambda\u001b[39;00m x: get_id(x))\n",
      "File \u001b[0;32m~/.local/lib/python3.10/site-packages/pandas/core/generic.py:5596\u001b[0m, in \u001b[0;36mNDFrame.__setattr__\u001b[0;34m(self, name, value)\u001b[0m\n\u001b[1;32m   5594\u001b[0m \u001b[38;5;28;01mtry\u001b[39;00m:\n\u001b[1;32m   5595\u001b[0m     \u001b[38;5;28mobject\u001b[39m\u001b[38;5;241m.\u001b[39m\u001b[38;5;21m__getattribute__\u001b[39m(\u001b[38;5;28mself\u001b[39m, name)\n\u001b[0;32m-> 5596\u001b[0m     \u001b[38;5;28;01mreturn\u001b[39;00m \u001b[38;5;28;43mobject\u001b[39;49m\u001b[38;5;241;43m.\u001b[39;49m\u001b[38;5;21;43m__setattr__\u001b[39;49m\u001b[43m(\u001b[49m\u001b[38;5;28;43mself\u001b[39;49m\u001b[43m,\u001b[49m\u001b[43m \u001b[49m\u001b[43mname\u001b[49m\u001b[43m,\u001b[49m\u001b[43m \u001b[49m\u001b[43mvalue\u001b[49m\u001b[43m)\u001b[49m\n\u001b[1;32m   5597\u001b[0m \u001b[38;5;28;01mexcept\u001b[39;00m \u001b[38;5;167;01mAttributeError\u001b[39;00m:\n\u001b[1;32m   5598\u001b[0m     \u001b[38;5;28;01mpass\u001b[39;00m\n",
      "File \u001b[0;32m~/.local/lib/python3.10/site-packages/pandas/_libs/properties.pyx:70\u001b[0m, in \u001b[0;36mpandas._libs.properties.AxisProperty.__set__\u001b[0;34m()\u001b[0m\n",
      "File \u001b[0;32m~/.local/lib/python3.10/site-packages/pandas/core/generic.py:769\u001b[0m, in \u001b[0;36mNDFrame._set_axis\u001b[0;34m(self, axis, labels)\u001b[0m\n\u001b[1;32m    767\u001b[0m \u001b[38;5;28;01mdef\u001b[39;00m \u001b[38;5;21m_set_axis\u001b[39m(\u001b[38;5;28mself\u001b[39m, axis: \u001b[38;5;28mint\u001b[39m, labels: Index) \u001b[38;5;241m-\u001b[39m\u001b[38;5;241m>\u001b[39m \u001b[38;5;28;01mNone\u001b[39;00m:\n\u001b[1;32m    768\u001b[0m     labels \u001b[38;5;241m=\u001b[39m ensure_index(labels)\n\u001b[0;32m--> 769\u001b[0m     \u001b[38;5;28;43mself\u001b[39;49m\u001b[38;5;241;43m.\u001b[39;49m\u001b[43m_mgr\u001b[49m\u001b[38;5;241;43m.\u001b[39;49m\u001b[43mset_axis\u001b[49m\u001b[43m(\u001b[49m\u001b[43maxis\u001b[49m\u001b[43m,\u001b[49m\u001b[43m \u001b[49m\u001b[43mlabels\u001b[49m\u001b[43m)\u001b[49m\n\u001b[1;32m    770\u001b[0m     \u001b[38;5;28mself\u001b[39m\u001b[38;5;241m.\u001b[39m_clear_item_cache()\n",
      "File \u001b[0;32m~/.local/lib/python3.10/site-packages/pandas/core/internals/managers.py:214\u001b[0m, in \u001b[0;36mBaseBlockManager.set_axis\u001b[0;34m(self, axis, new_labels)\u001b[0m\n\u001b[1;32m    212\u001b[0m \u001b[38;5;28;01mdef\u001b[39;00m \u001b[38;5;21mset_axis\u001b[39m(\u001b[38;5;28mself\u001b[39m, axis: \u001b[38;5;28mint\u001b[39m, new_labels: Index) \u001b[38;5;241m-\u001b[39m\u001b[38;5;241m>\u001b[39m \u001b[38;5;28;01mNone\u001b[39;00m:\n\u001b[1;32m    213\u001b[0m     \u001b[38;5;66;03m# Caller is responsible for ensuring we have an Index object.\u001b[39;00m\n\u001b[0;32m--> 214\u001b[0m     \u001b[38;5;28;43mself\u001b[39;49m\u001b[38;5;241;43m.\u001b[39;49m\u001b[43m_validate_set_axis\u001b[49m\u001b[43m(\u001b[49m\u001b[43maxis\u001b[49m\u001b[43m,\u001b[49m\u001b[43m \u001b[49m\u001b[43mnew_labels\u001b[49m\u001b[43m)\u001b[49m\n\u001b[1;32m    215\u001b[0m     \u001b[38;5;28mself\u001b[39m\u001b[38;5;241m.\u001b[39maxes[axis] \u001b[38;5;241m=\u001b[39m new_labels\n",
      "File \u001b[0;32m~/.local/lib/python3.10/site-packages/pandas/core/internals/base.py:69\u001b[0m, in \u001b[0;36mDataManager._validate_set_axis\u001b[0;34m(self, axis, new_labels)\u001b[0m\n\u001b[1;32m     66\u001b[0m     \u001b[38;5;28;01mpass\u001b[39;00m\n\u001b[1;32m     68\u001b[0m \u001b[38;5;28;01melif\u001b[39;00m new_len \u001b[38;5;241m!=\u001b[39m old_len:\n\u001b[0;32m---> 69\u001b[0m     \u001b[38;5;28;01mraise\u001b[39;00m \u001b[38;5;167;01mValueError\u001b[39;00m(\n\u001b[1;32m     70\u001b[0m         \u001b[38;5;124mf\u001b[39m\u001b[38;5;124m\"\u001b[39m\u001b[38;5;124mLength mismatch: Expected axis has \u001b[39m\u001b[38;5;132;01m{\u001b[39;00mold_len\u001b[38;5;132;01m}\u001b[39;00m\u001b[38;5;124m elements, new \u001b[39m\u001b[38;5;124m\"\u001b[39m\n\u001b[1;32m     71\u001b[0m         \u001b[38;5;124mf\u001b[39m\u001b[38;5;124m\"\u001b[39m\u001b[38;5;124mvalues have \u001b[39m\u001b[38;5;132;01m{\u001b[39;00mnew_len\u001b[38;5;132;01m}\u001b[39;00m\u001b[38;5;124m elements\u001b[39m\u001b[38;5;124m\"\u001b[39m\n\u001b[1;32m     72\u001b[0m     )\n",
      "\u001b[0;31mValueError\u001b[0m: Length mismatch: Expected axis has 0 elements, new values have 4 elements"
     ]
    }
   ],
   "source": [
    "\n",
    "data.columns=['archivo','conductividad','espesor','bobina']\n",
    "data.archivo.apply(lambda x: get_id(x))"
   ]
  },
  {
   "cell_type": "code",
   "execution_count": 2,
   "id": "6e25a348",
   "metadata": {},
   "outputs": [
    {
     "ename": "NameError",
     "evalue": "name 'data' is not defined",
     "output_type": "error",
     "traceback": [
      "\u001b[0;31m---------------------------------------------------------------------------\u001b[0m",
      "\u001b[0;31mNameError\u001b[0m                                 Traceback (most recent call last)",
      "Input \u001b[0;32mIn [2]\u001b[0m, in \u001b[0;36m<module>\u001b[0;34m\u001b[0m\n\u001b[0;32m----> 1\u001b[0m \u001b[43mdata\u001b[49m\n",
      "\u001b[0;31mNameError\u001b[0m: name 'data' is not defined"
     ]
    }
   ],
   "source": [
    "data"
   ]
  },
  {
   "cell_type": "code",
   "execution_count": 3,
   "id": "108b1b57",
   "metadata": {},
   "outputs": [],
   "source": [
    "def get_id(x):\n",
    "    if 'aire'in x.lower():\n",
    "        return 'aire'\n",
    "    \n",
    "    elif 'P' in x:\n",
    "        return [y for y in x.split('_') if 'P' in y][0].split('.')[0]\n",
    "    \n",
    "    elif '-' in x:\n",
    "        \n",
    "        return [y for y in x.split('_') if '-' in y][0].split('.')[0]\n",
    "\n",
    "    else:\n",
    "        print('No se reconoce el nombre del archivo.')"
   ]
  },
  {
   "cell_type": "code",
   "execution_count": 4,
   "id": "66b40164",
   "metadata": {},
   "outputs": [
    {
     "ename": "NameError",
     "evalue": "name 'data' is not defined",
     "output_type": "error",
     "traceback": [
      "\u001b[0;31m---------------------------------------------------------------------------\u001b[0m",
      "\u001b[0;31mNameError\u001b[0m                                 Traceback (most recent call last)",
      "Input \u001b[0;32mIn [4]\u001b[0m, in \u001b[0;36m<module>\u001b[0;34m\u001b[0m\n\u001b[0;32m----> 1\u001b[0m data[\u001b[38;5;124m'\u001b[39m\u001b[38;5;124mmuestras\u001b[39m\u001b[38;5;124m'\u001b[39m]\u001b[38;5;241m=\u001b[39m\u001b[43mdata\u001b[49m\u001b[38;5;241m.\u001b[39marchivo\u001b[38;5;241m.\u001b[39mapply(\u001b[38;5;28;01mlambda\u001b[39;00m x: get_id(x))\n\u001b[1;32m      2\u001b[0m muestras\u001b[38;5;241m=\u001b[39mpd\u001b[38;5;241m.\u001b[39mread_csv(\u001b[38;5;124m'\u001b[39m\u001b[38;5;124m./iamend_ci/muestras2.csv\u001b[39m\u001b[38;5;124m'\u001b[39m)\n\u001b[1;32m      3\u001b[0m data\u001b[38;5;241m.\u001b[39mconductividad\u001b[38;5;241m=\u001b[39mdata\u001b[38;5;241m.\u001b[39mmuestras\u001b[38;5;241m.\u001b[39mapply(\u001b[38;5;28;01mlambda\u001b[39;00m x: get_sigma(x,muestras))\n",
      "\u001b[0;31mNameError\u001b[0m: name 'data' is not defined"
     ]
    }
   ],
   "source": [
    "data['muestras']=data.archivo.apply(lambda x: get_id(x))\n",
    "muestras=pd.read_csv('./iamend_ci/muestras2.csv')\n",
    "data.conductividad=data.muestras.apply(lambda x: get_sigma(x,muestras))\n",
    "data.espesor=data.muestras.apply(lambda x: get_esp(x,muestras))"
   ]
  },
  {
   "cell_type": "code",
   "execution_count": 43,
   "id": "48b0751a",
   "metadata": {},
   "outputs": [
    {
     "data": {
      "text/html": [
       "<div>\n",
       "<style scoped>\n",
       "    .dataframe tbody tr th:only-of-type {\n",
       "        vertical-align: middle;\n",
       "    }\n",
       "\n",
       "    .dataframe tbody tr th {\n",
       "        vertical-align: top;\n",
       "    }\n",
       "\n",
       "    .dataframe thead th {\n",
       "        text-align: right;\n",
       "    }\n",
       "</style>\n",
       "<table border=\"1\" class=\"dataframe\">\n",
       "  <thead>\n",
       "    <tr style=\"text-align: right;\">\n",
       "      <th></th>\n",
       "      <th>archivo</th>\n",
       "      <th>conductividad</th>\n",
       "      <th>espesor</th>\n",
       "      <th>bobina</th>\n",
       "      <th>muestras</th>\n",
       "    </tr>\n",
       "  </thead>\n",
       "  <tbody>\n",
       "    <tr>\n",
       "      <th>0</th>\n",
       "      <td>Exp_m1_347-M02.csv</td>\n",
       "      <td>1118491.27</td>\n",
       "      <td>0.02340</td>\n",
       "      <td>m1</td>\n",
       "      <td>347-M02</td>\n",
       "    </tr>\n",
       "    <tr>\n",
       "      <th>1</th>\n",
       "      <td>Exp_m1_1010-M01_m1.csv</td>\n",
       "      <td>3830000.00</td>\n",
       "      <td>0.06500</td>\n",
       "      <td>m1</td>\n",
       "      <td>1010-M01</td>\n",
       "    </tr>\n",
       "    <tr>\n",
       "      <th>2</th>\n",
       "      <td>Exp_m1_aire.csv</td>\n",
       "      <td>0.00</td>\n",
       "      <td>0.00000</td>\n",
       "      <td>m1</td>\n",
       "      <td>aire</td>\n",
       "    </tr>\n",
       "    <tr>\n",
       "      <th>3</th>\n",
       "      <td>Exp_m1_P057.csv</td>\n",
       "      <td>3948000.00</td>\n",
       "      <td>0.14957</td>\n",
       "      <td>m1</td>\n",
       "      <td>P057</td>\n",
       "    </tr>\n",
       "  </tbody>\n",
       "</table>\n",
       "</div>"
      ],
      "text/plain": [
       "                  archivo  conductividad  espesor bobina  muestras\n",
       "0      Exp_m1_347-M02.csv     1118491.27  0.02340     m1   347-M02\n",
       "1  Exp_m1_1010-M01_m1.csv     3830000.00  0.06500     m1  1010-M01\n",
       "2         Exp_m1_aire.csv           0.00  0.00000     m1      aire\n",
       "3         Exp_m1_P057.csv     3948000.00  0.14957     m1      P057"
      ]
     },
     "execution_count": 43,
     "metadata": {},
     "output_type": "execute_result"
    }
   ],
   "source": [
    "data"
   ]
  },
  {
   "cell_type": "code",
   "execution_count": 25,
   "id": "1aca81c2",
   "metadata": {},
   "outputs": [],
   "source": [
    "file='Exp_m1_1010-M01_m1.csv'"
   ]
  },
  {
   "cell_type": "code",
   "execution_count": 29,
   "id": "a6cc4f1b",
   "metadata": {},
   "outputs": [],
   "source": [
    "file='Exp_m1_P057.csv'"
   ]
  },
  {
   "cell_type": "code",
   "execution_count": 14,
   "id": "7bcf440d",
   "metadata": {},
   "outputs": [
    {
     "data": {
      "text/plain": [
       "['Exp', 'm1', '1010-M01', 'm1.csv']"
      ]
     },
     "execution_count": 14,
     "metadata": {},
     "output_type": "execute_result"
    }
   ],
   "source": [
    "file.split('_')"
   ]
  },
  {
   "cell_type": "code",
   "execution_count": 26,
   "id": "fc028011",
   "metadata": {},
   "outputs": [
    {
     "data": {
      "text/plain": [
       "['1010-M01']"
      ]
     },
     "execution_count": 26,
     "metadata": {},
     "output_type": "execute_result"
    }
   ],
   "source": [
    "[x for x in file.split('_') if '-' in x]"
   ]
  },
  {
   "cell_type": "code",
   "execution_count": 30,
   "id": "64392b76",
   "metadata": {},
   "outputs": [
    {
     "data": {
      "text/plain": [
       "'P057'"
      ]
     },
     "execution_count": 30,
     "metadata": {},
     "output_type": "execute_result"
    }
   ],
   "source": [
    "[x for x in file.split('_') if 'P' in x][0].split('.')[0]"
   ]
  }
 ],
 "metadata": {
  "kernelspec": {
   "display_name": "Python 3 (ipykernel)",
   "language": "python",
   "name": "python3"
  },
  "language_info": {
   "codemirror_mode": {
    "name": "ipython",
    "version": 3
   },
   "file_extension": ".py",
   "mimetype": "text/x-python",
   "name": "python",
   "nbconvert_exporter": "python",
   "pygments_lexer": "ipython3",
   "version": "3.10.10"
  }
 },
 "nbformat": 4,
 "nbformat_minor": 5
}
