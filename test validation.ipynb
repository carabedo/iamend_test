{
 "cells": [
  {
   "cell_type": "code",
   "execution_count": null,
   "id": "10f50e16",
   "metadata": {},
   "outputs": [],
   "source": [
    "filez=[]\n",
    "for dataframe in exp1.data:\n",
    "\n",
    "    m1zscore=[]\n",
    "    for f in dataframe.f.unique():\n",
    "\n",
    "        zscores=np.abs(zscore(dataframe[dataframe.f==f].imag))\n",
    "        z=zscores.iloc[0]\n",
    "        if z> 2:\n",
    "            m1zscore.append([f,z])\n",
    "    filez.append(m1zscore)\n",
    "        "
   ]
  }
 ],
 "metadata": {
  "kernelspec": {
   "display_name": "Python 3 (ipykernel)",
   "language": "python",
   "name": "python3"
  },
  "language_info": {
   "codemirror_mode": {
    "name": "ipython",
    "version": 3
   },
   "file_extension": ".py",
   "mimetype": "text/x-python",
   "name": "python",
   "nbconvert_exporter": "python",
   "pygments_lexer": "ipython3",
   "version": "3.10.9"
  }
 },
 "nbformat": 4,
 "nbformat_minor": 5
}
