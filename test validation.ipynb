{
 "cells": [
  {
   "cell_type": "code",
   "execution_count": 29,
   "id": "65ced0aa",
   "metadata": {},
   "outputs": [
    {
     "name": "stdout",
     "output_type": "stream",
     "text": [
      "             archivo  conductividad  espesor bobina muestras\n",
      "0  Exp_1010_Aire.csv            0.0  0.00000    pp1     aire\n",
      "1    Exp_1010_M0.csv      3830000.0  0.06500    pp1  1010_M0\n",
      "2  Exp_1010_P057.csv      3948000.0  0.14957    pp1     P057\n"
     ]
    }
   ],
   "source": [
    "import iamend_ci as ci\n",
    "exp=ci.exp('../iamend_ci/datos/pp1_1010')"
   ]
  },
  {
   "cell_type": "code",
   "execution_count": 9,
   "id": "10f50e16",
   "metadata": {},
   "outputs": [
    {
     "name": "stdout",
     "output_type": "stream",
     "text": [
      "Ajustando z1 effectivo\n",
      "z1 = 1.6063081001556898 mm\n"
     ]
    },
    {
     "data": {
      "text/html": [
       "<div>\n",
       "<style scoped>\n",
       "    .dataframe tbody tr th:only-of-type {\n",
       "        vertical-align: middle;\n",
       "    }\n",
       "\n",
       "    .dataframe tbody tr th {\n",
       "        vertical-align: top;\n",
       "    }\n",
       "\n",
       "    .dataframe thead th {\n",
       "        text-align: right;\n",
       "    }\n",
       "</style>\n",
       "<table border=\"1\" class=\"dataframe\">\n",
       "  <thead>\n",
       "    <tr style=\"text-align: right;\">\n",
       "      <th></th>\n",
       "      <th>archivo</th>\n",
       "      <th>conductividad</th>\n",
       "      <th>espesor</th>\n",
       "      <th>bobina</th>\n",
       "      <th>muestras</th>\n",
       "      <th>mueff</th>\n",
       "      <th>R2</th>\n",
       "    </tr>\n",
       "  </thead>\n",
       "  <tbody>\n",
       "    <tr>\n",
       "      <th>0</th>\n",
       "      <td>Exp_1010_Aire.csv</td>\n",
       "      <td>0.0</td>\n",
       "      <td>0.00000</td>\n",
       "      <td>pp1</td>\n",
       "      <td>aire</td>\n",
       "      <td>NaN</td>\n",
       "      <td>NaN</td>\n",
       "    </tr>\n",
       "    <tr>\n",
       "      <th>1</th>\n",
       "      <td>Exp_1010_M0.csv</td>\n",
       "      <td>3830000.0</td>\n",
       "      <td>0.06500</td>\n",
       "      <td>pp1</td>\n",
       "      <td>1010_M0</td>\n",
       "      <td>89.520906</td>\n",
       "      <td>0.988041</td>\n",
       "    </tr>\n",
       "    <tr>\n",
       "      <th>2</th>\n",
       "      <td>Exp_1010_P057.csv</td>\n",
       "      <td>3948000.0</td>\n",
       "      <td>0.14957</td>\n",
       "      <td>pp1</td>\n",
       "      <td>P057</td>\n",
       "      <td>NaN</td>\n",
       "      <td>NaN</td>\n",
       "    </tr>\n",
       "  </tbody>\n",
       "</table>\n",
       "</div>"
      ],
      "text/plain": [
       "             archivo  conductividad  espesor bobina muestras      mueff  \\\n",
       "0  Exp_1010_Aire.csv            0.0  0.00000    pp1     aire        NaN   \n",
       "1    Exp_1010_M0.csv      3830000.0  0.06500    pp1  1010_M0  89.520906   \n",
       "2  Exp_1010_P057.csv      3948000.0  0.14957    pp1     P057        NaN   \n",
       "\n",
       "         R2  \n",
       "0       NaN  \n",
       "1  0.988041  \n",
       "2       NaN  "
      ]
     },
     "execution_count": 9,
     "metadata": {},
     "output_type": "execute_result"
    }
   ],
   "source": [
    "exp.fitmues()\n",
    "exp.info\n",
    "        "
   ]
  },
  {
   "cell_type": "code",
   "execution_count": 10,
   "id": "71639dec",
   "metadata": {},
   "outputs": [
    {
     "data": {
      "text/html": [
       "\n",
       "  <div id=\"dfad8c71-bcd1-4841-8fbd-0f1ddea73d0f\" data-root-id=\"p1174\" style=\"display: contents;\"></div>\n"
      ]
     },
     "metadata": {},
     "output_type": "display_data"
    },
    {
     "data": {
      "application/javascript": [
       "(function(root) {\n",
       "  function embed_document(root) {\n",
       "  const docs_json = {\"02434688-9d18-4701-901b-5d8ed545ec18\":{\"version\":\"3.1.0\",\"title\":\"Bokeh Application\",\"defs\":[],\"roots\":[{\"type\":\"object\",\"name\":\"Figure\",\"id\":\"p1174\",\"attributes\":{\"height\":500,\"x_range\":{\"type\":\"object\",\"name\":\"DataRange1d\",\"id\":\"p1176\"},\"y_range\":{\"type\":\"object\",\"name\":\"DataRange1d\",\"id\":\"p1175\"},\"x_scale\":{\"type\":\"object\",\"name\":\"LogScale\",\"id\":\"p1188\"},\"y_scale\":{\"type\":\"object\",\"name\":\"LinearScale\",\"id\":\"p1190\"},\"title\":{\"type\":\"object\",\"name\":\"Title\",\"id\":\"p1177\",\"attributes\":{\"text\":\"m0 mueff = 89.52\"}},\"renderers\":[{\"type\":\"object\",\"name\":\"GlyphRenderer\",\"id\":\"p1219\",\"attributes\":{\"data_source\":{\"type\":\"object\",\"name\":\"ColumnDataSource\",\"id\":\"p1213\",\"attributes\":{\"selected\":{\"type\":\"object\",\"name\":\"Selection\",\"id\":\"p1215\",\"attributes\":{\"indices\":[],\"line_indices\":[]}},\"selection_policy\":{\"type\":\"object\",\"name\":\"UnionRenderers\",\"id\":\"p1214\"},\"data\":{\"type\":\"map\",\"entries\":[[\"x\",{\"type\":\"ndarray\",\"array\":{\"type\":\"bytes\",\"data\":\"AAAAAAAAWUCF61G4HnlfQNk9eVioz2NA9+RhodbwaEDSAN4CCWZvQHbgnBGlw3NAGeJYF7fheED7XG3F/lJ/QLAD54yot4NAYVRSJ6DSiEAAAAAAAECPQDMzMzOzq5NAUI2XbpLDmEA1XrpJDC2fQIPAyqHFn6NAkxgEVo60qECgGi/dJBqvQGiR7Xzfk7NAnMQgsJKluEB56SYxSAe/QAAAAAAAiMNAAAAAAKCWyECkcD0Kd/TOQOF6FK4nfNNA4XoUrreH2EC4HoXrseHeQKRwPQpXcONApHA9Ctd46EDD9Shc987uQHsUrkeNZPNAAAAAAABq+EAAAAAASLz+QGZmZmbKWANBmpmZmTFbCEHNzMzMpKkOQTMzMzMPTRNBzczMzGxMGEEzMzMzDZceQZqZmZlaQSNBmpmZmbA9KEEAAAAAgIQuQQ==\"},\"shape\":[41],\"dtype\":\"float64\",\"order\":\"little\"}],[\"y\",{\"type\":\"ndarray\",\"array\":{\"type\":\"bytes\",\"data\":\"0l/sIZVOuT/MOPmuMDa5PzwBhTJEGbk/yRiece74uD8HVPK8qdi4P2YAy3eMurg/71wO0aONuD9lb4DC41a4PyZ9VVhBH7g/bz6sszrctz/JDGlaiZW3P3dDaxvcQbc/K4lt0szjtj8TJQEUln22P5GvL711FbY/h5skR9WZtT8e8OjjThC1P+SNG6Xpf7Q/hcG428jcsz8yS3AHoyWzP6pMQujFZ7I/CR6oC+CAsT9bzMtEA4awPzzeRxmm5a4/eXE8/fuHrD/JkNRSMeGpPzU2Shx+66Y/p/0kIOHmoz8jvM7d3kugP41JEqYk4Jk/TKQCwQzpkT/WdiWjBCiEP4Vk+++JQWE/JYaVE31bdr9n1qzNo1KKvwNVZO3bVpS/zMxEmzjCmr/j+zIBy7igv4O4wC4HRKO/Zrf4olB9pb/Y+L1Ca1+nvw==\"},\"shape\":[41],\"dtype\":\"float64\",\"order\":\"little\"}]]}}},\"view\":{\"type\":\"object\",\"name\":\"CDSView\",\"id\":\"p1220\",\"attributes\":{\"filter\":{\"type\":\"object\",\"name\":\"AllIndices\",\"id\":\"p1221\"}}},\"glyph\":{\"type\":\"object\",\"name\":\"Circle\",\"id\":\"p1216\",\"attributes\":{\"x\":{\"type\":\"field\",\"field\":\"x\"},\"y\":{\"type\":\"field\",\"field\":\"y\"},\"line_color\":{\"type\":\"value\",\"value\":\"#1f77b4\"},\"fill_color\":{\"type\":\"value\",\"value\":\"#1f77b4\"}}},\"nonselection_glyph\":{\"type\":\"object\",\"name\":\"Circle\",\"id\":\"p1217\",\"attributes\":{\"x\":{\"type\":\"field\",\"field\":\"x\"},\"y\":{\"type\":\"field\",\"field\":\"y\"},\"line_color\":{\"type\":\"value\",\"value\":\"#1f77b4\"},\"line_alpha\":{\"type\":\"value\",\"value\":0.1},\"fill_color\":{\"type\":\"value\",\"value\":\"#1f77b4\"},\"fill_alpha\":{\"type\":\"value\",\"value\":0.1},\"hatch_alpha\":{\"type\":\"value\",\"value\":0.1}}},\"muted_glyph\":{\"type\":\"object\",\"name\":\"Circle\",\"id\":\"p1218\",\"attributes\":{\"x\":{\"type\":\"field\",\"field\":\"x\"},\"y\":{\"type\":\"field\",\"field\":\"y\"},\"line_color\":{\"type\":\"value\",\"value\":\"#1f77b4\"},\"line_alpha\":{\"type\":\"value\",\"value\":0.2},\"fill_color\":{\"type\":\"value\",\"value\":\"#1f77b4\"},\"fill_alpha\":{\"type\":\"value\",\"value\":0.2},\"hatch_alpha\":{\"type\":\"value\",\"value\":0.2}}}}},{\"type\":\"object\",\"name\":\"GlyphRenderer\",\"id\":\"p1228\",\"attributes\":{\"data_source\":{\"type\":\"object\",\"name\":\"ColumnDataSource\",\"id\":\"p1222\",\"attributes\":{\"selected\":{\"type\":\"object\",\"name\":\"Selection\",\"id\":\"p1224\",\"attributes\":{\"indices\":[],\"line_indices\":[]}},\"selection_policy\":{\"type\":\"object\",\"name\":\"UnionRenderers\",\"id\":\"p1223\"},\"data\":{\"type\":\"map\",\"entries\":[[\"x\",{\"type\":\"ndarray\",\"array\":{\"type\":\"bytes\",\"data\":\"AAAAAAAAWUCF61G4HnlfQNk9eVioz2NA9+RhodbwaEDSAN4CCWZvQHbgnBGlw3NAGeJYF7fheED7XG3F/lJ/QLAD54yot4NAYVRSJ6DSiEAAAAAAAECPQDMzMzOzq5NAUI2XbpLDmEA1XrpJDC2fQIPAyqHFn6NAkxgEVo60qECgGi/dJBqvQGiR7Xzfk7NAnMQgsJKluEB56SYxSAe/QAAAAAAAiMNAAAAAAKCWyECkcD0Kd/TOQOF6FK4nfNNA4XoUrreH2EC4HoXrseHeQKRwPQpXcONApHA9Ctd46EDD9Shc987uQHsUrkeNZPNAAAAAAABq+EAAAAAASLz+QGZmZmbKWANBmpmZmTFbCEHNzMzMpKkOQTMzMzMPTRNBzczMzGxMGEEzMzMzDZceQZqZmZlaQSNBmpmZmbA9KEEAAAAAgIQuQQ==\"},\"shape\":[41],\"dtype\":\"float64\",\"order\":\"little\"}],[\"y\",{\"type\":\"ndarray\",\"array\":{\"type\":\"bytes\",\"data\":\"Q/lblcm9uD/ATJHr46G4P8rHrBvhgbg/cT09zVdduD8l8vXS1TO4P72Rq53eBLg/42AI3OnPtz+GX5VAYpS3P61BFcekUbc/f+ZyZwAHtz/qViQutrO2P1YaruT5VrY/P4YnC/PvtT8VS1vuvn21PxQjOdZy/7Q/5P8AZB90tD+Nd9jf1NqzP9P2uwSoMrM/Kn+JX7h6sj+v83URN7KxPwrgyR5v2LA/8uO9U5zZrz8Q/pzj2t2tPwoRKZ84vas/6zj7z9F3qT+OAyoHVA6nPzbwIX4LgqQ/zGwUOPDUoT/cr86GVxOeP1lD1Dk0R5g/3wlOPIZNkj9CFCk8LV+IP9qHjabo3nc/nR09EYu5M7+Os+VKaWJ6v2S0Np32som/FtEJ5cAFk78pjXp6HBKZv8/oyY8I9J6/+YtcNwpRor/1vQSgDQqlvw==\"},\"shape\":[41],\"dtype\":\"float64\",\"order\":\"little\"}]]}}},\"view\":{\"type\":\"object\",\"name\":\"CDSView\",\"id\":\"p1229\",\"attributes\":{\"filter\":{\"type\":\"object\",\"name\":\"AllIndices\",\"id\":\"p1230\"}}},\"glyph\":{\"type\":\"object\",\"name\":\"Line\",\"id\":\"p1225\",\"attributes\":{\"x\":{\"type\":\"field\",\"field\":\"x\"},\"y\":{\"type\":\"field\",\"field\":\"y\"},\"line_color\":\"#f46d43\",\"line_alpha\":0.6,\"line_width\":2}},\"nonselection_glyph\":{\"type\":\"object\",\"name\":\"Line\",\"id\":\"p1226\",\"attributes\":{\"x\":{\"type\":\"field\",\"field\":\"x\"},\"y\":{\"type\":\"field\",\"field\":\"y\"},\"line_color\":\"#f46d43\",\"line_alpha\":0.1,\"line_width\":2}},\"muted_glyph\":{\"type\":\"object\",\"name\":\"Line\",\"id\":\"p1227\",\"attributes\":{\"x\":{\"type\":\"field\",\"field\":\"x\"},\"y\":{\"type\":\"field\",\"field\":\"y\"},\"line_color\":\"#f46d43\",\"line_alpha\":0.2,\"line_width\":2}}}}],\"toolbar\":{\"type\":\"object\",\"name\":\"Toolbar\",\"id\":\"p1183\",\"attributes\":{\"tools\":[{\"type\":\"object\",\"name\":\"BoxZoomTool\",\"id\":\"p1206\",\"attributes\":{\"overlay\":{\"type\":\"object\",\"name\":\"BoxAnnotation\",\"id\":\"p1207\",\"attributes\":{\"syncable\":false,\"level\":\"overlay\",\"visible\":false,\"left_units\":\"canvas\",\"right_units\":\"canvas\",\"bottom_units\":\"canvas\",\"top_units\":\"canvas\",\"line_color\":\"black\",\"line_alpha\":1.0,\"line_width\":2,\"line_dash\":[4,4],\"fill_color\":\"lightgrey\",\"fill_alpha\":0.5}}}},{\"type\":\"object\",\"name\":\"ResetTool\",\"id\":\"p1208\"}]}},\"left\":[{\"type\":\"object\",\"name\":\"LinearAxis\",\"id\":\"p1199\",\"attributes\":{\"ticker\":{\"type\":\"object\",\"name\":\"BasicTicker\",\"id\":\"p1200\",\"attributes\":{\"mantissas\":[1,2,5]}},\"formatter\":{\"type\":\"object\",\"name\":\"BasicTickFormatter\",\"id\":\"p1201\"},\"axis_label\":\"im(dz)/x0\",\"major_label_policy\":{\"type\":\"object\",\"name\":\"AllLabels\",\"id\":\"p1202\"}}}],\"below\":[{\"type\":\"object\",\"name\":\"LogAxis\",\"id\":\"p1192\",\"attributes\":{\"ticker\":{\"type\":\"object\",\"name\":\"LogTicker\",\"id\":\"p1193\",\"attributes\":{\"num_minor_ticks\":10,\"mantissas\":[1,5]}},\"formatter\":{\"type\":\"object\",\"name\":\"LogTickFormatter\",\"id\":\"p1194\"},\"axis_label\":\"f[Hz]\",\"major_label_policy\":{\"type\":\"object\",\"name\":\"AllLabels\",\"id\":\"p1195\"}}}],\"center\":[{\"type\":\"object\",\"name\":\"Grid\",\"id\":\"p1198\",\"attributes\":{\"axis\":{\"id\":\"p1192\"}}},{\"type\":\"object\",\"name\":\"Grid\",\"id\":\"p1205\",\"attributes\":{\"dimension\":1,\"axis\":{\"id\":\"p1199\"}}}]}}],\"callbacks\":{\"type\":\"map\"}}};\n",
       "  const render_items = [{\"docid\":\"02434688-9d18-4701-901b-5d8ed545ec18\",\"roots\":{\"p1174\":\"dfad8c71-bcd1-4841-8fbd-0f1ddea73d0f\"},\"root_ids\":[\"p1174\"]}];\n",
       "  root.Bokeh.embed.embed_items_notebook(docs_json, render_items);\n",
       "  }\n",
       "  if (root.Bokeh !== undefined) {\n",
       "    embed_document(root);\n",
       "  } else {\n",
       "    let attempts = 0;\n",
       "    const timer = setInterval(function(root) {\n",
       "      if (root.Bokeh !== undefined) {\n",
       "        clearInterval(timer);\n",
       "        embed_document(root);\n",
       "      } else {\n",
       "        attempts++;\n",
       "        if (attempts > 100) {\n",
       "          clearInterval(timer);\n",
       "          console.log(\"Bokeh: ERROR: Unable to run BokehJS code because BokehJS library is missing\");\n",
       "        }\n",
       "      }\n",
       "    }, 10, root)\n",
       "  }\n",
       "})(window);"
      ],
      "application/vnd.bokehjs_exec.v0+json": ""
     },
     "metadata": {
      "application/vnd.bokehjs_exec.v0+json": {
       "id": "p1174"
      }
     },
     "output_type": "display_data"
    }
   ],
   "source": [
    "exp.fitplot('m0')"
   ]
  },
  {
   "cell_type": "code",
   "execution_count": 11,
   "id": "c3918d26",
   "metadata": {},
   "outputs": [
    {
     "name": "stdout",
     "output_type": "stream",
     "text": [
      "fiteo en N tramos\n"
     ]
    }
   ],
   "source": [
    "exp.fitfmues(3)"
   ]
  },
  {
   "cell_type": "code",
   "execution_count": 12,
   "id": "29dc93e5",
   "metadata": {},
   "outputs": [],
   "source": [
    "import matplotlib.pyplot as plt"
   ]
  },
  {
   "cell_type": "code",
   "execution_count": 13,
   "id": "51abd7ab",
   "metadata": {},
   "outputs": [
    {
     "data": {
      "image/png": "[encoded data removed]",
      "text/plain": [
       "<Figure size 640x480 with 1 Axes>"
      ]
     },
     "metadata": {},
     "output_type": "display_data"
    }
   ],
   "source": [
    "i=0\n",
    "for i in range(len(exp.fmues['1010_M0']['fs'])):\n",
    "    x=exp.fmues['1010_M0']['fs'][i]\n",
    "    ymeas=exp.fmues['1010_M0']['ymeas'][i]\n",
    "    yteo=exp.fmues['1010_M0']['yteos'][i]\n",
    "    mrks=['o','s','^','*','X']\n",
    "    plt.title(exp.fmues['1010_M0']['name'])\n",
    "    plt.semilogx(x,ymeas,mrks[i]+'k',markersize=7,markerfacecolor='none')\n",
    "    plt.semilogx(x,yteo,'-k')\n",
    "\n",
    "plt.ylabel('$Im(\\Delta Z)/X_0$')\n",
    "plt.xlabel('Frecuencia [Hz]')\n",
    "plt.grid(True, which=\"both\")"
   ]
  },
  {
   "cell_type": "code",
   "execution_count": 14,
   "id": "e3cf7595",
   "metadata": {},
   "outputs": [
    {
     "name": "stdout",
     "output_type": "stream",
     "text": [
      "             archivo  conductividad  espesor bobina muestras\n",
      "0  Exp_1010_Aire.csv            0.0    0.000     m1     aire\n",
      "1    Exp_1010_M0.csv      3830000.0    0.065     m1  1010_M0\n"
     ]
    }
   ],
   "source": [
    "exp1=ci.exp('../iamend_ci/datos/m1_1010')"
   ]
  },
  {
   "cell_type": "code",
   "execution_count": 15,
   "id": "4c2e515a",
   "metadata": {},
   "outputs": [
    {
     "name": "stdout",
     "output_type": "stream",
     "text": [
      "Ajustando z1 effectivo\n",
      "No se encuentra medicion sobre el patron, defina z1eff manualmente\n"
     ]
    }
   ],
   "source": [
    "exp1.fitmues()\n"
   ]
  },
  {
   "cell_type": "code",
   "execution_count": 16,
   "id": "42707c09",
   "metadata": {},
   "outputs": [],
   "source": [
    "exp1.set_z1eff(1.06e-3)"
   ]
  },
  {
   "cell_type": "code",
   "execution_count": 24,
   "id": "61bb7cc9",
   "metadata": {},
   "outputs": [],
   "source": [
    "exp1.fitmues()"
   ]
  },
  {
   "cell_type": "code",
   "execution_count": 25,
   "id": "fe0c4193",
   "metadata": {
    "scrolled": true
   },
   "outputs": [
    {
     "data": {
      "text/html": [
       "<div>\n",
       "<style scoped>\n",
       "    .dataframe tbody tr th:only-of-type {\n",
       "        vertical-align: middle;\n",
       "    }\n",
       "\n",
       "    .dataframe tbody tr th {\n",
       "        vertical-align: top;\n",
       "    }\n",
       "\n",
       "    .dataframe thead th {\n",
       "        text-align: right;\n",
       "    }\n",
       "</style>\n",
       "<table border=\"1\" class=\"dataframe\">\n",
       "  <thead>\n",
       "    <tr style=\"text-align: right;\">\n",
       "      <th></th>\n",
       "      <th>archivo</th>\n",
       "      <th>conductividad</th>\n",
       "      <th>espesor</th>\n",
       "      <th>bobina</th>\n",
       "      <th>muestras</th>\n",
       "      <th>mueff</th>\n",
       "      <th>R2</th>\n",
       "    </tr>\n",
       "  </thead>\n",
       "  <tbody>\n",
       "    <tr>\n",
       "      <th>0</th>\n",
       "      <td>Exp_1010_Aire.csv</td>\n",
       "      <td>0.0</td>\n",
       "      <td>0.000</td>\n",
       "      <td>m1</td>\n",
       "      <td>aire</td>\n",
       "      <td>NaN</td>\n",
       "      <td>NaN</td>\n",
       "    </tr>\n",
       "    <tr>\n",
       "      <th>1</th>\n",
       "      <td>Exp_1010_M0.csv</td>\n",
       "      <td>3830000.0</td>\n",
       "      <td>0.065</td>\n",
       "      <td>m1</td>\n",
       "      <td>1010_M0</td>\n",
       "      <td>32.973152</td>\n",
       "      <td>0.884933</td>\n",
       "    </tr>\n",
       "  </tbody>\n",
       "</table>\n",
       "</div>"
      ],
      "text/plain": [
       "             archivo  conductividad  espesor bobina muestras      mueff  \\\n",
       "0  Exp_1010_Aire.csv            0.0    0.000     m1     aire        NaN   \n",
       "1    Exp_1010_M0.csv      3830000.0    0.065     m1  1010_M0  32.973152   \n",
       "\n",
       "         R2  \n",
       "0       NaN  \n",
       "1  0.884933  "
      ]
     },
     "execution_count": 25,
     "metadata": {},
     "output_type": "execute_result"
    }
   ],
   "source": [
    "exp1.info"
   ]
  },
  {
   "cell_type": "code",
   "execution_count": 26,
   "id": "a34dce96",
   "metadata": {},
   "outputs": [
    {
     "data": {
      "application/vnd.plotly.v1+json": {
       "config": {
        "plotlyServerURL": "https://plot.ly"
       },
       "data": [
        {
         "hovertemplate": "repeticion=1<br>f=%{x}<br>idznorm=%{y}<extra></extra>",
         "legendgroup": "1",
         "marker": {
          "color": "#636efa",
          "symbol": "circle"
         },
         "mode": "markers",
         "name": "1",
         "orientation": "v",
         "showlegend": true,
         "type": "scatter",
         "x": [
          100,
          125.8925,
          158.4893,
          199.5262,
          251.1886,
          316.2278,
          398.1072,
          501.1872,
          630.9573,
          794.3282,
          1000,
          1258.925,
          1584.893,
          1995.262,
          2511.886,
          3162.278,
          3981.072,
          5011.873,
          6309.573,
          7943.282,
          10000,
          12589.25,
          15848.93,
          19952.62,
          25118.87,
          31622.78,
          39810.72,
          50118.72,
          63095.73,
          79432.83,
          100000,
          125892.5,
          158489.3,
          199526.2,
          251188.6,
          316227.8,
          398107.2,
          501187.3,
          630957.3,
          794328.3,
          1000000
         ],
         "xaxis": "x",
         "y": [
          0.9980304690482502,
          0.9895637427203393,
          1.002530667605892,
          1.0020974313629183,
          1.0026211131064067,
          1.00165247440678,
          1.0048275366592871,
          1.0007781000280962,
          0.9999131127125529,
          1.0023425619987651,
          1.0018747545133257,
          1.0009993615663837,
          1.0016874870971084,
          1.0010986260617596,
          1.0016059923493874,
          0.9988269398352566,
          1.0022112842637767,
          0.9973247185158693,
          1.0004508296161103,
          1.000783373833624,
          1.001535901673742,
          0.998789554141016,
          1.0011259903462513,
          1.0015463370883575,
          1.0020647585067581,
          1.000958112177874,
          1.0013488466095268,
          1.0033633387280423,
          1.0022787985654076,
          0.9985900398685038,
          1.0004253114920072,
          1.001595215547858,
          1.0030809397667748,
          1.0032280662266742,
          1.0041967424010225,
          1.007870525670769,
          1.0107713982423527,
          1.0155828047302518,
          1.0232067941564267,
          1.0326922109259342,
          1.0513354092431375
         ],
         "yaxis": "y"
        },
        {
         "hovertemplate": "repeticion=2<br>f=%{x}<br>idznorm=%{y}<extra></extra>",
         "legendgroup": "2",
         "marker": {
          "color": "#EF553B",
          "symbol": "circle"
         },
         "mode": "markers",
         "name": "2",
         "orientation": "v",
         "showlegend": true,
         "type": "scatter",
         "x": [
          100,
          125.8925,
          158.4893,
          199.5262,
          251.1886,
          316.2278,
          398.1072,
          501.1872,
          630.9573,
          794.3282,
          1000,
          1258.925,
          1584.893,
          1995.262,
          2511.886,
          3162.278,
          3981.072,
          5011.873,
          6309.573,
          7943.282,
          10000,
          12589.25,
          15848.93,
          19952.62,
          25118.87,
          31622.78,
          39810.72,
          50118.72,
          63095.73,
          79432.83,
          100000,
          125892.5,
          158489.3,
          199526.2,
          251188.6,
          316227.8,
          398107.2,
          501187.3,
          630957.3,
          794328.3,
          1000000
         ],
         "xaxis": "x",
         "y": [
          0.9889941109486561,
          1.0120426790333203,
          0.9962561218102591,
          0.9889543848580632,
          1.0027372955319191,
          1.0011173707986627,
          1.0035585638117372,
          1.0000132615111132,
          1.001326885245502,
          1.0016072266773801,
          1.000890810580385,
          1.0011188015231445,
          0.9995248827620601,
          1.0014520821353896,
          1.0014404028837074,
          1.000052789202338,
          1.002846249464932,
          0.9996555739953763,
          1.0005797205592852,
          1.0006969892635993,
          1.0014795673891612,
          0.9992074257643879,
          1.0007462250521209,
          1.001403680943325,
          1.0022370928922493,
          1.0009787394508778,
          1.000084874325726,
          0.9986957109608628,
          1.0019478442165264,
          0.9992251263496603,
          1.0018705188528307,
          1.0056380057462775,
          1.003978372460434,
          1.0038171596827243,
          1.0054644629743235,
          1.0082361909649267,
          1.0104893451679118,
          1.015008119550388,
          1.020722958272328,
          1.0316646612624678,
          1.0511596293326035
         ],
         "yaxis": "y"
        },
        {
         "hovertemplate": "repeticion=3<br>f=%{x}<br>idznorm=%{y}<extra></extra>",
         "legendgroup": "3",
         "marker": {
          "color": "#00cc96",
          "symbol": "circle"
         },
         "mode": "markers",
         "name": "3",
         "orientation": "v",
         "showlegend": true,
         "type": "scatter",
         "x": [
          100,
          125.8925,
          158.4893,
          199.5262,
          251.1886,
          316.2278,
          398.1072,
          501.1872,
          630.9573,
          794.3282,
          1000,
          1258.925,
          1584.893,
          1995.262,
          2511.886,
          3162.278,
          3981.072,
          5011.873,
          6309.573,
          7943.282,
          10000,
          12589.25,
          15848.93,
          19952.62,
          25118.87,
          31622.78,
          39810.72,
          50118.72,
          63095.73,
          79432.83,
          100000,
          125892.5,
          158489.3,
          199526.2,
          251188.6,
          316227.8,
          398107.2,
          501187.3,
          630957.3,
          794328.3,
          1000000
         ],
         "xaxis": "x",
         "y": [
          0.9983803346051202,
          1.001228484413015,
          0.9998022904857108,
          0.9894430670691722,
          1.008155376103977,
          1.0006253969431895,
          1.002852633163335,
          1.0011161502013484,
          0.9996304924673622,
          1.001233426778692,
          1.0021449896528936,
          1.000921305031261,
          1.0021113489947093,
          1.0019165637504661,
          1.0017997421417155,
          1.0013166784754783,
          0.9998384635673688,
          1.002316873453305,
          1.0020666655547656,
          1.0010526590673439,
          1.0019840345540911,
          1.0004307600820854,
          1.0010214947586331,
          1.001486472456067,
          1.000971902193287,
          1.001772755518192,
          0.9994093726397115,
          1.0030168373004587,
          1.0028044319430425,
          0.9982258383012242,
          1.0016269683743801,
          1.005823053566611,
          1.0052598464824998,
          1.0051259024418409,
          1.0063116335197162,
          1.0063088803723856,
          1.0099488587031216,
          1.0156436537492963,
          1.0240546548919987,
          1.0333779550189377,
          1.0501862745508996
         ],
         "yaxis": "y"
        },
        {
         "hovertemplate": "repeticion=4<br>f=%{x}<br>idznorm=%{y}<extra></extra>",
         "legendgroup": "4",
         "marker": {
          "color": "#ab63fa",
          "symbol": "circle"
         },
         "mode": "markers",
         "name": "4",
         "orientation": "v",
         "showlegend": true,
         "type": "scatter",
         "x": [
          100,
          125.8925,
          158.4893,
          199.5262,
          251.1886,
          316.2278,
          398.1072,
          501.1872,
          630.9573,
          794.3282,
          1000,
          1258.925,
          1584.893,
          1995.262,
          2511.886,
          3162.278,
          3981.072,
          5011.873,
          6309.573,
          7943.282,
          10000,
          12589.25,
          15848.93,
          19952.62,
          25118.87,
          31622.78,
          39810.72,
          50118.72,
          63095.73,
          79432.83,
          100000,
          125892.5,
          158489.3,
          199526.2,
          251188.6,
          316227.8,
          398107.2,
          501187.3,
          630957.3,
          794328.3,
          1000000
         ],
         "xaxis": "x",
         "y": [
          0.9990741357941675,
          0.9956087503347697,
          0.9895521018220382,
          0.9957063511510827,
          1.0020562203263377,
          1.002271158653562,
          1.0014122580136637,
          1.0035399699435665,
          1.0023372022740338,
          1.0006079385031412,
          1.0015939302225207,
          1.0009946512582295,
          1.0002678437175019,
          1.0010090413992538,
          1.0015754712767926,
          0.9988294847585493,
          1.0033493912940645,
          1.0018588155599428,
          0.9999520485183035,
          1.0012830179207435,
          0.9993613135757147,
          0.9989130315047661,
          1.0011740957318553,
          1.0013191911431418,
          1.0017600537762472,
          1.0013358323718393,
          0.9987430209214081,
          0.9991672909525495,
          1.00007288377753,
          1.0032841341536596,
          1.0030840355845896,
          1.0012456433927186,
          1.0041769408021224,
          1.0053328812236964,
          1.006232717155217,
          1.0051450467676466,
          1.0107241588741702,
          1.0156537952524702,
          1.0213291484894473,
          1.033239846371902,
          1.0519699111852576
         ],
         "yaxis": "y"
        },
        {
         "hovertemplate": "repeticion=5<br>f=%{x}<br>idznorm=%{y}<extra></extra>",
         "legendgroup": "5",
         "marker": {
          "color": "#FFA15A",
          "symbol": "circle"
         },
         "mode": "markers",
         "name": "5",
         "orientation": "v",
         "showlegend": true,
         "type": "scatter",
         "x": [
          100,
          125.8925,
          158.4893,
          199.5262,
          251.1886,
          316.2278,
          398.1072,
          501.1872,
          630.9573,
          794.3282,
          1000,
          1258.925,
          1584.893,
          1995.262,
          2511.886,
          3162.278,
          3981.072,
          5011.873,
          6309.573,
          7943.282,
          10000,
          12589.25,
          15848.93,
          19952.62,
          25118.87,
          31622.78,
          39810.72,
          50118.72,
          63095.73,
          79432.83,
          100000,
          125892.5,
          158489.3,
          199526.2,
          251188.6,
          316227.8,
          398107.2,
          501187.3,
          630957.3,
          794328.3,
          1000000
         ],
         "xaxis": "x",
         "y": [
          0.9981503382402529,
          0.9981291016477156,
          0.9970437138734558,
          0.9939728242458197,
          1.0000043948493593,
          0.9999594307004962,
          1.0039054114249688,
          1.0021717118673283,
          1.0013638071302655,
          1.000395709744685,
          1.001362663159505,
          1.001342541160457,
          0.9997501763179729,
          1.0009411099016194,
          1.0012410884759337,
          1.0004098821232996,
          1.0027170859672438,
          1.0034155362971624,
          0.9997553555685629,
          1.0006314009789508,
          0.9997145676609804,
          1.0000835430810227,
          1.0010744106827978,
          1.0018881174358316,
          1.0002108991779044,
          1.000894355152226,
          1.0013552303079298,
          1.0052378269387257,
          1.0002991142350814,
          0.9989867689549693,
          1.0021987825411776,
          1.005004469299571,
          1.0047285492237163,
          1.004542965277764,
          1.0047120595162138,
          1.0076689409573227,
          1.0112678371881618,
          1.0159216999613188,
          1.0217272335378988,
          1.0332499778942714,
          1.0519749939778513
         ],
         "yaxis": "y"
        },
        {
         "hovertemplate": "repeticion=6<br>f=%{x}<br>idznorm=%{y}<extra></extra>",
         "legendgroup": "6",
         "marker": {
          "color": "#19d3f3",
          "symbol": "circle"
         },
         "mode": "markers",
         "name": "6",
         "orientation": "v",
         "showlegend": true,
         "type": "scatter",
         "x": [
          100,
          125.8925,
          158.4893,
          199.5262,
          251.1886,
          316.2278,
          398.1072,
          501.1872,
          630.9573,
          794.3282,
          1000,
          1258.925,
          1584.893,
          1995.262,
          2511.886,
          3162.278,
          3981.072,
          5011.873,
          6309.573,
          7943.282,
          10000,
          12589.25,
          15848.93,
          19952.62,
          25118.87,
          31622.78,
          39810.72,
          50118.72,
          63095.73,
          79432.83,
          100000,
          125892.5,
          158489.3,
          199526.2,
          251188.6,
          316227.8,
          398107.2,
          501187.3,
          630957.3,
          794328.3,
          1000000
         ],
         "xaxis": "x",
         "y": [
          0.9970122162653016,
          1.0095549634268697,
          1.012943612824192,
          0.9946529883658862,
          1.0066556279290717,
          1.002136009832388,
          1.004373017332991,
          1.0033278434598507,
          1.001269824150867,
          1.002000223147185,
          1.0014096789909972,
          1.001336148599391,
          1.0018355447839122,
          1.0011604012674211,
          1.0011264236728155,
          0.9995562612736043,
          1.002330021054073,
          1.0029549430280067,
          1.0024036616666083,
          1.0010227977344957,
          0.9994523802763526,
          1.0003776008900622,
          1.0007756227877675,
          1.001539331652664,
          1.0001056774004615,
          1.0007278635915526,
          1.0000858318804864,
          1.0011778443579669,
          1.000931485425033,
          1.001052533042291,
          1.0030293955642067,
          1.0039789679243394,
          1.0037081805446242,
          1.0034549998859597,
          1.0053270338352918,
          1.0060026859172777,
          1.0112498564376602,
          1.01502164155462,
          1.0218722358489705,
          1.0333059678863128,
          1.0517958255389215
         ],
         "yaxis": "y"
        },
        {
         "hovertemplate": "repeticion=7<br>f=%{x}<br>idznorm=%{y}<extra></extra>",
         "legendgroup": "7",
         "marker": {
          "color": "#FF6692",
          "symbol": "circle"
         },
         "mode": "markers",
         "name": "7",
         "orientation": "v",
         "showlegend": true,
         "type": "scatter",
         "x": [
          100,
          125.8925,
          158.4893,
          199.5262,
          251.1886,
          316.2278,
          398.1072,
          501.1872,
          630.9573,
          794.3282,
          1000,
          1258.925,
          1584.893,
          1995.262,
          2511.886,
          3162.278,
          3981.072,
          5011.873,
          6309.573,
          7943.282,
          10000,
          12589.25,
          15848.93,
          19952.62,
          25118.87,
          31622.78,
          39810.72,
          50118.72,
          63095.73,
          79432.83,
          100000,
          125892.5,
          158489.3,
          199526.2,
          251188.6,
          316227.8,
          398107.2,
          501187.3,
          630957.3,
          794328.3,
          1000000
         ],
         "xaxis": "x",
         "y": [
          0.9948270390160373,
          0.9944385752090954,
          0.9917040160713967,
          1.008706529224975,
          1.0079656733047,
          1.0020318019207195,
          1.0019124207835415,
          1.0017009770010745,
          1.0013832750331408,
          1.0022407135242295,
          1.000995854960656,
          1.0014064667711178,
          1.0013376540429093,
          1.0010773974687488,
          1.0013221969616692,
          0.9978993822667426,
          1.0030126512033044,
          1.0041533306530759,
          1.0019807382593158,
          1.0008857555462463,
          0.9992507628368005,
          1.002326322663468,
          1.0014490981862256,
          1.0008581061029471,
          0.9997800632141767,
          1.0014594620665307,
          1.0027596439565973,
          1.0001155216885218,
          1.0002165434746102,
          1.0020571534709213,
          0.9996179946016992,
          1.004299268878808,
          1.0044754614450102,
          1.0029692896778724,
          1.006782939585475,
          1.0056189382734086,
          1.0114931817417891,
          1.0150224866798845,
          1.0202060518856373,
          1.033651506122912,
          1.0524642127650001
         ],
         "yaxis": "y"
        },
        {
         "hovertemplate": "repeticion=8<br>f=%{x}<br>idznorm=%{y}<extra></extra>",
         "legendgroup": "8",
         "marker": {
          "color": "#B6E880",
          "symbol": "circle"
         },
         "mode": "markers",
         "name": "8",
         "orientation": "v",
         "showlegend": true,
         "type": "scatter",
         "x": [
          100,
          125.8925,
          158.4893,
          199.5262,
          251.1886,
          316.2278,
          398.1072,
          501.1872,
          630.9573,
          794.3282,
          1000,
          1258.925,
          1584.893,
          1995.262,
          2511.886,
          3162.278,
          3981.072,
          5011.873,
          6309.573,
          7943.282,
          10000,
          12589.25,
          15848.93,
          19952.62,
          25118.87,
          31622.78,
          39810.72,
          50118.72,
          63095.73,
          79432.83,
          100000,
          125892.5,
          158489.3,
          199526.2,
          251188.6,
          316227.8,
          398107.2,
          501187.3,
          630957.3,
          794328.3,
          1000000
         ],
         "xaxis": "x",
         "y": [
          0.9971240377023642,
          0.9956215354569018,
          1.0047004877487808,
          0.9933839430756997,
          1.003894735544574,
          1.0059442866248773,
          0.9989934746887539,
          0.9991546140710525,
          0.9987759186618332,
          1.0004762286957576,
          1.0001131433135408,
          1.0000219726244388,
          1.001181311539696,
          1.0015378456511532,
          1.0008304873059435,
          1.0038023988157645,
          0.9980131514039945,
          1.0026819675675713,
          1.0000990647503625,
          1.0012414253499908,
          1.0022767186942816,
          0.998385813442106,
          1.0007002576836546,
          1.0010852520481628,
          1.0022273126629357,
          1.000965746947752,
          1.0027595375616238,
          0.999791838647633,
          0.9998090601282188,
          1.0043991348523145,
          1.0049079109936478,
          1.002729390461213,
          1.003220712637169,
          1.0032877185730344,
          1.007992990507796,
          1.0090827128180686,
          1.0099459860388402,
          1.015411244301557,
          1.0214728081865276,
          1.033919191608672,
          1.050736910415223
         ],
         "yaxis": "y"
        },
        {
         "hovertemplate": "repeticion=9<br>f=%{x}<br>idznorm=%{y}<extra></extra>",
         "legendgroup": "9",
         "marker": {
          "color": "#FF97FF",
          "symbol": "circle"
         },
         "mode": "markers",
         "name": "9",
         "orientation": "v",
         "showlegend": true,
         "type": "scatter",
         "x": [
          100,
          125.8925,
          158.4893,
          199.5262,
          251.1886,
          316.2278,
          398.1072,
          501.1872,
          630.9573,
          794.3282,
          1000,
          1258.925,
          1584.893,
          1995.262,
          2511.886,
          3162.278,
          3981.072,
          5011.873,
          6309.573,
          7943.282,
          10000,
          12589.25,
          15848.93,
          19952.62,
          25118.87,
          31622.78,
          39810.72,
          50118.72,
          63095.73,
          79432.83,
          100000,
          125892.5,
          158489.3,
          199526.2,
          251188.6,
          316227.8,
          398107.2,
          501187.3,
          630957.3,
          794328.3,
          1000000
         ],
         "xaxis": "x",
         "y": [
          0.9989017444120294,
          1.0039490238225037,
          1.0090449385731188,
          0.9937522591644373,
          1.0052049495449127,
          1.0023242002127146,
          1.0013900214642264,
          0.9998907183233092,
          1.0041034109797264,
          1.0018578485780698,
          1.0012004373625545,
          1.0009233237347555,
          1.0022401645272714,
          1.0010848274763025,
          1.001249013837326,
          0.9991555028266739,
          1.001360869241519,
          1.0044516598714464,
          1.0008408589806133,
          1.000706054311071,
          1.0003058658660537,
          1.0030574297790775,
          1.0005409754068766,
          1.0011472395397543,
          1.0020919070743357,
          1.0014081617706836,
          1.003876684782155,
          0.9995399912685601,
          1.0027936910311113,
          1.0047628031815745,
          1.0040366356298687,
          1.0025059872744828,
          1.0037183361260296,
          1.004140471154279,
          1.0063816127745606,
          1.0088179068522993,
          1.0110366409109988,
          1.015211794739134,
          1.0225885204133849,
          1.0334110157761431,
          1.0531796158225708
         ],
         "yaxis": "y"
        },
        {
         "hovertemplate": "repeticion=10<br>f=%{x}<br>idznorm=%{y}<extra></extra>",
         "legendgroup": "10",
         "marker": {
          "color": "#FECB52",
          "symbol": "circle"
         },
         "mode": "markers",
         "name": "10",
         "orientation": "v",
         "showlegend": true,
         "type": "scatter",
         "x": [
          100,
          125.8925,
          158.4893,
          199.5262,
          251.1886,
          316.2278,
          398.1072,
          501.1872,
          630.9573,
          794.3282,
          1000,
          1258.925,
          1584.893,
          1995.262,
          2511.886,
          3162.278,
          3981.072,
          5011.873,
          6309.573,
          7943.282,
          10000,
          12589.25,
          15848.93,
          19952.62,
          25118.87,
          31622.78,
          39810.72,
          50118.72,
          63095.73,
          79432.83,
          100000,
          125892.5,
          158489.3,
          199526.2,
          251188.6,
          316227.8,
          398107.2,
          501187.3,
          630957.3,
          794328.3,
          1000000
         ],
         "xaxis": "x",
         "y": [
          1.000606597761184,
          1.00717423910563,
          0.9903282020431182,
          0.9941995456191751,
          1.0080788204854243,
          1.0005908395637417,
          1.0004747055082046,
          0.9987109232186592,
          1.0004548574580847,
          1.0003162572697857,
          1.0032898886846364,
          1.001894320115634,
          1.0007676052235004,
          1.000989935665544,
          1.001221022135388,
          1.0030249917215184,
          1.0012658585302874,
          0.9990935656944799,
          0.9990947894847918,
          1.0010745218288932,
          1.0007171485000983,
          1.0028451294615672,
          1.0011719577147173,
          1.0011565801206792,
          1.0021062401690193,
          1.0006073145934786,
          1.0006190834870865,
          1.0028613342207626,
          1.0012040360652883,
          0.998760142796706,
          1.0018578118713466,
          1.0031960474190365,
          1.004835717332757,
          1.000711416525242,
          1.0046619779772046,
          1.0074076175181645,
          1.0104003989701629,
          1.0149743145398076,
          1.023268554400031,
          1.032838851381281,
          1.0527666389243284
         ],
         "yaxis": "y"
        },
        {
         "hovertemplate": "repeticion=11<br>f=%{x}<br>idznorm=%{y}<extra></extra>",
         "legendgroup": "11",
         "marker": {
          "color": "#636efa",
          "symbol": "circle"
         },
         "mode": "markers",
         "name": "11",
         "orientation": "v",
         "showlegend": true,
         "type": "scatter",
         "x": [
          100,
          125.8925,
          158.4893,
          199.5262,
          251.1886,
          316.2278,
          398.1072,
          501.1872,
          630.9573,
          794.3282,
          1000,
          1258.925,
          1584.893,
          1995.262,
          2511.886,
          3162.278,
          3981.072,
          5011.873,
          6309.573,
          7943.282,
          10000,
          12589.25,
          15848.93,
          19952.62,
          25118.87,
          31622.78,
          39810.72,
          50118.72,
          63095.73,
          79432.83,
          100000,
          125892.5,
          158489.3,
          199526.2,
          251188.6,
          316227.8,
          398107.2,
          501187.3,
          630957.3,
          794328.3,
          1000000
         ],
         "xaxis": "x",
         "y": [
          0.9964933478546893,
          1.0016180941874633,
          1.0096320915296317,
          1.0096730670647576,
          1.0044456324736737,
          1.0036624280346673,
          1.0005060920253528,
          1.0008845858326707,
          1.0044847133532855,
          1.0011849021128139,
          1.001881108004068,
          1.0012580920642684,
          1.0007980719677163,
          1.001478617876653,
          1.001753876220468,
          1.0033934698256313,
          1.0007320749488202,
          1.002636330803288,
          1.0022015982609018,
          1.0012115640171428,
          1.0020920438967085,
          0.9999153177898101,
          1.000781235082755,
          1.001352732320099,
          1.0010418814202722,
          1.001582288101235,
          0.9994541649235061,
          0.9980779242692446,
          1.0014718875565733,
          1.00275729499045,
          1.0055525785209556,
          1.0035486476294178,
          1.0043346195660472,
          1.0041220022783595,
          1.0024636176268293,
          1.008100104540434,
          1.0105243491141551,
          1.0156571757535282,
          1.0207001338344743,
          1.0332798392233602,
          1.0521812706439477
         ],
         "yaxis": "y"
        },
        {
         "hovertemplate": "repeticion=12<br>f=%{x}<br>idznorm=%{y}<extra></extra>",
         "legendgroup": "12",
         "marker": {
          "color": "#EF553B",
          "symbol": "circle"
         },
         "mode": "markers",
         "name": "12",
         "orientation": "v",
         "showlegend": true,
         "type": "scatter",
         "x": [
          100,
          125.8925,
          158.4893,
          199.5262,
          251.1886,
          316.2278,
          398.1072,
          501.1872,
          630.9573,
          794.3282,
          1000,
          1258.925,
          1584.893,
          1995.262,
          2511.886,
          3162.278,
          3981.072,
          5011.873,
          6309.573,
          7943.282,
          10000,
          12589.25,
          15848.93,
          19952.62,
          25118.87,
          31622.78,
          39810.72,
          50118.72,
          63095.73,
          79432.83,
          100000,
          125892.5,
          158489.3,
          199526.2,
          251188.6,
          316227.8,
          398107.2,
          501187.3,
          630957.3,
          794328.3,
          1000000
         ],
         "xaxis": "x",
         "y": [
          0.996509866930619,
          0.9886546532466268,
          1.0086876224589372,
          0.9998584516580677,
          1.0006893484232815,
          0.9995628244968326,
          1.0040287231991207,
          1.0024286299989997,
          1.0034133073881446,
          1.0013432738245263,
          1.0011627399841507,
          1.001656786004442,
          1.0011553880818982,
          1.0015178907737232,
          1.0013272557029833,
          1.0019713934783514,
          1.0001265811552924,
          0.9980929373813051,
          1.001914950173737,
          1.0013155454440246,
          1.0022890021097164,
          1.0032347392360155,
          1.0006772739994214,
          1.0011145475065177,
          1.0025741735542812,
          1.0009185988951719,
          0.9994207569018636,
          1.003912670259577,
          1.0030904087232115,
          1.0026618453849696,
          1.003394509498858,
          1.0031842716486516,
          1.0017967932232865,
          1.0034288887165563,
          1.0054442280090672,
          1.0083733489360684,
          1.01005067869265,
          1.0153377184035453,
          1.0220098537830893,
          1.0334595404359124,
          1.052016079884651
         ],
         "yaxis": "y"
        }
       ],
       "layout": {
        "legend": {
         "title": {
          "text": "repeticion"
         },
         "tracegroupgap": 0
        },
        "margin": {
         "t": 60
        },
        "template": {
         "data": {
          "bar": [
           {
            "error_x": {
             "color": "#2a3f5f"
            },
            "error_y": {
             "color": "#2a3f5f"
            },
            "marker": {
             "line": {
              "color": "#E5ECF6",
              "width": 0.5
             },
             "pattern": {
              "fillmode": "overlay",
              "size": 10,
              "solidity": 0.2
             }
            },
            "type": "bar"
           }
          ],
          "barpolar": [
           {
            "marker": {
             "line": {
              "color": "#E5ECF6",
              "width": 0.5
             },
             "pattern": {
              "fillmode": "overlay",
              "size": 10,
              "solidity": 0.2
             }
            },
            "type": "barpolar"
           }
          ],
          "carpet": [
           {
            "aaxis": {
             "endlinecolor": "#2a3f5f",
             "gridcolor": "white",
             "linecolor": "white",
             "minorgridcolor": "white",
             "startlinecolor": "#2a3f5f"
            },
            "baxis": {
             "endlinecolor": "#2a3f5f",
             "gridcolor": "white",
             "linecolor": "white",
             "minorgridcolor": "white",
             "startlinecolor": "#2a3f5f"
            },
            "type": "carpet"
           }
          ],
          "choropleth": [
           {
            "colorbar": {
             "outlinewidth": 0,
             "ticks": ""
            },
            "type": "choropleth"
           }
          ],
          "contour": [
           {
            "colorbar": {
             "outlinewidth": 0,
             "ticks": ""
            },
            "colorscale": [
             [
              0,
              "#0d0887"
             ],
             [
              0.1111111111111111,
              "#46039f"
             ],
             [
              0.2222222222222222,
              "#7201a8"
             ],
             [
              0.3333333333333333,
              "#9c179e"
             ],
             [
              0.4444444444444444,
              "#bd3786"
             ],
             [
              0.5555555555555556,
              "#d8576b"
             ],
             [
              0.6666666666666666,
              "#ed7953"
             ],
             [
              0.7777777777777778,
              "#fb9f3a"
             ],
             [
              0.8888888888888888,
              "#fdca26"
             ],
             [
              1,
              "#f0f921"
             ]
            ],
            "type": "contour"
           }
          ],
          "contourcarpet": [
           {
            "colorbar": {
             "outlinewidth": 0,
             "ticks": ""
            },
            "type": "contourcarpet"
           }
          ],
          "heatmap": [
           {
            "colorbar": {
             "outlinewidth": 0,
             "ticks": ""
            },
            "colorscale": [
             [
              0,
              "#0d0887"
             ],
             [
              0.1111111111111111,
              "#46039f"
             ],
             [
              0.2222222222222222,
              "#7201a8"
             ],
             [
              0.3333333333333333,
              "#9c179e"
             ],
             [
              0.4444444444444444,
              "#bd3786"
             ],
             [
              0.5555555555555556,
              "#d8576b"
             ],
             [
              0.6666666666666666,
              "#ed7953"
             ],
             [
              0.7777777777777778,
              "#fb9f3a"
             ],
             [
              0.8888888888888888,
              "#fdca26"
             ],
             [
              1,
              "#f0f921"
             ]
            ],
            "type": "heatmap"
           }
          ],
          "heatmapgl": [
           {
            "colorbar": {
             "outlinewidth": 0,
             "ticks": ""
            },
            "colorscale": [
             [
              0,
              "#0d0887"
             ],
             [
              0.1111111111111111,
              "#46039f"
             ],
             [
              0.2222222222222222,
              "#7201a8"
             ],
             [
              0.3333333333333333,
              "#9c179e"
             ],
             [
              0.4444444444444444,
              "#bd3786"
             ],
             [
              0.5555555555555556,
              "#d8576b"
             ],
             [
              0.6666666666666666,
              "#ed7953"
             ],
             [
              0.7777777777777778,
              "#fb9f3a"
             ],
             [
              0.8888888888888888,
              "#fdca26"
             ],
             [
              1,
              "#f0f921"
             ]
            ],
            "type": "heatmapgl"
           }
          ],
          "histogram": [
           {
            "marker": {
             "pattern": {
              "fillmode": "overlay",
              "size": 10,
              "solidity": 0.2
             }
            },
            "type": "histogram"
           }
          ],
          "histogram2d": [
           {
            "colorbar": {
             "outlinewidth": 0,
             "ticks": ""
            },
            "colorscale": [
             [
              0,
              "#0d0887"
             ],
             [
              0.1111111111111111,
              "#46039f"
             ],
             [
              0.2222222222222222,
              "#7201a8"
             ],
             [
              0.3333333333333333,
              "#9c179e"
             ],
             [
              0.4444444444444444,
              "#bd3786"
             ],
             [
              0.5555555555555556,
              "#d8576b"
             ],
             [
              0.6666666666666666,
              "#ed7953"
             ],
             [
              0.7777777777777778,
              "#fb9f3a"
             ],
             [
              0.8888888888888888,
              "#fdca26"
             ],
             [
              1,
              "#f0f921"
             ]
            ],
            "type": "histogram2d"
           }
          ],
          "histogram2dcontour": [
           {
            "colorbar": {
             "outlinewidth": 0,
             "ticks": ""
            },
            "colorscale": [
             [
              0,
              "#0d0887"
             ],
             [
              0.1111111111111111,
              "#46039f"
             ],
             [
              0.2222222222222222,
              "#7201a8"
             ],
             [
              0.3333333333333333,
              "#9c179e"
             ],
             [
              0.4444444444444444,
              "#bd3786"
             ],
             [
              0.5555555555555556,
              "#d8576b"
             ],
             [
              0.6666666666666666,
              "#ed7953"
             ],
             [
              0.7777777777777778,
              "#fb9f3a"
             ],
             [
              0.8888888888888888,
              "#fdca26"
             ],
             [
              1,
              "#f0f921"
             ]
            ],
            "type": "histogram2dcontour"
           }
          ],
          "mesh3d": [
           {
            "colorbar": {
             "outlinewidth": 0,
             "ticks": ""
            },
            "type": "mesh3d"
           }
          ],
          "parcoords": [
           {
            "line": {
             "colorbar": {
              "outlinewidth": 0,
              "ticks": ""
             }
            },
            "type": "parcoords"
           }
          ],
          "pie": [
           {
            "automargin": true,
            "type": "pie"
           }
          ],
          "scatter": [
           {
            "fillpattern": {
             "fillmode": "overlay",
             "size": 10,
             "solidity": 0.2
            },
            "type": "scatter"
           }
          ],
          "scatter3d": [
           {
            "line": {
             "colorbar": {
              "outlinewidth": 0,
              "ticks": ""
             }
            },
            "marker": {
             "colorbar": {
              "outlinewidth": 0,
              "ticks": ""
             }
            },
            "type": "scatter3d"
           }
          ],
          "scattercarpet": [
           {
            "marker": {
             "colorbar": {
              "outlinewidth": 0,
              "ticks": ""
             }
            },
            "type": "scattercarpet"
           }
          ],
          "scattergeo": [
           {
            "marker": {
             "colorbar": {
              "outlinewidth": 0,
              "ticks": ""
             }
            },
            "type": "scattergeo"
           }
          ],
          "scattergl": [
           {
            "marker": {
             "colorbar": {
              "outlinewidth": 0,
              "ticks": ""
             }
            },
            "type": "scattergl"
           }
          ],
          "scattermapbox": [
           {
            "marker": {
             "colorbar": {
              "outlinewidth": 0,
              "ticks": ""
             }
            },
            "type": "scattermapbox"
           }
          ],
          "scatterpolar": [
           {
            "marker": {
             "colorbar": {
              "outlinewidth": 0,
              "ticks": ""
             }
            },
            "type": "scatterpolar"
           }
          ],
          "scatterpolargl": [
           {
            "marker": {
             "colorbar": {
              "outlinewidth": 0,
              "ticks": ""
             }
            },
            "type": "scatterpolargl"
           }
          ],
          "scatterternary": [
           {
            "marker": {
             "colorbar": {
              "outlinewidth": 0,
              "ticks": ""
             }
            },
            "type": "scatterternary"
           }
          ],
          "surface": [
           {
            "colorbar": {
             "outlinewidth": 0,
             "ticks": ""
            },
            "colorscale": [
             [
              0,
              "#0d0887"
             ],
             [
              0.1111111111111111,
              "#46039f"
             ],
             [
              0.2222222222222222,
              "#7201a8"
             ],
             [
              0.3333333333333333,
              "#9c179e"
             ],
             [
              0.4444444444444444,
              "#bd3786"
             ],
             [
              0.5555555555555556,
              "#d8576b"
             ],
             [
              0.6666666666666666,
              "#ed7953"
             ],
             [
              0.7777777777777778,
              "#fb9f3a"
             ],
             [
              0.8888888888888888,
              "#fdca26"
             ],
             [
              1,
              "#f0f921"
             ]
            ],
            "type": "surface"
           }
          ],
          "table": [
           {
            "cells": {
             "fill": {
              "color": "#EBF0F8"
             },
             "line": {
              "color": "white"
             }
            },
            "header": {
             "fill": {
              "color": "#C8D4E3"
             },
             "line": {
              "color": "white"
             }
            },
            "type": "table"
           }
          ]
         },
         "layout": {
          "annotationdefaults": {
           "arrowcolor": "#2a3f5f",
           "arrowhead": 0,
           "arrowwidth": 1
          },
          "autotypenumbers": "strict",
          "coloraxis": {
           "colorbar": {
            "outlinewidth": 0,
            "ticks": ""
           }
          },
          "colorscale": {
           "diverging": [
            [
             0,
             "#8e0152"
            ],
            [
             0.1,
             "#c51b7d"
            ],
            [
             0.2,
             "#de77ae"
            ],
            [
             0.3,
             "#f1b6da"
            ],
            [
             0.4,
             "#fde0ef"
            ],
            [
             0.5,
             "#f7f7f7"
            ],
            [
             0.6,
             "#e6f5d0"
            ],
            [
             0.7,
             "#b8e186"
            ],
            [
             0.8,
             "#7fbc41"
            ],
            [
             0.9,
             "#4d9221"
            ],
            [
             1,
             "#276419"
            ]
           ],
           "sequential": [
            [
             0,
             "#0d0887"
            ],
            [
             0.1111111111111111,
             "#46039f"
            ],
            [
             0.2222222222222222,
             "#7201a8"
            ],
            [
             0.3333333333333333,
             "#9c179e"
            ],
            [
             0.4444444444444444,
             "#bd3786"
            ],
            [
             0.5555555555555556,
             "#d8576b"
            ],
            [
             0.6666666666666666,
             "#ed7953"
            ],
            [
             0.7777777777777778,
             "#fb9f3a"
            ],
            [
             0.8888888888888888,
             "#fdca26"
            ],
            [
             1,
             "#f0f921"
            ]
           ],
           "sequentialminus": [
            [
             0,
             "#0d0887"
            ],
            [
             0.1111111111111111,
             "#46039f"
            ],
            [
             0.2222222222222222,
             "#7201a8"
            ],
            [
             0.3333333333333333,
             "#9c179e"
            ],
            [
             0.4444444444444444,
             "#bd3786"
            ],
            [
             0.5555555555555556,
             "#d8576b"
            ],
            [
             0.6666666666666666,
             "#ed7953"
            ],
            [
             0.7777777777777778,
             "#fb9f3a"
            ],
            [
             0.8888888888888888,
             "#fdca26"
            ],
            [
             1,
             "#f0f921"
            ]
           ]
          },
          "colorway": [
           "#636efa",
           "#EF553B",
           "#00cc96",
           "#ab63fa",
           "#FFA15A",
           "#19d3f3",
           "#FF6692",
           "#B6E880",
           "#FF97FF",
           "#FECB52"
          ],
          "font": {
           "color": "#2a3f5f"
          },
          "geo": {
           "bgcolor": "white",
           "lakecolor": "white",
           "landcolor": "#E5ECF6",
           "showlakes": true,
           "showland": true,
           "subunitcolor": "white"
          },
          "hoverlabel": {
           "align": "left"
          },
          "hovermode": "closest",
          "mapbox": {
           "style": "light"
          },
          "paper_bgcolor": "white",
          "plot_bgcolor": "#E5ECF6",
          "polar": {
           "angularaxis": {
            "gridcolor": "white",
            "linecolor": "white",
            "ticks": ""
           },
           "bgcolor": "#E5ECF6",
           "radialaxis": {
            "gridcolor": "white",
            "linecolor": "white",
            "ticks": ""
           }
          },
          "scene": {
           "xaxis": {
            "backgroundcolor": "#E5ECF6",
            "gridcolor": "white",
            "gridwidth": 2,
            "linecolor": "white",
            "showbackground": true,
            "ticks": "",
            "zerolinecolor": "white"
           },
           "yaxis": {
            "backgroundcolor": "#E5ECF6",
            "gridcolor": "white",
            "gridwidth": 2,
            "linecolor": "white",
            "showbackground": true,
            "ticks": "",
            "zerolinecolor": "white"
           },
           "zaxis": {
            "backgroundcolor": "#E5ECF6",
            "gridcolor": "white",
            "gridwidth": 2,
            "linecolor": "white",
            "showbackground": true,
            "ticks": "",
            "zerolinecolor": "white"
           }
          },
          "shapedefaults": {
           "line": {
            "color": "#2a3f5f"
           }
          },
          "ternary": {
           "aaxis": {
            "gridcolor": "white",
            "linecolor": "white",
            "ticks": ""
           },
           "baxis": {
            "gridcolor": "white",
            "linecolor": "white",
            "ticks": ""
           },
           "bgcolor": "#E5ECF6",
           "caxis": {
            "gridcolor": "white",
            "linecolor": "white",
            "ticks": ""
           }
          },
          "title": {
           "x": 0.05
          },
          "xaxis": {
           "automargin": true,
           "gridcolor": "white",
           "linecolor": "white",
           "ticks": "",
           "title": {
            "standoff": 15
           },
           "zerolinecolor": "white",
           "zerolinewidth": 2
          },
          "yaxis": {
           "automargin": true,
           "gridcolor": "white",
           "linecolor": "white",
           "ticks": "",
           "title": {
            "standoff": 15
           },
           "zerolinecolor": "white",
           "zerolinewidth": 2
          }
         }
        },
        "xaxis": {
         "anchor": "y",
         "domain": [
          0,
          1
         ],
         "title": {
          "text": "f"
         },
         "type": "log"
        },
        "yaxis": {
         "anchor": "x",
         "domain": [
          0,
          1
         ],
         "title": {
          "text": "idznorm"
         }
        }
       }
      },
      "text/html": [
       "<div>                            <div id=\"cef33c80-7947-427e-8527-ee75611e27fa\" class=\"plotly-graph-div\" style=\"height:525px; width:100%;\"></div>            <script type=\"text/javascript\">                require([\"plotly\"], function(Plotly) {                    window.PLOTLYENV=window.PLOTLYENV || {};                                    if (document.getElementById(\"cef33c80-7947-427e-8527-ee75611e27fa\")) {                    Plotly.newPlot(                        \"cef33c80-7947-427e-8527-ee75611e27fa\",                        [{\"hovertemplate\":\"repeticion=1<br>f=%{x}<br>idznorm=%{y}<extra></extra>\",\"legendgroup\":\"1\",\"marker\":{\"color\":\"#636efa\",\"symbol\":\"circle\"},\"mode\":\"markers\",\"name\":\"1\",\"orientation\":\"v\",\"showlegend\":true,\"x\":[100.0,125.8925,158.4893,199.5262,251.1886,316.2278,398.1072,501.1872,630.9573,794.3282,1000.0,1258.925,1584.893,1995.262,2511.886,3162.278,3981.072,5011.873,6309.573,7943.282,10000.0,12589.25,15848.93,19952.62,25118.87,31622.78,39810.72,50118.72,63095.73,79432.83,100000.0,125892.5,158489.3,199526.2,251188.6,316227.8,398107.2,501187.3,630957.3,794328.3,1000000.0],\"xaxis\":\"x\",\"y\":[0.9980304690482502,0.9895637427203393,1.002530667605892,1.0020974313629183,1.0026211131064067,1.00165247440678,1.0048275366592871,1.0007781000280962,0.9999131127125529,1.0023425619987651,1.0018747545133257,1.0009993615663837,1.0016874870971084,1.0010986260617596,1.0016059923493874,0.9988269398352566,1.0022112842637767,0.9973247185158693,1.0004508296161103,1.000783373833624,1.001535901673742,0.998789554141016,1.0011259903462513,1.0015463370883575,1.0020647585067581,1.000958112177874,1.0013488466095268,1.0033633387280423,1.0022787985654076,0.9985900398685038,1.0004253114920072,1.001595215547858,1.0030809397667748,1.0032280662266742,1.0041967424010225,1.007870525670769,1.0107713982423527,1.0155828047302518,1.0232067941564267,1.0326922109259342,1.0513354092431375],\"yaxis\":\"y\",\"type\":\"scatter\"},{\"hovertemplate\":\"repeticion=2<br>f=%{x}<br>idznorm=%{y}<extra></extra>\",\"legendgroup\":\"2\",\"marker\":{\"color\":\"#EF553B\",\"symbol\":\"circle\"},\"mode\":\"markers\",\"name\":\"2\",\"orientation\":\"v\",\"showlegend\":true,\"x\":[100.0,125.8925,158.4893,199.5262,251.1886,316.2278,398.1072,501.1872,630.9573,794.3282,1000.0,1258.925,1584.893,1995.262,2511.886,3162.278,3981.072,5011.873,6309.573,7943.282,10000.0,12589.25,15848.93,19952.62,25118.87,31622.78,39810.72,50118.72,63095.73,79432.83,100000.0,125892.5,158489.3,199526.2,251188.6,316227.8,398107.2,501187.3,630957.3,794328.3,1000000.0],\"xaxis\":\"x\",\"y\":[0.9889941109486561,1.0120426790333203,0.9962561218102591,0.9889543848580632,1.0027372955319191,1.0011173707986627,1.0035585638117372,1.0000132615111132,1.001326885245502,1.0016072266773801,1.000890810580385,1.0011188015231445,0.9995248827620601,1.0014520821353896,1.0014404028837074,1.000052789202338,1.002846249464932,0.9996555739953763,1.0005797205592852,1.0006969892635993,1.0014795673891612,0.9992074257643879,1.0007462250521209,1.001403680943325,1.0022370928922493,1.0009787394508778,1.000084874325726,0.9986957109608628,1.0019478442165264,0.9992251263496603,1.0018705188528307,1.0056380057462775,1.003978372460434,1.0038171596827243,1.0054644629743235,1.0082361909649267,1.0104893451679118,1.015008119550388,1.020722958272328,1.0316646612624678,1.0511596293326035],\"yaxis\":\"y\",\"type\":\"scatter\"},{\"hovertemplate\":\"repeticion=3<br>f=%{x}<br>idznorm=%{y}<extra></extra>\",\"legendgroup\":\"3\",\"marker\":{\"color\":\"#00cc96\",\"symbol\":\"circle\"},\"mode\":\"markers\",\"name\":\"3\",\"orientation\":\"v\",\"showlegend\":true,\"x\":[100.0,125.8925,158.4893,199.5262,251.1886,316.2278,398.1072,501.1872,630.9573,794.3282,1000.0,1258.925,1584.893,1995.262,2511.886,3162.278,3981.072,5011.873,6309.573,7943.282,10000.0,12589.25,15848.93,19952.62,25118.87,31622.78,39810.72,50118.72,63095.73,79432.83,100000.0,125892.5,158489.3,199526.2,251188.6,316227.8,398107.2,501187.3,630957.3,794328.3,1000000.0],\"xaxis\":\"x\",\"y\":[0.9983803346051202,1.001228484413015,0.9998022904857108,0.9894430670691722,1.008155376103977,1.0006253969431895,1.002852633163335,1.0011161502013484,0.9996304924673622,1.001233426778692,1.0021449896528936,1.000921305031261,1.0021113489947093,1.0019165637504661,1.0017997421417155,1.0013166784754783,0.9998384635673688,1.002316873453305,1.0020666655547656,1.0010526590673439,1.0019840345540911,1.0004307600820854,1.0010214947586331,1.001486472456067,1.000971902193287,1.001772755518192,0.9994093726397115,1.0030168373004587,1.0028044319430425,0.9982258383012242,1.0016269683743801,1.005823053566611,1.0052598464824998,1.0051259024418409,1.0063116335197162,1.0063088803723856,1.0099488587031216,1.0156436537492963,1.0240546548919987,1.0333779550189377,1.0501862745508996],\"yaxis\":\"y\",\"type\":\"scatter\"},{\"hovertemplate\":\"repeticion=4<br>f=%{x}<br>idznorm=%{y}<extra></extra>\",\"legendgroup\":\"4\",\"marker\":{\"color\":\"#ab63fa\",\"symbol\":\"circle\"},\"mode\":\"markers\",\"name\":\"4\",\"orientation\":\"v\",\"showlegend\":true,\"x\":[100.0,125.8925,158.4893,199.5262,251.1886,316.2278,398.1072,501.1872,630.9573,794.3282,1000.0,1258.925,1584.893,1995.262,2511.886,3162.278,3981.072,5011.873,6309.573,7943.282,10000.0,12589.25,15848.93,19952.62,25118.87,31622.78,39810.72,50118.72,63095.73,79432.83,100000.0,125892.5,158489.3,199526.2,251188.6,316227.8,398107.2,501187.3,630957.3,794328.3,1000000.0],\"xaxis\":\"x\",\"y\":[0.9990741357941675,0.9956087503347697,0.9895521018220382,0.9957063511510827,1.0020562203263377,1.002271158653562,1.0014122580136637,1.0035399699435665,1.0023372022740338,1.0006079385031412,1.0015939302225207,1.0009946512582295,1.0002678437175019,1.0010090413992538,1.0015754712767926,0.9988294847585493,1.0033493912940645,1.0018588155599428,0.9999520485183035,1.0012830179207435,0.9993613135757147,0.9989130315047661,1.0011740957318553,1.0013191911431418,1.0017600537762472,1.0013358323718393,0.9987430209214081,0.9991672909525495,1.00007288377753,1.0032841341536596,1.0030840355845896,1.0012456433927186,1.0041769408021224,1.0053328812236964,1.006232717155217,1.0051450467676466,1.0107241588741702,1.0156537952524702,1.0213291484894473,1.033239846371902,1.0519699111852576],\"yaxis\":\"y\",\"type\":\"scatter\"},{\"hovertemplate\":\"repeticion=5<br>f=%{x}<br>idznorm=%{y}<extra></extra>\",\"legendgroup\":\"5\",\"marker\":{\"color\":\"#FFA15A\",\"symbol\":\"circle\"},\"mode\":\"markers\",\"name\":\"5\",\"orientation\":\"v\",\"showlegend\":true,\"x\":[100.0,125.8925,158.4893,199.5262,251.1886,316.2278,398.1072,501.1872,630.9573,794.3282,1000.0,1258.925,1584.893,1995.262,2511.886,3162.278,3981.072,5011.873,6309.573,7943.282,10000.0,12589.25,15848.93,19952.62,25118.87,31622.78,39810.72,50118.72,63095.73,79432.83,100000.0,125892.5,158489.3,199526.2,251188.6,316227.8,398107.2,501187.3,630957.3,794328.3,1000000.0],\"xaxis\":\"x\",\"y\":[0.9981503382402529,0.9981291016477156,0.9970437138734558,0.9939728242458197,1.0000043948493593,0.9999594307004962,1.0039054114249688,1.0021717118673283,1.0013638071302655,1.000395709744685,1.001362663159505,1.001342541160457,0.9997501763179729,1.0009411099016194,1.0012410884759337,1.0004098821232996,1.0027170859672438,1.0034155362971624,0.9997553555685629,1.0006314009789508,0.9997145676609804,1.0000835430810227,1.0010744106827978,1.0018881174358316,1.0002108991779044,1.000894355152226,1.0013552303079298,1.0052378269387257,1.0002991142350814,0.9989867689549693,1.0021987825411776,1.005004469299571,1.0047285492237163,1.004542965277764,1.0047120595162138,1.0076689409573227,1.0112678371881618,1.0159216999613188,1.0217272335378988,1.0332499778942714,1.0519749939778513],\"yaxis\":\"y\",\"type\":\"scatter\"},{\"hovertemplate\":\"repeticion=6<br>f=%{x}<br>idznorm=%{y}<extra></extra>\",\"legendgroup\":\"6\",\"marker\":{\"color\":\"#19d3f3\",\"symbol\":\"circle\"},\"mode\":\"markers\",\"name\":\"6\",\"orientation\":\"v\",\"showlegend\":true,\"x\":[100.0,125.8925,158.4893,199.5262,251.1886,316.2278,398.1072,501.1872,630.9573,794.3282,1000.0,1258.925,1584.893,1995.262,2511.886,3162.278,3981.072,5011.873,6309.573,7943.282,10000.0,12589.25,15848.93,19952.62,25118.87,31622.78,39810.72,50118.72,63095.73,79432.83,100000.0,125892.5,158489.3,199526.2,251188.6,316227.8,398107.2,501187.3,630957.3,794328.3,1000000.0],\"xaxis\":\"x\",\"y\":[0.9970122162653016,1.0095549634268697,1.012943612824192,0.9946529883658862,1.0066556279290717,1.002136009832388,1.004373017332991,1.0033278434598507,1.001269824150867,1.002000223147185,1.0014096789909972,1.001336148599391,1.0018355447839122,1.0011604012674211,1.0011264236728155,0.9995562612736043,1.002330021054073,1.0029549430280067,1.0024036616666083,1.0010227977344957,0.9994523802763526,1.0003776008900622,1.0007756227877675,1.001539331652664,1.0001056774004615,1.0007278635915526,1.0000858318804864,1.0011778443579669,1.000931485425033,1.001052533042291,1.0030293955642067,1.0039789679243394,1.0037081805446242,1.0034549998859597,1.0053270338352918,1.0060026859172777,1.0112498564376602,1.01502164155462,1.0218722358489705,1.0333059678863128,1.0517958255389215],\"yaxis\":\"y\",\"type\":\"scatter\"},{\"hovertemplate\":\"repeticion=7<br>f=%{x}<br>idznorm=%{y}<extra></extra>\",\"legendgroup\":\"7\",\"marker\":{\"color\":\"#FF6692\",\"symbol\":\"circle\"},\"mode\":\"markers\",\"name\":\"7\",\"orientation\":\"v\",\"showlegend\":true,\"x\":[100.0,125.8925,158.4893,199.5262,251.1886,316.2278,398.1072,501.1872,630.9573,794.3282,1000.0,1258.925,1584.893,1995.262,2511.886,3162.278,3981.072,5011.873,6309.573,7943.282,10000.0,12589.25,15848.93,19952.62,25118.87,31622.78,39810.72,50118.72,63095.73,79432.83,100000.0,125892.5,158489.3,199526.2,251188.6,316227.8,398107.2,501187.3,630957.3,794328.3,1000000.0],\"xaxis\":\"x\",\"y\":[0.9948270390160373,0.9944385752090954,0.9917040160713967,1.008706529224975,1.0079656733047,1.0020318019207195,1.0019124207835415,1.0017009770010745,1.0013832750331408,1.0022407135242295,1.000995854960656,1.0014064667711178,1.0013376540429093,1.0010773974687488,1.0013221969616692,0.9978993822667426,1.0030126512033044,1.0041533306530759,1.0019807382593158,1.0008857555462463,0.9992507628368005,1.002326322663468,1.0014490981862256,1.0008581061029471,0.9997800632141767,1.0014594620665307,1.0027596439565973,1.0001155216885218,1.0002165434746102,1.0020571534709213,0.9996179946016992,1.004299268878808,1.0044754614450102,1.0029692896778724,1.006782939585475,1.0056189382734086,1.0114931817417891,1.0150224866798845,1.0202060518856373,1.033651506122912,1.0524642127650001],\"yaxis\":\"y\",\"type\":\"scatter\"},{\"hovertemplate\":\"repeticion=8<br>f=%{x}<br>idznorm=%{y}<extra></extra>\",\"legendgroup\":\"8\",\"marker\":{\"color\":\"#B6E880\",\"symbol\":\"circle\"},\"mode\":\"markers\",\"name\":\"8\",\"orientation\":\"v\",\"showlegend\":true,\"x\":[100.0,125.8925,158.4893,199.5262,251.1886,316.2278,398.1072,501.1872,630.9573,794.3282,1000.0,1258.925,1584.893,1995.262,2511.886,3162.278,3981.072,5011.873,6309.573,7943.282,10000.0,12589.25,15848.93,19952.62,25118.87,31622.78,39810.72,50118.72,63095.73,79432.83,100000.0,125892.5,158489.3,199526.2,251188.6,316227.8,398107.2,501187.3,630957.3,794328.3,1000000.0],\"xaxis\":\"x\",\"y\":[0.9971240377023642,0.9956215354569018,1.0047004877487808,0.9933839430756997,1.003894735544574,1.0059442866248773,0.9989934746887539,0.9991546140710525,0.9987759186618332,1.0004762286957576,1.0001131433135408,1.0000219726244388,1.001181311539696,1.0015378456511532,1.0008304873059435,1.0038023988157645,0.9980131514039945,1.0026819675675713,1.0000990647503625,1.0012414253499908,1.0022767186942816,0.998385813442106,1.0007002576836546,1.0010852520481628,1.0022273126629357,1.000965746947752,1.0027595375616238,0.999791838647633,0.9998090601282188,1.0043991348523145,1.0049079109936478,1.002729390461213,1.003220712637169,1.0032877185730344,1.007992990507796,1.0090827128180686,1.0099459860388402,1.015411244301557,1.0214728081865276,1.033919191608672,1.050736910415223],\"yaxis\":\"y\",\"type\":\"scatter\"},{\"hovertemplate\":\"repeticion=9<br>f=%{x}<br>idznorm=%{y}<extra></extra>\",\"legendgroup\":\"9\",\"marker\":{\"color\":\"#FF97FF\",\"symbol\":\"circle\"},\"mode\":\"markers\",\"name\":\"9\",\"orientation\":\"v\",\"showlegend\":true,\"x\":[100.0,125.8925,158.4893,199.5262,251.1886,316.2278,398.1072,501.1872,630.9573,794.3282,1000.0,1258.925,1584.893,1995.262,2511.886,3162.278,3981.072,5011.873,6309.573,7943.282,10000.0,12589.25,15848.93,19952.62,25118.87,31622.78,39810.72,50118.72,63095.73,79432.83,100000.0,125892.5,158489.3,199526.2,251188.6,316227.8,398107.2,501187.3,630957.3,794328.3,1000000.0],\"xaxis\":\"x\",\"y\":[0.9989017444120294,1.0039490238225037,1.0090449385731188,0.9937522591644373,1.0052049495449127,1.0023242002127146,1.0013900214642264,0.9998907183233092,1.0041034109797264,1.0018578485780698,1.0012004373625545,1.0009233237347555,1.0022401645272714,1.0010848274763025,1.001249013837326,0.9991555028266739,1.001360869241519,1.0044516598714464,1.0008408589806133,1.000706054311071,1.0003058658660537,1.0030574297790775,1.0005409754068766,1.0011472395397543,1.0020919070743357,1.0014081617706836,1.003876684782155,0.9995399912685601,1.0027936910311113,1.0047628031815745,1.0040366356298687,1.0025059872744828,1.0037183361260296,1.004140471154279,1.0063816127745606,1.0088179068522993,1.0110366409109988,1.015211794739134,1.0225885204133849,1.0334110157761431,1.0531796158225708],\"yaxis\":\"y\",\"type\":\"scatter\"},{\"hovertemplate\":\"repeticion=10<br>f=%{x}<br>idznorm=%{y}<extra></extra>\",\"legendgroup\":\"10\",\"marker\":{\"color\":\"#FECB52\",\"symbol\":\"circle\"},\"mode\":\"markers\",\"name\":\"10\",\"orientation\":\"v\",\"showlegend\":true,\"x\":[100.0,125.8925,158.4893,199.5262,251.1886,316.2278,398.1072,501.1872,630.9573,794.3282,1000.0,1258.925,1584.893,1995.262,2511.886,3162.278,3981.072,5011.873,6309.573,7943.282,10000.0,12589.25,15848.93,19952.62,25118.87,31622.78,39810.72,50118.72,63095.73,79432.83,100000.0,125892.5,158489.3,199526.2,251188.6,316227.8,398107.2,501187.3,630957.3,794328.3,1000000.0],\"xaxis\":\"x\",\"y\":[1.000606597761184,1.00717423910563,0.9903282020431182,0.9941995456191751,1.0080788204854243,1.0005908395637417,1.0004747055082046,0.9987109232186592,1.0004548574580847,1.0003162572697857,1.0032898886846364,1.001894320115634,1.0007676052235004,1.000989935665544,1.001221022135388,1.0030249917215184,1.0012658585302874,0.9990935656944799,0.9990947894847918,1.0010745218288932,1.0007171485000983,1.0028451294615672,1.0011719577147173,1.0011565801206792,1.0021062401690193,1.0006073145934786,1.0006190834870865,1.0028613342207626,1.0012040360652883,0.998760142796706,1.0018578118713466,1.0031960474190365,1.004835717332757,1.000711416525242,1.0046619779772046,1.0074076175181645,1.0104003989701629,1.0149743145398076,1.023268554400031,1.032838851381281,1.0527666389243284],\"yaxis\":\"y\",\"type\":\"scatter\"},{\"hovertemplate\":\"repeticion=11<br>f=%{x}<br>idznorm=%{y}<extra></extra>\",\"legendgroup\":\"11\",\"marker\":{\"color\":\"#636efa\",\"symbol\":\"circle\"},\"mode\":\"markers\",\"name\":\"11\",\"orientation\":\"v\",\"showlegend\":true,\"x\":[100.0,125.8925,158.4893,199.5262,251.1886,316.2278,398.1072,501.1872,630.9573,794.3282,1000.0,1258.925,1584.893,1995.262,2511.886,3162.278,3981.072,5011.873,6309.573,7943.282,10000.0,12589.25,15848.93,19952.62,25118.87,31622.78,39810.72,50118.72,63095.73,79432.83,100000.0,125892.5,158489.3,199526.2,251188.6,316227.8,398107.2,501187.3,630957.3,794328.3,1000000.0],\"xaxis\":\"x\",\"y\":[0.9964933478546893,1.0016180941874633,1.0096320915296317,1.0096730670647576,1.0044456324736737,1.0036624280346673,1.0005060920253528,1.0008845858326707,1.0044847133532855,1.0011849021128139,1.001881108004068,1.0012580920642684,1.0007980719677163,1.001478617876653,1.001753876220468,1.0033934698256313,1.0007320749488202,1.002636330803288,1.0022015982609018,1.0012115640171428,1.0020920438967085,0.9999153177898101,1.000781235082755,1.001352732320099,1.0010418814202722,1.001582288101235,0.9994541649235061,0.9980779242692446,1.0014718875565733,1.00275729499045,1.0055525785209556,1.0035486476294178,1.0043346195660472,1.0041220022783595,1.0024636176268293,1.008100104540434,1.0105243491141551,1.0156571757535282,1.0207001338344743,1.0332798392233602,1.0521812706439477],\"yaxis\":\"y\",\"type\":\"scatter\"},{\"hovertemplate\":\"repeticion=12<br>f=%{x}<br>idznorm=%{y}<extra></extra>\",\"legendgroup\":\"12\",\"marker\":{\"color\":\"#EF553B\",\"symbol\":\"circle\"},\"mode\":\"markers\",\"name\":\"12\",\"orientation\":\"v\",\"showlegend\":true,\"x\":[100.0,125.8925,158.4893,199.5262,251.1886,316.2278,398.1072,501.1872,630.9573,794.3282,1000.0,1258.925,1584.893,1995.262,2511.886,3162.278,3981.072,5011.873,6309.573,7943.282,10000.0,12589.25,15848.93,19952.62,25118.87,31622.78,39810.72,50118.72,63095.73,79432.83,100000.0,125892.5,158489.3,199526.2,251188.6,316227.8,398107.2,501187.3,630957.3,794328.3,1000000.0],\"xaxis\":\"x\",\"y\":[0.996509866930619,0.9886546532466268,1.0086876224589372,0.9998584516580677,1.0006893484232815,0.9995628244968326,1.0040287231991207,1.0024286299989997,1.0034133073881446,1.0013432738245263,1.0011627399841507,1.001656786004442,1.0011553880818982,1.0015178907737232,1.0013272557029833,1.0019713934783514,1.0001265811552924,0.9980929373813051,1.001914950173737,1.0013155454440246,1.0022890021097164,1.0032347392360155,1.0006772739994214,1.0011145475065177,1.0025741735542812,1.0009185988951719,0.9994207569018636,1.003912670259577,1.0030904087232115,1.0026618453849696,1.003394509498858,1.0031842716486516,1.0017967932232865,1.0034288887165563,1.0054442280090672,1.0083733489360684,1.01005067869265,1.0153377184035453,1.0220098537830893,1.0334595404359124,1.052016079884651],\"yaxis\":\"y\",\"type\":\"scatter\"}],                        {\"template\":{\"data\":{\"histogram2dcontour\":[{\"type\":\"histogram2dcontour\",\"colorbar\":{\"outlinewidth\":0,\"ticks\":\"\"},\"colorscale\":[[0.0,\"#0d0887\"],[0.1111111111111111,\"#46039f\"],[0.2222222222222222,\"#7201a8\"],[0.3333333333333333,\"#9c179e\"],[0.4444444444444444,\"#bd3786\"],[0.5555555555555556,\"#d8576b\"],[0.6666666666666666,\"#ed7953\"],[0.7777777777777778,\"#fb9f3a\"],[0.8888888888888888,\"#fdca26\"],[1.0,\"#f0f921\"]]}],\"choropleth\":[{\"type\":\"choropleth\",\"colorbar\":{\"outlinewidth\":0,\"ticks\":\"\"}}],\"histogram2d\":[{\"type\":\"histogram2d\",\"colorbar\":{\"outlinewidth\":0,\"ticks\":\"\"},\"colorscale\":[[0.0,\"#0d0887\"],[0.1111111111111111,\"#46039f\"],[0.2222222222222222,\"#7201a8\"],[0.3333333333333333,\"#9c179e\"],[0.4444444444444444,\"#bd3786\"],[0.5555555555555556,\"#d8576b\"],[0.6666666666666666,\"#ed7953\"],[0.7777777777777778,\"#fb9f3a\"],[0.8888888888888888,\"#fdca26\"],[1.0,\"#f0f921\"]]}],\"heatmap\":[{\"type\":\"heatmap\",\"colorbar\":{\"outlinewidth\":0,\"ticks\":\"\"},\"colorscale\":[[0.0,\"#0d0887\"],[0.1111111111111111,\"#46039f\"],[0.2222222222222222,\"#7201a8\"],[0.3333333333333333,\"#9c179e\"],[0.4444444444444444,\"#bd3786\"],[0.5555555555555556,\"#d8576b\"],[0.6666666666666666,\"#ed7953\"],[0.7777777777777778,\"#fb9f3a\"],[0.8888888888888888,\"#fdca26\"],[1.0,\"#f0f921\"]]}],\"heatmapgl\":[{\"type\":\"heatmapgl\",\"colorbar\":{\"outlinewidth\":0,\"ticks\":\"\"},\"colorscale\":[[0.0,\"#0d0887\"],[0.1111111111111111,\"#46039f\"],[0.2222222222222222,\"#7201a8\"],[0.3333333333333333,\"#9c179e\"],[0.4444444444444444,\"#bd3786\"],[0.5555555555555556,\"#d8576b\"],[0.6666666666666666,\"#ed7953\"],[0.7777777777777778,\"#fb9f3a\"],[0.8888888888888888,\"#fdca26\"],[1.0,\"#f0f921\"]]}],\"contourcarpet\":[{\"type\":\"contourcarpet\",\"colorbar\":{\"outlinewidth\":0,\"ticks\":\"\"}}],\"contour\":[{\"type\":\"contour\",\"colorbar\":{\"outlinewidth\":0,\"ticks\":\"\"},\"colorscale\":[[0.0,\"#0d0887\"],[0.1111111111111111,\"#46039f\"],[0.2222222222222222,\"#7201a8\"],[0.3333333333333333,\"#9c179e\"],[0.4444444444444444,\"#bd3786\"],[0.5555555555555556,\"#d8576b\"],[0.6666666666666666,\"#ed7953\"],[0.7777777777777778,\"#fb9f3a\"],[0.8888888888888888,\"#fdca26\"],[1.0,\"#f0f921\"]]}],\"surface\":[{\"type\":\"surface\",\"colorbar\":{\"outlinewidth\":0,\"ticks\":\"\"},\"colorscale\":[[0.0,\"#0d0887\"],[0.1111111111111111,\"#46039f\"],[0.2222222222222222,\"#7201a8\"],[0.3333333333333333,\"#9c179e\"],[0.4444444444444444,\"#bd3786\"],[0.5555555555555556,\"#d8576b\"],[0.6666666666666666,\"#ed7953\"],[0.7777777777777778,\"#fb9f3a\"],[0.8888888888888888,\"#fdca26\"],[1.0,\"#f0f921\"]]}],\"mesh3d\":[{\"type\":\"mesh3d\",\"colorbar\":{\"outlinewidth\":0,\"ticks\":\"\"}}],\"scatter\":[{\"fillpattern\":{\"fillmode\":\"overlay\",\"size\":10,\"solidity\":0.2},\"type\":\"scatter\"}],\"parcoords\":[{\"type\":\"parcoords\",\"line\":{\"colorbar\":{\"outlinewidth\":0,\"ticks\":\"\"}}}],\"scatterpolargl\":[{\"type\":\"scatterpolargl\",\"marker\":{\"colorbar\":{\"outlinewidth\":0,\"ticks\":\"\"}}}],\"bar\":[{\"error_x\":{\"color\":\"#2a3f5f\"},\"error_y\":{\"color\":\"#2a3f5f\"},\"marker\":{\"line\":{\"color\":\"#E5ECF6\",\"width\":0.5},\"pattern\":{\"fillmode\":\"overlay\",\"size\":10,\"solidity\":0.2}},\"type\":\"bar\"}],\"scattergeo\":[{\"type\":\"scattergeo\",\"marker\":{\"colorbar\":{\"outlinewidth\":0,\"ticks\":\"\"}}}],\"scatterpolar\":[{\"type\":\"scatterpolar\",\"marker\":{\"colorbar\":{\"outlinewidth\":0,\"ticks\":\"\"}}}],\"histogram\":[{\"marker\":{\"pattern\":{\"fillmode\":\"overlay\",\"size\":10,\"solidity\":0.2}},\"type\":\"histogram\"}],\"scattergl\":[{\"type\":\"scattergl\",\"marker\":{\"colorbar\":{\"outlinewidth\":0,\"ticks\":\"\"}}}],\"scatter3d\":[{\"type\":\"scatter3d\",\"line\":{\"colorbar\":{\"outlinewidth\":0,\"ticks\":\"\"}},\"marker\":{\"colorbar\":{\"outlinewidth\":0,\"ticks\":\"\"}}}],\"scattermapbox\":[{\"type\":\"scattermapbox\",\"marker\":{\"colorbar\":{\"outlinewidth\":0,\"ticks\":\"\"}}}],\"scatterternary\":[{\"type\":\"scatterternary\",\"marker\":{\"colorbar\":{\"outlinewidth\":0,\"ticks\":\"\"}}}],\"scattercarpet\":[{\"type\":\"scattercarpet\",\"marker\":{\"colorbar\":{\"outlinewidth\":0,\"ticks\":\"\"}}}],\"carpet\":[{\"aaxis\":{\"endlinecolor\":\"#2a3f5f\",\"gridcolor\":\"white\",\"linecolor\":\"white\",\"minorgridcolor\":\"white\",\"startlinecolor\":\"#2a3f5f\"},\"baxis\":{\"endlinecolor\":\"#2a3f5f\",\"gridcolor\":\"white\",\"linecolor\":\"white\",\"minorgridcolor\":\"white\",\"startlinecolor\":\"#2a3f5f\"},\"type\":\"carpet\"}],\"table\":[{\"cells\":{\"fill\":{\"color\":\"#EBF0F8\"},\"line\":{\"color\":\"white\"}},\"header\":{\"fill\":{\"color\":\"#C8D4E3\"},\"line\":{\"color\":\"white\"}},\"type\":\"table\"}],\"barpolar\":[{\"marker\":{\"line\":{\"color\":\"#E5ECF6\",\"width\":0.5},\"pattern\":{\"fillmode\":\"overlay\",\"size\":10,\"solidity\":0.2}},\"type\":\"barpolar\"}],\"pie\":[{\"automargin\":true,\"type\":\"pie\"}]},\"layout\":{\"autotypenumbers\":\"strict\",\"colorway\":[\"#636efa\",\"#EF553B\",\"#00cc96\",\"#ab63fa\",\"#FFA15A\",\"#19d3f3\",\"#FF6692\",\"#B6E880\",\"#FF97FF\",\"#FECB52\"],\"font\":{\"color\":\"#2a3f5f\"},\"hovermode\":\"closest\",\"hoverlabel\":{\"align\":\"left\"},\"paper_bgcolor\":\"white\",\"plot_bgcolor\":\"#E5ECF6\",\"polar\":{\"bgcolor\":\"#E5ECF6\",\"angularaxis\":{\"gridcolor\":\"white\",\"linecolor\":\"white\",\"ticks\":\"\"},\"radialaxis\":{\"gridcolor\":\"white\",\"linecolor\":\"white\",\"ticks\":\"\"}},\"ternary\":{\"bgcolor\":\"#E5ECF6\",\"aaxis\":{\"gridcolor\":\"white\",\"linecolor\":\"white\",\"ticks\":\"\"},\"baxis\":{\"gridcolor\":\"white\",\"linecolor\":\"white\",\"ticks\":\"\"},\"caxis\":{\"gridcolor\":\"white\",\"linecolor\":\"white\",\"ticks\":\"\"}},\"coloraxis\":{\"colorbar\":{\"outlinewidth\":0,\"ticks\":\"\"}},\"colorscale\":{\"sequential\":[[0.0,\"#0d0887\"],[0.1111111111111111,\"#46039f\"],[0.2222222222222222,\"#7201a8\"],[0.3333333333333333,\"#9c179e\"],[0.4444444444444444,\"#bd3786\"],[0.5555555555555556,\"#d8576b\"],[0.6666666666666666,\"#ed7953\"],[0.7777777777777778,\"#fb9f3a\"],[0.8888888888888888,\"#fdca26\"],[1.0,\"#f0f921\"]],\"sequentialminus\":[[0.0,\"#0d0887\"],[0.1111111111111111,\"#46039f\"],[0.2222222222222222,\"#7201a8\"],[0.3333333333333333,\"#9c179e\"],[0.4444444444444444,\"#bd3786\"],[0.5555555555555556,\"#d8576b\"],[0.6666666666666666,\"#ed7953\"],[0.7777777777777778,\"#fb9f3a\"],[0.8888888888888888,\"#fdca26\"],[1.0,\"#f0f921\"]],\"diverging\":[[0,\"#8e0152\"],[0.1,\"#c51b7d\"],[0.2,\"#de77ae\"],[0.3,\"#f1b6da\"],[0.4,\"#fde0ef\"],[0.5,\"#f7f7f7\"],[0.6,\"#e6f5d0\"],[0.7,\"#b8e186\"],[0.8,\"#7fbc41\"],[0.9,\"#4d9221\"],[1,\"#276419\"]]},\"xaxis\":{\"gridcolor\":\"white\",\"linecolor\":\"white\",\"ticks\":\"\",\"title\":{\"standoff\":15},\"zerolinecolor\":\"white\",\"automargin\":true,\"zerolinewidth\":2},\"yaxis\":{\"gridcolor\":\"white\",\"linecolor\":\"white\",\"ticks\":\"\",\"title\":{\"standoff\":15},\"zerolinecolor\":\"white\",\"automargin\":true,\"zerolinewidth\":2},\"scene\":{\"xaxis\":{\"backgroundcolor\":\"#E5ECF6\",\"gridcolor\":\"white\",\"linecolor\":\"white\",\"showbackground\":true,\"ticks\":\"\",\"zerolinecolor\":\"white\",\"gridwidth\":2},\"yaxis\":{\"backgroundcolor\":\"#E5ECF6\",\"gridcolor\":\"white\",\"linecolor\":\"white\",\"showbackground\":true,\"ticks\":\"\",\"zerolinecolor\":\"white\",\"gridwidth\":2},\"zaxis\":{\"backgroundcolor\":\"#E5ECF6\",\"gridcolor\":\"white\",\"linecolor\":\"white\",\"showbackground\":true,\"ticks\":\"\",\"zerolinecolor\":\"white\",\"gridwidth\":2}},\"shapedefaults\":{\"line\":{\"color\":\"#2a3f5f\"}},\"annotationdefaults\":{\"arrowcolor\":\"#2a3f5f\",\"arrowhead\":0,\"arrowwidth\":1},\"geo\":{\"bgcolor\":\"white\",\"landcolor\":\"#E5ECF6\",\"subunitcolor\":\"white\",\"showland\":true,\"showlakes\":true,\"lakecolor\":\"white\"},\"title\":{\"x\":0.05},\"mapbox\":{\"style\":\"light\"}}},\"xaxis\":{\"anchor\":\"y\",\"domain\":[0.0,1.0],\"title\":{\"text\":\"f\"},\"type\":\"log\"},\"yaxis\":{\"anchor\":\"x\",\"domain\":[0.0,1.0],\"title\":{\"text\":\"idznorm\"}},\"legend\":{\"title\":{\"text\":\"repeticion\"},\"tracegroupgap\":0},\"margin\":{\"t\":60}},                        {\"responsive\": true}                    ).then(function(){\n",
       "                            \n",
       "var gd = document.getElementById('cef33c80-7947-427e-8527-ee75611e27fa');\n",
       "var x = new MutationObserver(function (mutations, observer) {{\n",
       "        var display = window.getComputedStyle(gd).display;\n",
       "        if (!display || display === 'none') {{\n",
       "            console.log([gd, 'removed!']);\n",
       "            Plotly.purge(gd);\n",
       "            observer.disconnect();\n",
       "        }}\n",
       "}});\n",
       "\n",
       "// Listen for the removal of the full notebook cells\n",
       "var notebookContainer = gd.closest('#notebook-container');\n",
       "if (notebookContainer) {{\n",
       "    x.observe(notebookContainer, {childList: true});\n",
       "}}\n",
       "\n",
       "// Listen for the clearing of the current output cell\n",
       "var outputEl = gd.closest('.output');\n",
       "if (outputEl) {{\n",
       "    x.observe(outputEl, {childList: true});\n",
       "}}\n",
       "\n",
       "                        })                };                });            </script>        </div>"
      ]
     },
     "metadata": {},
     "output_type": "display_data"
    }
   ],
   "source": [
    "exp1.df0.impx()"
   ]
  },
  {
   "cell_type": "code",
   "execution_count": 20,
   "id": "7e225747",
   "metadata": {},
   "outputs": [
    {
     "data": {
      "application/vnd.plotly.v1+json": {
       "config": {
        "plotlyServerURL": "https://plot.ly"
       },
       "data": [
        {
         "hovertemplate": "repeticion=1<br>f=%{x}<br>idznorm=%{y}<extra></extra>",
         "legendgroup": "1",
         "marker": {
          "color": "#636efa",
          "symbol": "circle"
         },
         "mode": "markers",
         "name": "1",
         "orientation": "v",
         "showlegend": true,
         "type": "scatter",
         "x": [
          100,
          125.8925,
          158.4893,
          199.5262,
          251.1886,
          316.2278,
          398.1072,
          501.1872,
          630.9573,
          794.3282,
          1000,
          1258.925,
          1584.893,
          1995.262,
          2511.886,
          3162.278,
          3981.072,
          5011.873,
          6309.573,
          7943.282,
          10000,
          12589.25,
          15848.93,
          19952.62,
          25118.87,
          31622.78,
          39810.72,
          50118.72,
          63095.73,
          79432.83,
          100000,
          125892.5,
          158489.3,
          199526.2,
          251188.6,
          316227.8,
          398107.2,
          501187.3,
          630957.3,
          794328.3,
          1000000
         ],
         "xaxis": "x",
         "y": [
          1.109715517842887,
          1.1148138645891221,
          1.1253648299724908,
          1.1232797931354999,
          1.112862215570439,
          1.111973693654198,
          1.1149161179391929,
          1.1140857570987595,
          1.1125805797222554,
          1.111322562704152,
          1.111493648118602,
          1.1101493137143816,
          1.10913113309609,
          1.107789501101439,
          1.1062898988552257,
          1.1030415486702387,
          1.1056054938183668,
          1.1057137239392625,
          1.100901180611027,
          1.096992322365574,
          1.0964799259287539,
          1.092594331675191,
          1.0884875086205015,
          1.085444071812326,
          1.0810073970331298,
          1.0778592648025715,
          1.0698408235153656,
          1.0638540367297862,
          1.0630582626492973,
          1.0540009354208912,
          1.050492936370723,
          1.044114830802986,
          1.0360058691870995,
          1.0259006281340837,
          1.0187495607885702,
          1.0138146628224671,
          1.0082629239548802,
          1.003898102823195,
          1.0002051312556832,
          1.0019819669101797,
          1.009238873849575
         ],
         "yaxis": "y"
        },
        {
         "hovertemplate": "repeticion=2<br>f=%{x}<br>idznorm=%{y}<extra></extra>",
         "legendgroup": "2",
         "marker": {
          "color": "#EF553B",
          "symbol": "circle"
         },
         "mode": "markers",
         "name": "2",
         "orientation": "v",
         "showlegend": true,
         "type": "scatter",
         "x": [
          100,
          125.8925,
          158.4893,
          199.5262,
          251.1886,
          316.2278,
          398.1072,
          501.1872,
          630.9573,
          794.3282,
          1000,
          1258.925,
          1584.893,
          1995.262,
          2511.886,
          3162.278,
          3981.072,
          5011.873,
          6309.573,
          7943.282,
          10000,
          12589.25,
          15848.93,
          19952.62,
          25118.87,
          31622.78,
          39810.72,
          50118.72,
          63095.73,
          79432.83,
          100000,
          125892.5,
          158489.3,
          199526.2,
          251188.6,
          316227.8,
          398107.2,
          501187.3,
          630957.3,
          794328.3,
          1000000
         ],
         "xaxis": "x",
         "y": [
          1.1117274565779143,
          1.1110819547288637,
          1.1260476591959272,
          1.1233753218040488,
          1.1200248873970018,
          1.1126109960240158,
          1.1130467582568375,
          1.1131011859691624,
          1.1148435556047678,
          1.1121032232628958,
          1.1108748181203125,
          1.1101681549469975,
          1.1106186585198268,
          1.1083068419131126,
          1.106091596195715,
          1.1075922733475325,
          1.1038286977628555,
          1.097831240597217,
          1.1005883515510295,
          1.097521294547455,
          1.0931413783267572,
          1.094282977148382,
          1.0898561068409394,
          1.0853502414312182,
          1.0810751841397512,
          1.0770373885223692,
          1.0745902951272233,
          1.0670300181074903,
          1.0637852881256429,
          1.0580396801801515,
          1.0516810391395128,
          1.0447500495026043,
          1.0349192219767305,
          1.0293347776254431,
          1.0200887782391095,
          1.0138001969426982,
          1.0082763297215265,
          1.0025687207821277,
          1.0010409084653327,
          1.0022208575428904,
          1.0100724518349504
         ],
         "yaxis": "y"
        },
        {
         "hovertemplate": "repeticion=3<br>f=%{x}<br>idznorm=%{y}<extra></extra>",
         "legendgroup": "3",
         "marker": {
          "color": "#00cc96",
          "symbol": "circle"
         },
         "mode": "markers",
         "name": "3",
         "orientation": "v",
         "showlegend": true,
         "type": "scatter",
         "x": [
          100,
          125.8925,
          158.4893,
          199.5262,
          251.1886,
          316.2278,
          398.1072,
          501.1872,
          630.9573,
          794.3282,
          1000,
          1258.925,
          1584.893,
          1995.262,
          2511.886,
          3162.278,
          3981.072,
          5011.873,
          6309.573,
          7943.282,
          10000,
          12589.25,
          15848.93,
          19952.62,
          25118.87,
          31622.78,
          39810.72,
          50118.72,
          63095.73,
          79432.83,
          100000,
          125892.5,
          158489.3,
          199526.2,
          251188.6,
          316227.8,
          398107.2,
          501187.3,
          630957.3,
          794328.3,
          1000000
         ],
         "xaxis": "x",
         "y": [
          1.1130350049726572,
          1.1056560161860953,
          1.1250844824752755,
          1.1060319858860739,
          1.1159214050677553,
          1.113975744625545,
          1.1135223437878636,
          1.1131062567217613,
          1.1126121311510533,
          1.113773858188131,
          1.1101263769108822,
          1.1108753740712547,
          1.108641794423639,
          1.1082675690160424,
          1.1063742112104598,
          1.1039310663326938,
          1.1045936776214857,
          1.0966641226069347,
          1.1002124196334362,
          1.0967294359888935,
          1.0962499295638866,
          1.0895151359448372,
          1.088716009202121,
          1.0856629386062675,
          1.0799249954475454,
          1.0774238150328619,
          1.0708494478630448,
          1.0640686985898011,
          1.0605616719322803,
          1.0580359475140153,
          1.0501473064743478,
          1.044614459917887,
          1.032974428137612,
          1.0269522926318395,
          1.0184564910417762,
          1.0141492532637881,
          1.0083708084578915,
          1.0039251468316595,
          1.0006857870646062,
          1.0032340097798318,
          1.010008493361479
         ],
         "yaxis": "y"
        },
        {
         "hovertemplate": "repeticion=4<br>f=%{x}<br>idznorm=%{y}<extra></extra>",
         "legendgroup": "4",
         "marker": {
          "color": "#ab63fa",
          "symbol": "circle"
         },
         "mode": "markers",
         "name": "4",
         "orientation": "v",
         "showlegend": true,
         "type": "scatter",
         "x": [
          100,
          125.8925,
          158.4893,
          199.5262,
          251.1886,
          316.2278,
          398.1072,
          501.1872,
          630.9573,
          794.3282,
          1000,
          1258.925,
          1584.893,
          1995.262,
          2511.886,
          3162.278,
          3981.072,
          5011.873,
          6309.573,
          7943.282,
          10000,
          12589.25,
          15848.93,
          19952.62,
          25118.87,
          31622.78,
          39810.72,
          50118.72,
          63095.73,
          79432.83,
          100000,
          125892.5,
          158489.3,
          199526.2,
          251188.6,
          316227.8,
          398107.2,
          501187.3,
          630957.3,
          794328.3,
          1000000
         ],
         "xaxis": "x",
         "y": [
          1.1100306509836997,
          1.1062421131006797,
          1.1132548336509338,
          1.1247526329185904,
          1.1200142640402422,
          1.117659855950018,
          1.114768228926189,
          1.115132867510408,
          1.1131860986323787,
          1.1122487972605304,
          1.1107901049104165,
          1.10960661892493,
          1.1103995117631857,
          1.1084074654439837,
          1.1055541892434524,
          1.1070389534463727,
          1.102754108531678,
          1.0985690349531305,
          1.099272589839453,
          1.0974706369292306,
          1.0933480785589031,
          1.0899484842950005,
          1.0889517255915815,
          1.0858516607981337,
          1.0824155814296423,
          1.0770418086522986,
          1.069996160176506,
          1.0693532679231657,
          1.06219093401085,
          1.0565252842049337,
          1.0475974388564815,
          1.045553157042853,
          1.0370906456324729,
          1.0275271629305724,
          1.0177983487968183,
          1.0122327920810736,
          1.0072475967238774,
          1.0037476705261132,
          1.0015651992289762,
          1.0019451734868383,
          1.009513768215687
         ],
         "yaxis": "y"
        },
        {
         "hovertemplate": "repeticion=5<br>f=%{x}<br>idznorm=%{y}<extra></extra>",
         "legendgroup": "5",
         "marker": {
          "color": "#FFA15A",
          "symbol": "circle"
         },
         "mode": "markers",
         "name": "5",
         "orientation": "v",
         "showlegend": true,
         "type": "scatter",
         "x": [
          100,
          125.8925,
          158.4893,
          199.5262,
          251.1886,
          316.2278,
          398.1072,
          501.1872,
          630.9573,
          794.3282,
          1000,
          1258.925,
          1584.893,
          1995.262,
          2511.886,
          3162.278,
          3981.072,
          5011.873,
          6309.573,
          7943.282,
          10000,
          12589.25,
          15848.93,
          19952.62,
          25118.87,
          31622.78,
          39810.72,
          50118.72,
          63095.73,
          79432.83,
          100000,
          125892.5,
          158489.3,
          199526.2,
          251188.6,
          316227.8,
          398107.2,
          501187.3,
          630957.3,
          794328.3,
          1000000
         ],
         "xaxis": "x",
         "y": [
          1.1115262627044116,
          1.1016949834792056,
          1.1035522446267216,
          1.1204718871379595,
          1.1184226153981318,
          1.1110344830158703,
          1.1144086139161515,
          1.1134231787591853,
          1.114428016574428,
          1.1123559781159318,
          1.110718945814104,
          1.1103215764125831,
          1.1086014393501602,
          1.1078497903055897,
          1.1071250970461752,
          1.106768923690687,
          1.1047160318408773,
          1.1029856595854377,
          1.0982354205310931,
          1.0978081766380317,
          1.0960148504064253,
          1.0892150220253138,
          1.089140940108291,
          1.0852092835736264,
          1.0805649259690118,
          1.0771627594803663,
          1.0745977427753601,
          1.0633249882086464,
          1.059473483292247,
          1.0583409596611366,
          1.0452385995269307,
          1.039970096078092,
          1.035757057442669,
          1.027098345351754,
          1.01930770858022,
          1.0130829304041578,
          1.008387299678766,
          1.0035575173415994,
          1.0020237019070408,
          1.0027871563195385,
          1.010266445085612
         ],
         "yaxis": "y"
        },
        {
         "hovertemplate": "repeticion=6<br>f=%{x}<br>idznorm=%{y}<extra></extra>",
         "legendgroup": "6",
         "marker": {
          "color": "#19d3f3",
          "symbol": "circle"
         },
         "mode": "markers",
         "name": "6",
         "orientation": "v",
         "showlegend": true,
         "type": "scatter",
         "x": [
          100,
          125.8925,
          158.4893,
          199.5262,
          251.1886,
          316.2278,
          398.1072,
          501.1872,
          630.9573,
          794.3282,
          1000,
          1258.925,
          1584.893,
          1995.262,
          2511.886,
          3162.278,
          3981.072,
          5011.873,
          6309.573,
          7943.282,
          10000,
          12589.25,
          15848.93,
          19952.62,
          25118.87,
          31622.78,
          39810.72,
          50118.72,
          63095.73,
          79432.83,
          100000,
          125892.5,
          158489.3,
          199526.2,
          251188.6,
          316227.8,
          398107.2,
          501187.3,
          630957.3,
          794328.3,
          1000000
         ],
         "xaxis": "x",
         "y": [
          1.1139194108839703,
          1.1121451385693268,
          1.1232449859802018,
          1.1155035472297086,
          1.1191401135411745,
          1.1154481836653534,
          1.114089428996,
          1.1131459776171184,
          1.112328839598867,
          1.1110815390890207,
          1.1116406255377713,
          1.1092321494266908,
          1.108711547232765,
          1.1074604579097713,
          1.106714158626764,
          1.1051046778006097,
          1.102747724833275,
          1.1022504006053178,
          1.100954885170683,
          1.096563598943969,
          1.0931824642335566,
          1.0939609939410013,
          1.0887467431984794,
          1.084839693769308,
          1.0824847175334107,
          1.0768676823217473,
          1.0703430077897376,
          1.0638954478760094,
          1.063432851952899,
          1.0563658460371204,
          1.049555584703225,
          1.043358826344277,
          1.0310349793413385,
          1.0288934351767483,
          1.0200024423873497,
          1.0146503352657823,
          1.0085150800418,
          1.0035592075921285,
          1.0016323299285466,
          1.0024501498912508,
          1.0108674853098232
         ],
         "yaxis": "y"
        },
        {
         "hovertemplate": "repeticion=7<br>f=%{x}<br>idznorm=%{y}<extra></extra>",
         "legendgroup": "7",
         "marker": {
          "color": "#FF6692",
          "symbol": "circle"
         },
         "mode": "markers",
         "name": "7",
         "orientation": "v",
         "showlegend": true,
         "type": "scatter",
         "x": [
          100,
          125.8925,
          158.4893,
          199.5262,
          251.1886,
          316.2278,
          398.1072,
          501.1872,
          630.9573,
          794.3282,
          1000,
          1258.925,
          1584.893,
          1995.262,
          2511.886,
          3162.278,
          3981.072,
          5011.873,
          6309.573,
          7943.282,
          10000,
          12589.25,
          15848.93,
          19952.62,
          25118.87,
          31622.78,
          39810.72,
          50118.72,
          63095.73,
          79432.83,
          100000,
          125892.5,
          158489.3,
          199526.2,
          251188.6,
          316227.8,
          398107.2,
          501187.3,
          630957.3,
          794328.3,
          1000000
         ],
         "xaxis": "x",
         "y": [
          1.110953177839466,
          1.1227248271336818,
          1.1106616861147285,
          1.112920664318083,
          1.116260172111086,
          1.1139461431493511,
          1.115616196864059,
          1.1143916925055526,
          1.1121086509042768,
          1.1116531703178278,
          1.1101378131942181,
          1.1103834833197495,
          1.109950795416356,
          1.1077933222481808,
          1.1063917481803485,
          1.1022301199698692,
          1.1056374123103818,
          1.0997048833086265,
          1.1012193801269896,
          1.0976498049263195,
          1.0924674847420353,
          1.0890299742049803,
          1.0887977883576483,
          1.0841066704526447,
          1.0826575577928317,
          1.0765096517974675,
          1.074044488913764,
          1.0669936777138656,
          1.0594446170914318,
          1.053287996188896,
          1.051955933505625,
          1.045138313474723,
          1.0376219428912563,
          1.0281326024032407,
          1.0217026853430016,
          1.013162760629549,
          1.008357934666112,
          1.0029464917753617,
          1.0018706439120206,
          1.0016886859994862,
          1.014044230680919
         ],
         "yaxis": "y"
        },
        {
         "hovertemplate": "repeticion=8<br>f=%{x}<br>idznorm=%{y}<extra></extra>",
         "legendgroup": "8",
         "marker": {
          "color": "#B6E880",
          "symbol": "circle"
         },
         "mode": "markers",
         "name": "8",
         "orientation": "v",
         "showlegend": true,
         "type": "scatter",
         "x": [
          100,
          125.8925,
          158.4893,
          199.5262,
          251.1886,
          316.2278,
          398.1072,
          501.1872,
          630.9573,
          794.3282,
          1000,
          1258.925,
          1584.893,
          1995.262,
          2511.886,
          3162.278,
          3981.072,
          5011.873,
          6309.573,
          7943.282,
          10000,
          12589.25,
          15848.93,
          19952.62,
          25118.87,
          31622.78,
          39810.72,
          50118.72,
          63095.73,
          79432.83,
          100000,
          125892.5,
          158489.3,
          199526.2,
          251188.6,
          316227.8,
          398107.2,
          501187.3,
          630957.3,
          794328.3,
          1000000
         ],
         "xaxis": "x",
         "y": [
          1.1134971155326394,
          1.1098478539925287,
          1.1256411686875722,
          1.1053817540821524,
          1.111043598068038,
          1.1120314232299424,
          1.1139936735199545,
          1.1147221365499067,
          1.1142541480625412,
          1.1116009129853435,
          1.1112835593580601,
          1.109614357288326,
          1.1076895750408196,
          1.1071454255894908,
          1.1067411385804389,
          1.1025089899854137,
          1.1029966890709935,
          1.103226520285822,
          1.0985260964602321,
          1.0972674732182461,
          1.0957424974366101,
          1.0915758957621902,
          1.0880796818514353,
          1.0856599666032458,
          1.0825924686805033,
          1.076815444422582,
          1.0700631890097378,
          1.063360483476838,
          1.0620909092684903,
          1.0579154357216212,
          1.0509626711195956,
          1.0396968982051629,
          1.0332788283276293,
          1.0254533416793459,
          1.0219874924789827,
          1.0134460507750231,
          1.0071679068888129,
          1.0036090699827342,
          1.0005038628687708,
          1.002740764611847,
          1.0103045660300651
         ],
         "yaxis": "y"
        },
        {
         "hovertemplate": "repeticion=9<br>f=%{x}<br>idznorm=%{y}<extra></extra>",
         "legendgroup": "9",
         "marker": {
          "color": "#FF97FF",
          "symbol": "circle"
         },
         "mode": "markers",
         "name": "9",
         "orientation": "v",
         "showlegend": true,
         "type": "scatter",
         "x": [
          100,
          125.8925,
          158.4893,
          199.5262,
          251.1886,
          316.2278,
          398.1072,
          501.1872,
          630.9573,
          794.3282,
          1000,
          1258.925,
          1584.893,
          1995.262,
          2511.886,
          3162.278,
          3981.072,
          5011.873,
          6309.573,
          7943.282,
          10000,
          12589.25,
          15848.93,
          19952.62,
          25118.87,
          31622.78,
          39810.72,
          50118.72,
          63095.73,
          79432.83,
          100000,
          125892.5,
          158489.3,
          199526.2,
          251188.6,
          316227.8,
          398107.2,
          501187.3,
          630957.3,
          794328.3,
          1000000
         ],
         "xaxis": "x",
         "y": [
          1.111590221177883,
          1.1233247185221455,
          1.1063845828302363,
          1.1117828117327033,
          1.115435934526317,
          1.1156106569260908,
          1.1148693041509041,
          1.1138423609740178,
          1.1130632494521653,
          1.113509905335277,
          1.1117202559550732,
          1.110139220196909,
          1.1079691207816078,
          1.1074298887358358,
          1.1055730752110249,
          1.10816555080504,
          1.106569432277225,
          1.1010579288571,
          1.0985012581013913,
          1.096900072176597,
          1.092973646171163,
          1.0897405578350616,
          1.088575167323158,
          1.0860100261019943,
          1.0817186557787277,
          1.076888309594751,
          1.0699940322770383,
          1.0647363476819742,
          1.061192029201245,
          1.0580156844692765,
          1.0498186192199517,
          1.0413455060590457,
          1.0332499650962668,
          1.0256961967833895,
          1.0234369904901683,
          1.0149596104175078,
          1.0076226390050558,
          1.0039859958507038,
          1.0006710183107008,
          1.003099633798932,
          1.012086508400225
         ],
         "yaxis": "y"
        },
        {
         "hovertemplate": "repeticion=10<br>f=%{x}<br>idznorm=%{y}<extra></extra>",
         "legendgroup": "10",
         "marker": {
          "color": "#FECB52",
          "symbol": "circle"
         },
         "mode": "markers",
         "name": "10",
         "orientation": "v",
         "showlegend": true,
         "type": "scatter",
         "x": [
          100,
          125.8925,
          158.4893,
          199.5262,
          251.1886,
          316.2278,
          398.1072,
          501.1872,
          630.9573,
          794.3282,
          1000,
          1258.925,
          1584.893,
          1995.262,
          2511.886,
          3162.278,
          3981.072,
          5011.873,
          6309.573,
          7943.282,
          10000,
          12589.25,
          15848.93,
          19952.62,
          25118.87,
          31622.78,
          39810.72,
          50118.72,
          63095.73,
          79432.83,
          100000,
          125892.5,
          158489.3,
          199526.2,
          251188.6,
          316227.8,
          398107.2,
          501187.3,
          630957.3,
          794328.3,
          1000000
         ],
         "xaxis": "x",
         "y": [
          1.1119688892261177,
          1.108087544545281,
          1.1023397216573552,
          1.118478097682384,
          1.1208548582219269,
          1.1134423822807331,
          1.1170472092560726,
          1.1144939526829616,
          1.114103103988508,
          1.111699028793273,
          1.110823990194375,
          1.1086063513433804,
          1.1098922671972045,
          1.107846818302568,
          1.106133752373332,
          1.102664230306267,
          1.1044159980159347,
          1.0973452935701264,
          1.1006380282687116,
          1.0968643452247966,
          1.095950891932954,
          1.093695534431468,
          1.0887071898814271,
          1.0849502947388945,
          1.0803484119269662,
          1.0765144737573904,
          1.0700344623669242,
          1.0664358949279995,
          1.0603052326599223,
          1.053472496543623,
          1.0500545455095116,
          1.0438503806451997,
          1.0336754305067213,
          1.0302017533640047,
          1.0189773727724127,
          1.012575954895591,
          1.0082105776279753,
          1.0033538421528534,
          1.000658934784778,
          1.002581859682053,
          1.012202141931733
         ],
         "yaxis": "y"
        },
        {
         "hovertemplate": "repeticion=11<br>f=%{x}<br>idznorm=%{y}<extra></extra>",
         "legendgroup": "11",
         "marker": {
          "color": "#636efa",
          "symbol": "circle"
         },
         "mode": "markers",
         "name": "11",
         "orientation": "v",
         "showlegend": true,
         "type": "scatter",
         "x": [
          100,
          125.8925,
          158.4893,
          199.5262,
          251.1886,
          316.2278,
          398.1072,
          501.1872,
          630.9573,
          794.3282,
          1000,
          1258.925,
          1584.893,
          1995.262,
          2511.886,
          3162.278,
          3981.072,
          5011.873,
          6309.573,
          7943.282,
          10000,
          12589.25,
          15848.93,
          19952.62,
          25118.87,
          31622.78,
          39810.72,
          50118.72,
          63095.73,
          79432.83,
          100000,
          125892.5,
          158489.3,
          199526.2,
          251188.6,
          316227.8,
          398107.2,
          501187.3,
          630957.3,
          794328.3,
          1000000
         ],
         "xaxis": "x",
         "y": [
          1.1115402403840444,
          1.1030535709310376,
          1.1223152157773306,
          1.1125030978935602,
          1.117606134550044,
          1.1164914682720182,
          1.1141894402709809,
          1.1140595582103323,
          1.1142628750534853,
          1.112704182586464,
          1.1106964968134816,
          1.109471365790795,
          1.1094379385553874,
          1.107893308921262,
          1.1059445554481864,
          1.1022026615869747,
          1.1059491495823968,
          1.1041181274398755,
          1.100576268025107,
          1.0971256318872176,
          1.092640299690223,
          1.0891194700599052,
          1.0883180707623181,
          1.0847445896726198,
          1.0804394692343684,
          1.076925813727485,
          1.0698652943592437,
          1.0706353232052246,
          1.0618109742512825,
          1.0532405380051655,
          1.0486779558487036,
          1.0442682522685718,
          1.0348027000427116,
          1.0288189228152804,
          1.021480943848736,
          1.0127480720761746,
          1.007142159305254,
          1.0025070266378187,
          1.0010503067632726,
          1.00252746940407,
          1.0067508468749327
         ],
         "yaxis": "y"
        },
        {
         "hovertemplate": "repeticion=12<br>f=%{x}<br>idznorm=%{y}<extra></extra>",
         "legendgroup": "12",
         "marker": {
          "color": "#EF553B",
          "symbol": "circle"
         },
         "mode": "markers",
         "name": "12",
         "orientation": "v",
         "showlegend": true,
         "type": "scatter",
         "x": [
          100,
          125.8925,
          158.4893,
          199.5262,
          251.1886,
          316.2278,
          398.1072,
          501.1872,
          630.9573,
          794.3282,
          1000,
          1258.925,
          1584.893,
          1995.262,
          2511.886,
          3162.278,
          3981.072,
          5011.873,
          6309.573,
          7943.282,
          10000,
          12589.25,
          15848.93,
          19952.62,
          25118.87,
          31622.78,
          39810.72,
          50118.72,
          63095.73,
          79432.83,
          100000,
          125892.5,
          158489.3,
          199526.2,
          251188.6,
          316227.8,
          398107.2,
          501187.3,
          630957.3,
          794328.3,
          1000000
         ],
         "xaxis": "x",
         "y": [
          1.1154861817009947,
          1.1136914654461523,
          1.116866211849093,
          1.1100456759666282,
          1.1145479568009906,
          1.116478743655555,
          1.111132712685661,
          1.1149410240370874,
          1.112193906892731,
          1.111532658510262,
          1.111165807996305,
          1.1098922654694088,
          1.1080386063385916,
          1.1066191687687528,
          1.1056118588944326,
          1.1068261174931067,
          1.1045287766877214,
          1.1042001045905325,
          1.1004460344679405,
          1.0966323866571368,
          1.0932900500101244,
          1.0918221775885253,
          1.0888124872254716,
          1.0859376365998274,
          1.0800909220965897,
          1.077195173766515,
          1.0730709749073009,
          1.0695594785288496,
          1.0626950855646224,
          1.0574808467357752,
          1.0455812644609594,
          1.040141012973964,
          1.0348088468419832,
          1.0275849047035617,
          1.0221997909894622,
          1.0154783729392196,
          1.0080496020332455,
          1.0031501669641074,
          1.001310773877605,
          1.0026138539632197,
          1.012388510993504
         ],
         "yaxis": "y"
        }
       ],
       "layout": {
        "legend": {
         "title": {
          "text": "repeticion"
         },
         "tracegroupgap": 0
        },
        "margin": {
         "t": 60
        },
        "template": {
         "data": {
          "bar": [
           {
            "error_x": {
             "color": "#2a3f5f"
            },
            "error_y": {
             "color": "#2a3f5f"
            },
            "marker": {
             "line": {
              "color": "#E5ECF6",
              "width": 0.5
             },
             "pattern": {
              "fillmode": "overlay",
              "size": 10,
              "solidity": 0.2
             }
            },
            "type": "bar"
           }
          ],
          "barpolar": [
           {
            "marker": {
             "line": {
              "color": "#E5ECF6",
              "width": 0.5
             },
             "pattern": {
              "fillmode": "overlay",
              "size": 10,
              "solidity": 0.2
             }
            },
            "type": "barpolar"
           }
          ],
          "carpet": [
           {
            "aaxis": {
             "endlinecolor": "#2a3f5f",
             "gridcolor": "white",
             "linecolor": "white",
             "minorgridcolor": "white",
             "startlinecolor": "#2a3f5f"
            },
            "baxis": {
             "endlinecolor": "#2a3f5f",
             "gridcolor": "white",
             "linecolor": "white",
             "minorgridcolor": "white",
             "startlinecolor": "#2a3f5f"
            },
            "type": "carpet"
           }
          ],
          "choropleth": [
           {
            "colorbar": {
             "outlinewidth": 0,
             "ticks": ""
            },
            "type": "choropleth"
           }
          ],
          "contour": [
           {
            "colorbar": {
             "outlinewidth": 0,
             "ticks": ""
            },
            "colorscale": [
             [
              0,
              "#0d0887"
             ],
             [
              0.1111111111111111,
              "#46039f"
             ],
             [
              0.2222222222222222,
              "#7201a8"
             ],
             [
              0.3333333333333333,
              "#9c179e"
             ],
             [
              0.4444444444444444,
              "#bd3786"
             ],
             [
              0.5555555555555556,
              "#d8576b"
             ],
             [
              0.6666666666666666,
              "#ed7953"
             ],
             [
              0.7777777777777778,
              "#fb9f3a"
             ],
             [
              0.8888888888888888,
              "#fdca26"
             ],
             [
              1,
              "#f0f921"
             ]
            ],
            "type": "contour"
           }
          ],
          "contourcarpet": [
           {
            "colorbar": {
             "outlinewidth": 0,
             "ticks": ""
            },
            "type": "contourcarpet"
           }
          ],
          "heatmap": [
           {
            "colorbar": {
             "outlinewidth": 0,
             "ticks": ""
            },
            "colorscale": [
             [
              0,
              "#0d0887"
             ],
             [
              0.1111111111111111,
              "#46039f"
             ],
             [
              0.2222222222222222,
              "#7201a8"
             ],
             [
              0.3333333333333333,
              "#9c179e"
             ],
             [
              0.4444444444444444,
              "#bd3786"
             ],
             [
              0.5555555555555556,
              "#d8576b"
             ],
             [
              0.6666666666666666,
              "#ed7953"
             ],
             [
              0.7777777777777778,
              "#fb9f3a"
             ],
             [
              0.8888888888888888,
              "#fdca26"
             ],
             [
              1,
              "#f0f921"
             ]
            ],
            "type": "heatmap"
           }
          ],
          "heatmapgl": [
           {
            "colorbar": {
             "outlinewidth": 0,
             "ticks": ""
            },
            "colorscale": [
             [
              0,
              "#0d0887"
             ],
             [
              0.1111111111111111,
              "#46039f"
             ],
             [
              0.2222222222222222,
              "#7201a8"
             ],
             [
              0.3333333333333333,
              "#9c179e"
             ],
             [
              0.4444444444444444,
              "#bd3786"
             ],
             [
              0.5555555555555556,
              "#d8576b"
             ],
             [
              0.6666666666666666,
              "#ed7953"
             ],
             [
              0.7777777777777778,
              "#fb9f3a"
             ],
             [
              0.8888888888888888,
              "#fdca26"
             ],
             [
              1,
              "#f0f921"
             ]
            ],
            "type": "heatmapgl"
           }
          ],
          "histogram": [
           {
            "marker": {
             "pattern": {
              "fillmode": "overlay",
              "size": 10,
              "solidity": 0.2
             }
            },
            "type": "histogram"
           }
          ],
          "histogram2d": [
           {
            "colorbar": {
             "outlinewidth": 0,
             "ticks": ""
            },
            "colorscale": [
             [
              0,
              "#0d0887"
             ],
             [
              0.1111111111111111,
              "#46039f"
             ],
             [
              0.2222222222222222,
              "#7201a8"
             ],
             [
              0.3333333333333333,
              "#9c179e"
             ],
             [
              0.4444444444444444,
              "#bd3786"
             ],
             [
              0.5555555555555556,
              "#d8576b"
             ],
             [
              0.6666666666666666,
              "#ed7953"
             ],
             [
              0.7777777777777778,
              "#fb9f3a"
             ],
             [
              0.8888888888888888,
              "#fdca26"
             ],
             [
              1,
              "#f0f921"
             ]
            ],
            "type": "histogram2d"
           }
          ],
          "histogram2dcontour": [
           {
            "colorbar": {
             "outlinewidth": 0,
             "ticks": ""
            },
            "colorscale": [
             [
              0,
              "#0d0887"
             ],
             [
              0.1111111111111111,
              "#46039f"
             ],
             [
              0.2222222222222222,
              "#7201a8"
             ],
             [
              0.3333333333333333,
              "#9c179e"
             ],
             [
              0.4444444444444444,
              "#bd3786"
             ],
             [
              0.5555555555555556,
              "#d8576b"
             ],
             [
              0.6666666666666666,
              "#ed7953"
             ],
             [
              0.7777777777777778,
              "#fb9f3a"
             ],
             [
              0.8888888888888888,
              "#fdca26"
             ],
             [
              1,
              "#f0f921"
             ]
            ],
            "type": "histogram2dcontour"
           }
          ],
          "mesh3d": [
           {
            "colorbar": {
             "outlinewidth": 0,
             "ticks": ""
            },
            "type": "mesh3d"
           }
          ],
          "parcoords": [
           {
            "line": {
             "colorbar": {
              "outlinewidth": 0,
              "ticks": ""
             }
            },
            "type": "parcoords"
           }
          ],
          "pie": [
           {
            "automargin": true,
            "type": "pie"
           }
          ],
          "scatter": [
           {
            "fillpattern": {
             "fillmode": "overlay",
             "size": 10,
             "solidity": 0.2
            },
            "type": "scatter"
           }
          ],
          "scatter3d": [
           {
            "line": {
             "colorbar": {
              "outlinewidth": 0,
              "ticks": ""
             }
            },
            "marker": {
             "colorbar": {
              "outlinewidth": 0,
              "ticks": ""
             }
            },
            "type": "scatter3d"
           }
          ],
          "scattercarpet": [
           {
            "marker": {
             "colorbar": {
              "outlinewidth": 0,
              "ticks": ""
             }
            },
            "type": "scattercarpet"
           }
          ],
          "scattergeo": [
           {
            "marker": {
             "colorbar": {
              "outlinewidth": 0,
              "ticks": ""
             }
            },
            "type": "scattergeo"
           }
          ],
          "scattergl": [
           {
            "marker": {
             "colorbar": {
              "outlinewidth": 0,
              "ticks": ""
             }
            },
            "type": "scattergl"
           }
          ],
          "scattermapbox": [
           {
            "marker": {
             "colorbar": {
              "outlinewidth": 0,
              "ticks": ""
             }
            },
            "type": "scattermapbox"
           }
          ],
          "scatterpolar": [
           {
            "marker": {
             "colorbar": {
              "outlinewidth": 0,
              "ticks": ""
             }
            },
            "type": "scatterpolar"
           }
          ],
          "scatterpolargl": [
           {
            "marker": {
             "colorbar": {
              "outlinewidth": 0,
              "ticks": ""
             }
            },
            "type": "scatterpolargl"
           }
          ],
          "scatterternary": [
           {
            "marker": {
             "colorbar": {
              "outlinewidth": 0,
              "ticks": ""
             }
            },
            "type": "scatterternary"
           }
          ],
          "surface": [
           {
            "colorbar": {
             "outlinewidth": 0,
             "ticks": ""
            },
            "colorscale": [
             [
              0,
              "#0d0887"
             ],
             [
              0.1111111111111111,
              "#46039f"
             ],
             [
              0.2222222222222222,
              "#7201a8"
             ],
             [
              0.3333333333333333,
              "#9c179e"
             ],
             [
              0.4444444444444444,
              "#bd3786"
             ],
             [
              0.5555555555555556,
              "#d8576b"
             ],
             [
              0.6666666666666666,
              "#ed7953"
             ],
             [
              0.7777777777777778,
              "#fb9f3a"
             ],
             [
              0.8888888888888888,
              "#fdca26"
             ],
             [
              1,
              "#f0f921"
             ]
            ],
            "type": "surface"
           }
          ],
          "table": [
           {
            "cells": {
             "fill": {
              "color": "#EBF0F8"
             },
             "line": {
              "color": "white"
             }
            },
            "header": {
             "fill": {
              "color": "#C8D4E3"
             },
             "line": {
              "color": "white"
             }
            },
            "type": "table"
           }
          ]
         },
         "layout": {
          "annotationdefaults": {
           "arrowcolor": "#2a3f5f",
           "arrowhead": 0,
           "arrowwidth": 1
          },
          "autotypenumbers": "strict",
          "coloraxis": {
           "colorbar": {
            "outlinewidth": 0,
            "ticks": ""
           }
          },
          "colorscale": {
           "diverging": [
            [
             0,
             "#8e0152"
            ],
            [
             0.1,
             "#c51b7d"
            ],
            [
             0.2,
             "#de77ae"
            ],
            [
             0.3,
             "#f1b6da"
            ],
            [
             0.4,
             "#fde0ef"
            ],
            [
             0.5,
             "#f7f7f7"
            ],
            [
             0.6,
             "#e6f5d0"
            ],
            [
             0.7,
             "#b8e186"
            ],
            [
             0.8,
             "#7fbc41"
            ],
            [
             0.9,
             "#4d9221"
            ],
            [
             1,
             "#276419"
            ]
           ],
           "sequential": [
            [
             0,
             "#0d0887"
            ],
            [
             0.1111111111111111,
             "#46039f"
            ],
            [
             0.2222222222222222,
             "#7201a8"
            ],
            [
             0.3333333333333333,
             "#9c179e"
            ],
            [
             0.4444444444444444,
             "#bd3786"
            ],
            [
             0.5555555555555556,
             "#d8576b"
            ],
            [
             0.6666666666666666,
             "#ed7953"
            ],
            [
             0.7777777777777778,
             "#fb9f3a"
            ],
            [
             0.8888888888888888,
             "#fdca26"
            ],
            [
             1,
             "#f0f921"
            ]
           ],
           "sequentialminus": [
            [
             0,
             "#0d0887"
            ],
            [
             0.1111111111111111,
             "#46039f"
            ],
            [
             0.2222222222222222,
             "#7201a8"
            ],
            [
             0.3333333333333333,
             "#9c179e"
            ],
            [
             0.4444444444444444,
             "#bd3786"
            ],
            [
             0.5555555555555556,
             "#d8576b"
            ],
            [
             0.6666666666666666,
             "#ed7953"
            ],
            [
             0.7777777777777778,
             "#fb9f3a"
            ],
            [
             0.8888888888888888,
             "#fdca26"
            ],
            [
             1,
             "#f0f921"
            ]
           ]
          },
          "colorway": [
           "#636efa",
           "#EF553B",
           "#00cc96",
           "#ab63fa",
           "#FFA15A",
           "#19d3f3",
           "#FF6692",
           "#B6E880",
           "#FF97FF",
           "#FECB52"
          ],
          "font": {
           "color": "#2a3f5f"
          },
          "geo": {
           "bgcolor": "white",
           "lakecolor": "white",
           "landcolor": "#E5ECF6",
           "showlakes": true,
           "showland": true,
           "subunitcolor": "white"
          },
          "hoverlabel": {
           "align": "left"
          },
          "hovermode": "closest",
          "mapbox": {
           "style": "light"
          },
          "paper_bgcolor": "white",
          "plot_bgcolor": "#E5ECF6",
          "polar": {
           "angularaxis": {
            "gridcolor": "white",
            "linecolor": "white",
            "ticks": ""
           },
           "bgcolor": "#E5ECF6",
           "radialaxis": {
            "gridcolor": "white",
            "linecolor": "white",
            "ticks": ""
           }
          },
          "scene": {
           "xaxis": {
            "backgroundcolor": "#E5ECF6",
            "gridcolor": "white",
            "gridwidth": 2,
            "linecolor": "white",
            "showbackground": true,
            "ticks": "",
            "zerolinecolor": "white"
           },
           "yaxis": {
            "backgroundcolor": "#E5ECF6",
            "gridcolor": "white",
            "gridwidth": 2,
            "linecolor": "white",
            "showbackground": true,
            "ticks": "",
            "zerolinecolor": "white"
           },
           "zaxis": {
            "backgroundcolor": "#E5ECF6",
            "gridcolor": "white",
            "gridwidth": 2,
            "linecolor": "white",
            "showbackground": true,
            "ticks": "",
            "zerolinecolor": "white"
           }
          },
          "shapedefaults": {
           "line": {
            "color": "#2a3f5f"
           }
          },
          "ternary": {
           "aaxis": {
            "gridcolor": "white",
            "linecolor": "white",
            "ticks": ""
           },
           "baxis": {
            "gridcolor": "white",
            "linecolor": "white",
            "ticks": ""
           },
           "bgcolor": "#E5ECF6",
           "caxis": {
            "gridcolor": "white",
            "linecolor": "white",
            "ticks": ""
           }
          },
          "title": {
           "x": 0.05
          },
          "xaxis": {
           "automargin": true,
           "gridcolor": "white",
           "linecolor": "white",
           "ticks": "",
           "title": {
            "standoff": 15
           },
           "zerolinecolor": "white",
           "zerolinewidth": 2
          },
          "yaxis": {
           "automargin": true,
           "gridcolor": "white",
           "linecolor": "white",
           "ticks": "",
           "title": {
            "standoff": 15
           },
           "zerolinecolor": "white",
           "zerolinewidth": 2
          }
         }
        },
        "xaxis": {
         "anchor": "y",
         "domain": [
          0,
          1
         ],
         "title": {
          "text": "f"
         },
         "type": "log"
        },
        "yaxis": {
         "anchor": "x",
         "domain": [
          0,
          1
         ],
         "title": {
          "text": "idznorm"
         }
        }
       }
      },
      "text/html": [
       "<div>                            <div id=\"e35ca9f2-3c59-4d75-b95e-ef5f0c14f55f\" class=\"plotly-graph-div\" style=\"height:525px; width:100%;\"></div>            <script type=\"text/javascript\">                require([\"plotly\"], function(Plotly) {                    window.PLOTLYENV=window.PLOTLYENV || {};                                    if (document.getElementById(\"e35ca9f2-3c59-4d75-b95e-ef5f0c14f55f\")) {                    Plotly.newPlot(                        \"e35ca9f2-3c59-4d75-b95e-ef5f0c14f55f\",                        [{\"hovertemplate\":\"repeticion=1<br>f=%{x}<br>idznorm=%{y}<extra></extra>\",\"legendgroup\":\"1\",\"marker\":{\"color\":\"#636efa\",\"symbol\":\"circle\"},\"mode\":\"markers\",\"name\":\"1\",\"orientation\":\"v\",\"showlegend\":true,\"x\":[100.0,125.8925,158.4893,199.5262,251.1886,316.2278,398.1072,501.1872,630.9573,794.3282,1000.0,1258.925,1584.893,1995.262,2511.886,3162.278,3981.072,5011.873,6309.573,7943.282,10000.0,12589.25,15848.93,19952.62,25118.87,31622.78,39810.72,50118.72,63095.73,79432.83,100000.0,125892.5,158489.3,199526.2,251188.6,316227.8,398107.2,501187.3,630957.3,794328.3,1000000.0],\"xaxis\":\"x\",\"y\":[1.109715517842887,1.1148138645891221,1.1253648299724908,1.1232797931354999,1.112862215570439,1.111973693654198,1.1149161179391929,1.1140857570987595,1.1125805797222554,1.111322562704152,1.111493648118602,1.1101493137143816,1.10913113309609,1.107789501101439,1.1062898988552257,1.1030415486702387,1.1056054938183668,1.1057137239392625,1.100901180611027,1.096992322365574,1.0964799259287539,1.092594331675191,1.0884875086205015,1.085444071812326,1.0810073970331298,1.0778592648025715,1.0698408235153656,1.0638540367297862,1.0630582626492973,1.0540009354208912,1.050492936370723,1.044114830802986,1.0360058691870995,1.0259006281340837,1.0187495607885702,1.0138146628224671,1.0082629239548802,1.003898102823195,1.0002051312556832,1.0019819669101797,1.009238873849575],\"yaxis\":\"y\",\"type\":\"scatter\"},{\"hovertemplate\":\"repeticion=2<br>f=%{x}<br>idznorm=%{y}<extra></extra>\",\"legendgroup\":\"2\",\"marker\":{\"color\":\"#EF553B\",\"symbol\":\"circle\"},\"mode\":\"markers\",\"name\":\"2\",\"orientation\":\"v\",\"showlegend\":true,\"x\":[100.0,125.8925,158.4893,199.5262,251.1886,316.2278,398.1072,501.1872,630.9573,794.3282,1000.0,1258.925,1584.893,1995.262,2511.886,3162.278,3981.072,5011.873,6309.573,7943.282,10000.0,12589.25,15848.93,19952.62,25118.87,31622.78,39810.72,50118.72,63095.73,79432.83,100000.0,125892.5,158489.3,199526.2,251188.6,316227.8,398107.2,501187.3,630957.3,794328.3,1000000.0],\"xaxis\":\"x\",\"y\":[1.1117274565779143,1.1110819547288637,1.1260476591959272,1.1233753218040488,1.1200248873970018,1.1126109960240158,1.1130467582568375,1.1131011859691624,1.1148435556047678,1.1121032232628958,1.1108748181203125,1.1101681549469975,1.1106186585198268,1.1083068419131126,1.106091596195715,1.1075922733475325,1.1038286977628555,1.097831240597217,1.1005883515510295,1.097521294547455,1.0931413783267572,1.094282977148382,1.0898561068409394,1.0853502414312182,1.0810751841397512,1.0770373885223692,1.0745902951272233,1.0670300181074903,1.0637852881256429,1.0580396801801515,1.0516810391395128,1.0447500495026043,1.0349192219767305,1.0293347776254431,1.0200887782391095,1.0138001969426982,1.0082763297215265,1.0025687207821277,1.0010409084653327,1.0022208575428904,1.0100724518349504],\"yaxis\":\"y\",\"type\":\"scatter\"},{\"hovertemplate\":\"repeticion=3<br>f=%{x}<br>idznorm=%{y}<extra></extra>\",\"legendgroup\":\"3\",\"marker\":{\"color\":\"#00cc96\",\"symbol\":\"circle\"},\"mode\":\"markers\",\"name\":\"3\",\"orientation\":\"v\",\"showlegend\":true,\"x\":[100.0,125.8925,158.4893,199.5262,251.1886,316.2278,398.1072,501.1872,630.9573,794.3282,1000.0,1258.925,1584.893,1995.262,2511.886,3162.278,3981.072,5011.873,6309.573,7943.282,10000.0,12589.25,15848.93,19952.62,25118.87,31622.78,39810.72,50118.72,63095.73,79432.83,100000.0,125892.5,158489.3,199526.2,251188.6,316227.8,398107.2,501187.3,630957.3,794328.3,1000000.0],\"xaxis\":\"x\",\"y\":[1.1130350049726572,1.1056560161860953,1.1250844824752755,1.1060319858860739,1.1159214050677553,1.113975744625545,1.1135223437878636,1.1131062567217613,1.1126121311510533,1.113773858188131,1.1101263769108822,1.1108753740712547,1.108641794423639,1.1082675690160424,1.1063742112104598,1.1039310663326938,1.1045936776214857,1.0966641226069347,1.1002124196334362,1.0967294359888935,1.0962499295638866,1.0895151359448372,1.088716009202121,1.0856629386062675,1.0799249954475454,1.0774238150328619,1.0708494478630448,1.0640686985898011,1.0605616719322803,1.0580359475140153,1.0501473064743478,1.044614459917887,1.032974428137612,1.0269522926318395,1.0184564910417762,1.0141492532637881,1.0083708084578915,1.0039251468316595,1.0006857870646062,1.0032340097798318,1.010008493361479],\"yaxis\":\"y\",\"type\":\"scatter\"},{\"hovertemplate\":\"repeticion=4<br>f=%{x}<br>idznorm=%{y}<extra></extra>\",\"legendgroup\":\"4\",\"marker\":{\"color\":\"#ab63fa\",\"symbol\":\"circle\"},\"mode\":\"markers\",\"name\":\"4\",\"orientation\":\"v\",\"showlegend\":true,\"x\":[100.0,125.8925,158.4893,199.5262,251.1886,316.2278,398.1072,501.1872,630.9573,794.3282,1000.0,1258.925,1584.893,1995.262,2511.886,3162.278,3981.072,5011.873,6309.573,7943.282,10000.0,12589.25,15848.93,19952.62,25118.87,31622.78,39810.72,50118.72,63095.73,79432.83,100000.0,125892.5,158489.3,199526.2,251188.6,316227.8,398107.2,501187.3,630957.3,794328.3,1000000.0],\"xaxis\":\"x\",\"y\":[1.1100306509836997,1.1062421131006797,1.1132548336509338,1.1247526329185904,1.1200142640402422,1.117659855950018,1.114768228926189,1.115132867510408,1.1131860986323787,1.1122487972605304,1.1107901049104165,1.10960661892493,1.1103995117631857,1.1084074654439837,1.1055541892434524,1.1070389534463727,1.102754108531678,1.0985690349531305,1.099272589839453,1.0974706369292306,1.0933480785589031,1.0899484842950005,1.0889517255915815,1.0858516607981337,1.0824155814296423,1.0770418086522986,1.069996160176506,1.0693532679231657,1.06219093401085,1.0565252842049337,1.0475974388564815,1.045553157042853,1.0370906456324729,1.0275271629305724,1.0177983487968183,1.0122327920810736,1.0072475967238774,1.0037476705261132,1.0015651992289762,1.0019451734868383,1.009513768215687],\"yaxis\":\"y\",\"type\":\"scatter\"},{\"hovertemplate\":\"repeticion=5<br>f=%{x}<br>idznorm=%{y}<extra></extra>\",\"legendgroup\":\"5\",\"marker\":{\"color\":\"#FFA15A\",\"symbol\":\"circle\"},\"mode\":\"markers\",\"name\":\"5\",\"orientation\":\"v\",\"showlegend\":true,\"x\":[100.0,125.8925,158.4893,199.5262,251.1886,316.2278,398.1072,501.1872,630.9573,794.3282,1000.0,1258.925,1584.893,1995.262,2511.886,3162.278,3981.072,5011.873,6309.573,7943.282,10000.0,12589.25,15848.93,19952.62,25118.87,31622.78,39810.72,50118.72,63095.73,79432.83,100000.0,125892.5,158489.3,199526.2,251188.6,316227.8,398107.2,501187.3,630957.3,794328.3,1000000.0],\"xaxis\":\"x\",\"y\":[1.1115262627044116,1.1016949834792056,1.1035522446267216,1.1204718871379595,1.1184226153981318,1.1110344830158703,1.1144086139161515,1.1134231787591853,1.114428016574428,1.1123559781159318,1.110718945814104,1.1103215764125831,1.1086014393501602,1.1078497903055897,1.1071250970461752,1.106768923690687,1.1047160318408773,1.1029856595854377,1.0982354205310931,1.0978081766380317,1.0960148504064253,1.0892150220253138,1.089140940108291,1.0852092835736264,1.0805649259690118,1.0771627594803663,1.0745977427753601,1.0633249882086464,1.059473483292247,1.0583409596611366,1.0452385995269307,1.039970096078092,1.035757057442669,1.027098345351754,1.01930770858022,1.0130829304041578,1.008387299678766,1.0035575173415994,1.0020237019070408,1.0027871563195385,1.010266445085612],\"yaxis\":\"y\",\"type\":\"scatter\"},{\"hovertemplate\":\"repeticion=6<br>f=%{x}<br>idznorm=%{y}<extra></extra>\",\"legendgroup\":\"6\",\"marker\":{\"color\":\"#19d3f3\",\"symbol\":\"circle\"},\"mode\":\"markers\",\"name\":\"6\",\"orientation\":\"v\",\"showlegend\":true,\"x\":[100.0,125.8925,158.4893,199.5262,251.1886,316.2278,398.1072,501.1872,630.9573,794.3282,1000.0,1258.925,1584.893,1995.262,2511.886,3162.278,3981.072,5011.873,6309.573,7943.282,10000.0,12589.25,15848.93,19952.62,25118.87,31622.78,39810.72,50118.72,63095.73,79432.83,100000.0,125892.5,158489.3,199526.2,251188.6,316227.8,398107.2,501187.3,630957.3,794328.3,1000000.0],\"xaxis\":\"x\",\"y\":[1.1139194108839703,1.1121451385693268,1.1232449859802018,1.1155035472297086,1.1191401135411745,1.1154481836653534,1.114089428996,1.1131459776171184,1.112328839598867,1.1110815390890207,1.1116406255377713,1.1092321494266908,1.108711547232765,1.1074604579097713,1.106714158626764,1.1051046778006097,1.102747724833275,1.1022504006053178,1.100954885170683,1.096563598943969,1.0931824642335566,1.0939609939410013,1.0887467431984794,1.084839693769308,1.0824847175334107,1.0768676823217473,1.0703430077897376,1.0638954478760094,1.063432851952899,1.0563658460371204,1.049555584703225,1.043358826344277,1.0310349793413385,1.0288934351767483,1.0200024423873497,1.0146503352657823,1.0085150800418,1.0035592075921285,1.0016323299285466,1.0024501498912508,1.0108674853098232],\"yaxis\":\"y\",\"type\":\"scatter\"},{\"hovertemplate\":\"repeticion=7<br>f=%{x}<br>idznorm=%{y}<extra></extra>\",\"legendgroup\":\"7\",\"marker\":{\"color\":\"#FF6692\",\"symbol\":\"circle\"},\"mode\":\"markers\",\"name\":\"7\",\"orientation\":\"v\",\"showlegend\":true,\"x\":[100.0,125.8925,158.4893,199.5262,251.1886,316.2278,398.1072,501.1872,630.9573,794.3282,1000.0,1258.925,1584.893,1995.262,2511.886,3162.278,3981.072,5011.873,6309.573,7943.282,10000.0,12589.25,15848.93,19952.62,25118.87,31622.78,39810.72,50118.72,63095.73,79432.83,100000.0,125892.5,158489.3,199526.2,251188.6,316227.8,398107.2,501187.3,630957.3,794328.3,1000000.0],\"xaxis\":\"x\",\"y\":[1.110953177839466,1.1227248271336818,1.1106616861147285,1.112920664318083,1.116260172111086,1.1139461431493511,1.115616196864059,1.1143916925055526,1.1121086509042768,1.1116531703178278,1.1101378131942181,1.1103834833197495,1.109950795416356,1.1077933222481808,1.1063917481803485,1.1022301199698692,1.1056374123103818,1.0997048833086265,1.1012193801269896,1.0976498049263195,1.0924674847420353,1.0890299742049803,1.0887977883576483,1.0841066704526447,1.0826575577928317,1.0765096517974675,1.074044488913764,1.0669936777138656,1.0594446170914318,1.053287996188896,1.051955933505625,1.045138313474723,1.0376219428912563,1.0281326024032407,1.0217026853430016,1.013162760629549,1.008357934666112,1.0029464917753617,1.0018706439120206,1.0016886859994862,1.014044230680919],\"yaxis\":\"y\",\"type\":\"scatter\"},{\"hovertemplate\":\"repeticion=8<br>f=%{x}<br>idznorm=%{y}<extra></extra>\",\"legendgroup\":\"8\",\"marker\":{\"color\":\"#B6E880\",\"symbol\":\"circle\"},\"mode\":\"markers\",\"name\":\"8\",\"orientation\":\"v\",\"showlegend\":true,\"x\":[100.0,125.8925,158.4893,199.5262,251.1886,316.2278,398.1072,501.1872,630.9573,794.3282,1000.0,1258.925,1584.893,1995.262,2511.886,3162.278,3981.072,5011.873,6309.573,7943.282,10000.0,12589.25,15848.93,19952.62,25118.87,31622.78,39810.72,50118.72,63095.73,79432.83,100000.0,125892.5,158489.3,199526.2,251188.6,316227.8,398107.2,501187.3,630957.3,794328.3,1000000.0],\"xaxis\":\"x\",\"y\":[1.1134971155326394,1.1098478539925287,1.1256411686875722,1.1053817540821524,1.111043598068038,1.1120314232299424,1.1139936735199545,1.1147221365499067,1.1142541480625412,1.1116009129853435,1.1112835593580601,1.109614357288326,1.1076895750408196,1.1071454255894908,1.1067411385804389,1.1025089899854137,1.1029966890709935,1.103226520285822,1.0985260964602321,1.0972674732182461,1.0957424974366101,1.0915758957621902,1.0880796818514353,1.0856599666032458,1.0825924686805033,1.076815444422582,1.0700631890097378,1.063360483476838,1.0620909092684903,1.0579154357216212,1.0509626711195956,1.0396968982051629,1.0332788283276293,1.0254533416793459,1.0219874924789827,1.0134460507750231,1.0071679068888129,1.0036090699827342,1.0005038628687708,1.002740764611847,1.0103045660300651],\"yaxis\":\"y\",\"type\":\"scatter\"},{\"hovertemplate\":\"repeticion=9<br>f=%{x}<br>idznorm=%{y}<extra></extra>\",\"legendgroup\":\"9\",\"marker\":{\"color\":\"#FF97FF\",\"symbol\":\"circle\"},\"mode\":\"markers\",\"name\":\"9\",\"orientation\":\"v\",\"showlegend\":true,\"x\":[100.0,125.8925,158.4893,199.5262,251.1886,316.2278,398.1072,501.1872,630.9573,794.3282,1000.0,1258.925,1584.893,1995.262,2511.886,3162.278,3981.072,5011.873,6309.573,7943.282,10000.0,12589.25,15848.93,19952.62,25118.87,31622.78,39810.72,50118.72,63095.73,79432.83,100000.0,125892.5,158489.3,199526.2,251188.6,316227.8,398107.2,501187.3,630957.3,794328.3,1000000.0],\"xaxis\":\"x\",\"y\":[1.111590221177883,1.1233247185221455,1.1063845828302363,1.1117828117327033,1.115435934526317,1.1156106569260908,1.1148693041509041,1.1138423609740178,1.1130632494521653,1.113509905335277,1.1117202559550732,1.110139220196909,1.1079691207816078,1.1074298887358358,1.1055730752110249,1.10816555080504,1.106569432277225,1.1010579288571,1.0985012581013913,1.096900072176597,1.092973646171163,1.0897405578350616,1.088575167323158,1.0860100261019943,1.0817186557787277,1.076888309594751,1.0699940322770383,1.0647363476819742,1.061192029201245,1.0580156844692765,1.0498186192199517,1.0413455060590457,1.0332499650962668,1.0256961967833895,1.0234369904901683,1.0149596104175078,1.0076226390050558,1.0039859958507038,1.0006710183107008,1.003099633798932,1.012086508400225],\"yaxis\":\"y\",\"type\":\"scatter\"},{\"hovertemplate\":\"repeticion=10<br>f=%{x}<br>idznorm=%{y}<extra></extra>\",\"legendgroup\":\"10\",\"marker\":{\"color\":\"#FECB52\",\"symbol\":\"circle\"},\"mode\":\"markers\",\"name\":\"10\",\"orientation\":\"v\",\"showlegend\":true,\"x\":[100.0,125.8925,158.4893,199.5262,251.1886,316.2278,398.1072,501.1872,630.9573,794.3282,1000.0,1258.925,1584.893,1995.262,2511.886,3162.278,3981.072,5011.873,6309.573,7943.282,10000.0,12589.25,15848.93,19952.62,25118.87,31622.78,39810.72,50118.72,63095.73,79432.83,100000.0,125892.5,158489.3,199526.2,251188.6,316227.8,398107.2,501187.3,630957.3,794328.3,1000000.0],\"xaxis\":\"x\",\"y\":[1.1119688892261177,1.108087544545281,1.1023397216573552,1.118478097682384,1.1208548582219269,1.1134423822807331,1.1170472092560726,1.1144939526829616,1.114103103988508,1.111699028793273,1.110823990194375,1.1086063513433804,1.1098922671972045,1.107846818302568,1.106133752373332,1.102664230306267,1.1044159980159347,1.0973452935701264,1.1006380282687116,1.0968643452247966,1.095950891932954,1.093695534431468,1.0887071898814271,1.0849502947388945,1.0803484119269662,1.0765144737573904,1.0700344623669242,1.0664358949279995,1.0603052326599223,1.053472496543623,1.0500545455095116,1.0438503806451997,1.0336754305067213,1.0302017533640047,1.0189773727724127,1.012575954895591,1.0082105776279753,1.0033538421528534,1.000658934784778,1.002581859682053,1.012202141931733],\"yaxis\":\"y\",\"type\":\"scatter\"},{\"hovertemplate\":\"repeticion=11<br>f=%{x}<br>idznorm=%{y}<extra></extra>\",\"legendgroup\":\"11\",\"marker\":{\"color\":\"#636efa\",\"symbol\":\"circle\"},\"mode\":\"markers\",\"name\":\"11\",\"orientation\":\"v\",\"showlegend\":true,\"x\":[100.0,125.8925,158.4893,199.5262,251.1886,316.2278,398.1072,501.1872,630.9573,794.3282,1000.0,1258.925,1584.893,1995.262,2511.886,3162.278,3981.072,5011.873,6309.573,7943.282,10000.0,12589.25,15848.93,19952.62,25118.87,31622.78,39810.72,50118.72,63095.73,79432.83,100000.0,125892.5,158489.3,199526.2,251188.6,316227.8,398107.2,501187.3,630957.3,794328.3,1000000.0],\"xaxis\":\"x\",\"y\":[1.1115402403840444,1.1030535709310376,1.1223152157773306,1.1125030978935602,1.117606134550044,1.1164914682720182,1.1141894402709809,1.1140595582103323,1.1142628750534853,1.112704182586464,1.1106964968134816,1.109471365790795,1.1094379385553874,1.107893308921262,1.1059445554481864,1.1022026615869747,1.1059491495823968,1.1041181274398755,1.100576268025107,1.0971256318872176,1.092640299690223,1.0891194700599052,1.0883180707623181,1.0847445896726198,1.0804394692343684,1.076925813727485,1.0698652943592437,1.0706353232052246,1.0618109742512825,1.0532405380051655,1.0486779558487036,1.0442682522685718,1.0348027000427116,1.0288189228152804,1.021480943848736,1.0127480720761746,1.007142159305254,1.0025070266378187,1.0010503067632726,1.00252746940407,1.0067508468749327],\"yaxis\":\"y\",\"type\":\"scatter\"},{\"hovertemplate\":\"repeticion=12<br>f=%{x}<br>idznorm=%{y}<extra></extra>\",\"legendgroup\":\"12\",\"marker\":{\"color\":\"#EF553B\",\"symbol\":\"circle\"},\"mode\":\"markers\",\"name\":\"12\",\"orientation\":\"v\",\"showlegend\":true,\"x\":[100.0,125.8925,158.4893,199.5262,251.1886,316.2278,398.1072,501.1872,630.9573,794.3282,1000.0,1258.925,1584.893,1995.262,2511.886,3162.278,3981.072,5011.873,6309.573,7943.282,10000.0,12589.25,15848.93,19952.62,25118.87,31622.78,39810.72,50118.72,63095.73,79432.83,100000.0,125892.5,158489.3,199526.2,251188.6,316227.8,398107.2,501187.3,630957.3,794328.3,1000000.0],\"xaxis\":\"x\",\"y\":[1.1154861817009947,1.1136914654461523,1.116866211849093,1.1100456759666282,1.1145479568009906,1.116478743655555,1.111132712685661,1.1149410240370874,1.112193906892731,1.111532658510262,1.111165807996305,1.1098922654694088,1.1080386063385916,1.1066191687687528,1.1056118588944326,1.1068261174931067,1.1045287766877214,1.1042001045905325,1.1004460344679405,1.0966323866571368,1.0932900500101244,1.0918221775885253,1.0888124872254716,1.0859376365998274,1.0800909220965897,1.077195173766515,1.0730709749073009,1.0695594785288496,1.0626950855646224,1.0574808467357752,1.0455812644609594,1.040141012973964,1.0348088468419832,1.0275849047035617,1.0221997909894622,1.0154783729392196,1.0080496020332455,1.0031501669641074,1.001310773877605,1.0026138539632197,1.012388510993504],\"yaxis\":\"y\",\"type\":\"scatter\"}],                        {\"template\":{\"data\":{\"histogram2dcontour\":[{\"type\":\"histogram2dcontour\",\"colorbar\":{\"outlinewidth\":0,\"ticks\":\"\"},\"colorscale\":[[0.0,\"#0d0887\"],[0.1111111111111111,\"#46039f\"],[0.2222222222222222,\"#7201a8\"],[0.3333333333333333,\"#9c179e\"],[0.4444444444444444,\"#bd3786\"],[0.5555555555555556,\"#d8576b\"],[0.6666666666666666,\"#ed7953\"],[0.7777777777777778,\"#fb9f3a\"],[0.8888888888888888,\"#fdca26\"],[1.0,\"#f0f921\"]]}],\"choropleth\":[{\"type\":\"choropleth\",\"colorbar\":{\"outlinewidth\":0,\"ticks\":\"\"}}],\"histogram2d\":[{\"type\":\"histogram2d\",\"colorbar\":{\"outlinewidth\":0,\"ticks\":\"\"},\"colorscale\":[[0.0,\"#0d0887\"],[0.1111111111111111,\"#46039f\"],[0.2222222222222222,\"#7201a8\"],[0.3333333333333333,\"#9c179e\"],[0.4444444444444444,\"#bd3786\"],[0.5555555555555556,\"#d8576b\"],[0.6666666666666666,\"#ed7953\"],[0.7777777777777778,\"#fb9f3a\"],[0.8888888888888888,\"#fdca26\"],[1.0,\"#f0f921\"]]}],\"heatmap\":[{\"type\":\"heatmap\",\"colorbar\":{\"outlinewidth\":0,\"ticks\":\"\"},\"colorscale\":[[0.0,\"#0d0887\"],[0.1111111111111111,\"#46039f\"],[0.2222222222222222,\"#7201a8\"],[0.3333333333333333,\"#9c179e\"],[0.4444444444444444,\"#bd3786\"],[0.5555555555555556,\"#d8576b\"],[0.6666666666666666,\"#ed7953\"],[0.7777777777777778,\"#fb9f3a\"],[0.8888888888888888,\"#fdca26\"],[1.0,\"#f0f921\"]]}],\"heatmapgl\":[{\"type\":\"heatmapgl\",\"colorbar\":{\"outlinewidth\":0,\"ticks\":\"\"},\"colorscale\":[[0.0,\"#0d0887\"],[0.1111111111111111,\"#46039f\"],[0.2222222222222222,\"#7201a8\"],[0.3333333333333333,\"#9c179e\"],[0.4444444444444444,\"#bd3786\"],[0.5555555555555556,\"#d8576b\"],[0.6666666666666666,\"#ed7953\"],[0.7777777777777778,\"#fb9f3a\"],[0.8888888888888888,\"#fdca26\"],[1.0,\"#f0f921\"]]}],\"contourcarpet\":[{\"type\":\"contourcarpet\",\"colorbar\":{\"outlinewidth\":0,\"ticks\":\"\"}}],\"contour\":[{\"type\":\"contour\",\"colorbar\":{\"outlinewidth\":0,\"ticks\":\"\"},\"colorscale\":[[0.0,\"#0d0887\"],[0.1111111111111111,\"#46039f\"],[0.2222222222222222,\"#7201a8\"],[0.3333333333333333,\"#9c179e\"],[0.4444444444444444,\"#bd3786\"],[0.5555555555555556,\"#d8576b\"],[0.6666666666666666,\"#ed7953\"],[0.7777777777777778,\"#fb9f3a\"],[0.8888888888888888,\"#fdca26\"],[1.0,\"#f0f921\"]]}],\"surface\":[{\"type\":\"surface\",\"colorbar\":{\"outlinewidth\":0,\"ticks\":\"\"},\"colorscale\":[[0.0,\"#0d0887\"],[0.1111111111111111,\"#46039f\"],[0.2222222222222222,\"#7201a8\"],[0.3333333333333333,\"#9c179e\"],[0.4444444444444444,\"#bd3786\"],[0.5555555555555556,\"#d8576b\"],[0.6666666666666666,\"#ed7953\"],[0.7777777777777778,\"#fb9f3a\"],[0.8888888888888888,\"#fdca26\"],[1.0,\"#f0f921\"]]}],\"mesh3d\":[{\"type\":\"mesh3d\",\"colorbar\":{\"outlinewidth\":0,\"ticks\":\"\"}}],\"scatter\":[{\"fillpattern\":{\"fillmode\":\"overlay\",\"size\":10,\"solidity\":0.2},\"type\":\"scatter\"}],\"parcoords\":[{\"type\":\"parcoords\",\"line\":{\"colorbar\":{\"outlinewidth\":0,\"ticks\":\"\"}}}],\"scatterpolargl\":[{\"type\":\"scatterpolargl\",\"marker\":{\"colorbar\":{\"outlinewidth\":0,\"ticks\":\"\"}}}],\"bar\":[{\"error_x\":{\"color\":\"#2a3f5f\"},\"error_y\":{\"color\":\"#2a3f5f\"},\"marker\":{\"line\":{\"color\":\"#E5ECF6\",\"width\":0.5},\"pattern\":{\"fillmode\":\"overlay\",\"size\":10,\"solidity\":0.2}},\"type\":\"bar\"}],\"scattergeo\":[{\"type\":\"scattergeo\",\"marker\":{\"colorbar\":{\"outlinewidth\":0,\"ticks\":\"\"}}}],\"scatterpolar\":[{\"type\":\"scatterpolar\",\"marker\":{\"colorbar\":{\"outlinewidth\":0,\"ticks\":\"\"}}}],\"histogram\":[{\"marker\":{\"pattern\":{\"fillmode\":\"overlay\",\"size\":10,\"solidity\":0.2}},\"type\":\"histogram\"}],\"scattergl\":[{\"type\":\"scattergl\",\"marker\":{\"colorbar\":{\"outlinewidth\":0,\"ticks\":\"\"}}}],\"scatter3d\":[{\"type\":\"scatter3d\",\"line\":{\"colorbar\":{\"outlinewidth\":0,\"ticks\":\"\"}},\"marker\":{\"colorbar\":{\"outlinewidth\":0,\"ticks\":\"\"}}}],\"scattermapbox\":[{\"type\":\"scattermapbox\",\"marker\":{\"colorbar\":{\"outlinewidth\":0,\"ticks\":\"\"}}}],\"scatterternary\":[{\"type\":\"scatterternary\",\"marker\":{\"colorbar\":{\"outlinewidth\":0,\"ticks\":\"\"}}}],\"scattercarpet\":[{\"type\":\"scattercarpet\",\"marker\":{\"colorbar\":{\"outlinewidth\":0,\"ticks\":\"\"}}}],\"carpet\":[{\"aaxis\":{\"endlinecolor\":\"#2a3f5f\",\"gridcolor\":\"white\",\"linecolor\":\"white\",\"minorgridcolor\":\"white\",\"startlinecolor\":\"#2a3f5f\"},\"baxis\":{\"endlinecolor\":\"#2a3f5f\",\"gridcolor\":\"white\",\"linecolor\":\"white\",\"minorgridcolor\":\"white\",\"startlinecolor\":\"#2a3f5f\"},\"type\":\"carpet\"}],\"table\":[{\"cells\":{\"fill\":{\"color\":\"#EBF0F8\"},\"line\":{\"color\":\"white\"}},\"header\":{\"fill\":{\"color\":\"#C8D4E3\"},\"line\":{\"color\":\"white\"}},\"type\":\"table\"}],\"barpolar\":[{\"marker\":{\"line\":{\"color\":\"#E5ECF6\",\"width\":0.5},\"pattern\":{\"fillmode\":\"overlay\",\"size\":10,\"solidity\":0.2}},\"type\":\"barpolar\"}],\"pie\":[{\"automargin\":true,\"type\":\"pie\"}]},\"layout\":{\"autotypenumbers\":\"strict\",\"colorway\":[\"#636efa\",\"#EF553B\",\"#00cc96\",\"#ab63fa\",\"#FFA15A\",\"#19d3f3\",\"#FF6692\",\"#B6E880\",\"#FF97FF\",\"#FECB52\"],\"font\":{\"color\":\"#2a3f5f\"},\"hovermode\":\"closest\",\"hoverlabel\":{\"align\":\"left\"},\"paper_bgcolor\":\"white\",\"plot_bgcolor\":\"#E5ECF6\",\"polar\":{\"bgcolor\":\"#E5ECF6\",\"angularaxis\":{\"gridcolor\":\"white\",\"linecolor\":\"white\",\"ticks\":\"\"},\"radialaxis\":{\"gridcolor\":\"white\",\"linecolor\":\"white\",\"ticks\":\"\"}},\"ternary\":{\"bgcolor\":\"#E5ECF6\",\"aaxis\":{\"gridcolor\":\"white\",\"linecolor\":\"white\",\"ticks\":\"\"},\"baxis\":{\"gridcolor\":\"white\",\"linecolor\":\"white\",\"ticks\":\"\"},\"caxis\":{\"gridcolor\":\"white\",\"linecolor\":\"white\",\"ticks\":\"\"}},\"coloraxis\":{\"colorbar\":{\"outlinewidth\":0,\"ticks\":\"\"}},\"colorscale\":{\"sequential\":[[0.0,\"#0d0887\"],[0.1111111111111111,\"#46039f\"],[0.2222222222222222,\"#7201a8\"],[0.3333333333333333,\"#9c179e\"],[0.4444444444444444,\"#bd3786\"],[0.5555555555555556,\"#d8576b\"],[0.6666666666666666,\"#ed7953\"],[0.7777777777777778,\"#fb9f3a\"],[0.8888888888888888,\"#fdca26\"],[1.0,\"#f0f921\"]],\"sequentialminus\":[[0.0,\"#0d0887\"],[0.1111111111111111,\"#46039f\"],[0.2222222222222222,\"#7201a8\"],[0.3333333333333333,\"#9c179e\"],[0.4444444444444444,\"#bd3786\"],[0.5555555555555556,\"#d8576b\"],[0.6666666666666666,\"#ed7953\"],[0.7777777777777778,\"#fb9f3a\"],[0.8888888888888888,\"#fdca26\"],[1.0,\"#f0f921\"]],\"diverging\":[[0,\"#8e0152\"],[0.1,\"#c51b7d\"],[0.2,\"#de77ae\"],[0.3,\"#f1b6da\"],[0.4,\"#fde0ef\"],[0.5,\"#f7f7f7\"],[0.6,\"#e6f5d0\"],[0.7,\"#b8e186\"],[0.8,\"#7fbc41\"],[0.9,\"#4d9221\"],[1,\"#276419\"]]},\"xaxis\":{\"gridcolor\":\"white\",\"linecolor\":\"white\",\"ticks\":\"\",\"title\":{\"standoff\":15},\"zerolinecolor\":\"white\",\"automargin\":true,\"zerolinewidth\":2},\"yaxis\":{\"gridcolor\":\"white\",\"linecolor\":\"white\",\"ticks\":\"\",\"title\":{\"standoff\":15},\"zerolinecolor\":\"white\",\"automargin\":true,\"zerolinewidth\":2},\"scene\":{\"xaxis\":{\"backgroundcolor\":\"#E5ECF6\",\"gridcolor\":\"white\",\"linecolor\":\"white\",\"showbackground\":true,\"ticks\":\"\",\"zerolinecolor\":\"white\",\"gridwidth\":2},\"yaxis\":{\"backgroundcolor\":\"#E5ECF6\",\"gridcolor\":\"white\",\"linecolor\":\"white\",\"showbackground\":true,\"ticks\":\"\",\"zerolinecolor\":\"white\",\"gridwidth\":2},\"zaxis\":{\"backgroundcolor\":\"#E5ECF6\",\"gridcolor\":\"white\",\"linecolor\":\"white\",\"showbackground\":true,\"ticks\":\"\",\"zerolinecolor\":\"white\",\"gridwidth\":2}},\"shapedefaults\":{\"line\":{\"color\":\"#2a3f5f\"}},\"annotationdefaults\":{\"arrowcolor\":\"#2a3f5f\",\"arrowhead\":0,\"arrowwidth\":1},\"geo\":{\"bgcolor\":\"white\",\"landcolor\":\"#E5ECF6\",\"subunitcolor\":\"white\",\"showland\":true,\"showlakes\":true,\"lakecolor\":\"white\"},\"title\":{\"x\":0.05},\"mapbox\":{\"style\":\"light\"}}},\"xaxis\":{\"anchor\":\"y\",\"domain\":[0.0,1.0],\"title\":{\"text\":\"f\"},\"type\":\"log\"},\"yaxis\":{\"anchor\":\"x\",\"domain\":[0.0,1.0],\"title\":{\"text\":\"idznorm\"}},\"legend\":{\"title\":{\"text\":\"repeticion\"},\"tracegroupgap\":0},\"margin\":{\"t\":60}},                        {\"responsive\": true}                    ).then(function(){\n",
       "                            \n",
       "var gd = document.getElementById('e35ca9f2-3c59-4d75-b95e-ef5f0c14f55f');\n",
       "var x = new MutationObserver(function (mutations, observer) {{\n",
       "        var display = window.getComputedStyle(gd).display;\n",
       "        if (!display || display === 'none') {{\n",
       "            console.log([gd, 'removed!']);\n",
       "            Plotly.purge(gd);\n",
       "            observer.disconnect();\n",
       "        }}\n",
       "}});\n",
       "\n",
       "// Listen for the removal of the full notebook cells\n",
       "var notebookContainer = gd.closest('#notebook-container');\n",
       "if (notebookContainer) {{\n",
       "    x.observe(notebookContainer, {childList: true});\n",
       "}}\n",
       "\n",
       "// Listen for the clearing of the current output cell\n",
       "var outputEl = gd.closest('.output');\n",
       "if (outputEl) {{\n",
       "    x.observe(outputEl, {childList: true});\n",
       "}}\n",
       "\n",
       "                        })                };                });            </script>        </div>"
      ]
     },
     "metadata": {},
     "output_type": "display_data"
    }
   ],
   "source": [
    "exp1.df1.impx()"
   ]
  },
  {
   "cell_type": "code",
   "execution_count": 27,
   "id": "d69a3820",
   "metadata": {},
   "outputs": [
    {
     "data": {
      "text/html": [
       "\n",
       "  <div id=\"561eace0-2378-47d4-9c1e-246a3b48240c\" data-root-id=\"p1899\" style=\"display: contents;\"></div>\n"
      ]
     },
     "metadata": {},
     "output_type": "display_data"
    },
    {
     "data": {
      "application/javascript": [
       "(function(root) {\n",
       "  function embed_document(root) {\n",
       "  const docs_json = {\"5975ee0f-42de-4392-a81c-1852cc95c348\":{\"version\":\"3.1.0\",\"title\":\"Bokeh Application\",\"defs\":[],\"roots\":[{\"type\":\"object\",\"name\":\"GridPlot\",\"id\":\"p1899\",\"attributes\":{\"rows\":null,\"cols\":null,\"toolbar\":{\"type\":\"object\",\"name\":\"Toolbar\",\"id\":\"p1898\",\"attributes\":{\"tools\":[{\"type\":\"object\",\"name\":\"BoxZoomTool\",\"id\":\"p1853\",\"attributes\":{\"overlay\":{\"type\":\"object\",\"name\":\"BoxAnnotation\",\"id\":\"p1854\",\"attributes\":{\"syncable\":false,\"level\":\"overlay\",\"visible\":false,\"left_units\":\"canvas\",\"right_units\":\"canvas\",\"bottom_units\":\"canvas\",\"top_units\":\"canvas\",\"line_color\":\"black\",\"line_alpha\":1.0,\"line_width\":2,\"line_dash\":[4,4],\"fill_color\":\"lightgrey\",\"fill_alpha\":0.5}}}},{\"type\":\"object\",\"name\":\"ResetTool\",\"id\":\"p1855\"}]}},\"children\":[[{\"type\":\"object\",\"name\":\"Figure\",\"id\":\"p1821\",\"attributes\":{\"width\":300,\"height\":250,\"x_range\":{\"type\":\"object\",\"name\":\"DataRange1d\",\"id\":\"p1823\"},\"y_range\":{\"type\":\"object\",\"name\":\"DataRange1d\",\"id\":\"p1822\"},\"x_scale\":{\"type\":\"object\",\"name\":\"LogScale\",\"id\":\"p1835\"},\"y_scale\":{\"type\":\"object\",\"name\":\"LinearScale\",\"id\":\"p1837\"},\"title\":{\"type\":\"object\",\"name\":\"Title\",\"id\":\"p1824\",\"attributes\":{\"text\":\"1010_M0 mueff = 32.97\"}},\"renderers\":[{\"type\":\"object\",\"name\":\"GlyphRenderer\",\"id\":\"p1866\",\"attributes\":{\"data_source\":{\"type\":\"object\",\"name\":\"ColumnDataSource\",\"id\":\"p1860\",\"attributes\":{\"selected\":{\"type\":\"object\",\"name\":\"Selection\",\"id\":\"p1862\",\"attributes\":{\"indices\":[],\"line_indices\":[]}},\"selection_policy\":{\"type\":\"object\",\"name\":\"UnionRenderers\",\"id\":\"p1861\"},\"data\":{\"type\":\"map\",\"entries\":[[\"x\",{\"type\":\"ndarray\",\"array\":{\"type\":\"bytes\",\"data\":\"AAAAAAAAWUCF61G4HnlfQNk9eVioz2NA9+RhodbwaEDSAN4CCWZvQHbgnBGlw3NAGeJYF7fheED7XG3F/lJ/QLAD54yot4NAYVRSJ6DSiEAAAAAAAECPQDMzMzOzq5NAUI2XbpLDmEA1XrpJDC2fQIPAyqHFn6NAkxgEVo60qECgGi/dJBqvQGiR7Xzfk7NAnMQgsJKluEB56SYxSAe/QAAAAAAAiMNAAAAAAKCWyECkcD0Kd/TOQOF6FK4nfNNA4XoUrreH2EC4HoXrseHeQKRwPQpXcONApHA9Ctd46EDD9Shc987uQHsUrkeNZPNAAAAAAABq+EAAAAAASLz+QGZmZmbKWANBmpmZmTFbCEHNzMzMpKkOQTMzMzMPTRNBzczMzGxMGEEzMzMzDZceQZqZmZlaQSNBmpmZmbA9KEEAAAAAgIQuQQ==\"},\"shape\":[41],\"dtype\":\"float64\",\"order\":\"little\"}],[\"y\",{\"type\":\"ndarray\",\"array\":{\"type\":\"bytes\",\"data\":\"kiGgABVMvT/Lqkzclt++P8jYvWhw6rs/GGw2vdUkwD88eLahLjS8P3jBCuwAsLw/ljSfN0pnvD/4i1qiAp28P1BRz+5WY7w/8o7m0nTnuz+DfnIZKpu7PxWquwN7Wrs/lugoGm4Nuz8ONFeveeq6P/6fSv9hqLo/Ijj0e34Suj8yJVl/NHC6P77rwEV2GLg/AcADXWhZuT/REf/WKGe4P5B+HB5VY7c/xgP08AfDtz8v1oEGxG62Pzesp07MWbU/zsDu1/IutD+tbiC59mOzP01oNC7b17I/vGoMJEEFsT+CZoPDYLatPyX4kplM76w/x0MagLkmpz/7zzRU6P+kP23HzmZziKE/lDBtEvWZlz/5NWncLjyRP4Ud2Wa0Bn8/PUZW4BheSr/cHYyPLzyCvztsDhCzn5G/3syfdSIJmr8XggGRk5yhvw==\"},\"shape\":[41],\"dtype\":\"float64\",\"order\":\"little\"}]]}}},\"view\":{\"type\":\"object\",\"name\":\"CDSView\",\"id\":\"p1867\",\"attributes\":{\"filter\":{\"type\":\"object\",\"name\":\"AllIndices\",\"id\":\"p1868\"}}},\"glyph\":{\"type\":\"object\",\"name\":\"Circle\",\"id\":\"p1863\",\"attributes\":{\"x\":{\"type\":\"field\",\"field\":\"x\"},\"y\":{\"type\":\"field\",\"field\":\"y\"},\"line_color\":{\"type\":\"value\",\"value\":\"#1f77b4\"},\"fill_color\":{\"type\":\"value\",\"value\":\"#1f77b4\"}}},\"nonselection_glyph\":{\"type\":\"object\",\"name\":\"Circle\",\"id\":\"p1864\",\"attributes\":{\"x\":{\"type\":\"field\",\"field\":\"x\"},\"y\":{\"type\":\"field\",\"field\":\"y\"},\"line_color\":{\"type\":\"value\",\"value\":\"#1f77b4\"},\"line_alpha\":{\"type\":\"value\",\"value\":0.1},\"fill_color\":{\"type\":\"value\",\"value\":\"#1f77b4\"},\"fill_alpha\":{\"type\":\"value\",\"value\":0.1},\"hatch_alpha\":{\"type\":\"value\",\"value\":0.1}}},\"muted_glyph\":{\"type\":\"object\",\"name\":\"Circle\",\"id\":\"p1865\",\"attributes\":{\"x\":{\"type\":\"field\",\"field\":\"x\"},\"y\":{\"type\":\"field\",\"field\":\"y\"},\"line_color\":{\"type\":\"value\",\"value\":\"#1f77b4\"},\"line_alpha\":{\"type\":\"value\",\"value\":0.2},\"fill_color\":{\"type\":\"value\",\"value\":\"#1f77b4\"},\"fill_alpha\":{\"type\":\"value\",\"value\":0.2},\"hatch_alpha\":{\"type\":\"value\",\"value\":0.2}}}}},{\"type\":\"object\",\"name\":\"GlyphRenderer\",\"id\":\"p1875\",\"attributes\":{\"data_source\":{\"type\":\"object\",\"name\":\"ColumnDataSource\",\"id\":\"p1869\",\"attributes\":{\"selected\":{\"type\":\"object\",\"name\":\"Selection\",\"id\":\"p1871\",\"attributes\":{\"indices\":[],\"line_indices\":[]}},\"selection_policy\":{\"type\":\"object\",\"name\":\"UnionRenderers\",\"id\":\"p1870\"},\"data\":{\"type\":\"map\",\"entries\":[[\"x\",{\"type\":\"ndarray\",\"array\":{\"type\":\"bytes\",\"data\":\"AAAAAAAAWUCF61G4HnlfQNk9eVioz2NA9+RhodbwaEDSAN4CCWZvQHbgnBGlw3NAGeJYF7fheED7XG3F/lJ/QLAD54yot4NAYVRSJ6DSiEAAAAAAAECPQDMzMzOzq5NAUI2XbpLDmEA1XrpJDC2fQIPAyqHFn6NAkxgEVo60qECgGi/dJBqvQGiR7Xzfk7NAnMQgsJKluEB56SYxSAe/QAAAAAAAiMNAAAAAAKCWyECkcD0Kd/TOQOF6FK4nfNNA4XoUrreH2EC4HoXrseHeQKRwPQpXcONApHA9Ctd46EDD9Shc987uQHsUrkeNZPNAAAAAAABq+EAAAAAASLz+QGZmZmbKWANBmpmZmTFbCEHNzMzMpKkOQTMzMzMPTRNBzczMzGxMGEEzMzMzDZceQZqZmZlaQSNBmpmZmbA9KEEAAAAAgIQuQQ==\"},\"shape\":[41],\"dtype\":\"float64\",\"order\":\"little\"}],[\"y\",{\"type\":\"ndarray\",\"array\":{\"type\":\"bytes\",\"data\":\"O2IttdSfwj9MlG6mH5bCP+IW9bETisI/Qmj1CkJ7wj8PncdAMWnCP8CrkZZeU8I/fB1IvD85wj9aTd2fRBrCP4NdZjHZ9cE/1GK3x2bLwT/1lU/jVJrBP9h3GkoJYsE/7mAyY+chwT8ZoB+IT9nAP48oJwaeh8A/yWs74CoswD8VGkoKlYy/PwYCJseeqr4/3+0iRxqxvT9cCb5huZ68PzkBLZBDcrs/c7XuZaIquj+LtHEZ78a4P624YtuCRrc/u5I7dQWptT9mnKRgfu6zPxA8FE1iF7I/pQ3BW6EksD8gQZTBYS+sP6zG438k5ac/y7gtc6lvoz9SFRuHQ6qdP+7P4fB3OZQ//35jKBY6hT9fGXohXs5MP30OX53cr4G/brEtB0qLkr9rHvQy9iCcv8YlCAB7w6K/nEP3dEJWp7/BNJgORMGrvw==\"},\"shape\":[41],\"dtype\":\"float64\",\"order\":\"little\"}]]}}},\"view\":{\"type\":\"object\",\"name\":\"CDSView\",\"id\":\"p1876\",\"attributes\":{\"filter\":{\"type\":\"object\",\"name\":\"AllIndices\",\"id\":\"p1877\"}}},\"glyph\":{\"type\":\"object\",\"name\":\"Line\",\"id\":\"p1872\",\"attributes\":{\"x\":{\"type\":\"field\",\"field\":\"x\"},\"y\":{\"type\":\"field\",\"field\":\"y\"},\"line_color\":\"#f46d43\",\"line_alpha\":0.6,\"line_width\":2}},\"nonselection_glyph\":{\"type\":\"object\",\"name\":\"Line\",\"id\":\"p1873\",\"attributes\":{\"x\":{\"type\":\"field\",\"field\":\"x\"},\"y\":{\"type\":\"field\",\"field\":\"y\"},\"line_color\":\"#f46d43\",\"line_alpha\":0.1,\"line_width\":2}},\"muted_glyph\":{\"type\":\"object\",\"name\":\"Line\",\"id\":\"p1874\",\"attributes\":{\"x\":{\"type\":\"field\",\"field\":\"x\"},\"y\":{\"type\":\"field\",\"field\":\"y\"},\"line_color\":\"#f46d43\",\"line_alpha\":0.2,\"line_width\":2}}}}],\"toolbar\":{\"type\":\"object\",\"name\":\"Toolbar\",\"id\":\"p1830\",\"attributes\":{\"tools\":[{\"id\":\"p1853\"},{\"id\":\"p1855\"}]}},\"toolbar_location\":null,\"left\":[{\"type\":\"object\",\"name\":\"LinearAxis\",\"id\":\"p1846\",\"attributes\":{\"ticker\":{\"type\":\"object\",\"name\":\"BasicTicker\",\"id\":\"p1847\",\"attributes\":{\"mantissas\":[1,2,5]}},\"formatter\":{\"type\":\"object\",\"name\":\"BasicTickFormatter\",\"id\":\"p1848\"},\"axis_label\":\"im(dz)/x0\",\"major_label_policy\":{\"type\":\"object\",\"name\":\"AllLabels\",\"id\":\"p1849\"}}}],\"below\":[{\"type\":\"object\",\"name\":\"LogAxis\",\"id\":\"p1839\",\"attributes\":{\"ticker\":{\"type\":\"object\",\"name\":\"LogTicker\",\"id\":\"p1840\",\"attributes\":{\"num_minor_ticks\":10,\"mantissas\":[1,5]}},\"formatter\":{\"type\":\"object\",\"name\":\"LogTickFormatter\",\"id\":\"p1841\"},\"axis_label\":\"f[Hz]\",\"major_label_policy\":{\"type\":\"object\",\"name\":\"AllLabels\",\"id\":\"p1842\"}}}],\"center\":[{\"type\":\"object\",\"name\":\"Grid\",\"id\":\"p1845\",\"attributes\":{\"axis\":{\"id\":\"p1839\"}}},{\"type\":\"object\",\"name\":\"Grid\",\"id\":\"p1852\",\"attributes\":{\"dimension\":1,\"axis\":{\"id\":\"p1846\"}}}]}},0,0]]}}],\"callbacks\":{\"type\":\"map\"}}};\n",
       "  const render_items = [{\"docid\":\"5975ee0f-42de-4392-a81c-1852cc95c348\",\"roots\":{\"p1899\":\"561eace0-2378-47d4-9c1e-246a3b48240c\"},\"root_ids\":[\"p1899\"]}];\n",
       "  root.Bokeh.embed.embed_items_notebook(docs_json, render_items);\n",
       "  }\n",
       "  if (root.Bokeh !== undefined) {\n",
       "    embed_document(root);\n",
       "  } else {\n",
       "    let attempts = 0;\n",
       "    const timer = setInterval(function(root) {\n",
       "      if (root.Bokeh !== undefined) {\n",
       "        clearInterval(timer);\n",
       "        embed_document(root);\n",
       "      } else {\n",
       "        attempts++;\n",
       "        if (attempts > 100) {\n",
       "          clearInterval(timer);\n",
       "          console.log(\"Bokeh: ERROR: Unable to run BokehJS code because BokehJS library is missing\");\n",
       "        }\n",
       "      }\n",
       "    }, 10, root)\n",
       "  }\n",
       "})(window);"
      ],
      "application/vnd.bokehjs_exec.v0+json": ""
     },
     "metadata": {
      "application/vnd.bokehjs_exec.v0+json": {
       "id": "p1899"
      }
     },
     "output_type": "display_data"
    }
   ],
   "source": [
    "exp1.fitplots()"
   ]
  },
  {
   "cell_type": "code",
   "execution_count": 28,
   "id": "368e1dd9",
   "metadata": {},
   "outputs": [
    {
     "data": {
      "text/html": [
       "\n",
       "  <div id=\"420bd4b7-dda3-451a-b56e-4c8315957336\" data-root-id=\"p2088\" style=\"display: contents;\"></div>\n"
      ]
     },
     "metadata": {},
     "output_type": "display_data"
    },
    {
     "data": {
      "application/javascript": [
       "(function(root) {\n",
       "  function embed_document(root) {\n",
       "  const docs_json = {\"e769fd54-22c2-4459-8a48-d4e86a0a46d6\":{\"version\":\"3.1.0\",\"title\":\"Bokeh Application\",\"defs\":[],\"roots\":[{\"type\":\"object\",\"name\":\"Figure\",\"id\":\"p2088\",\"attributes\":{\"height\":500,\"x_range\":{\"type\":\"object\",\"name\":\"DataRange1d\",\"id\":\"p2090\"},\"y_range\":{\"type\":\"object\",\"name\":\"DataRange1d\",\"id\":\"p2089\"},\"x_scale\":{\"type\":\"object\",\"name\":\"LogScale\",\"id\":\"p2102\"},\"y_scale\":{\"type\":\"object\",\"name\":\"LinearScale\",\"id\":\"p2104\"},\"title\":{\"type\":\"object\",\"name\":\"Title\",\"id\":\"p2091\",\"attributes\":{\"text\":\"m0 mueff = 32.97\"}},\"renderers\":[{\"type\":\"object\",\"name\":\"GlyphRenderer\",\"id\":\"p2133\",\"attributes\":{\"data_source\":{\"type\":\"object\",\"name\":\"ColumnDataSource\",\"id\":\"p2127\",\"attributes\":{\"selected\":{\"type\":\"object\",\"name\":\"Selection\",\"id\":\"p2129\",\"attributes\":{\"indices\":[],\"line_indices\":[]}},\"selection_policy\":{\"type\":\"object\",\"name\":\"UnionRenderers\",\"id\":\"p2128\"},\"data\":{\"type\":\"map\",\"entries\":[[\"x\",{\"type\":\"ndarray\",\"array\":{\"type\":\"bytes\",\"data\":\"AAAAAAAAWUCF61G4HnlfQNk9eVioz2NA9+RhodbwaEDSAN4CCWZvQHbgnBGlw3NAGeJYF7fheED7XG3F/lJ/QLAD54yot4NAYVRSJ6DSiEAAAAAAAECPQDMzMzOzq5NAUI2XbpLDmEA1XrpJDC2fQIPAyqHFn6NAkxgEVo60qECgGi/dJBqvQGiR7Xzfk7NAnMQgsJKluEB56SYxSAe/QAAAAAAAiMNAAAAAAKCWyECkcD0Kd/TOQOF6FK4nfNNA4XoUrreH2EC4HoXrseHeQKRwPQpXcONApHA9Ctd46EDD9Shc987uQHsUrkeNZPNAAAAAAABq+EAAAAAASLz+QGZmZmbKWANBmpmZmTFbCEHNzMzMpKkOQTMzMzMPTRNBzczMzGxMGEEzMzMzDZceQZqZmZlaQSNBmpmZmbA9KEEAAAAAgIQuQQ==\"},\"shape\":[41],\"dtype\":\"float64\",\"order\":\"little\"}],[\"y\",{\"type\":\"ndarray\",\"array\":{\"type\":\"bytes\",\"data\":\"nd2jeFgWvT93C4TFxYe7P4zX6CUfYr0/PlLpc017vT//7+WGQI+8P61KRluaZ7w/8a/IVn9bvD/WQ3eKW4O8P6md638eJrw/Zacppu4LvD9nNTqtYKG7P25EwxTldbs/2SxPvJZduz9al7ZL2OW6P5YJqbVWgro/mVJzisleuj+VvlqLIhq6PzRMRDUFCrk/JVq68K4PuT+PJDz2Y3i4P7cSAJiWy7c/QIhueesHtz9K5nbucW62Py4P/fcmc7U/dr5Q0ihttD8Bh0ak/lyzP/rDvIpG/rE/XazQnPTQsD+arOKshOWuP01yWr3ZCKw/uCU0JOgLqD+5ZW1I6xWkP/e59yCylZ8/6JwD9ILomT+q9jcbHsyPP4AQph+JFIA/ZbWTY6MqTb/MG6MlJ5ODvyMtneFfepG/BKVoWFsgmr+egSopuPygvw==\"},\"shape\":[41],\"dtype\":\"float64\",\"order\":\"little\"}]]}}},\"view\":{\"type\":\"object\",\"name\":\"CDSView\",\"id\":\"p2134\",\"attributes\":{\"filter\":{\"type\":\"object\",\"name\":\"AllIndices\",\"id\":\"p2135\"}}},\"glyph\":{\"type\":\"object\",\"name\":\"Circle\",\"id\":\"p2130\",\"attributes\":{\"x\":{\"type\":\"field\",\"field\":\"x\"},\"y\":{\"type\":\"field\",\"field\":\"y\"},\"line_color\":{\"type\":\"value\",\"value\":\"#1f77b4\"},\"fill_color\":{\"type\":\"value\",\"value\":\"#1f77b4\"}}},\"nonselection_glyph\":{\"type\":\"object\",\"name\":\"Circle\",\"id\":\"p2131\",\"attributes\":{\"x\":{\"type\":\"field\",\"field\":\"x\"},\"y\":{\"type\":\"field\",\"field\":\"y\"},\"line_color\":{\"type\":\"value\",\"value\":\"#1f77b4\"},\"line_alpha\":{\"type\":\"value\",\"value\":0.1},\"fill_color\":{\"type\":\"value\",\"value\":\"#1f77b4\"},\"fill_alpha\":{\"type\":\"value\",\"value\":0.1},\"hatch_alpha\":{\"type\":\"value\",\"value\":0.1}}},\"muted_glyph\":{\"type\":\"object\",\"name\":\"Circle\",\"id\":\"p2132\",\"attributes\":{\"x\":{\"type\":\"field\",\"field\":\"x\"},\"y\":{\"type\":\"field\",\"field\":\"y\"},\"line_color\":{\"type\":\"value\",\"value\":\"#1f77b4\"},\"line_alpha\":{\"type\":\"value\",\"value\":0.2},\"fill_color\":{\"type\":\"value\",\"value\":\"#1f77b4\"},\"fill_alpha\":{\"type\":\"value\",\"value\":0.2},\"hatch_alpha\":{\"type\":\"value\",\"value\":0.2}}}}},{\"type\":\"object\",\"name\":\"GlyphRenderer\",\"id\":\"p2142\",\"attributes\":{\"data_source\":{\"type\":\"object\",\"name\":\"ColumnDataSource\",\"id\":\"p2136\",\"attributes\":{\"selected\":{\"type\":\"object\",\"name\":\"Selection\",\"id\":\"p2138\",\"attributes\":{\"indices\":[],\"line_indices\":[]}},\"selection_policy\":{\"type\":\"object\",\"name\":\"UnionRenderers\",\"id\":\"p2137\"},\"data\":{\"type\":\"map\",\"entries\":[[\"x\",{\"type\":\"ndarray\",\"array\":{\"type\":\"bytes\",\"data\":\"AAAAAAAAWUCF61G4HnlfQNk9eVioz2NA9+RhodbwaEDSAN4CCWZvQHbgnBGlw3NAGeJYF7fheED7XG3F/lJ/QLAD54yot4NAYVRSJ6DSiEAAAAAAAECPQDMzMzOzq5NAUI2XbpLDmEA1XrpJDC2fQIPAyqHFn6NAkxgEVo60qECgGi/dJBqvQGiR7Xzfk7NAnMQgsJKluEB56SYxSAe/QAAAAAAAiMNAAAAAAKCWyECkcD0Kd/TOQOF6FK4nfNNA4XoUrreH2EC4HoXrseHeQKRwPQpXcONApHA9Ctd46EDD9Shc987uQHsUrkeNZPNAAAAAAABq+EAAAAAASLz+QGZmZmbKWANBmpmZmTFbCEHNzMzMpKkOQTMzMzMPTRNBzczMzGxMGEEzMzMzDZceQZqZmZlaQSNBmpmZmbA9KEEAAAAAgIQuQQ==\"},\"shape\":[41],\"dtype\":\"float64\",\"order\":\"little\"}],[\"y\",{\"type\":\"ndarray\",\"array\":{\"type\":\"bytes\",\"data\":\"O2IttdSfwj9MlG6mH5bCP+IW9bETisI/Qmj1CkJ7wj8PncdAMWnCP8CrkZZeU8I/fB1IvD85wj9aTd2fRBrCP4NdZjHZ9cE/1GK3x2bLwT/1lU/jVJrBP9h3GkoJYsE/7mAyY+chwT8ZoB+IT9nAP48oJwaeh8A/yWs74CoswD8VGkoKlYy/PwYCJseeqr4/3+0iRxqxvT9cCb5huZ68PzkBLZBDcrs/c7XuZaIquj+LtHEZ78a4P624YtuCRrc/u5I7dQWptT9mnKRgfu6zPxA8FE1iF7I/pQ3BW6EksD8gQZTBYS+sP6zG438k5ac/y7gtc6lvoz9SFRuHQ6qdP+7P4fB3OZQ//35jKBY6hT9fGXohXs5MP30OX53cr4G/brEtB0qLkr9rHvQy9iCcv8YlCAB7w6K/nEP3dEJWp7/BNJgORMGrvw==\"},\"shape\":[41],\"dtype\":\"float64\",\"order\":\"little\"}]]}}},\"view\":{\"type\":\"object\",\"name\":\"CDSView\",\"id\":\"p2143\",\"attributes\":{\"filter\":{\"type\":\"object\",\"name\":\"AllIndices\",\"id\":\"p2144\"}}},\"glyph\":{\"type\":\"object\",\"name\":\"Line\",\"id\":\"p2139\",\"attributes\":{\"x\":{\"type\":\"field\",\"field\":\"x\"},\"y\":{\"type\":\"field\",\"field\":\"y\"},\"line_color\":\"#f46d43\",\"line_alpha\":0.6,\"line_width\":2}},\"nonselection_glyph\":{\"type\":\"object\",\"name\":\"Line\",\"id\":\"p2140\",\"attributes\":{\"x\":{\"type\":\"field\",\"field\":\"x\"},\"y\":{\"type\":\"field\",\"field\":\"y\"},\"line_color\":\"#f46d43\",\"line_alpha\":0.1,\"line_width\":2}},\"muted_glyph\":{\"type\":\"object\",\"name\":\"Line\",\"id\":\"p2141\",\"attributes\":{\"x\":{\"type\":\"field\",\"field\":\"x\"},\"y\":{\"type\":\"field\",\"field\":\"y\"},\"line_color\":\"#f46d43\",\"line_alpha\":0.2,\"line_width\":2}}}}],\"toolbar\":{\"type\":\"object\",\"name\":\"Toolbar\",\"id\":\"p2097\",\"attributes\":{\"tools\":[{\"type\":\"object\",\"name\":\"BoxZoomTool\",\"id\":\"p2120\",\"attributes\":{\"overlay\":{\"type\":\"object\",\"name\":\"BoxAnnotation\",\"id\":\"p2121\",\"attributes\":{\"syncable\":false,\"level\":\"overlay\",\"visible\":false,\"left_units\":\"canvas\",\"right_units\":\"canvas\",\"bottom_units\":\"canvas\",\"top_units\":\"canvas\",\"line_color\":\"black\",\"line_alpha\":1.0,\"line_width\":2,\"line_dash\":[4,4],\"fill_color\":\"lightgrey\",\"fill_alpha\":0.5}}}},{\"type\":\"object\",\"name\":\"ResetTool\",\"id\":\"p2122\"}]}},\"left\":[{\"type\":\"object\",\"name\":\"LinearAxis\",\"id\":\"p2113\",\"attributes\":{\"ticker\":{\"type\":\"object\",\"name\":\"BasicTicker\",\"id\":\"p2114\",\"attributes\":{\"mantissas\":[1,2,5]}},\"formatter\":{\"type\":\"object\",\"name\":\"BasicTickFormatter\",\"id\":\"p2115\"},\"axis_label\":\"im(dz)/x0\",\"major_label_policy\":{\"type\":\"object\",\"name\":\"AllLabels\",\"id\":\"p2116\"}}}],\"below\":[{\"type\":\"object\",\"name\":\"LogAxis\",\"id\":\"p2106\",\"attributes\":{\"ticker\":{\"type\":\"object\",\"name\":\"LogTicker\",\"id\":\"p2107\",\"attributes\":{\"num_minor_ticks\":10,\"mantissas\":[1,5]}},\"formatter\":{\"type\":\"object\",\"name\":\"LogTickFormatter\",\"id\":\"p2108\"},\"axis_label\":\"f[Hz]\",\"major_label_policy\":{\"type\":\"object\",\"name\":\"AllLabels\",\"id\":\"p2109\"}}}],\"center\":[{\"type\":\"object\",\"name\":\"Grid\",\"id\":\"p2112\",\"attributes\":{\"axis\":{\"id\":\"p2106\"}}},{\"type\":\"object\",\"name\":\"Grid\",\"id\":\"p2119\",\"attributes\":{\"dimension\":1,\"axis\":{\"id\":\"p2113\"}}}]}}],\"callbacks\":{\"type\":\"map\"}}};\n",
       "  const render_items = [{\"docid\":\"e769fd54-22c2-4459-8a48-d4e86a0a46d6\",\"roots\":{\"p2088\":\"420bd4b7-dda3-451a-b56e-4c8315957336\"},\"root_ids\":[\"p2088\"]}];\n",
       "  root.Bokeh.embed.embed_items_notebook(docs_json, render_items);\n",
       "  }\n",
       "  if (root.Bokeh !== undefined) {\n",
       "    embed_document(root);\n",
       "  } else {\n",
       "    let attempts = 0;\n",
       "    const timer = setInterval(function(root) {\n",
       "      if (root.Bokeh !== undefined) {\n",
       "        clearInterval(timer);\n",
       "        embed_document(root);\n",
       "      } else {\n",
       "        attempts++;\n",
       "        if (attempts > 100) {\n",
       "          clearInterval(timer);\n",
       "          console.log(\"Bokeh: ERROR: Unable to run BokehJS code because BokehJS library is missing\");\n",
       "        }\n",
       "      }\n",
       "    }, 10, root)\n",
       "  }\n",
       "})(window);"
      ],
      "application/vnd.bokehjs_exec.v0+json": ""
     },
     "metadata": {
      "application/vnd.bokehjs_exec.v0+json": {
       "id": "p2088"
      }
     },
     "output_type": "display_data"
    }
   ],
   "source": [
    "exp1.fitplot('m0')"
   ]
  },
  {
   "cell_type": "code",
   "execution_count": 23,
   "id": "ceaa5265",
   "metadata": {},
   "outputs": [
    {
     "name": "stdout",
     "output_type": "stream",
     "text": [
      "fiteo en N tramos\n"
     ]
    }
   ],
   "source": [
    "exp1.fitfmues(3)"
   ]
  },
  {
   "cell_type": "code",
   "execution_count": 30,
   "id": "8f30506f",
   "metadata": {},
   "outputs": [
    {
     "data": {
      "image/png": "[encoded data removed]",
      "text/plain": [
       "<Figure size 640x480 with 1 Axes>"
      ]
     },
     "metadata": {},
     "output_type": "display_data"
    }
   ],
   "source": [
    "for i in range(len(exp1.fmues['1010_M0']['fs'])):\n",
    "    x=exp1.fmues['1010_M0']['fs'][i]\n",
    "    ymeas=exp1.fmues['1010_M0']['ymeas'][i]\n",
    "    yteo=exp1.fmues['1010_M0']['yteos'][i]\n",
    "    mrks=['o','s','^','*','X']\n",
    "    plt.title(exp1.fmues['1010_M0']['name'])\n",
    "    plt.semilogx(x,ymeas,mrks[i]+'k',markersize=7,markerfacecolor='none')\n",
    "    plt.semilogx(x,yteo,'-k')\n",
    "\n",
    "plt.ylabel('$Im(\\Delta Z)/X_0$')\n",
    "plt.xlabel('Frecuencia [Hz]')\n",
    "plt.grid(True, which=\"both\")"
   ]
  },
  {
   "cell_type": "code",
   "execution_count": 31,
   "id": "d420c7cf",
   "metadata": {},
   "outputs": [
    {
     "data": {
      "text/plain": [
       "{'1010_M0': {'mues': [6.853346623375641,\n",
       "   22.292142239728392,\n",
       "   47.759997948241946],\n",
       "  'fs': [array([ 100.    ,  125.8925,  158.4893,  199.5262,  251.1886,  316.2278,\n",
       "           398.1072,  501.1872,  630.9573,  794.3282, 1000.    , 1258.925 ,\n",
       "          1584.893 , 1995.262 ]),\n",
       "   array([ 2511.886,  3162.278,  3981.072,  5011.873,  6309.573,  7943.282,\n",
       "          10000.   , 12589.25 , 15848.93 , 19952.62 , 25118.87 , 31622.78 ,\n",
       "          39810.72 , 50118.72 ]),\n",
       "   array([  63095.73,   79432.83,  100000.  ,  125892.5 ,  158489.3 ,\n",
       "           199526.2 ,  251188.6 ,  316227.8 ,  398107.2 ,  501187.3 ,\n",
       "           630957.3 ,  794328.3 , 1000000.  ])],\n",
       "  'ymeas': [array([0.11362222, 0.10754047, 0.11477847, 0.1151627 , 0.11156085,\n",
       "          0.11095586, 0.11077114, 0.11137936, 0.10995665, 0.10955707,\n",
       "          0.10793118, 0.10726768, 0.1068968 , 0.10506965]),\n",
       "   array([0.10355131, 0.10300884, 0.10196129, 0.09780915, 0.09789556,\n",
       "          0.09558701, 0.09295026, 0.0899646 , 0.08762276, 0.08378833,\n",
       "          0.07979064, 0.07563774, 0.07028619, 0.06568841]),\n",
       "   array([ 0.06034484,  0.05475502,  0.04696584,  0.03922973,  0.03084448,\n",
       "           0.02530102,  0.01552604,  0.00785167, -0.00089009, -0.00955802,\n",
       "          -0.01706838, -0.02551406, -0.0331781 ])],\n",
       "  'yteos': [array([0.11535074, 0.11511654, 0.11481214, 0.11441919, 0.11391563,\n",
       "          0.11327535, 0.11246797, 0.11145888, 0.1102094 , 0.10867748,\n",
       "          0.10681855, 0.10458696, 0.10193763, 0.09882808]),\n",
       "   array([0.12327467, 0.120068  , 0.11649106, 0.11252502, 0.10815235,\n",
       "          0.10335734, 0.09812682, 0.09245098, 0.08632425, 0.07974632,\n",
       "          0.07272301, 0.06526718, 0.05739935, 0.04914822]),\n",
       "   array([ 0.06779786,  0.06001669,  0.05184883,  0.04332795,  0.03449611,\n",
       "           0.02540344,  0.01610729,  0.00667109, -0.00283705, -0.01234629,\n",
       "          -0.02178496, -0.03108275, -0.0401727 ])],\n",
       "  'name': '1010_M0'}}"
      ]
     },
     "execution_count": 31,
     "metadata": {},
     "output_type": "execute_result"
    }
   ],
   "source": [
    "exp1.fmues"
   ]
  },
  {
   "cell_type": "code",
   "execution_count": 34,
   "id": "645a5d03",
   "metadata": {},
   "outputs": [
    {
     "data": {
      "text/html": [
       "<div>\n",
       "<style scoped>\n",
       "    .dataframe tbody tr th:only-of-type {\n",
       "        vertical-align: middle;\n",
       "    }\n",
       "\n",
       "    .dataframe tbody tr th {\n",
       "        vertical-align: top;\n",
       "    }\n",
       "\n",
       "    .dataframe thead th {\n",
       "        text-align: right;\n",
       "    }\n",
       "</style>\n",
       "<table border=\"1\" class=\"dataframe\">\n",
       "  <thead>\n",
       "    <tr style=\"text-align: right;\">\n",
       "      <th></th>\n",
       "      <th>archivo</th>\n",
       "      <th>conductividad</th>\n",
       "      <th>espesor</th>\n",
       "      <th>bobina</th>\n",
       "      <th>muestras</th>\n",
       "      <th>mueff</th>\n",
       "      <th>R2</th>\n",
       "    </tr>\n",
       "  </thead>\n",
       "  <tbody>\n",
       "    <tr>\n",
       "      <th>0</th>\n",
       "      <td>Exp_1010_Aire.csv</td>\n",
       "      <td>0.0</td>\n",
       "      <td>0.000</td>\n",
       "      <td>m1</td>\n",
       "      <td>aire</td>\n",
       "      <td>NaN</td>\n",
       "      <td>NaN</td>\n",
       "    </tr>\n",
       "    <tr>\n",
       "      <th>1</th>\n",
       "      <td>Exp_1010_M0.csv</td>\n",
       "      <td>3830000.0</td>\n",
       "      <td>0.065</td>\n",
       "      <td>m1</td>\n",
       "      <td>1010_M0</td>\n",
       "      <td>32.973152</td>\n",
       "      <td>0.884933</td>\n",
       "    </tr>\n",
       "  </tbody>\n",
       "</table>\n",
       "</div>"
      ],
      "text/plain": [
       "             archivo  conductividad  espesor bobina muestras      mueff  \\\n",
       "0  Exp_1010_Aire.csv            0.0    0.000     m1     aire        NaN   \n",
       "1    Exp_1010_M0.csv      3830000.0    0.065     m1  1010_M0  32.973152   \n",
       "\n",
       "         R2  \n",
       "0       NaN  \n",
       "1  0.884933  "
      ]
     },
     "execution_count": 34,
     "metadata": {},
     "output_type": "execute_result"
    }
   ],
   "source": [
    "exp1.info"
   ]
  }
 ],
 "metadata": {
  "kernelspec": {
   "display_name": "Python 3 (ipykernel)",
   "language": "python",
   "name": "python3"
  },
  "language_info": {
   "codemirror_mode": {
    "name": "ipython",
    "version": 3
   },
   "file_extension": ".py",
   "mimetype": "text/x-python",
   "name": "python",
   "nbconvert_exporter": "python",
   "pygments_lexer": "ipython3",
   "version": "3.10.9"
  }
 },
 "nbformat": 4,
 "nbformat_minor": 5
}
